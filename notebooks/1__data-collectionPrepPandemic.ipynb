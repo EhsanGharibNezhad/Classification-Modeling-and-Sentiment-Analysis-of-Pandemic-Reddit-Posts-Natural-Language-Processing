{
 "cells": [
  {
   "cell_type": "markdown",
   "id": "b129f5aa",
   "metadata": {},
   "source": [
    "# Data collection\n",
    "### Author: Ehsan Gharib-Nezhad\n"
   ]
  },
  {
   "cell_type": "code",
   "execution_count": 1,
   "id": "d0ec0ce1",
   "metadata": {},
   "outputs": [],
   "source": [
    "from myfunctions import *"
   ]
  },
  {
   "cell_type": "markdown",
   "id": "0a5fb372",
   "metadata": {},
   "source": [
    "### Data Scraping Using [Pushshift API](https://github.com/pushshift/api)\n",
    "### ==============================================================="
   ]
  },
  {
   "cell_type": "markdown",
   "id": "f28ea0d2",
   "metadata": {},
   "source": [
    "# Dataset #1: Pandemic Prep\n",
    "Link: https://www.reddit.com/r/PandemicPreps/"
   ]
  },
  {
   "cell_type": "code",
   "execution_count": 24,
   "id": "b00e5e25",
   "metadata": {
    "scrolled": true
   },
   "outputs": [
    {
     "name": "stdout",
     "output_type": "stream",
     "text": [
      "4\n",
      "Querying from: https://api.pushshift.io/reddit/search/submission?subreddit=PandemicPreps&size=100&after=2020-02-08 00:00:00&before=2020-02-08 12:00:00\n",
      "Querying from: https://api.pushshift.io/reddit/search/submission?subreddit=PandemicPreps&size=100&after=2020-02-08 12:00:00&before=2020-02-09 00:00:00\n",
      "Querying from: https://api.pushshift.io/reddit/search/submission?subreddit=PandemicPreps&size=100&after=2020-02-09 00:00:00&before=2020-02-09 12:00:00\n",
      "Querying from: https://api.pushshift.io/reddit/search/submission?subreddit=PandemicPreps&size=100&after=2020-02-09 12:00:00&before=2020-02-10 00:00:00\n"
     ]
    },
    {
     "ename": "KeyError",
     "evalue": "\"None of [Index(['title', 'selftext', 'subreddit', 'created_utc', 'author',\\n       'num_comments', 'score', 'is_self'],\\n      dtype='object')] are in the [columns]\"",
     "output_type": "error",
     "traceback": [
      "\u001b[0;31m---------------------------------------------------------------------------\u001b[0m",
      "\u001b[0;31mKeyError\u001b[0m                                  Traceback (most recent call last)",
      "\u001b[0;32m<ipython-input-24-a701ed3f65c8>\u001b[0m in \u001b[0;36m<module>\u001b[0;34m\u001b[0m\n\u001b[0;32m----> 1\u001b[0;31m df_PandemicPreps = api_pushshift_reddit('PandemicPreps', \n\u001b[0m\u001b[1;32m      2\u001b[0m                                 \u001b[0mstart_date\u001b[0m \u001b[0;34m=\u001b[0m \u001b[0mdt\u001b[0m\u001b[0;34m.\u001b[0m\u001b[0mdatetime\u001b[0m\u001b[0;34m(\u001b[0m\u001b[0;36m2020\u001b[0m\u001b[0;34m,\u001b[0m \u001b[0;36m2\u001b[0m\u001b[0;34m,\u001b[0m \u001b[0;36m8\u001b[0m\u001b[0;34m)\u001b[0m\u001b[0;34m,\u001b[0m\u001b[0;34m\u001b[0m\u001b[0;34m\u001b[0m\u001b[0m\n\u001b[1;32m      3\u001b[0m                                 \u001b[0mend_date\u001b[0m   \u001b[0;34m=\u001b[0m \u001b[0mdt\u001b[0m\u001b[0;34m.\u001b[0m\u001b[0mdatetime\u001b[0m\u001b[0;34m(\u001b[0m\u001b[0;36m2020\u001b[0m\u001b[0;34m,\u001b[0m \u001b[0;36m2\u001b[0m\u001b[0;34m,\u001b[0m \u001b[0;36m10\u001b[0m\u001b[0;34m)\u001b[0m\u001b[0;34m,\u001b[0m\u001b[0;34m\u001b[0m\u001b[0;34m\u001b[0m\u001b[0m\n\u001b[1;32m      4\u001b[0m                                 day_window = 0.5 )\n",
      "\u001b[0;32m~/RESEARCH/ML/ga/dsif-ga/projects/project_3/notebooks/myfunctions.py\u001b[0m in \u001b[0;36mapi_pushshift_reddit\u001b[0;34m(subreddit, kind, start_date, end_date, day_window, author)\u001b[0m\n\u001b[1;32m    192\u001b[0m     \u001b[0;32mif\u001b[0m \u001b[0mkind\u001b[0m \u001b[0;34m==\u001b[0m \u001b[0;34m\"submission\"\u001b[0m\u001b[0;34m:\u001b[0m\u001b[0;34m\u001b[0m\u001b[0;34m\u001b[0m\u001b[0m\n\u001b[1;32m    193\u001b[0m         \u001b[0;31m# select desired columns\u001b[0m\u001b[0;34m\u001b[0m\u001b[0;34m\u001b[0m\u001b[0;34m\u001b[0m\u001b[0m\n\u001b[0;32m--> 194\u001b[0;31m         \u001b[0mfull\u001b[0m \u001b[0;34m=\u001b[0m \u001b[0mfull\u001b[0m\u001b[0;34m[\u001b[0m\u001b[0mSUBFIELDS\u001b[0m\u001b[0;34m]\u001b[0m\u001b[0;34m\u001b[0m\u001b[0;34m\u001b[0m\u001b[0m\n\u001b[0m\u001b[1;32m    195\u001b[0m         \u001b[0;31m# drop duplicates\u001b[0m\u001b[0;34m\u001b[0m\u001b[0;34m\u001b[0m\u001b[0;34m\u001b[0m\u001b[0m\n\u001b[1;32m    196\u001b[0m         \u001b[0mfull\u001b[0m\u001b[0;34m.\u001b[0m\u001b[0mdrop_duplicates\u001b[0m\u001b[0;34m(\u001b[0m\u001b[0minplace\u001b[0m \u001b[0;34m=\u001b[0m \u001b[0;32mTrue\u001b[0m\u001b[0;34m)\u001b[0m\u001b[0;34m\u001b[0m\u001b[0;34m\u001b[0m\u001b[0m\n",
      "\u001b[0;32m/usr/local/anaconda3/envs/ml/lib/python3.9/site-packages/pandas/core/frame.py\u001b[0m in \u001b[0;36m__getitem__\u001b[0;34m(self, key)\u001b[0m\n\u001b[1;32m   3028\u001b[0m             \u001b[0;32mif\u001b[0m \u001b[0mis_iterator\u001b[0m\u001b[0;34m(\u001b[0m\u001b[0mkey\u001b[0m\u001b[0;34m)\u001b[0m\u001b[0;34m:\u001b[0m\u001b[0;34m\u001b[0m\u001b[0;34m\u001b[0m\u001b[0m\n\u001b[1;32m   3029\u001b[0m                 \u001b[0mkey\u001b[0m \u001b[0;34m=\u001b[0m \u001b[0mlist\u001b[0m\u001b[0;34m(\u001b[0m\u001b[0mkey\u001b[0m\u001b[0;34m)\u001b[0m\u001b[0;34m\u001b[0m\u001b[0;34m\u001b[0m\u001b[0m\n\u001b[0;32m-> 3030\u001b[0;31m             \u001b[0mindexer\u001b[0m \u001b[0;34m=\u001b[0m \u001b[0mself\u001b[0m\u001b[0;34m.\u001b[0m\u001b[0mloc\u001b[0m\u001b[0;34m.\u001b[0m\u001b[0m_get_listlike_indexer\u001b[0m\u001b[0;34m(\u001b[0m\u001b[0mkey\u001b[0m\u001b[0;34m,\u001b[0m \u001b[0maxis\u001b[0m\u001b[0;34m=\u001b[0m\u001b[0;36m1\u001b[0m\u001b[0;34m,\u001b[0m \u001b[0mraise_missing\u001b[0m\u001b[0;34m=\u001b[0m\u001b[0;32mTrue\u001b[0m\u001b[0;34m)\u001b[0m\u001b[0;34m[\u001b[0m\u001b[0;36m1\u001b[0m\u001b[0;34m]\u001b[0m\u001b[0;34m\u001b[0m\u001b[0;34m\u001b[0m\u001b[0m\n\u001b[0m\u001b[1;32m   3031\u001b[0m \u001b[0;34m\u001b[0m\u001b[0m\n\u001b[1;32m   3032\u001b[0m         \u001b[0;31m# take() does not accept boolean indexers\u001b[0m\u001b[0;34m\u001b[0m\u001b[0;34m\u001b[0m\u001b[0;34m\u001b[0m\u001b[0m\n",
      "\u001b[0;32m/usr/local/anaconda3/envs/ml/lib/python3.9/site-packages/pandas/core/indexing.py\u001b[0m in \u001b[0;36m_get_listlike_indexer\u001b[0;34m(self, key, axis, raise_missing)\u001b[0m\n\u001b[1;32m   1264\u001b[0m             \u001b[0mkeyarr\u001b[0m\u001b[0;34m,\u001b[0m \u001b[0mindexer\u001b[0m\u001b[0;34m,\u001b[0m \u001b[0mnew_indexer\u001b[0m \u001b[0;34m=\u001b[0m \u001b[0max\u001b[0m\u001b[0;34m.\u001b[0m\u001b[0m_reindex_non_unique\u001b[0m\u001b[0;34m(\u001b[0m\u001b[0mkeyarr\u001b[0m\u001b[0;34m)\u001b[0m\u001b[0;34m\u001b[0m\u001b[0;34m\u001b[0m\u001b[0m\n\u001b[1;32m   1265\u001b[0m \u001b[0;34m\u001b[0m\u001b[0m\n\u001b[0;32m-> 1266\u001b[0;31m         \u001b[0mself\u001b[0m\u001b[0;34m.\u001b[0m\u001b[0m_validate_read_indexer\u001b[0m\u001b[0;34m(\u001b[0m\u001b[0mkeyarr\u001b[0m\u001b[0;34m,\u001b[0m \u001b[0mindexer\u001b[0m\u001b[0;34m,\u001b[0m \u001b[0maxis\u001b[0m\u001b[0;34m,\u001b[0m \u001b[0mraise_missing\u001b[0m\u001b[0;34m=\u001b[0m\u001b[0mraise_missing\u001b[0m\u001b[0;34m)\u001b[0m\u001b[0;34m\u001b[0m\u001b[0;34m\u001b[0m\u001b[0m\n\u001b[0m\u001b[1;32m   1267\u001b[0m         \u001b[0;32mreturn\u001b[0m \u001b[0mkeyarr\u001b[0m\u001b[0;34m,\u001b[0m \u001b[0mindexer\u001b[0m\u001b[0;34m\u001b[0m\u001b[0;34m\u001b[0m\u001b[0m\n\u001b[1;32m   1268\u001b[0m \u001b[0;34m\u001b[0m\u001b[0m\n",
      "\u001b[0;32m/usr/local/anaconda3/envs/ml/lib/python3.9/site-packages/pandas/core/indexing.py\u001b[0m in \u001b[0;36m_validate_read_indexer\u001b[0;34m(self, key, indexer, axis, raise_missing)\u001b[0m\n\u001b[1;32m   1306\u001b[0m             \u001b[0;32mif\u001b[0m \u001b[0mmissing\u001b[0m \u001b[0;34m==\u001b[0m \u001b[0mlen\u001b[0m\u001b[0;34m(\u001b[0m\u001b[0mindexer\u001b[0m\u001b[0;34m)\u001b[0m\u001b[0;34m:\u001b[0m\u001b[0;34m\u001b[0m\u001b[0;34m\u001b[0m\u001b[0m\n\u001b[1;32m   1307\u001b[0m                 \u001b[0maxis_name\u001b[0m \u001b[0;34m=\u001b[0m \u001b[0mself\u001b[0m\u001b[0;34m.\u001b[0m\u001b[0mobj\u001b[0m\u001b[0;34m.\u001b[0m\u001b[0m_get_axis_name\u001b[0m\u001b[0;34m(\u001b[0m\u001b[0maxis\u001b[0m\u001b[0;34m)\u001b[0m\u001b[0;34m\u001b[0m\u001b[0;34m\u001b[0m\u001b[0m\n\u001b[0;32m-> 1308\u001b[0;31m                 \u001b[0;32mraise\u001b[0m \u001b[0mKeyError\u001b[0m\u001b[0;34m(\u001b[0m\u001b[0;34mf\"None of [{key}] are in the [{axis_name}]\"\u001b[0m\u001b[0;34m)\u001b[0m\u001b[0;34m\u001b[0m\u001b[0;34m\u001b[0m\u001b[0m\n\u001b[0m\u001b[1;32m   1309\u001b[0m \u001b[0;34m\u001b[0m\u001b[0m\n\u001b[1;32m   1310\u001b[0m             \u001b[0max\u001b[0m \u001b[0;34m=\u001b[0m \u001b[0mself\u001b[0m\u001b[0;34m.\u001b[0m\u001b[0mobj\u001b[0m\u001b[0;34m.\u001b[0m\u001b[0m_get_axis\u001b[0m\u001b[0;34m(\u001b[0m\u001b[0maxis\u001b[0m\u001b[0;34m)\u001b[0m\u001b[0;34m\u001b[0m\u001b[0;34m\u001b[0m\u001b[0m\n",
      "\u001b[0;31mKeyError\u001b[0m: \"None of [Index(['title', 'selftext', 'subreddit', 'created_utc', 'author',\\n       'num_comments', 'score', 'is_self'],\\n      dtype='object')] are in the [columns]\""
     ]
    }
   ],
   "source": [
    "df_PandemicPreps = api_pushshift_reddit('PandemicPreps', \n",
    "                                start_date = dt.datetime(2020, 2, 8),\n",
    "                                end_date   = dt.datetime(2020, 2, 10),\n",
    "                                day_window = 0.5 )"
   ]
  },
  {
   "cell_type": "code",
   "execution_count": 3,
   "id": "5149bde8",
   "metadata": {},
   "outputs": [
    {
     "data": {
      "text/html": [
       "<div>\n",
       "<style scoped>\n",
       "    .dataframe tbody tr th:only-of-type {\n",
       "        vertical-align: middle;\n",
       "    }\n",
       "\n",
       "    .dataframe tbody tr th {\n",
       "        vertical-align: top;\n",
       "    }\n",
       "\n",
       "    .dataframe thead th {\n",
       "        text-align: right;\n",
       "    }\n",
       "</style>\n",
       "<table border=\"1\" class=\"dataframe\">\n",
       "  <thead>\n",
       "    <tr style=\"text-align: right;\">\n",
       "      <th></th>\n",
       "      <th>title</th>\n",
       "      <th>selftext</th>\n",
       "      <th>subreddit</th>\n",
       "      <th>created_utc</th>\n",
       "      <th>author</th>\n",
       "      <th>num_comments</th>\n",
       "      <th>score</th>\n",
       "      <th>is_self</th>\n",
       "      <th>timestamp</th>\n",
       "    </tr>\n",
       "  </thead>\n",
       "  <tbody>\n",
       "    <tr>\n",
       "      <th>0</th>\n",
       "      <td>Since there are so many people panic prepping due to corona if you had to give someone your top 10 items to have on hand what would they be ?</td>\n",
       "      <td></td>\n",
       "      <td>PandemicPreps</td>\n",
       "      <td>1581475823</td>\n",
       "      <td>happypath8</td>\n",
       "      <td>124</td>\n",
       "      <td>1</td>\n",
       "      <td>True</td>\n",
       "      <td>2020-02-11 18:50:23</td>\n",
       "    </tr>\n",
       "    <tr>\n",
       "      <th>1</th>\n",
       "      <td>What are the items most people leave out of their stockpile but would be invaluable to you in a pandemic ?</td>\n",
       "      <td></td>\n",
       "      <td>PandemicPreps</td>\n",
       "      <td>1581476168</td>\n",
       "      <td>happypath8</td>\n",
       "      <td>47</td>\n",
       "      <td>1</td>\n",
       "      <td>True</td>\n",
       "      <td>2020-02-11 18:56:08</td>\n",
       "    </tr>\n",
       "    <tr>\n",
       "      <th>2</th>\n",
       "      <td>If you come across an opportunity please link r/pandemicpreps where you can so we can help grow the community. TIA</td>\n",
       "      <td></td>\n",
       "      <td>PandemicPreps</td>\n",
       "      <td>1581476425</td>\n",
       "      <td>happypath8</td>\n",
       "      <td>7</td>\n",
       "      <td>1</td>\n",
       "      <td>True</td>\n",
       "      <td>2020-02-11 19:00:25</td>\n",
       "    </tr>\n",
       "    <tr>\n",
       "      <th>3</th>\n",
       "      <td>What about the ACE2 Gene</td>\n",
       "      <td>I used to take ACE inhibitors for blood pressure.  Is this the same thing?</td>\n",
       "      <td>PandemicPreps</td>\n",
       "      <td>1581478406</td>\n",
       "      <td>Furious_Momma</td>\n",
       "      <td>14</td>\n",
       "      <td>1</td>\n",
       "      <td>True</td>\n",
       "      <td>2020-02-11 19:33:26</td>\n",
       "    </tr>\n",
       "    <tr>\n",
       "      <th>4</th>\n",
       "      <td>Pro Tip: Don't forget Electrolytes</td>\n",
       "      <td>**Diarrhea kills.**\\n\\n&amp;amp;#x200B;\\n\\nYou can buy or DIY. I found this PDF on a soldier forum for a homemade solution:\\n\\n[https://med.virginia.edu/ginutrition/wp-content/uploads/sites/199/2018/09/Homemade-Oral-Rehydration-Solutions-9-2018.pdf](https://med.virginia.edu/ginutrition/wp-content/uploads/sites/199/2018/09/Homemade-Oral-Rehydration-Solutions-9-2018.pdf)</td>\n",
       "      <td>PandemicPreps</td>\n",
       "      <td>1581482981</td>\n",
       "      <td>ne0ndistraction</td>\n",
       "      <td>28</td>\n",
       "      <td>1</td>\n",
       "      <td>True</td>\n",
       "      <td>2020-02-11 20:49:41</td>\n",
       "    </tr>\n",
       "    <tr>\n",
       "      <th>...</th>\n",
       "      <td>...</td>\n",
       "      <td>...</td>\n",
       "      <td>...</td>\n",
       "      <td>...</td>\n",
       "      <td>...</td>\n",
       "      <td>...</td>\n",
       "      <td>...</td>\n",
       "      <td>...</td>\n",
       "      <td>...</td>\n",
       "    </tr>\n",
       "    <tr>\n",
       "      <th>157</th>\n",
       "      <td>Prep specifically for women's issues?</td>\n",
       "      <td>I've searched and there doesn't seem to be a thread. As a women, certain things have crossed my mind recently about prep and I think it's worth a thread to address some aspects.\\n\\nSpecifically, that there are natural methods to certain health concerns like garlic, hydrogen peroxide, and ginger that keep reasonably well and can substitute things like Monistat or fluconazole in the event they a...</td>\n",
       "      <td>PandemicPreps</td>\n",
       "      <td>1582600139</td>\n",
       "      <td>familyvanfor6people</td>\n",
       "      <td>57</td>\n",
       "      <td>1</td>\n",
       "      <td>True</td>\n",
       "      <td>2020-02-24 19:08:59</td>\n",
       "    </tr>\n",
       "    <tr>\n",
       "      <th>158</th>\n",
       "      <td>So what happens if my university refuses to close classrooms and switch to remote learning?</td>\n",
       "      <td>I live in TX FTI. I have a great internship where I can work remotely 100% of the time during a pandemic. (We haven't made that call that but it'll likely come soon and my team is monitoring everything closely) And I can buy food/supplies to stay indoors for months. But it seems really unlikely my university is going to close unless the US government makes them, which probably won't happen. Ho...</td>\n",
       "      <td>PandemicPreps</td>\n",
       "      <td>1582601831</td>\n",
       "      <td>TheLastHero7</td>\n",
       "      <td>3</td>\n",
       "      <td>1</td>\n",
       "      <td>True</td>\n",
       "      <td>2020-02-24 19:37:11</td>\n",
       "    </tr>\n",
       "    <tr>\n",
       "      <th>159</th>\n",
       "      <td>I am at college and my parents will not listen to me about preparing (USA).</td>\n",
       "      <td>I have tried to explain why we need to prep. I don't know all the facts but try my best. My dad's response is always that he reads about it everyday and that everyone always freaks out over nothing. He's been alive 54 years you see.\\n\\nAfter me bothering them so much, my dad decided to make me happy and responded to a text with \"We are all good. Will stock up some.\"\\n\\nMy mom says to relax, st...</td>\n",
       "      <td>PandemicPreps</td>\n",
       "      <td>1582601860</td>\n",
       "      <td>CapoCracko</td>\n",
       "      <td>0</td>\n",
       "      <td>1</td>\n",
       "      <td>True</td>\n",
       "      <td>2020-02-24 19:37:40</td>\n",
       "    </tr>\n",
       "    <tr>\n",
       "      <th>160</th>\n",
       "      <td>Should we be concerned about water shortages?</td>\n",
       "      <td>In a previous thread there was conversation around internet availability. I genuinely think that the aforementioned will continue to be available, it may run slowly depending on the pop density of where you live, but it'll be available. My current sentiments on water is the same. I think its good to have a few gallons on hand, but I can't foresee us having issues with availability of running w...</td>\n",
       "      <td>PandemicPreps</td>\n",
       "      <td>1582603603</td>\n",
       "      <td>LEDZEPPLAZER</td>\n",
       "      <td>11</td>\n",
       "      <td>1</td>\n",
       "      <td>True</td>\n",
       "      <td>2020-02-24 20:06:43</td>\n",
       "    </tr>\n",
       "    <tr>\n",
       "      <th>161</th>\n",
       "      <td>Where do you begin in a crunch?</td>\n",
       "      <td>I shared on another sub that I’m one of those people who watch videos nodding away like “yeah, prep! Good idea.” But the thing is.. I didn’t prep myself. \\n\\nNow with corona virus and finding out I can’t locate masks anywhere, I’m thinking it’s time. Well, the time was months ago but all I have is from today forward. \\n\\nWhat should I focus on as of right now? Most of the lists I find have tho...</td>\n",
       "      <td>PandemicPreps</td>\n",
       "      <td>1582604042</td>\n",
       "      <td>jaejaeok</td>\n",
       "      <td>14</td>\n",
       "      <td>1</td>\n",
       "      <td>True</td>\n",
       "      <td>2020-02-24 20:14:02</td>\n",
       "    </tr>\n",
       "  </tbody>\n",
       "</table>\n",
       "<p>162 rows × 9 columns</p>\n",
       "</div>"
      ],
      "text/plain": [
       "                                                                                                                                             title  \\\n",
       "0    Since there are so many people panic prepping due to corona if you had to give someone your top 10 items to have on hand what would they be ?   \n",
       "1                                       What are the items most people leave out of their stockpile but would be invaluable to you in a pandemic ?   \n",
       "2                               If you come across an opportunity please link r/pandemicpreps where you can so we can help grow the community. TIA   \n",
       "3                                                                                                                         What about the ACE2 Gene   \n",
       "4                                                                                                               Pro Tip: Don't forget Electrolytes   \n",
       "..                                                                                                                                             ...   \n",
       "157                                                                                                          Prep specifically for women's issues?   \n",
       "158                                                    So what happens if my university refuses to close classrooms and switch to remote learning?   \n",
       "159                                                                    I am at college and my parents will not listen to me about preparing (USA).   \n",
       "160                                                                                                  Should we be concerned about water shortages?   \n",
       "161                                                                                                                Where do you begin in a crunch?   \n",
       "\n",
       "                                                                                                                                                                                                                                                                                                                                                                                                            selftext  \\\n",
       "0                                                                                                                                                                                                                                                                                                                                                                                                                      \n",
       "1                                                                                                                                                                                                                                                                                                                                                                                                                      \n",
       "2                                                                                                                                                                                                                                                                                                                                                                                                                      \n",
       "3                                                                                                                                                                                                                                                                                                                                         I used to take ACE inhibitors for blood pressure.  Is this the same thing?   \n",
       "4                                    **Diarrhea kills.**\\n\\n&amp;#x200B;\\n\\nYou can buy or DIY. I found this PDF on a soldier forum for a homemade solution:\\n\\n[https://med.virginia.edu/ginutrition/wp-content/uploads/sites/199/2018/09/Homemade-Oral-Rehydration-Solutions-9-2018.pdf](https://med.virginia.edu/ginutrition/wp-content/uploads/sites/199/2018/09/Homemade-Oral-Rehydration-Solutions-9-2018.pdf)   \n",
       "..                                                                                                                                                                                                                                                                                                                                                                                                               ...   \n",
       "157  I've searched and there doesn't seem to be a thread. As a women, certain things have crossed my mind recently about prep and I think it's worth a thread to address some aspects.\\n\\nSpecifically, that there are natural methods to certain health concerns like garlic, hydrogen peroxide, and ginger that keep reasonably well and can substitute things like Monistat or fluconazole in the event they a...   \n",
       "158  I live in TX FTI. I have a great internship where I can work remotely 100% of the time during a pandemic. (We haven't made that call that but it'll likely come soon and my team is monitoring everything closely) And I can buy food/supplies to stay indoors for months. But it seems really unlikely my university is going to close unless the US government makes them, which probably won't happen. Ho...   \n",
       "159  I have tried to explain why we need to prep. I don't know all the facts but try my best. My dad's response is always that he reads about it everyday and that everyone always freaks out over nothing. He's been alive 54 years you see.\\n\\nAfter me bothering them so much, my dad decided to make me happy and responded to a text with \"We are all good. Will stock up some.\"\\n\\nMy mom says to relax, st...   \n",
       "160  In a previous thread there was conversation around internet availability. I genuinely think that the aforementioned will continue to be available, it may run slowly depending on the pop density of where you live, but it'll be available. My current sentiments on water is the same. I think its good to have a few gallons on hand, but I can't foresee us having issues with availability of running w...   \n",
       "161  I shared on another sub that I’m one of those people who watch videos nodding away like “yeah, prep! Good idea.” But the thing is.. I didn’t prep myself. \\n\\nNow with corona virus and finding out I can’t locate masks anywhere, I’m thinking it’s time. Well, the time was months ago but all I have is from today forward. \\n\\nWhat should I focus on as of right now? Most of the lists I find have tho...   \n",
       "\n",
       "         subreddit  created_utc               author  num_comments  score  \\\n",
       "0    PandemicPreps   1581475823           happypath8           124      1   \n",
       "1    PandemicPreps   1581476168           happypath8            47      1   \n",
       "2    PandemicPreps   1581476425           happypath8             7      1   \n",
       "3    PandemicPreps   1581478406        Furious_Momma            14      1   \n",
       "4    PandemicPreps   1581482981      ne0ndistraction            28      1   \n",
       "..             ...          ...                  ...           ...    ...   \n",
       "157  PandemicPreps   1582600139  familyvanfor6people            57      1   \n",
       "158  PandemicPreps   1582601831         TheLastHero7             3      1   \n",
       "159  PandemicPreps   1582601860           CapoCracko             0      1   \n",
       "160  PandemicPreps   1582603603         LEDZEPPLAZER            11      1   \n",
       "161  PandemicPreps   1582604042             jaejaeok            14      1   \n",
       "\n",
       "     is_self           timestamp  \n",
       "0       True 2020-02-11 18:50:23  \n",
       "1       True 2020-02-11 18:56:08  \n",
       "2       True 2020-02-11 19:00:25  \n",
       "3       True 2020-02-11 19:33:26  \n",
       "4       True 2020-02-11 20:49:41  \n",
       "..       ...                 ...  \n",
       "157     True 2020-02-24 19:08:59  \n",
       "158     True 2020-02-24 19:37:11  \n",
       "159     True 2020-02-24 19:37:40  \n",
       "160     True 2020-02-24 20:06:43  \n",
       "161     True 2020-02-24 20:14:02  \n",
       "\n",
       "[162 rows x 9 columns]"
      ]
     },
     "execution_count": 3,
     "metadata": {},
     "output_type": "execute_result"
    }
   ],
   "source": [
    "df_PandemicPreps"
   ]
  },
  {
   "cell_type": "code",
   "execution_count": 4,
   "id": "23e61af8",
   "metadata": {},
   "outputs": [
    {
     "data": {
      "text/plain": [
       "(162, 9)"
      ]
     },
     "execution_count": 4,
     "metadata": {},
     "output_type": "execute_result"
    }
   ],
   "source": [
    "df_PandemicPreps[df_PandemicPreps['selftext']!= '[removed]'].shape"
   ]
  },
  {
   "cell_type": "code",
   "execution_count": 5,
   "id": "bf98387f",
   "metadata": {},
   "outputs": [],
   "source": [
    "df_PandemicPreps.to_csv('../datasets/preprocessed_df_PandemicPreps_reddit_v3_part6.csv')"
   ]
  },
  {
   "cell_type": "code",
   "execution_count": 53,
   "id": "480fe92d",
   "metadata": {},
   "outputs": [],
   "source": [
    "# combine two parts"
   ]
  },
  {
   "cell_type": "code",
   "execution_count": 6,
   "id": "cba01881",
   "metadata": {},
   "outputs": [],
   "source": [
    "df0 = pd.read_csv('../datasets/preprocessed_df_PandemicPreps_reddit_LAST.csv',index_col=0)\n",
    "\n",
    "df1 = pd.read_csv('../datasets/preprocessed_df_PandemicPreps_reddit_v3_part1.csv',index_col=0)\n",
    "df2 = pd.read_csv('../datasets/preprocessed_df_PandemicPreps_reddit_v3_part2.csv',index_col=0)\n",
    "df3 = pd.read_csv('../datasets/preprocessed_df_PandemicPreps_reddit_v3_part3.csv',index_col=0)\n",
    "df4 = pd.read_csv('../datasets/preprocessed_df_PandemicPreps_reddit_v3_part4.csv',index_col=0)\n",
    "df5 = pd.read_csv('../datasets/preprocessed_df_PandemicPreps_reddit_v3_part5.csv',index_col=0)\n",
    "df6 = pd.read_csv('../datasets/preprocessed_df_PandemicPreps_reddit_v3_part6.csv',index_col=0)"
   ]
  },
  {
   "cell_type": "code",
   "execution_count": 8,
   "id": "e337ae71",
   "metadata": {},
   "outputs": [],
   "source": [
    "df = pd.concat([df0,df1,df2,df3,df4,df5,df6],\n",
    "               join='outer', ignore_index=True)"
   ]
  },
  {
   "cell_type": "code",
   "execution_count": 9,
   "id": "ce7ee376",
   "metadata": {},
   "outputs": [
    {
     "data": {
      "text/plain": [
       "title             0\n",
       "selftext        155\n",
       "subreddit         0\n",
       "created_utc       0\n",
       "author            0\n",
       "num_comments      0\n",
       "score             0\n",
       "is_self           0\n",
       "timestamp         0\n",
       "dtype: int64"
      ]
     },
     "execution_count": 9,
     "metadata": {},
     "output_type": "execute_result"
    }
   ],
   "source": [
    "df.isnull().sum()"
   ]
  },
  {
   "cell_type": "code",
   "execution_count": 10,
   "id": "c5956fc0",
   "metadata": {},
   "outputs": [],
   "source": [
    "df.dropna(inplace=True)"
   ]
  },
  {
   "cell_type": "code",
   "execution_count": 11,
   "id": "d4a4bb0b",
   "metadata": {},
   "outputs": [],
   "source": [
    "df.reset_index(drop=True, inplace=True)"
   ]
  },
  {
   "cell_type": "code",
   "execution_count": 12,
   "id": "dd95e1ad",
   "metadata": {},
   "outputs": [
    {
     "data": {
      "text/plain": [
       "title           object\n",
       "selftext        object\n",
       "subreddit       object\n",
       "created_utc      int64\n",
       "author          object\n",
       "num_comments     int64\n",
       "score            int64\n",
       "is_self           bool\n",
       "timestamp       object\n",
       "dtype: object"
      ]
     },
     "execution_count": 12,
     "metadata": {},
     "output_type": "execute_result"
    }
   ],
   "source": [
    "df.dtypes"
   ]
  },
  {
   "cell_type": "code",
   "execution_count": 13,
   "id": "e21b3957",
   "metadata": {},
   "outputs": [
    {
     "data": {
      "text/html": [
       "<div>\n",
       "<style scoped>\n",
       "    .dataframe tbody tr th:only-of-type {\n",
       "        vertical-align: middle;\n",
       "    }\n",
       "\n",
       "    .dataframe tbody tr th {\n",
       "        vertical-align: top;\n",
       "    }\n",
       "\n",
       "    .dataframe thead th {\n",
       "        text-align: right;\n",
       "    }\n",
       "</style>\n",
       "<table border=\"1\" class=\"dataframe\">\n",
       "  <thead>\n",
       "    <tr style=\"text-align: right;\">\n",
       "      <th></th>\n",
       "      <th>title</th>\n",
       "      <th>selftext</th>\n",
       "      <th>subreddit</th>\n",
       "      <th>created_utc</th>\n",
       "      <th>author</th>\n",
       "      <th>num_comments</th>\n",
       "      <th>score</th>\n",
       "      <th>is_self</th>\n",
       "      <th>timestamp</th>\n",
       "    </tr>\n",
       "  </thead>\n",
       "  <tbody>\n",
       "    <tr>\n",
       "      <th>0</th>\n",
       "      <td>It's going fast in TN</td>\n",
       "      <td>Anyone in this group should know to buy now if you haven't, but for the sake of reinforcement - buy now if you haven't!  I took my under 10 aged child to Walmart today and picked up some more to add, and it is a night and day difference from 3 days ago.  Toilet paper gone.  Paper towels gone.  Lysol, down to 4 bottles.  Hand sanitizer and alcohol, gone.  Bleach was available but only a few rem...</td>\n",
       "      <td>PandemicPreps</td>\n",
       "      <td>1583021338</td>\n",
       "      <td>BeautifulBalance1</td>\n",
       "      <td>18</td>\n",
       "      <td>1</td>\n",
       "      <td>True</td>\n",
       "      <td>2020-02-29 16:08:58</td>\n",
       "    </tr>\n",
       "    <tr>\n",
       "      <th>1</th>\n",
       "      <td>Don’t forget about your pets!</td>\n",
       "      <td>Amazon is running low on cat and dog food, my normals are sold out. I feel bad for the delivery guy dropping my shit off, almost 300lbs of food and liter.</td>\n",
       "      <td>PandemicPreps</td>\n",
       "      <td>1583021470</td>\n",
       "      <td>JKMSDE</td>\n",
       "      <td>12</td>\n",
       "      <td>1</td>\n",
       "      <td>True</td>\n",
       "      <td>2020-02-29 16:11:10</td>\n",
       "    </tr>\n",
       "    <tr>\n",
       "      <th>2</th>\n",
       "      <td>DIY Hand Sanitizer</td>\n",
       "      <td>Because you just can't find it in stores any more...\\n\\n [http://www.utahpreppers.com/2009/04/pandemic-preparedness-diy-sanitization/](http://www.utahpreppers.com/2009/04/pandemic-preparedness-diy-sanitization/) \\n\\n* 5 c 91% isopropyl alcohol\\n* 2 c aloe vera gel\\n\\nHere's another receipt with essential oils\\n\\n [https://www.asiaone.com/lifestyle/make-your-own-diy-hand-sanitizer](https://www....</td>\n",
       "      <td>PandemicPreps</td>\n",
       "      <td>1583022495</td>\n",
       "      <td>AccidentalDragon</td>\n",
       "      <td>44</td>\n",
       "      <td>1</td>\n",
       "      <td>True</td>\n",
       "      <td>2020-02-29 16:28:15</td>\n",
       "    </tr>\n",
       "    <tr>\n",
       "      <th>3</th>\n",
       "      <td>Anyone notice anything in the Denver / Boulder area? I see no concern and it concerns me!</td>\n",
       "      <td>What the hell is going on. Anyone around this area notice anything?</td>\n",
       "      <td>PandemicPreps</td>\n",
       "      <td>1583023089</td>\n",
       "      <td>Wizard_Knife_Fight</td>\n",
       "      <td>12</td>\n",
       "      <td>1</td>\n",
       "      <td>True</td>\n",
       "      <td>2020-02-29 16:38:09</td>\n",
       "    </tr>\n",
       "    <tr>\n",
       "      <th>4</th>\n",
       "      <td>PSA: don’t only buy a bunch of random foods, know how to cook it and get the proper nutrition.</td>\n",
       "      <td>I see a lot of people on here buying around the same types of stuff (canned beans, rice, etc). Just remember to know how to cook each item you buy and which combination of foods will have the right nutrients for example: you can’t live off of only eating meat products. Have a good balance of foods and learn the nutrients balance. Vitamin supplements are very important because fresh produce can...</td>\n",
       "      <td>PandemicPreps</td>\n",
       "      <td>1583025573</td>\n",
       "      <td>cutting-alumination</td>\n",
       "      <td>56</td>\n",
       "      <td>1</td>\n",
       "      <td>True</td>\n",
       "      <td>2020-02-29 17:19:33</td>\n",
       "    </tr>\n",
       "    <tr>\n",
       "      <th>...</th>\n",
       "      <td>...</td>\n",
       "      <td>...</td>\n",
       "      <td>...</td>\n",
       "      <td>...</td>\n",
       "      <td>...</td>\n",
       "      <td>...</td>\n",
       "      <td>...</td>\n",
       "      <td>...</td>\n",
       "      <td>...</td>\n",
       "    </tr>\n",
       "    <tr>\n",
       "      <th>4211</th>\n",
       "      <td>Prep specifically for women's issues?</td>\n",
       "      <td>I've searched and there doesn't seem to be a thread. As a women, certain things have crossed my mind recently about prep and I think it's worth a thread to address some aspects.\\n\\nSpecifically, that there are natural methods to certain health concerns like garlic, hydrogen peroxide, and ginger that keep reasonably well and can substitute things like Monistat or fluconazole in the event they a...</td>\n",
       "      <td>PandemicPreps</td>\n",
       "      <td>1582600139</td>\n",
       "      <td>familyvanfor6people</td>\n",
       "      <td>57</td>\n",
       "      <td>1</td>\n",
       "      <td>True</td>\n",
       "      <td>2020-02-24 19:08:59</td>\n",
       "    </tr>\n",
       "    <tr>\n",
       "      <th>4212</th>\n",
       "      <td>So what happens if my university refuses to close classrooms and switch to remote learning?</td>\n",
       "      <td>I live in TX FTI. I have a great internship where I can work remotely 100% of the time during a pandemic. (We haven't made that call that but it'll likely come soon and my team is monitoring everything closely) And I can buy food/supplies to stay indoors for months. But it seems really unlikely my university is going to close unless the US government makes them, which probably won't happen. Ho...</td>\n",
       "      <td>PandemicPreps</td>\n",
       "      <td>1582601831</td>\n",
       "      <td>TheLastHero7</td>\n",
       "      <td>3</td>\n",
       "      <td>1</td>\n",
       "      <td>True</td>\n",
       "      <td>2020-02-24 19:37:11</td>\n",
       "    </tr>\n",
       "    <tr>\n",
       "      <th>4213</th>\n",
       "      <td>I am at college and my parents will not listen to me about preparing (USA).</td>\n",
       "      <td>I have tried to explain why we need to prep. I don't know all the facts but try my best. My dad's response is always that he reads about it everyday and that everyone always freaks out over nothing. He's been alive 54 years you see.\\n\\nAfter me bothering them so much, my dad decided to make me happy and responded to a text with \"We are all good. Will stock up some.\"\\n\\nMy mom says to relax, st...</td>\n",
       "      <td>PandemicPreps</td>\n",
       "      <td>1582601860</td>\n",
       "      <td>CapoCracko</td>\n",
       "      <td>0</td>\n",
       "      <td>1</td>\n",
       "      <td>True</td>\n",
       "      <td>2020-02-24 19:37:40</td>\n",
       "    </tr>\n",
       "    <tr>\n",
       "      <th>4214</th>\n",
       "      <td>Should we be concerned about water shortages?</td>\n",
       "      <td>In a previous thread there was conversation around internet availability. I genuinely think that the aforementioned will continue to be available, it may run slowly depending on the pop density of where you live, but it'll be available. My current sentiments on water is the same. I think its good to have a few gallons on hand, but I can't foresee us having issues with availability of running w...</td>\n",
       "      <td>PandemicPreps</td>\n",
       "      <td>1582603603</td>\n",
       "      <td>LEDZEPPLAZER</td>\n",
       "      <td>11</td>\n",
       "      <td>1</td>\n",
       "      <td>True</td>\n",
       "      <td>2020-02-24 20:06:43</td>\n",
       "    </tr>\n",
       "    <tr>\n",
       "      <th>4215</th>\n",
       "      <td>Where do you begin in a crunch?</td>\n",
       "      <td>I shared on another sub that I’m one of those people who watch videos nodding away like “yeah, prep! Good idea.” But the thing is.. I didn’t prep myself. \\n\\nNow with corona virus and finding out I can’t locate masks anywhere, I’m thinking it’s time. Well, the time was months ago but all I have is from today forward. \\n\\nWhat should I focus on as of right now? Most of the lists I find have tho...</td>\n",
       "      <td>PandemicPreps</td>\n",
       "      <td>1582604042</td>\n",
       "      <td>jaejaeok</td>\n",
       "      <td>14</td>\n",
       "      <td>1</td>\n",
       "      <td>True</td>\n",
       "      <td>2020-02-24 20:14:02</td>\n",
       "    </tr>\n",
       "  </tbody>\n",
       "</table>\n",
       "<p>4058 rows × 9 columns</p>\n",
       "</div>"
      ],
      "text/plain": [
       "                                                                                               title  \\\n",
       "0                                                                              It's going fast in TN   \n",
       "1                                                                      Don’t forget about your pets!   \n",
       "2                                                                                 DIY Hand Sanitizer   \n",
       "3          Anyone notice anything in the Denver / Boulder area? I see no concern and it concerns me!   \n",
       "4     PSA: don’t only buy a bunch of random foods, know how to cook it and get the proper nutrition.   \n",
       "...                                                                                              ...   \n",
       "4211                                                           Prep specifically for women's issues?   \n",
       "4212     So what happens if my university refuses to close classrooms and switch to remote learning?   \n",
       "4213                     I am at college and my parents will not listen to me about preparing (USA).   \n",
       "4214                                                   Should we be concerned about water shortages?   \n",
       "4215                                                                 Where do you begin in a crunch?   \n",
       "\n",
       "                                                                                                                                                                                                                                                                                                                                                                                                             selftext  \\\n",
       "0     Anyone in this group should know to buy now if you haven't, but for the sake of reinforcement - buy now if you haven't!  I took my under 10 aged child to Walmart today and picked up some more to add, and it is a night and day difference from 3 days ago.  Toilet paper gone.  Paper towels gone.  Lysol, down to 4 bottles.  Hand sanitizer and alcohol, gone.  Bleach was available but only a few rem...   \n",
       "1                                                                                                                                                                                                                                                          Amazon is running low on cat and dog food, my normals are sold out. I feel bad for the delivery guy dropping my shit off, almost 300lbs of food and liter.   \n",
       "2     Because you just can't find it in stores any more...\\n\\n [http://www.utahpreppers.com/2009/04/pandemic-preparedness-diy-sanitization/](http://www.utahpreppers.com/2009/04/pandemic-preparedness-diy-sanitization/) \\n\\n* 5 c 91% isopropyl alcohol\\n* 2 c aloe vera gel\\n\\nHere's another receipt with essential oils\\n\\n [https://www.asiaone.com/lifestyle/make-your-own-diy-hand-sanitizer](https://www....   \n",
       "3                                                                                                                                                                                                                                                                                                                                                 What the hell is going on. Anyone around this area notice anything?   \n",
       "4     I see a lot of people on here buying around the same types of stuff (canned beans, rice, etc). Just remember to know how to cook each item you buy and which combination of foods will have the right nutrients for example: you can’t live off of only eating meat products. Have a good balance of foods and learn the nutrients balance. Vitamin supplements are very important because fresh produce can...   \n",
       "...                                                                                                                                                                                                                                                                                                                                                                                                               ...   \n",
       "4211  I've searched and there doesn't seem to be a thread. As a women, certain things have crossed my mind recently about prep and I think it's worth a thread to address some aspects.\\n\\nSpecifically, that there are natural methods to certain health concerns like garlic, hydrogen peroxide, and ginger that keep reasonably well and can substitute things like Monistat or fluconazole in the event they a...   \n",
       "4212  I live in TX FTI. I have a great internship where I can work remotely 100% of the time during a pandemic. (We haven't made that call that but it'll likely come soon and my team is monitoring everything closely) And I can buy food/supplies to stay indoors for months. But it seems really unlikely my university is going to close unless the US government makes them, which probably won't happen. Ho...   \n",
       "4213  I have tried to explain why we need to prep. I don't know all the facts but try my best. My dad's response is always that he reads about it everyday and that everyone always freaks out over nothing. He's been alive 54 years you see.\\n\\nAfter me bothering them so much, my dad decided to make me happy and responded to a text with \"We are all good. Will stock up some.\"\\n\\nMy mom says to relax, st...   \n",
       "4214  In a previous thread there was conversation around internet availability. I genuinely think that the aforementioned will continue to be available, it may run slowly depending on the pop density of where you live, but it'll be available. My current sentiments on water is the same. I think its good to have a few gallons on hand, but I can't foresee us having issues with availability of running w...   \n",
       "4215  I shared on another sub that I’m one of those people who watch videos nodding away like “yeah, prep! Good idea.” But the thing is.. I didn’t prep myself. \\n\\nNow with corona virus and finding out I can’t locate masks anywhere, I’m thinking it’s time. Well, the time was months ago but all I have is from today forward. \\n\\nWhat should I focus on as of right now? Most of the lists I find have tho...   \n",
       "\n",
       "          subreddit  created_utc               author  num_comments  score  \\\n",
       "0     PandemicPreps   1583021338    BeautifulBalance1            18      1   \n",
       "1     PandemicPreps   1583021470               JKMSDE            12      1   \n",
       "2     PandemicPreps   1583022495     AccidentalDragon            44      1   \n",
       "3     PandemicPreps   1583023089   Wizard_Knife_Fight            12      1   \n",
       "4     PandemicPreps   1583025573  cutting-alumination            56      1   \n",
       "...             ...          ...                  ...           ...    ...   \n",
       "4211  PandemicPreps   1582600139  familyvanfor6people            57      1   \n",
       "4212  PandemicPreps   1582601831         TheLastHero7             3      1   \n",
       "4213  PandemicPreps   1582601860           CapoCracko             0      1   \n",
       "4214  PandemicPreps   1582603603         LEDZEPPLAZER            11      1   \n",
       "4215  PandemicPreps   1582604042             jaejaeok            14      1   \n",
       "\n",
       "      is_self            timestamp  \n",
       "0        True  2020-02-29 16:08:58  \n",
       "1        True  2020-02-29 16:11:10  \n",
       "2        True  2020-02-29 16:28:15  \n",
       "3        True  2020-02-29 16:38:09  \n",
       "4        True  2020-02-29 17:19:33  \n",
       "...       ...                  ...  \n",
       "4211     True  2020-02-24 19:08:59  \n",
       "4212     True  2020-02-24 19:37:11  \n",
       "4213     True  2020-02-24 19:37:40  \n",
       "4214     True  2020-02-24 20:06:43  \n",
       "4215     True  2020-02-24 20:14:02  \n",
       "\n",
       "[4058 rows x 9 columns]"
      ]
     },
     "execution_count": 13,
     "metadata": {},
     "output_type": "execute_result"
    }
   ],
   "source": [
    "df[df['selftext']!='[removed]']"
   ]
  },
  {
   "cell_type": "markdown",
   "id": "c1b55b99",
   "metadata": {},
   "source": [
    "### Drop rows with selftext equal '[removed]'"
   ]
  },
  {
   "cell_type": "code",
   "execution_count": 14,
   "id": "e8449eb0",
   "metadata": {},
   "outputs": [
    {
     "name": "stdout",
     "output_type": "stream",
     "text": [
      "percentage of rows with '[removed]' word:       3.75%\n"
     ]
    }
   ],
   "source": [
    "# percentage of rows with \"[removed]\" word\n",
    "print(f\"percentage of rows with '[removed]' word: \\\n",
    "      {np.round(len(df[df['selftext']=='[removed]'])*100/len(df),2)}%\")"
   ]
  },
  {
   "cell_type": "code",
   "execution_count": 15,
   "id": "f4ed7912",
   "metadata": {},
   "outputs": [],
   "source": [
    "# remove all rows with selftext = \"[removed]\"\n",
    "df.drop(index=df[df['selftext']=='[removed]'].index, inplace=True)"
   ]
  },
  {
   "cell_type": "code",
   "execution_count": 16,
   "id": "ec22042c",
   "metadata": {},
   "outputs": [],
   "source": [
    "df.reset_index(inplace=True, drop=True)"
   ]
  },
  {
   "cell_type": "code",
   "execution_count": 17,
   "id": "58052665",
   "metadata": {},
   "outputs": [
    {
     "data": {
      "text/plain": [
       "title           0\n",
       "selftext        0\n",
       "subreddit       0\n",
       "created_utc     0\n",
       "author          0\n",
       "num_comments    0\n",
       "score           0\n",
       "is_self         0\n",
       "timestamp       0\n",
       "dtype: int64"
      ]
     },
     "execution_count": 17,
     "metadata": {},
     "output_type": "execute_result"
    }
   ],
   "source": [
    "df.isnull().sum()"
   ]
  },
  {
   "cell_type": "code",
   "execution_count": 18,
   "id": "1bf1cc46",
   "metadata": {},
   "outputs": [],
   "source": [
    "df.reset_index(drop=True, inplace=True)"
   ]
  },
  {
   "cell_type": "markdown",
   "id": "5f708cbc",
   "metadata": {},
   "source": [
    "# Delete repeative posts"
   ]
  },
  {
   "cell_type": "code",
   "execution_count": 19,
   "id": "ecb66367",
   "metadata": {},
   "outputs": [],
   "source": [
    "df.drop_duplicates(inplace=True, ignore_index=True)"
   ]
  },
  {
   "cell_type": "code",
   "execution_count": 20,
   "id": "f2bad060",
   "metadata": {},
   "outputs": [],
   "source": [
    "df.reset_index(drop=True, inplace=True)"
   ]
  },
  {
   "cell_type": "code",
   "execution_count": 21,
   "id": "054a6d31",
   "metadata": {},
   "outputs": [
    {
     "data": {
      "text/plain": [
       "(2362, 9)"
      ]
     },
     "execution_count": 21,
     "metadata": {},
     "output_type": "execute_result"
    }
   ],
   "source": [
    "df.shape"
   ]
  },
  {
   "cell_type": "markdown",
   "id": "55e645fb",
   "metadata": {},
   "source": [
    "# Save \n",
    "- Data source: reddit df_PandemicPreps https://www.reddit.com/r/df_PandemicPreps/\n",
    "- Date: start_date = dt.datetime(2020, 3, 1), end_date   = dt.datetime(2021, 9, 1)\n"
   ]
  },
  {
   "cell_type": "code",
   "execution_count": 25,
   "id": "20f75b95",
   "metadata": {},
   "outputs": [],
   "source": [
    "df.to_csv('../datasets/preprocessed_df_PandemicPreps_reddit_LAST.csv')"
   ]
  },
  {
   "cell_type": "code",
   "execution_count": null,
   "id": "9a6b6c72",
   "metadata": {},
   "outputs": [],
   "source": []
  }
 ],
 "metadata": {
  "kernelspec": {
   "display_name": "Python 3",
   "language": "python",
   "name": "python3"
  },
  "language_info": {
   "codemirror_mode": {
    "name": "ipython",
    "version": 3
   },
   "file_extension": ".py",
   "mimetype": "text/x-python",
   "name": "python",
   "nbconvert_exporter": "python",
   "pygments_lexer": "ipython3",
   "version": "3.9.5"
  }
 },
 "nbformat": 4,
 "nbformat_minor": 5
}
