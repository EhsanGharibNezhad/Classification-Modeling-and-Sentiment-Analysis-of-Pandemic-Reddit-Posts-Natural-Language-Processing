{
 "cells": [
  {
   "cell_type": "markdown",
   "id": "c3bd5d44",
   "metadata": {},
   "source": [
    "# # Model: Gradient Boosting\n",
    "\n",
    "### Author: Ehsan Gharib-Nezhad\n",
    "\n"
   ]
  },
  {
   "cell_type": "markdown",
   "id": "5f645ba1",
   "metadata": {},
   "source": [
    "<a id='gradient'></a>\n",
    "## Gradient Boosting Models\n",
    "\n",
    "---\n",
    "- This is still an ensemble model, but functions a bit differently.\n",
    "- Again, boosting combines weak learners sequentially so that each new tree can try to correct the errors of the last tree. \n",
    "- Weak learners are usually decision trees with only one split. \n",
    "- So the first step is to fit a single decision tree with max_depth = 1. \n",
    "- We evaluate how well this tree does using a loss function. \n",
    "    - Our loss will be high when our actuals and are predictions are very different. \n",
    "- The first tree will likely have a high loss, which we want to minimize. We then add another tree that will lower the loss of the first tree. \n",
    "\n",
    "**Here’s how that works**. \n",
    "\n",
    "- We have a learning rate and we want to find the direction in which the loss decreases the fastest. \n",
    "- Mathematically, this is given by the negative derivative loss with respect to the previous models output. \n",
    "- SO, we fit the second tree on the gradient of the loss function (aka the derivative of the loss function) with respect to the output of the previous model. \n",
    "- It keeps sequentially fitting new models In this way. \n",
    "\n",
    "- We have to choose a learning rate for this. We want to choose a learning rate that doesn't go too fast down the gradient and miss our minimum or too slow that it takes out model forever to find that minimum and converge. \n"
   ]
  },
  {
   "cell_type": "code",
   "execution_count": 1,
   "id": "cb4e2d88",
   "metadata": {},
   "outputs": [],
   "source": [
    "from myfunctions import *\n",
    "\n",
    "# # Import Bagging Classifier.\n",
    "from sklearn.ensemble import GradientBoostingClassifier\n",
    "from imblearn.over_sampling import RandomOverSampler\n",
    "\n",
    "\n",
    "from sklearn.feature_extraction.text import CountVectorizer\n",
    "from sklearn.model_selection import train_test_split, cross_val_score, GridSearchCV"
   ]
  },
  {
   "cell_type": "code",
   "execution_count": 2,
   "id": "d3ed863f",
   "metadata": {},
   "outputs": [],
   "source": [
    "df = pd.read_csv('../datasets/text_processed_all_posts_combined_imbalanced.csv',index_col=0)\n",
    "is_balanced = False # set True is the dataset is balanced!!! "
   ]
  },
  {
   "cell_type": "code",
   "execution_count": 3,
   "id": "a6b477c0",
   "metadata": {},
   "outputs": [
    {
     "name": "stdout",
     "output_type": "stream",
     "text": [
      "<class 'pandas.core.frame.DataFrame'>\n",
      "Int64Index: 33105 entries, 0 to 33104\n",
      "Data columns (total 12 columns):\n",
      " #   Column              Non-Null Count  Dtype \n",
      "---  ------              --------------  ----- \n",
      " 0   title               33105 non-null  object\n",
      " 1   selftext            33105 non-null  object\n",
      " 2   subreddit           33105 non-null  object\n",
      " 3   created_utc         33105 non-null  int64 \n",
      " 4   author              33105 non-null  object\n",
      " 5   num_comments        33105 non-null  int64 \n",
      " 6   score               33105 non-null  int64 \n",
      " 7   is_self             33105 non-null  bool  \n",
      " 8   timestamp           33105 non-null  object\n",
      " 9   post                33105 non-null  object\n",
      " 10  token               33105 non-null  object\n",
      " 11  is_Covid19positive  33105 non-null  int64 \n",
      "dtypes: bool(1), int64(4), object(7)\n",
      "memory usage: 3.1+ MB\n"
     ]
    }
   ],
   "source": [
    "df.info()"
   ]
  },
  {
   "cell_type": "markdown",
   "id": "07648508",
   "metadata": {},
   "source": [
    "### Set up X and Y"
   ]
  },
  {
   "cell_type": "code",
   "execution_count": 25,
   "id": "0c0186b1",
   "metadata": {},
   "outputs": [],
   "source": [
    "X = df['token']\n",
    "y = df['is_Covid19positive']"
   ]
  },
  {
   "cell_type": "code",
   "execution_count": 26,
   "id": "623fba2c",
   "metadata": {},
   "outputs": [
    {
     "data": {
      "text/plain": [
       "1    0.929286\n",
       "0    0.070714\n",
       "Name: is_Covid19positive, dtype: float64"
      ]
     },
     "execution_count": 26,
     "metadata": {},
     "output_type": "execute_result"
    }
   ],
   "source": [
    "#check baseline:\n",
    "\n",
    "y.value_counts(normalize = True)"
   ]
  },
  {
   "cell_type": "markdown",
   "id": "494a1656",
   "metadata": {},
   "source": [
    "# train test split"
   ]
  },
  {
   "cell_type": "code",
   "execution_count": 27,
   "id": "9018616d",
   "metadata": {},
   "outputs": [],
   "source": [
    "# Split the data into the training and testing sets.\n",
    "X_train, X_test, y_train, y_test = train_test_split(X,\n",
    "                                                    y,\n",
    "                                                    stratify=y,\n",
    "                                                    random_state=42)"
   ]
  },
  {
   "cell_type": "code",
   "execution_count": 28,
   "id": "963ff506",
   "metadata": {},
   "outputs": [
    {
     "data": {
      "text/plain": [
       "(1    0.929273\n",
       " 0    0.070727\n",
       " Name: is_Covid19positive, dtype: float64,\n",
       " 1    0.929322\n",
       " 0    0.070678\n",
       " Name: is_Covid19positive, dtype: float64)"
      ]
     },
     "execution_count": 28,
     "metadata": {},
     "output_type": "execute_result"
    }
   ],
   "source": [
    "y_train.value_counts(normalize=True), y_test.value_counts(normalize=True)"
   ]
  },
  {
   "cell_type": "markdown",
   "id": "2448c83d",
   "metadata": {},
   "source": [
    "##  CountVectorizer"
   ]
  },
  {
   "cell_type": "code",
   "execution_count": 29,
   "id": "9bdcfce0",
   "metadata": {},
   "outputs": [],
   "source": [
    "cvec = CountVectorizer()"
   ]
  },
  {
   "cell_type": "code",
   "execution_count": 30,
   "id": "793289b9",
   "metadata": {},
   "outputs": [],
   "source": [
    "Xcv_train = cvec.fit_transform(X_train)\n",
    "Xcv_test = cvec.transform(X_test)"
   ]
  },
  {
   "cell_type": "markdown",
   "id": "54e804cb",
   "metadata": {},
   "source": [
    "# ======================================================\n",
    "## For imbalanced case"
   ]
  },
  {
   "cell_type": "code",
   "execution_count": 31,
   "id": "4ef44f27",
   "metadata": {},
   "outputs": [],
   "source": [
    "ros = RandomOverSampler()\n",
    "\n",
    "Xcv_train , y_train = ros.fit_resample(Xcv_train, y_train)"
   ]
  },
  {
   "cell_type": "markdown",
   "id": "6d2e3545",
   "metadata": {},
   "source": [
    "## Model Gradient Boosting"
   ]
  },
  {
   "cell_type": "code",
   "execution_count": 32,
   "id": "0794e15e",
   "metadata": {},
   "outputs": [],
   "source": [
    "gbc = GradientBoostingClassifier()"
   ]
  },
  {
   "cell_type": "code",
   "execution_count": 33,
   "id": "a98c9f09",
   "metadata": {},
   "outputs": [
    {
     "data": {
      "text/plain": [
       "GradientBoostingClassifier()"
      ]
     },
     "execution_count": 33,
     "metadata": {},
     "output_type": "execute_result"
    }
   ],
   "source": [
    "gbc.fit(Xcv_train, y_train)"
   ]
  },
  {
   "cell_type": "code",
   "execution_count": 34,
   "id": "afe7df17",
   "metadata": {},
   "outputs": [
    {
     "name": "stdout",
     "output_type": "stream",
     "text": [
      "Score on training set: 0.9412708044382802\n",
      "Score on testing set: 0.9126495106922798\n",
      "              precision    recall  f1-score   support\n",
      "\n",
      "           0       0.44      0.93      0.60       585\n",
      "           1       0.99      0.91      0.95      7692\n",
      "\n",
      "    accuracy                           0.91      8277\n",
      "   macro avg       0.72      0.92      0.78      8277\n",
      "weighted avg       0.96      0.91      0.93      8277\n",
      "\n"
     ]
    },
    {
     "data": {
      "image/png": "[encoded data removed]",
      "text/plain": [
       "<Figure size 432x288 with 2 Axes>"
      ]
     },
     "metadata": {
      "needs_background": "light"
     },
     "output_type": "display_data"
    },
    {
     "data": {
      "image/png": "[encoded data removed]",
      "text/plain": [
       "<Figure size 432x288 with 1 Axes>"
      ]
     },
     "metadata": {
      "needs_background": "light"
     },
     "output_type": "display_data"
    }
   ],
   "source": [
    "# Evaluate Model\n",
    "model_Evaluate(gbc, Xcv_train, Xcv_test, y_train, y_test)"
   ]
  },
  {
   "cell_type": "code",
   "execution_count": 35,
   "id": "40001a79",
   "metadata": {},
   "outputs": [
    {
     "data": {
      "text/plain": [
       "(   score   metric              model balanced\n",
       " 0   0.94  R_train  Gradient Boosting       no\n",
       " 1   0.91   R_test  Gradient Boosting       no,\n",
       "    is_pandemicPreps  is_covid19positive     metric              model balanced\n",
       " 0              0.44                0.99  precision  Gradient Boosting       no\n",
       " 1              0.93                0.91     recall  Gradient Boosting       no\n",
       " 2              0.60                0.95     fscore  Gradient Boosting       no\n",
       " 3            585.00             7692.00    support  Gradient Boosting       no,\n",
       "    score     metric              model balanced\n",
       " 0   0.07   True Neg  Gradient Boosting       no\n",
       " 1   0.00  False Pos  Gradient Boosting       no\n",
       " 2   0.08  False Neg  Gradient Boosting       no\n",
       " 3   0.85   True Pos  Gradient Boosting       no)"
      ]
     },
     "execution_count": 35,
     "metadata": {},
     "output_type": "execute_result"
    }
   ],
   "source": [
    "save_model_Evaluate_values(gbc, Xcv_train, Xcv_test, y_train, y_test,  \n",
    "                             model_name='Gradient Boosting', \n",
    "                             balanced = is_balanced)"
   ]
  },
  {
   "cell_type": "markdown",
   "id": "9c5c4bb1",
   "metadata": {},
   "source": [
    "# Feature Importance"
   ]
  },
  {
   "cell_type": "code",
   "execution_count": 36,
   "id": "3955e5e7",
   "metadata": {},
   "outputs": [],
   "source": [
    "#create a dataframe for our X_train_cv to use later:\n",
    "\n",
    "df_X_train = pd.DataFrame(Xcv_train.todense(), columns=cvec.get_feature_names())"
   ]
  },
  {
   "cell_type": "code",
   "execution_count": 37,
   "id": "a9a578d7",
   "metadata": {
    "scrolled": false
   },
   "outputs": [
    {
     "data": {
      "text/html": [
       "<div>\n",
       "<style scoped>\n",
       "    .dataframe tbody tr th:only-of-type {\n",
       "        vertical-align: middle;\n",
       "    }\n",
       "\n",
       "    .dataframe tbody tr th {\n",
       "        vertical-align: top;\n",
       "    }\n",
       "\n",
       "    .dataframe thead th {\n",
       "        text-align: right;\n",
       "    }\n",
       "</style>\n",
       "<table border=\"1\" class=\"dataframe\">\n",
       "  <thead>\n",
       "    <tr style=\"text-align: right;\">\n",
       "      <th></th>\n",
       "      <th>Feature Name</th>\n",
       "      <th>Feature Importance</th>\n",
       "    </tr>\n",
       "  </thead>\n",
       "  <tbody>\n",
       "    <tr>\n",
       "      <th>16838</th>\n",
       "      <td>symptom</td>\n",
       "      <td>0.300641</td>\n",
       "    </tr>\n",
       "    <tr>\n",
       "      <th>17199</th>\n",
       "      <td>test</td>\n",
       "      <td>0.199885</td>\n",
       "    </tr>\n",
       "    <tr>\n",
       "      <th>3864</th>\n",
       "      <td>covid</td>\n",
       "      <td>0.091764</td>\n",
       "    </tr>\n",
       "    <tr>\n",
       "      <th>13187</th>\n",
       "      <td>posit</td>\n",
       "      <td>0.074405</td>\n",
       "    </tr>\n",
       "    <tr>\n",
       "      <th>13377</th>\n",
       "      <td>prep</td>\n",
       "      <td>0.063025</td>\n",
       "    </tr>\n",
       "    <tr>\n",
       "      <th>15741</th>\n",
       "      <td>smell</td>\n",
       "      <td>0.028466</td>\n",
       "    </tr>\n",
       "    <tr>\n",
       "      <th>6246</th>\n",
       "      <td>fever</td>\n",
       "      <td>0.017651</td>\n",
       "    </tr>\n",
       "    <tr>\n",
       "      <th>6186</th>\n",
       "      <td>feel</td>\n",
       "      <td>0.015971</td>\n",
       "    </tr>\n",
       "    <tr>\n",
       "      <th>4248</th>\n",
       "      <td>day</td>\n",
       "      <td>0.015165</td>\n",
       "    </tr>\n",
       "    <tr>\n",
       "      <th>16391</th>\n",
       "      <td>store</td>\n",
       "      <td>0.012251</td>\n",
       "    </tr>\n",
       "    <tr>\n",
       "      <th>18560</th>\n",
       "      <td>use</td>\n",
       "      <td>0.011695</td>\n",
       "    </tr>\n",
       "    <tr>\n",
       "      <th>2419</th>\n",
       "      <td>buy</td>\n",
       "      <td>0.011674</td>\n",
       "    </tr>\n",
       "    <tr>\n",
       "      <th>16680</th>\n",
       "      <td>suppli</td>\n",
       "      <td>0.011598</td>\n",
       "    </tr>\n",
       "    <tr>\n",
       "      <th>13379</th>\n",
       "      <td>prepar</td>\n",
       "      <td>0.008454</td>\n",
       "    </tr>\n",
       "    <tr>\n",
       "      <th>17010</th>\n",
       "      <td>tast</td>\n",
       "      <td>0.007335</td>\n",
       "    </tr>\n",
       "    <tr>\n",
       "      <th>6313</th>\n",
       "      <td>filter</td>\n",
       "      <td>0.006999</td>\n",
       "    </tr>\n",
       "    <tr>\n",
       "      <th>13112</th>\n",
       "      <td>poll</td>\n",
       "      <td>0.006201</td>\n",
       "    </tr>\n",
       "    <tr>\n",
       "      <th>16369</th>\n",
       "      <td>stock</td>\n",
       "      <td>0.005717</td>\n",
       "    </tr>\n",
       "    <tr>\n",
       "      <th>10329</th>\n",
       "      <td>mask</td>\n",
       "      <td>0.005691</td>\n",
       "    </tr>\n",
       "    <tr>\n",
       "      <th>2170</th>\n",
       "      <td>breath</td>\n",
       "      <td>0.005111</td>\n",
       "    </tr>\n",
       "  </tbody>\n",
       "</table>\n",
       "</div>"
      ],
      "text/plain": [
       "      Feature Name  Feature Importance\n",
       "16838      symptom            0.300641\n",
       "17199         test            0.199885\n",
       "3864         covid            0.091764\n",
       "13187        posit            0.074405\n",
       "13377         prep            0.063025\n",
       "15741        smell            0.028466\n",
       "6246         fever            0.017651\n",
       "6186          feel            0.015971\n",
       "4248           day            0.015165\n",
       "16391        store            0.012251\n",
       "18560          use            0.011695\n",
       "2419           buy            0.011674\n",
       "16680       suppli            0.011598\n",
       "13379       prepar            0.008454\n",
       "17010         tast            0.007335\n",
       "6313        filter            0.006999\n",
       "13112         poll            0.006201\n",
       "16369        stock            0.005717\n",
       "10329         mask            0.005691\n",
       "2170        breath            0.005111"
      ]
     },
     "execution_count": 37,
     "metadata": {},
     "output_type": "execute_result"
    }
   ],
   "source": [
    "f = {'Feature Name':df_X_train.columns,'Feature Importance':gbc.feature_importances_}\n",
    "et_fi = pd.DataFrame(f)\n",
    "\n",
    "et_fi.sort_values(by=['Feature Importance'], ascending = False).head(20)"
   ]
  },
  {
   "cell_type": "code",
   "execution_count": 38,
   "id": "756cd502",
   "metadata": {},
   "outputs": [
    {
     "data": {
      "image/png": "[encoded data removed]",
      "text/plain": [
       "<Figure size 720x576 with 1 Axes>"
      ]
     },
     "metadata": {
      "needs_background": "light"
     },
     "output_type": "display_data"
    }
   ],
   "source": [
    "plt.figure( figsize=(10,8))\n",
    "sns.barplot(x='Feature Importance',y='Feature Name', \n",
    "            data=et_fi.sort_values(by='Feature Importance', ascending=False).iloc[0:20],\n",
    "            palette='coolwarm')\n",
    "plt.xlabel('Feature Importnace ',fontsize=14)\n",
    "plt.ylabel('Feature Name', fontsize = 14)\n",
    "plt.tick_params('both', labelsize = 13)"
   ]
  },
  {
   "cell_type": "markdown",
   "id": "e6bfc8fb",
   "metadata": {},
   "source": [
    "# ||||||||||||||||||||||||||||||||||||||||||||||||||||||||||||||||||||||||||||||||||||||||||||||||||||||||||||||||||||||||||||||||||||||||||||||||||||||||||||||"
   ]
  },
  {
   "cell_type": "markdown",
   "id": "f0ffc3fb",
   "metadata": {},
   "source": [
    "# GridSearchCV"
   ]
  },
  {
   "cell_type": "code",
   "execution_count": 17,
   "id": "2e415b88",
   "metadata": {},
   "outputs": [],
   "source": [
    "params = {\n",
    "    'n_estimators': [100, 200, 300],\n",
    "    'loss': ['deviance', 'exponential'],\n",
    "    'learning_rate': [0.8, 0.9, 1.0]\n",
    "}"
   ]
  },
  {
   "cell_type": "code",
   "execution_count": 18,
   "id": "3d53bca9",
   "metadata": {},
   "outputs": [
    {
     "data": {
      "text/plain": [
       "GridSearchCV(cv=3, estimator=GradientBoostingClassifier(),\n",
       "             param_grid={'learning_rate': [0.8, 0.9, 1.0],\n",
       "                         'loss': ['deviance', 'exponential'],\n",
       "                         'n_estimators': [100, 200, 300]})"
      ]
     },
     "execution_count": 18,
     "metadata": {},
     "output_type": "execute_result"
    }
   ],
   "source": [
    "\n",
    "gs = GridSearchCV(GradientBoostingClassifier(), \n",
    "                  params, \n",
    "                  cv =3)\n",
    "\n",
    "gs.fit(Xcv_train, y_train)\n"
   ]
  },
  {
   "cell_type": "code",
   "execution_count": 19,
   "id": "8e81a9c0",
   "metadata": {},
   "outputs": [
    {
     "data": {
      "text/plain": [
       "{'learning_rate': 0.8, 'loss': 'exponential', 'n_estimators': 300}"
      ]
     },
     "execution_count": 19,
     "metadata": {},
     "output_type": "execute_result"
    }
   ],
   "source": [
    "gs.best_params_"
   ]
  },
  {
   "cell_type": "code",
   "execution_count": 20,
   "id": "44b810a8",
   "metadata": {},
   "outputs": [
    {
     "name": "stdout",
     "output_type": "stream",
     "text": [
      "Score on training set: 0.9891891891891892\n",
      "Score on testing set: 0.9102564102564102\n",
      "              precision    recall  f1-score   support\n",
      "\n",
      "           0       0.88      0.92      0.90       586\n",
      "           1       0.94      0.90      0.92       740\n",
      "\n",
      "    accuracy                           0.91      1326\n",
      "   macro avg       0.91      0.91      0.91      1326\n",
      "weighted avg       0.91      0.91      0.91      1326\n",
      "\n"
     ]
    },
    {
     "data": {
      "image/png": "[encoded data removed]",
      "text/plain": [
       "<Figure size 432x288 with 2 Axes>"
      ]
     },
     "metadata": {
      "needs_background": "light"
     },
     "output_type": "display_data"
    },
    {
     "data": {
      "image/png": "[encoded data removed]",
      "text/plain": [
       "<Figure size 432x288 with 1 Axes>"
      ]
     },
     "metadata": {
      "needs_background": "light"
     },
     "output_type": "display_data"
    }
   ],
   "source": [
    "model_Evaluate(gs, Xcv_train, Xcv_test, y_train, y_test)"
   ]
  },
  {
   "cell_type": "code",
   "execution_count": 21,
   "id": "17221c9e",
   "metadata": {},
   "outputs": [
    {
     "data": {
      "text/plain": [
       "(   score   metric                          model balanced\n",
       " 0   0.99  R_train  GradientBoosting-GridSearchCV      yes\n",
       " 1   0.91   R_test  GradientBoosting-GridSearchCV      yes,\n",
       "    is_pandemicPreps  is_covid19positive     metric  \\\n",
       " 0              0.88                0.94  precision   \n",
       " 1              0.92                0.90     recall   \n",
       " 2              0.90                0.92     fscore   \n",
       " 3            586.00              740.00    support   \n",
       " \n",
       "                            model balanced  \n",
       " 0  GradientBoosting-GridSearchCV      yes  \n",
       " 1  GradientBoosting-GridSearchCV      yes  \n",
       " 2  GradientBoosting-GridSearchCV      yes  \n",
       " 3  GradientBoosting-GridSearchCV      yes  ,\n",
       "    score     metric                          model balanced\n",
       " 0   0.41   True Neg  GradientBoosting-GridSearchCV      yes\n",
       " 1   0.03  False Pos  GradientBoosting-GridSearchCV      yes\n",
       " 2   0.06  False Neg  GradientBoosting-GridSearchCV      yes\n",
       " 3   0.50   True Pos  GradientBoosting-GridSearchCV      yes)"
      ]
     },
     "execution_count": 21,
     "metadata": {},
     "output_type": "execute_result"
    }
   ],
   "source": [
    "save_model_Evaluate_values(gs, Xcv_train, Xcv_test, y_train, y_test,  \n",
    "                             model_name='GradientBoosting-GridSearchCV',\n",
    "                           balanced = is_balanced)"
   ]
  },
  {
   "cell_type": "code",
   "execution_count": null,
   "id": "fe8e13f9",
   "metadata": {},
   "outputs": [],
   "source": []
  },
  {
   "cell_type": "code",
   "execution_count": null,
   "id": "6539b119",
   "metadata": {},
   "outputs": [],
   "source": []
  },
  {
   "cell_type": "code",
   "execution_count": null,
   "id": "bf570b38",
   "metadata": {},
   "outputs": [],
   "source": []
  }
 ],
 "metadata": {
  "kernelspec": {
   "display_name": "Python 3",
   "language": "python",
   "name": "python3"
  },
  "language_info": {
   "codemirror_mode": {
    "name": "ipython",
    "version": 3
   },
   "file_extension": ".py",
   "mimetype": "text/x-python",
   "name": "python",
   "nbconvert_exporter": "python",
   "pygments_lexer": "ipython3",
   "version": "3.9.5"
  }
 },
 "nbformat": 4,
 "nbformat_minor": 5
}
