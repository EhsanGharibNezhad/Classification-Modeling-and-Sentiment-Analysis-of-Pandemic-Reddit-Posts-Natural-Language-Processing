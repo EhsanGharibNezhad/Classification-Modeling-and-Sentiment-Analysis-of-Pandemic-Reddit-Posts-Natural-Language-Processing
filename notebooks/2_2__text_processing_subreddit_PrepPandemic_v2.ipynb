{
 "cells": [
  {
   "cell_type": "markdown",
   "id": "b129f5aa",
   "metadata": {},
   "source": [
    "# Text Processing\n",
    "### Author: Ehsan Gharib-Nezhad\n"
   ]
  },
  {
   "cell_type": "markdown",
   "id": "4e472fba",
   "metadata": {},
   "source": [
    "<!-- Let's review some of the pre-processing steps for text data:\n",
    "\n",
    "- Remove special characters\n",
    "- Tokenizing\n",
    "- Lemmatizing/Stemming\n",
    "- Stop word removal\n",
    "\n",
    "`CountVectorizer` actually can do a lot of this for us! It is important to keep these steps in mind in case you want to change the default methods used for each of these. -->"
   ]
  },
  {
   "cell_type": "code",
   "execution_count": 1,
   "id": "d0ec0ce1",
   "metadata": {},
   "outputs": [],
   "source": [
    "# Load Libraries\n",
    "from myfunctions import *\n",
    "from bs4 import BeautifulSoup #Function for removing html\n",
    "from nltk.stem.porter import PorterStemmer\n",
    "from nltk.tokenize import sent_tokenize, word_tokenize, RegexpTokenizer\n"
   ]
  },
  {
   "cell_type": "code",
   "execution_count": 2,
   "id": "0c77dc9b",
   "metadata": {},
   "outputs": [],
   "source": [
    "# Load datasets\n",
    "df = pd.read_csv('../datasets/preprocessed_df_PandemicPreps_reddit_LAST.csv',index_col=0)"
   ]
  },
  {
   "cell_type": "code",
   "execution_count": 3,
   "id": "d7b3617b",
   "metadata": {
    "scrolled": false
   },
   "outputs": [
    {
     "data": {
      "text/html": [
       "<div>\n",
       "<style scoped>\n",
       "    .dataframe tbody tr th:only-of-type {\n",
       "        vertical-align: middle;\n",
       "    }\n",
       "\n",
       "    .dataframe tbody tr th {\n",
       "        vertical-align: top;\n",
       "    }\n",
       "\n",
       "    .dataframe thead th {\n",
       "        text-align: right;\n",
       "    }\n",
       "</style>\n",
       "<table border=\"1\" class=\"dataframe\">\n",
       "  <thead>\n",
       "    <tr style=\"text-align: right;\">\n",
       "      <th></th>\n",
       "      <th>title</th>\n",
       "      <th>selftext</th>\n",
       "      <th>subreddit</th>\n",
       "      <th>created_utc</th>\n",
       "      <th>author</th>\n",
       "      <th>num_comments</th>\n",
       "      <th>score</th>\n",
       "      <th>is_self</th>\n",
       "      <th>timestamp</th>\n",
       "    </tr>\n",
       "  </thead>\n",
       "  <tbody>\n",
       "    <tr>\n",
       "      <th>0</th>\n",
       "      <td>It's going fast in TN</td>\n",
       "      <td>Anyone in this group should know to buy now if you haven't, but for the sake of reinforcement - buy now if you haven't!  I took my under 10 aged child to Walmart today and picked up some more to add, and it is a night and day difference from 3 days ago.  Toilet paper gone.  Paper towels gone.  Lysol, down to 4 bottles.  Hand sanitizer and alcohol, gone.  Bleach was available but only a few rem...</td>\n",
       "      <td>PandemicPreps</td>\n",
       "      <td>1583021338</td>\n",
       "      <td>BeautifulBalance1</td>\n",
       "      <td>18</td>\n",
       "      <td>1</td>\n",
       "      <td>True</td>\n",
       "      <td>2020-02-29 16:08:58</td>\n",
       "    </tr>\n",
       "    <tr>\n",
       "      <th>1</th>\n",
       "      <td>Don’t forget about your pets!</td>\n",
       "      <td>Amazon is running low on cat and dog food, my normals are sold out. I feel bad for the delivery guy dropping my shit off, almost 300lbs of food and liter.</td>\n",
       "      <td>PandemicPreps</td>\n",
       "      <td>1583021470</td>\n",
       "      <td>JKMSDE</td>\n",
       "      <td>12</td>\n",
       "      <td>1</td>\n",
       "      <td>True</td>\n",
       "      <td>2020-02-29 16:11:10</td>\n",
       "    </tr>\n",
       "    <tr>\n",
       "      <th>2</th>\n",
       "      <td>DIY Hand Sanitizer</td>\n",
       "      <td>Because you just can't find it in stores any more...\\n\\n [http://www.utahpreppers.com/2009/04/pandemic-preparedness-diy-sanitization/](http://www.utahpreppers.com/2009/04/pandemic-preparedness-diy-sanitization/) \\n\\n* 5 c 91% isopropyl alcohol\\n* 2 c aloe vera gel\\n\\nHere's another receipt with essential oils\\n\\n [https://www.asiaone.com/lifestyle/make-your-own-diy-hand-sanitizer](https://www....</td>\n",
       "      <td>PandemicPreps</td>\n",
       "      <td>1583022495</td>\n",
       "      <td>AccidentalDragon</td>\n",
       "      <td>44</td>\n",
       "      <td>1</td>\n",
       "      <td>True</td>\n",
       "      <td>2020-02-29 16:28:15</td>\n",
       "    </tr>\n",
       "    <tr>\n",
       "      <th>3</th>\n",
       "      <td>Anyone notice anything in the Denver / Boulder area? I see no concern and it concerns me!</td>\n",
       "      <td>What the hell is going on. Anyone around this area notice anything?</td>\n",
       "      <td>PandemicPreps</td>\n",
       "      <td>1583023089</td>\n",
       "      <td>Wizard_Knife_Fight</td>\n",
       "      <td>12</td>\n",
       "      <td>1</td>\n",
       "      <td>True</td>\n",
       "      <td>2020-02-29 16:38:09</td>\n",
       "    </tr>\n",
       "    <tr>\n",
       "      <th>4</th>\n",
       "      <td>PSA: don’t only buy a bunch of random foods, know how to cook it and get the proper nutrition.</td>\n",
       "      <td>I see a lot of people on here buying around the same types of stuff (canned beans, rice, etc). Just remember to know how to cook each item you buy and which combination of foods will have the right nutrients for example: you can’t live off of only eating meat products. Have a good balance of foods and learn the nutrients balance. Vitamin supplements are very important because fresh produce can...</td>\n",
       "      <td>PandemicPreps</td>\n",
       "      <td>1583025573</td>\n",
       "      <td>cutting-alumination</td>\n",
       "      <td>56</td>\n",
       "      <td>1</td>\n",
       "      <td>True</td>\n",
       "      <td>2020-02-29 17:19:33</td>\n",
       "    </tr>\n",
       "  </tbody>\n",
       "</table>\n",
       "</div>"
      ],
      "text/plain": [
       "                                                                                            title  \\\n",
       "0                                                                           It's going fast in TN   \n",
       "1                                                                   Don’t forget about your pets!   \n",
       "2                                                                              DIY Hand Sanitizer   \n",
       "3       Anyone notice anything in the Denver / Boulder area? I see no concern and it concerns me!   \n",
       "4  PSA: don’t only buy a bunch of random foods, know how to cook it and get the proper nutrition.   \n",
       "\n",
       "                                                                                                                                                                                                                                                                                                                                                                                                          selftext  \\\n",
       "0  Anyone in this group should know to buy now if you haven't, but for the sake of reinforcement - buy now if you haven't!  I took my under 10 aged child to Walmart today and picked up some more to add, and it is a night and day difference from 3 days ago.  Toilet paper gone.  Paper towels gone.  Lysol, down to 4 bottles.  Hand sanitizer and alcohol, gone.  Bleach was available but only a few rem...   \n",
       "1                                                                                                                                                                                                                                                       Amazon is running low on cat and dog food, my normals are sold out. I feel bad for the delivery guy dropping my shit off, almost 300lbs of food and liter.   \n",
       "2  Because you just can't find it in stores any more...\\n\\n [http://www.utahpreppers.com/2009/04/pandemic-preparedness-diy-sanitization/](http://www.utahpreppers.com/2009/04/pandemic-preparedness-diy-sanitization/) \\n\\n* 5 c 91% isopropyl alcohol\\n* 2 c aloe vera gel\\n\\nHere's another receipt with essential oils\\n\\n [https://www.asiaone.com/lifestyle/make-your-own-diy-hand-sanitizer](https://www....   \n",
       "3                                                                                                                                                                                                                                                                                                                                              What the hell is going on. Anyone around this area notice anything?   \n",
       "4  I see a lot of people on here buying around the same types of stuff (canned beans, rice, etc). Just remember to know how to cook each item you buy and which combination of foods will have the right nutrients for example: you can’t live off of only eating meat products. Have a good balance of foods and learn the nutrients balance. Vitamin supplements are very important because fresh produce can...   \n",
       "\n",
       "       subreddit  created_utc               author  num_comments  score  \\\n",
       "0  PandemicPreps   1583021338    BeautifulBalance1            18      1   \n",
       "1  PandemicPreps   1583021470               JKMSDE            12      1   \n",
       "2  PandemicPreps   1583022495     AccidentalDragon            44      1   \n",
       "3  PandemicPreps   1583023089   Wizard_Knife_Fight            12      1   \n",
       "4  PandemicPreps   1583025573  cutting-alumination            56      1   \n",
       "\n",
       "   is_self            timestamp  \n",
       "0     True  2020-02-29 16:08:58  \n",
       "1     True  2020-02-29 16:11:10  \n",
       "2     True  2020-02-29 16:28:15  \n",
       "3     True  2020-02-29 16:38:09  \n",
       "4     True  2020-02-29 17:19:33  "
      ]
     },
     "execution_count": 3,
     "metadata": {},
     "output_type": "execute_result"
    }
   ],
   "source": [
    "df.head()"
   ]
  },
  {
   "cell_type": "markdown",
   "id": "3d45bf2e",
   "metadata": {},
   "source": [
    "### Data shape"
   ]
  },
  {
   "cell_type": "code",
   "execution_count": 4,
   "id": "efe775c3",
   "metadata": {},
   "outputs": [
    {
     "data": {
      "text/plain": [
       "(2362, 9)"
      ]
     },
     "execution_count": 4,
     "metadata": {},
     "output_type": "execute_result"
    }
   ],
   "source": [
    "df.shape"
   ]
  },
  {
   "cell_type": "markdown",
   "id": "34b65c7f",
   "metadata": {},
   "source": [
    "### Drop rows with selftext equal '[removed]'"
   ]
  },
  {
   "cell_type": "code",
   "execution_count": 5,
   "id": "9f98f9e7",
   "metadata": {},
   "outputs": [
    {
     "name": "stdout",
     "output_type": "stream",
     "text": [
      "percentage of rows with '[removed]' word:       0.0%\n"
     ]
    }
   ],
   "source": [
    "# percentage of rows with \"[removed]\" word\n",
    "print(f\"percentage of rows with '[removed]' word: \\\n",
    "      {np.round(len(df[df['selftext']=='[removed]'])*100/len(df),2)}%\")"
   ]
  },
  {
   "cell_type": "code",
   "execution_count": 6,
   "id": "0f2017b0",
   "metadata": {},
   "outputs": [],
   "source": [
    "# remove all rows with selftext = \"[removed]\"\n",
    "df.drop(index=df[df['selftext']=='[removed]'].index, inplace=True)"
   ]
  },
  {
   "cell_type": "code",
   "execution_count": 7,
   "id": "db75dae3",
   "metadata": {},
   "outputs": [],
   "source": [
    "df.reset_index(inplace=True, drop=True)"
   ]
  },
  {
   "cell_type": "code",
   "execution_count": 8,
   "id": "b104d637",
   "metadata": {},
   "outputs": [
    {
     "data": {
      "text/html": [
       "<div>\n",
       "<style scoped>\n",
       "    .dataframe tbody tr th:only-of-type {\n",
       "        vertical-align: middle;\n",
       "    }\n",
       "\n",
       "    .dataframe tbody tr th {\n",
       "        vertical-align: top;\n",
       "    }\n",
       "\n",
       "    .dataframe thead th {\n",
       "        text-align: right;\n",
       "    }\n",
       "</style>\n",
       "<table border=\"1\" class=\"dataframe\">\n",
       "  <thead>\n",
       "    <tr style=\"text-align: right;\">\n",
       "      <th></th>\n",
       "      <th>title</th>\n",
       "      <th>selftext</th>\n",
       "      <th>subreddit</th>\n",
       "      <th>created_utc</th>\n",
       "      <th>author</th>\n",
       "      <th>num_comments</th>\n",
       "      <th>score</th>\n",
       "      <th>is_self</th>\n",
       "      <th>timestamp</th>\n",
       "    </tr>\n",
       "  </thead>\n",
       "  <tbody>\n",
       "    <tr>\n",
       "      <th>0</th>\n",
       "      <td>It's going fast in TN</td>\n",
       "      <td>Anyone in this group should know to buy now if you haven't, but for the sake of reinforcement - buy now if you haven't!  I took my under 10 aged child to Walmart today and picked up some more to add, and it is a night and day difference from 3 days ago.  Toilet paper gone.  Paper towels gone.  Lysol, down to 4 bottles.  Hand sanitizer and alcohol, gone.  Bleach was available but only a few rem...</td>\n",
       "      <td>PandemicPreps</td>\n",
       "      <td>1583021338</td>\n",
       "      <td>BeautifulBalance1</td>\n",
       "      <td>18</td>\n",
       "      <td>1</td>\n",
       "      <td>True</td>\n",
       "      <td>2020-02-29 16:08:58</td>\n",
       "    </tr>\n",
       "    <tr>\n",
       "      <th>1</th>\n",
       "      <td>Don’t forget about your pets!</td>\n",
       "      <td>Amazon is running low on cat and dog food, my normals are sold out. I feel bad for the delivery guy dropping my shit off, almost 300lbs of food and liter.</td>\n",
       "      <td>PandemicPreps</td>\n",
       "      <td>1583021470</td>\n",
       "      <td>JKMSDE</td>\n",
       "      <td>12</td>\n",
       "      <td>1</td>\n",
       "      <td>True</td>\n",
       "      <td>2020-02-29 16:11:10</td>\n",
       "    </tr>\n",
       "    <tr>\n",
       "      <th>2</th>\n",
       "      <td>DIY Hand Sanitizer</td>\n",
       "      <td>Because you just can't find it in stores any more...\\n\\n [http://www.utahpreppers.com/2009/04/pandemic-preparedness-diy-sanitization/](http://www.utahpreppers.com/2009/04/pandemic-preparedness-diy-sanitization/) \\n\\n* 5 c 91% isopropyl alcohol\\n* 2 c aloe vera gel\\n\\nHere's another receipt with essential oils\\n\\n [https://www.asiaone.com/lifestyle/make-your-own-diy-hand-sanitizer](https://www....</td>\n",
       "      <td>PandemicPreps</td>\n",
       "      <td>1583022495</td>\n",
       "      <td>AccidentalDragon</td>\n",
       "      <td>44</td>\n",
       "      <td>1</td>\n",
       "      <td>True</td>\n",
       "      <td>2020-02-29 16:28:15</td>\n",
       "    </tr>\n",
       "    <tr>\n",
       "      <th>3</th>\n",
       "      <td>Anyone notice anything in the Denver / Boulder area? I see no concern and it concerns me!</td>\n",
       "      <td>What the hell is going on. Anyone around this area notice anything?</td>\n",
       "      <td>PandemicPreps</td>\n",
       "      <td>1583023089</td>\n",
       "      <td>Wizard_Knife_Fight</td>\n",
       "      <td>12</td>\n",
       "      <td>1</td>\n",
       "      <td>True</td>\n",
       "      <td>2020-02-29 16:38:09</td>\n",
       "    </tr>\n",
       "    <tr>\n",
       "      <th>4</th>\n",
       "      <td>PSA: don’t only buy a bunch of random foods, know how to cook it and get the proper nutrition.</td>\n",
       "      <td>I see a lot of people on here buying around the same types of stuff (canned beans, rice, etc). Just remember to know how to cook each item you buy and which combination of foods will have the right nutrients for example: you can’t live off of only eating meat products. Have a good balance of foods and learn the nutrients balance. Vitamin supplements are very important because fresh produce can...</td>\n",
       "      <td>PandemicPreps</td>\n",
       "      <td>1583025573</td>\n",
       "      <td>cutting-alumination</td>\n",
       "      <td>56</td>\n",
       "      <td>1</td>\n",
       "      <td>True</td>\n",
       "      <td>2020-02-29 17:19:33</td>\n",
       "    </tr>\n",
       "  </tbody>\n",
       "</table>\n",
       "</div>"
      ],
      "text/plain": [
       "                                                                                            title  \\\n",
       "0                                                                           It's going fast in TN   \n",
       "1                                                                   Don’t forget about your pets!   \n",
       "2                                                                              DIY Hand Sanitizer   \n",
       "3       Anyone notice anything in the Denver / Boulder area? I see no concern and it concerns me!   \n",
       "4  PSA: don’t only buy a bunch of random foods, know how to cook it and get the proper nutrition.   \n",
       "\n",
       "                                                                                                                                                                                                                                                                                                                                                                                                          selftext  \\\n",
       "0  Anyone in this group should know to buy now if you haven't, but for the sake of reinforcement - buy now if you haven't!  I took my under 10 aged child to Walmart today and picked up some more to add, and it is a night and day difference from 3 days ago.  Toilet paper gone.  Paper towels gone.  Lysol, down to 4 bottles.  Hand sanitizer and alcohol, gone.  Bleach was available but only a few rem...   \n",
       "1                                                                                                                                                                                                                                                       Amazon is running low on cat and dog food, my normals are sold out. I feel bad for the delivery guy dropping my shit off, almost 300lbs of food and liter.   \n",
       "2  Because you just can't find it in stores any more...\\n\\n [http://www.utahpreppers.com/2009/04/pandemic-preparedness-diy-sanitization/](http://www.utahpreppers.com/2009/04/pandemic-preparedness-diy-sanitization/) \\n\\n* 5 c 91% isopropyl alcohol\\n* 2 c aloe vera gel\\n\\nHere's another receipt with essential oils\\n\\n [https://www.asiaone.com/lifestyle/make-your-own-diy-hand-sanitizer](https://www....   \n",
       "3                                                                                                                                                                                                                                                                                                                                              What the hell is going on. Anyone around this area notice anything?   \n",
       "4  I see a lot of people on here buying around the same types of stuff (canned beans, rice, etc). Just remember to know how to cook each item you buy and which combination of foods will have the right nutrients for example: you can’t live off of only eating meat products. Have a good balance of foods and learn the nutrients balance. Vitamin supplements are very important because fresh produce can...   \n",
       "\n",
       "       subreddit  created_utc               author  num_comments  score  \\\n",
       "0  PandemicPreps   1583021338    BeautifulBalance1            18      1   \n",
       "1  PandemicPreps   1583021470               JKMSDE            12      1   \n",
       "2  PandemicPreps   1583022495     AccidentalDragon            44      1   \n",
       "3  PandemicPreps   1583023089   Wizard_Knife_Fight            12      1   \n",
       "4  PandemicPreps   1583025573  cutting-alumination            56      1   \n",
       "\n",
       "   is_self            timestamp  \n",
       "0     True  2020-02-29 16:08:58  \n",
       "1     True  2020-02-29 16:11:10  \n",
       "2     True  2020-02-29 16:28:15  \n",
       "3     True  2020-02-29 16:38:09  \n",
       "4     True  2020-02-29 17:19:33  "
      ]
     },
     "execution_count": 8,
     "metadata": {},
     "output_type": "execute_result"
    }
   ],
   "source": [
    "df.head()"
   ]
  },
  {
   "cell_type": "markdown",
   "id": "518ae14c",
   "metadata": {},
   "source": [
    "### Drop rows with nan in the selftext"
   ]
  },
  {
   "cell_type": "code",
   "execution_count": 9,
   "id": "efe4ede4",
   "metadata": {},
   "outputs": [
    {
     "data": {
      "text/plain": [
       "title           0.0\n",
       "selftext        0.0\n",
       "subreddit       0.0\n",
       "created_utc     0.0\n",
       "author          0.0\n",
       "num_comments    0.0\n",
       "score           0.0\n",
       "is_self         0.0\n",
       "timestamp       0.0\n",
       "dtype: float64"
      ]
     },
     "execution_count": 9,
     "metadata": {},
     "output_type": "execute_result"
    }
   ],
   "source": [
    "# null percentage\n",
    "df.isnull().sum()*100/len(df)"
   ]
  },
  {
   "cell_type": "code",
   "execution_count": 10,
   "id": "643540bd",
   "metadata": {},
   "outputs": [],
   "source": [
    "#drop all rows with nulls\n",
    "df.dropna(inplace=True)"
   ]
  },
  {
   "cell_type": "code",
   "execution_count": 11,
   "id": "f1e4a36f",
   "metadata": {},
   "outputs": [],
   "source": [
    "# resetting the index\n",
    "df.reset_index(inplace=True, drop = True)"
   ]
  },
  {
   "cell_type": "code",
   "execution_count": 12,
   "id": "450e1b01",
   "metadata": {
    "scrolled": true
   },
   "outputs": [
    {
     "data": {
      "text/plain": [
       "title           0\n",
       "selftext        0\n",
       "subreddit       0\n",
       "created_utc     0\n",
       "author          0\n",
       "num_comments    0\n",
       "score           0\n",
       "is_self         0\n",
       "timestamp       0\n",
       "dtype: int64"
      ]
     },
     "execution_count": 12,
     "metadata": {},
     "output_type": "execute_result"
    }
   ],
   "source": [
    "# check for any remained nulls ?!\n",
    "df.isna().sum()"
   ]
  },
  {
   "cell_type": "code",
   "execution_count": 13,
   "id": "b9713c24",
   "metadata": {},
   "outputs": [
    {
     "data": {
      "text/html": [
       "<div>\n",
       "<style scoped>\n",
       "    .dataframe tbody tr th:only-of-type {\n",
       "        vertical-align: middle;\n",
       "    }\n",
       "\n",
       "    .dataframe tbody tr th {\n",
       "        vertical-align: top;\n",
       "    }\n",
       "\n",
       "    .dataframe thead th {\n",
       "        text-align: right;\n",
       "    }\n",
       "</style>\n",
       "<table border=\"1\" class=\"dataframe\">\n",
       "  <thead>\n",
       "    <tr style=\"text-align: right;\">\n",
       "      <th></th>\n",
       "      <th>title</th>\n",
       "      <th>selftext</th>\n",
       "      <th>subreddit</th>\n",
       "      <th>created_utc</th>\n",
       "      <th>author</th>\n",
       "      <th>num_comments</th>\n",
       "      <th>score</th>\n",
       "      <th>is_self</th>\n",
       "      <th>timestamp</th>\n",
       "    </tr>\n",
       "  </thead>\n",
       "  <tbody>\n",
       "    <tr>\n",
       "      <th>0</th>\n",
       "      <td>It's going fast in TN</td>\n",
       "      <td>Anyone in this group should know to buy now if you haven't, but for the sake of reinforcement - buy now if you haven't!  I took my under 10 aged child to Walmart today and picked up some more to add, and it is a night and day difference from 3 days ago.  Toilet paper gone.  Paper towels gone.  Lysol, down to 4 bottles.  Hand sanitizer and alcohol, gone.  Bleach was available but only a few rem...</td>\n",
       "      <td>PandemicPreps</td>\n",
       "      <td>1583021338</td>\n",
       "      <td>BeautifulBalance1</td>\n",
       "      <td>18</td>\n",
       "      <td>1</td>\n",
       "      <td>True</td>\n",
       "      <td>2020-02-29 16:08:58</td>\n",
       "    </tr>\n",
       "    <tr>\n",
       "      <th>1</th>\n",
       "      <td>Don’t forget about your pets!</td>\n",
       "      <td>Amazon is running low on cat and dog food, my normals are sold out. I feel bad for the delivery guy dropping my shit off, almost 300lbs of food and liter.</td>\n",
       "      <td>PandemicPreps</td>\n",
       "      <td>1583021470</td>\n",
       "      <td>JKMSDE</td>\n",
       "      <td>12</td>\n",
       "      <td>1</td>\n",
       "      <td>True</td>\n",
       "      <td>2020-02-29 16:11:10</td>\n",
       "    </tr>\n",
       "    <tr>\n",
       "      <th>2</th>\n",
       "      <td>DIY Hand Sanitizer</td>\n",
       "      <td>Because you just can't find it in stores any more...\\n\\n [http://www.utahpreppers.com/2009/04/pandemic-preparedness-diy-sanitization/](http://www.utahpreppers.com/2009/04/pandemic-preparedness-diy-sanitization/) \\n\\n* 5 c 91% isopropyl alcohol\\n* 2 c aloe vera gel\\n\\nHere's another receipt with essential oils\\n\\n [https://www.asiaone.com/lifestyle/make-your-own-diy-hand-sanitizer](https://www....</td>\n",
       "      <td>PandemicPreps</td>\n",
       "      <td>1583022495</td>\n",
       "      <td>AccidentalDragon</td>\n",
       "      <td>44</td>\n",
       "      <td>1</td>\n",
       "      <td>True</td>\n",
       "      <td>2020-02-29 16:28:15</td>\n",
       "    </tr>\n",
       "    <tr>\n",
       "      <th>3</th>\n",
       "      <td>Anyone notice anything in the Denver / Boulder area? I see no concern and it concerns me!</td>\n",
       "      <td>What the hell is going on. Anyone around this area notice anything?</td>\n",
       "      <td>PandemicPreps</td>\n",
       "      <td>1583023089</td>\n",
       "      <td>Wizard_Knife_Fight</td>\n",
       "      <td>12</td>\n",
       "      <td>1</td>\n",
       "      <td>True</td>\n",
       "      <td>2020-02-29 16:38:09</td>\n",
       "    </tr>\n",
       "    <tr>\n",
       "      <th>4</th>\n",
       "      <td>PSA: don’t only buy a bunch of random foods, know how to cook it and get the proper nutrition.</td>\n",
       "      <td>I see a lot of people on here buying around the same types of stuff (canned beans, rice, etc). Just remember to know how to cook each item you buy and which combination of foods will have the right nutrients for example: you can’t live off of only eating meat products. Have a good balance of foods and learn the nutrients balance. Vitamin supplements are very important because fresh produce can...</td>\n",
       "      <td>PandemicPreps</td>\n",
       "      <td>1583025573</td>\n",
       "      <td>cutting-alumination</td>\n",
       "      <td>56</td>\n",
       "      <td>1</td>\n",
       "      <td>True</td>\n",
       "      <td>2020-02-29 17:19:33</td>\n",
       "    </tr>\n",
       "  </tbody>\n",
       "</table>\n",
       "</div>"
      ],
      "text/plain": [
       "                                                                                            title  \\\n",
       "0                                                                           It's going fast in TN   \n",
       "1                                                                   Don’t forget about your pets!   \n",
       "2                                                                              DIY Hand Sanitizer   \n",
       "3       Anyone notice anything in the Denver / Boulder area? I see no concern and it concerns me!   \n",
       "4  PSA: don’t only buy a bunch of random foods, know how to cook it and get the proper nutrition.   \n",
       "\n",
       "                                                                                                                                                                                                                                                                                                                                                                                                          selftext  \\\n",
       "0  Anyone in this group should know to buy now if you haven't, but for the sake of reinforcement - buy now if you haven't!  I took my under 10 aged child to Walmart today and picked up some more to add, and it is a night and day difference from 3 days ago.  Toilet paper gone.  Paper towels gone.  Lysol, down to 4 bottles.  Hand sanitizer and alcohol, gone.  Bleach was available but only a few rem...   \n",
       "1                                                                                                                                                                                                                                                       Amazon is running low on cat and dog food, my normals are sold out. I feel bad for the delivery guy dropping my shit off, almost 300lbs of food and liter.   \n",
       "2  Because you just can't find it in stores any more...\\n\\n [http://www.utahpreppers.com/2009/04/pandemic-preparedness-diy-sanitization/](http://www.utahpreppers.com/2009/04/pandemic-preparedness-diy-sanitization/) \\n\\n* 5 c 91% isopropyl alcohol\\n* 2 c aloe vera gel\\n\\nHere's another receipt with essential oils\\n\\n [https://www.asiaone.com/lifestyle/make-your-own-diy-hand-sanitizer](https://www....   \n",
       "3                                                                                                                                                                                                                                                                                                                                              What the hell is going on. Anyone around this area notice anything?   \n",
       "4  I see a lot of people on here buying around the same types of stuff (canned beans, rice, etc). Just remember to know how to cook each item you buy and which combination of foods will have the right nutrients for example: you can’t live off of only eating meat products. Have a good balance of foods and learn the nutrients balance. Vitamin supplements are very important because fresh produce can...   \n",
       "\n",
       "       subreddit  created_utc               author  num_comments  score  \\\n",
       "0  PandemicPreps   1583021338    BeautifulBalance1            18      1   \n",
       "1  PandemicPreps   1583021470               JKMSDE            12      1   \n",
       "2  PandemicPreps   1583022495     AccidentalDragon            44      1   \n",
       "3  PandemicPreps   1583023089   Wizard_Knife_Fight            12      1   \n",
       "4  PandemicPreps   1583025573  cutting-alumination            56      1   \n",
       "\n",
       "   is_self            timestamp  \n",
       "0     True  2020-02-29 16:08:58  \n",
       "1     True  2020-02-29 16:11:10  \n",
       "2     True  2020-02-29 16:28:15  \n",
       "3     True  2020-02-29 16:38:09  \n",
       "4     True  2020-02-29 17:19:33  "
      ]
     },
     "execution_count": 13,
     "metadata": {},
     "output_type": "execute_result"
    }
   ],
   "source": [
    "df.head()"
   ]
  },
  {
   "cell_type": "code",
   "execution_count": 14,
   "id": "98bc01a8",
   "metadata": {},
   "outputs": [
    {
     "data": {
      "text/plain": [
       "(2362, 9)"
      ]
     },
     "execution_count": 14,
     "metadata": {},
     "output_type": "execute_result"
    }
   ],
   "source": [
    "df.shape"
   ]
  },
  {
   "cell_type": "code",
   "execution_count": 15,
   "id": "b8a1a55b",
   "metadata": {},
   "outputs": [
    {
     "data": {
      "text/plain": [
       "0       2020-02-29 16:08:58\n",
       "1       2020-02-29 16:11:10\n",
       "2       2020-02-29 16:28:15\n",
       "3       2020-02-29 16:38:09\n",
       "4       2020-02-29 17:19:33\n",
       "               ...         \n",
       "2357    2020-02-29 14:58:17\n",
       "2358    2020-02-29 15:46:42\n",
       "2359    2020-02-29 15:55:08\n",
       "2360    2020-02-29 15:56:39\n",
       "2361    2020-02-29 15:57:46\n",
       "Name: timestamp, Length: 2362, dtype: object"
      ]
     },
     "execution_count": 15,
     "metadata": {},
     "output_type": "execute_result"
    }
   ],
   "source": [
    "df['timestamp']"
   ]
  },
  {
   "cell_type": "markdown",
   "id": "c91ca745",
   "metadata": {},
   "source": [
    "### Lower Casing"
   ]
  },
  {
   "cell_type": "code",
   "execution_count": 16,
   "id": "c7f2a117",
   "metadata": {},
   "outputs": [],
   "source": [
    "df['post']  = df['selftext'].str.lower()"
   ]
  },
  {
   "cell_type": "code",
   "execution_count": 17,
   "id": "d932a9e5",
   "metadata": {},
   "outputs": [
    {
     "data": {
      "text/plain": [
       "0       anyone in this group should know to buy now if you haven't, but for the sake of reinforcement - buy now if you haven't!  i took my under 10 aged child to walmart today and picked up some more to add, and it is a night and day difference from 3 days ago.  toilet paper gone.  paper towels gone.  lysol, down to 4 bottles.  hand sanitizer and alcohol, gone.  bleach was available but only a few rem...\n",
       "1                                                                                                                                                                                                                                                            amazon is running low on cat and dog food, my normals are sold out. i feel bad for the delivery guy dropping my shit off, almost 300lbs of food and liter.\n",
       "2       because you just can't find it in stores any more...\\n\\n [http://www.utahpreppers.com/2009/04/pandemic-preparedness-diy-sanitization/](http://www.utahpreppers.com/2009/04/pandemic-preparedness-diy-sanitization/) \\n\\n* 5 c 91% isopropyl alcohol\\n* 2 c aloe vera gel\\n\\nhere's another receipt with essential oils\\n\\n [https://www.asiaone.com/lifestyle/make-your-own-diy-hand-sanitizer](https://www....\n",
       "3                                                                                                                                                                                                                                                                                                                                                   what the hell is going on. anyone around this area notice anything?\n",
       "4       i see a lot of people on here buying around the same types of stuff (canned beans, rice, etc). just remember to know how to cook each item you buy and which combination of foods will have the right nutrients for example: you can’t live off of only eating meat products. have a good balance of foods and learn the nutrients balance. vitamin supplements are very important because fresh produce can...\n",
       "                                                                                                                                                                                                             ...                                                                                                                                                                                                       \n",
       "2357        so right now i have about 50 days of food prepped for 2 people (50 each) at 2000 calories. \\n\\ni’m not sure if i should get more. i’ve got all my other supplies with just a few things here and there but nothing critical i need anymore.\\n\\ni’m just not sure if 50 days per person for me and my partner is enough or if i should get more. \\n\\nhow many days of food are you prepping for each person?\n",
       "2358                                                                     \\neven if you avoid non essential travel, i'm sure some people might still need to fly long distances for various obligations.\\n\\nare there guides or tips on what exactly one should do while going through security check, same sitting in the plane?\\n\\nfor instance, how to sanitize your plane seat?\\n\\nany advice would be appreciated!!\n",
       "2359    why are many people expecting power outages and/or water contamination/loss of water during covid-19 pandemic? \\n\\nit’s an honest question and i’d like to understand people’s reasoning as maybe i’m overlooking something important. i keep hearing people say they are ready for the coming power outages or seeing it online.\\n\\ni’ve been following news and individual reports from hard hit areas and...\n",
       "2360    my husband’s been an er rn for 20 years. he’s also been a type 1 diabetic since he was 6. over the course of our 26-year marriage the subject of a pandemic has come up several times. we created a master list of our needs and over the years we’ve purchased the big items. last month we refreshed our supply on old items, but we’re still banging our heads against the same and most important subjec...\n",
       "2361                                                                                                                                                                                          like in the title, that’s what i’m able to spend right now. i have 2-5 lb bags of rice, 2 flats of 40 water bottles, frozen veggies, peanut butter, lots of beans and bouillon cubes. what else would y’all get for food?\n",
       "Name: post, Length: 2362, dtype: object"
      ]
     },
     "execution_count": 17,
     "metadata": {},
     "output_type": "execute_result"
    }
   ],
   "source": [
    "df['post']"
   ]
  },
  {
   "cell_type": "markdown",
   "id": "90cda2b9",
   "metadata": {},
   "source": [
    "### Remove URL's / Website address"
   ]
  },
  {
   "cell_type": "code",
   "execution_count": 18,
   "id": "664b9d70",
   "metadata": {},
   "outputs": [],
   "source": [
    "# Function for url's\n",
    "def remove_urls(text):\n",
    "    url_pattern = re.compile(r'https?://\\S+|www\\.\\S+')\n",
    "    return url_pattern.sub(r'', text)"
   ]
  },
  {
   "cell_type": "code",
   "execution_count": 19,
   "id": "676a0062",
   "metadata": {},
   "outputs": [],
   "source": [
    "df['post'] = df['post'].map( remove_urls )"
   ]
  },
  {
   "cell_type": "markdown",
   "id": "26af3d63",
   "metadata": {},
   "source": [
    "### Removing special characters"
   ]
  },
  {
   "cell_type": "code",
   "execution_count": 20,
   "id": "1e71e463",
   "metadata": {},
   "outputs": [],
   "source": [
    "df['post'] = df['post']\\\n",
    "                        .replace('http\\S+', '', regex=True)\\\n",
    "                        .replace('www\\S+', '', regex=True)\\\n",
    "                        .replace('\\n\\n\\S+', '', regex=True)\\\n",
    "                        .replace('\\n', '', regex=True)\\\n",
    "                        .replace('\\*', '', regex=True)"
   ]
  },
  {
   "cell_type": "code",
   "execution_count": 21,
   "id": "84b82fa1",
   "metadata": {},
   "outputs": [
    {
     "data": {
      "text/plain": [
       "0       anyone in this group should know to buy now if you haven't, but for the sake of reinforcement - buy now if you haven't!  i took my under 10 aged child to walmart today and picked up some more to add, and it is a night and day difference from 3 days ago.  toilet paper gone.  paper towels gone.  lysol, down to 4 bottles.  hand sanitizer and alcohol, gone.  bleach was available but only a few rem...\n",
       "1                                                                                                                                                                                                                                                            amazon is running low on cat and dog food, my normals are sold out. i feel bad for the delivery guy dropping my shit off, almost 300lbs of food and liter.\n",
       "2                            because you just can't find it in stores any more... [  5 c 91% isopropyl alcohol 2 c aloe vera gel another receipt with essential oils [   1 tablespoon rubbing alcohol or 2 tablespoons vodka 10 drops tea tree essential oil 10 drops lavender essential oil 1/4 cup aloe vera gel 1/2 teaspoon vitamin e oil (optional) a small bottle if i could just find some iso in the stores lol\n",
       "3                                                                                                                                                                                                                                                                                                                                                   what the hell is going on. anyone around this area notice anything?\n",
       "4       i see a lot of people on here buying around the same types of stuff (canned beans, rice, etc). just remember to know how to cook each item you buy and which combination of foods will have the right nutrients for example: you can’t live off of only eating meat products. have a good balance of foods and learn the nutrients balance. vitamin supplements are very important because fresh produce can...\n",
       "                                                                                                                                                                                                             ...                                                                                                                                                                                                       \n",
       "2357                             so right now i have about 50 days of food prepped for 2 people (50 each) at 2000 calories.  not sure if i should get more. i’ve got all my other supplies with just a few things here and there but nothing critical i need anymore. just not sure if 50 days per person for me and my partner is enough or if i should get more.  many days of food are you prepping for each person?\n",
       "2358                                                                                            even if you avoid non essential travel, i'm sure some people might still need to fly long distances for various obligations. there guides or tips on what exactly one should do while going through security check, same sitting in the plane? instance, how to sanitize your plane seat? advice would be appreciated!!\n",
       "2359    why are many people expecting power outages and/or water contamination/loss of water during covid-19 pandemic?  an honest question and i’d like to understand people’s reasoning as maybe i’m overlooking something important. i keep hearing people say they are ready for the coming power outages or seeing it online. been following news and individual reports from hard hit areas and quarantined are...\n",
       "2360    my husband’s been an er rn for 20 years. he’s also been a type 1 diabetic since he was 6. over the course of our 26-year marriage the subject of a pandemic has come up several times. we created a master list of our needs and over the years we’ve purchased the big items. last month we refreshed our supply on old items, but we’re still banging our heads against the same and most important subjec...\n",
       "2361                                                                                                                                                                                          like in the title, that’s what i’m able to spend right now. i have 2-5 lb bags of rice, 2 flats of 40 water bottles, frozen veggies, peanut butter, lots of beans and bouillon cubes. what else would y’all get for food?\n",
       "Name: post, Length: 2362, dtype: object"
      ]
     },
     "execution_count": 21,
     "metadata": {},
     "output_type": "execute_result"
    }
   ],
   "source": [
    "df['post']"
   ]
  },
  {
   "cell_type": "markdown",
   "id": "2e2d1ef9",
   "metadata": {},
   "source": [
    "### Find/Count emoji"
   ]
  },
  {
   "cell_type": "code",
   "execution_count": 22,
   "id": "63756dfb",
   "metadata": {},
   "outputs": [],
   "source": [
    "import demoji"
   ]
  },
  {
   "cell_type": "code",
   "execution_count": 23,
   "id": "70286b2e",
   "metadata": {},
   "outputs": [],
   "source": [
    "def find_emoji(dataframe, \n",
    "               print_option = False):\n",
    "    if print_option == True:\n",
    "        print ( dataframe[dataframe.map(demoji.findall) != {}])\n",
    "    return (dataframe.map(demoji.findall) != {}).sum()"
   ]
  },
  {
   "cell_type": "code",
   "execution_count": 24,
   "id": "23fb8d29",
   "metadata": {},
   "outputs": [
    {
     "data": {
      "text/plain": [
       "54"
      ]
     },
     "execution_count": 24,
     "metadata": {},
     "output_type": "execute_result"
    }
   ],
   "source": [
    "find_emoji(df['post'])"
   ]
  },
  {
   "cell_type": "markdown",
   "id": "b6aa1f51",
   "metadata": {},
   "source": [
    "### Remove emoji"
   ]
  },
  {
   "cell_type": "code",
   "execution_count": 25,
   "id": "7f43ae55",
   "metadata": {},
   "outputs": [],
   "source": [
    "def remove_emoji(dataframe):\n",
    "    return dataframe.map(demoji.replace)"
   ]
  },
  {
   "cell_type": "code",
   "execution_count": 26,
   "id": "3a6de763",
   "metadata": {},
   "outputs": [],
   "source": [
    "df['post'] = remove_emoji(df['post'])"
   ]
  },
  {
   "cell_type": "markdown",
   "id": "3539e296",
   "metadata": {},
   "source": [
    "### Convert emoji to text\n",
    "All emojis are removed fot the first part of the project which is distingushing two sub-redits. \n",
    "However, emojis are converted to text for sentiment analysis."
   ]
  },
  {
   "cell_type": "code",
   "execution_count": 27,
   "id": "26093ac8",
   "metadata": {},
   "outputs": [],
   "source": [
    "import emoji\n",
    "def convert_emoji_to_text(text):\n",
    "    return emoji.demojize(text)"
   ]
  },
  {
   "cell_type": "code",
   "execution_count": 28,
   "id": "0aa2c9d4",
   "metadata": {},
   "outputs": [],
   "source": [
    "# df['selftext'].iloc[0:10].map(convert_emoji_to_text)"
   ]
  },
  {
   "cell_type": "markdown",
   "id": "3d17a3b9",
   "metadata": {},
   "source": [
    "### Removal of HTML tags"
   ]
  },
  {
   "cell_type": "code",
   "execution_count": 29,
   "id": "cdf186fd",
   "metadata": {},
   "outputs": [],
   "source": [
    "def remove_html(text):\n",
    "    return BeautifulSoup(text, \"lxml\").text"
   ]
  },
  {
   "cell_type": "code",
   "execution_count": 30,
   "id": "dd9d3032",
   "metadata": {},
   "outputs": [],
   "source": [
    "df['post'] = df['post'].map(remove_html)"
   ]
  },
  {
   "cell_type": "code",
   "execution_count": 31,
   "id": "542a7791",
   "metadata": {
    "scrolled": true
   },
   "outputs": [
    {
     "data": {
      "text/html": [
       "<div>\n",
       "<style scoped>\n",
       "    .dataframe tbody tr th:only-of-type {\n",
       "        vertical-align: middle;\n",
       "    }\n",
       "\n",
       "    .dataframe tbody tr th {\n",
       "        vertical-align: top;\n",
       "    }\n",
       "\n",
       "    .dataframe thead th {\n",
       "        text-align: right;\n",
       "    }\n",
       "</style>\n",
       "<table border=\"1\" class=\"dataframe\">\n",
       "  <thead>\n",
       "    <tr style=\"text-align: right;\">\n",
       "      <th></th>\n",
       "      <th>title</th>\n",
       "      <th>selftext</th>\n",
       "      <th>subreddit</th>\n",
       "      <th>created_utc</th>\n",
       "      <th>author</th>\n",
       "      <th>num_comments</th>\n",
       "      <th>score</th>\n",
       "      <th>is_self</th>\n",
       "      <th>timestamp</th>\n",
       "      <th>post</th>\n",
       "    </tr>\n",
       "  </thead>\n",
       "  <tbody>\n",
       "    <tr>\n",
       "      <th>0</th>\n",
       "      <td>It's going fast in TN</td>\n",
       "      <td>Anyone in this group should know to buy now if you haven't, but for the sake of reinforcement - buy now if you haven't!  I took my under 10 aged child to Walmart today and picked up some more to add, and it is a night and day difference from 3 days ago.  Toilet paper gone.  Paper towels gone.  Lysol, down to 4 bottles.  Hand sanitizer and alcohol, gone.  Bleach was available but only a few rem...</td>\n",
       "      <td>PandemicPreps</td>\n",
       "      <td>1583021338</td>\n",
       "      <td>BeautifulBalance1</td>\n",
       "      <td>18</td>\n",
       "      <td>1</td>\n",
       "      <td>True</td>\n",
       "      <td>2020-02-29 16:08:58</td>\n",
       "      <td>anyone in this group should know to buy now if you haven't, but for the sake of reinforcement - buy now if you haven't!  i took my under 10 aged child to walmart today and picked up some more to add, and it is a night and day difference from 3 days ago.  toilet paper gone.  paper towels gone.  lysol, down to 4 bottles.  hand sanitizer and alcohol, gone.  bleach was available but only a few rem...</td>\n",
       "    </tr>\n",
       "    <tr>\n",
       "      <th>1</th>\n",
       "      <td>Don’t forget about your pets!</td>\n",
       "      <td>Amazon is running low on cat and dog food, my normals are sold out. I feel bad for the delivery guy dropping my shit off, almost 300lbs of food and liter.</td>\n",
       "      <td>PandemicPreps</td>\n",
       "      <td>1583021470</td>\n",
       "      <td>JKMSDE</td>\n",
       "      <td>12</td>\n",
       "      <td>1</td>\n",
       "      <td>True</td>\n",
       "      <td>2020-02-29 16:11:10</td>\n",
       "      <td>amazon is running low on cat and dog food, my normals are sold out. i feel bad for the delivery guy dropping my shit off, almost 300lbs of food and liter.</td>\n",
       "    </tr>\n",
       "    <tr>\n",
       "      <th>2</th>\n",
       "      <td>DIY Hand Sanitizer</td>\n",
       "      <td>Because you just can't find it in stores any more...\\n\\n [http://www.utahpreppers.com/2009/04/pandemic-preparedness-diy-sanitization/](http://www.utahpreppers.com/2009/04/pandemic-preparedness-diy-sanitization/) \\n\\n* 5 c 91% isopropyl alcohol\\n* 2 c aloe vera gel\\n\\nHere's another receipt with essential oils\\n\\n [https://www.asiaone.com/lifestyle/make-your-own-diy-hand-sanitizer](https://www....</td>\n",
       "      <td>PandemicPreps</td>\n",
       "      <td>1583022495</td>\n",
       "      <td>AccidentalDragon</td>\n",
       "      <td>44</td>\n",
       "      <td>1</td>\n",
       "      <td>True</td>\n",
       "      <td>2020-02-29 16:28:15</td>\n",
       "      <td>because you just can't find it in stores any more... [  5 c 91% isopropyl alcohol 2 c aloe vera gel another receipt with essential oils [   1 tablespoon rubbing alcohol or 2 tablespoons vodka 10 drops tea tree essential oil 10 drops lavender essential oil 1/4 cup aloe vera gel 1/2 teaspoon vitamin e oil (optional) a small bottle if i could just find some iso in the stores lol</td>\n",
       "    </tr>\n",
       "    <tr>\n",
       "      <th>3</th>\n",
       "      <td>Anyone notice anything in the Denver / Boulder area? I see no concern and it concerns me!</td>\n",
       "      <td>What the hell is going on. Anyone around this area notice anything?</td>\n",
       "      <td>PandemicPreps</td>\n",
       "      <td>1583023089</td>\n",
       "      <td>Wizard_Knife_Fight</td>\n",
       "      <td>12</td>\n",
       "      <td>1</td>\n",
       "      <td>True</td>\n",
       "      <td>2020-02-29 16:38:09</td>\n",
       "      <td>what the hell is going on. anyone around this area notice anything?</td>\n",
       "    </tr>\n",
       "    <tr>\n",
       "      <th>4</th>\n",
       "      <td>PSA: don’t only buy a bunch of random foods, know how to cook it and get the proper nutrition.</td>\n",
       "      <td>I see a lot of people on here buying around the same types of stuff (canned beans, rice, etc). Just remember to know how to cook each item you buy and which combination of foods will have the right nutrients for example: you can’t live off of only eating meat products. Have a good balance of foods and learn the nutrients balance. Vitamin supplements are very important because fresh produce can...</td>\n",
       "      <td>PandemicPreps</td>\n",
       "      <td>1583025573</td>\n",
       "      <td>cutting-alumination</td>\n",
       "      <td>56</td>\n",
       "      <td>1</td>\n",
       "      <td>True</td>\n",
       "      <td>2020-02-29 17:19:33</td>\n",
       "      <td>i see a lot of people on here buying around the same types of stuff (canned beans, rice, etc). just remember to know how to cook each item you buy and which combination of foods will have the right nutrients for example: you can’t live off of only eating meat products. have a good balance of foods and learn the nutrients balance. vitamin supplements are very important because fresh produce can...</td>\n",
       "    </tr>\n",
       "  </tbody>\n",
       "</table>\n",
       "</div>"
      ],
      "text/plain": [
       "                                                                                            title  \\\n",
       "0                                                                           It's going fast in TN   \n",
       "1                                                                   Don’t forget about your pets!   \n",
       "2                                                                              DIY Hand Sanitizer   \n",
       "3       Anyone notice anything in the Denver / Boulder area? I see no concern and it concerns me!   \n",
       "4  PSA: don’t only buy a bunch of random foods, know how to cook it and get the proper nutrition.   \n",
       "\n",
       "                                                                                                                                                                                                                                                                                                                                                                                                          selftext  \\\n",
       "0  Anyone in this group should know to buy now if you haven't, but for the sake of reinforcement - buy now if you haven't!  I took my under 10 aged child to Walmart today and picked up some more to add, and it is a night and day difference from 3 days ago.  Toilet paper gone.  Paper towels gone.  Lysol, down to 4 bottles.  Hand sanitizer and alcohol, gone.  Bleach was available but only a few rem...   \n",
       "1                                                                                                                                                                                                                                                       Amazon is running low on cat and dog food, my normals are sold out. I feel bad for the delivery guy dropping my shit off, almost 300lbs of food and liter.   \n",
       "2  Because you just can't find it in stores any more...\\n\\n [http://www.utahpreppers.com/2009/04/pandemic-preparedness-diy-sanitization/](http://www.utahpreppers.com/2009/04/pandemic-preparedness-diy-sanitization/) \\n\\n* 5 c 91% isopropyl alcohol\\n* 2 c aloe vera gel\\n\\nHere's another receipt with essential oils\\n\\n [https://www.asiaone.com/lifestyle/make-your-own-diy-hand-sanitizer](https://www....   \n",
       "3                                                                                                                                                                                                                                                                                                                                              What the hell is going on. Anyone around this area notice anything?   \n",
       "4  I see a lot of people on here buying around the same types of stuff (canned beans, rice, etc). Just remember to know how to cook each item you buy and which combination of foods will have the right nutrients for example: you can’t live off of only eating meat products. Have a good balance of foods and learn the nutrients balance. Vitamin supplements are very important because fresh produce can...   \n",
       "\n",
       "       subreddit  created_utc               author  num_comments  score  \\\n",
       "0  PandemicPreps   1583021338    BeautifulBalance1            18      1   \n",
       "1  PandemicPreps   1583021470               JKMSDE            12      1   \n",
       "2  PandemicPreps   1583022495     AccidentalDragon            44      1   \n",
       "3  PandemicPreps   1583023089   Wizard_Knife_Fight            12      1   \n",
       "4  PandemicPreps   1583025573  cutting-alumination            56      1   \n",
       "\n",
       "   is_self            timestamp  \\\n",
       "0     True  2020-02-29 16:08:58   \n",
       "1     True  2020-02-29 16:11:10   \n",
       "2     True  2020-02-29 16:28:15   \n",
       "3     True  2020-02-29 16:38:09   \n",
       "4     True  2020-02-29 17:19:33   \n",
       "\n",
       "                                                                                                                                                                                                                                                                                                                                                                                                              post  \n",
       "0  anyone in this group should know to buy now if you haven't, but for the sake of reinforcement - buy now if you haven't!  i took my under 10 aged child to walmart today and picked up some more to add, and it is a night and day difference from 3 days ago.  toilet paper gone.  paper towels gone.  lysol, down to 4 bottles.  hand sanitizer and alcohol, gone.  bleach was available but only a few rem...  \n",
       "1                                                                                                                                                                                                                                                       amazon is running low on cat and dog food, my normals are sold out. i feel bad for the delivery guy dropping my shit off, almost 300lbs of food and liter.  \n",
       "2                       because you just can't find it in stores any more... [  5 c 91% isopropyl alcohol 2 c aloe vera gel another receipt with essential oils [   1 tablespoon rubbing alcohol or 2 tablespoons vodka 10 drops tea tree essential oil 10 drops lavender essential oil 1/4 cup aloe vera gel 1/2 teaspoon vitamin e oil (optional) a small bottle if i could just find some iso in the stores lol  \n",
       "3                                                                                                                                                                                                                                                                                                                                              what the hell is going on. anyone around this area notice anything?  \n",
       "4  i see a lot of people on here buying around the same types of stuff (canned beans, rice, etc). just remember to know how to cook each item you buy and which combination of foods will have the right nutrients for example: you can’t live off of only eating meat products. have a good balance of foods and learn the nutrients balance. vitamin supplements are very important because fresh produce can...  "
      ]
     },
     "execution_count": 31,
     "metadata": {},
     "output_type": "execute_result"
    }
   ],
   "source": [
    "df.head()"
   ]
  },
  {
   "cell_type": "markdown",
   "id": "f9b98990",
   "metadata": {},
   "source": [
    "### Replace all non-letters with space"
   ]
  },
  {
   "cell_type": "code",
   "execution_count": 32,
   "id": "a487c24c",
   "metadata": {},
   "outputs": [],
   "source": [
    "def replace_all_non_letters_with_space(text):\n",
    "    return re.sub(\"[^a-zA-Z]\",  # Search for all non-letters\n",
    "                          \" \",          # Replace all non-letters with spaces\n",
    "                          str(text))"
   ]
  },
  {
   "cell_type": "code",
   "execution_count": 33,
   "id": "3340d1c6",
   "metadata": {},
   "outputs": [],
   "source": [
    "df['post'] = df['post'].map(replace_all_non_letters_with_space)"
   ]
  },
  {
   "cell_type": "code",
   "execution_count": 34,
   "id": "cfdfa2b5",
   "metadata": {},
   "outputs": [
    {
     "data": {
      "text/html": [
       "<div>\n",
       "<style scoped>\n",
       "    .dataframe tbody tr th:only-of-type {\n",
       "        vertical-align: middle;\n",
       "    }\n",
       "\n",
       "    .dataframe tbody tr th {\n",
       "        vertical-align: top;\n",
       "    }\n",
       "\n",
       "    .dataframe thead th {\n",
       "        text-align: right;\n",
       "    }\n",
       "</style>\n",
       "<table border=\"1\" class=\"dataframe\">\n",
       "  <thead>\n",
       "    <tr style=\"text-align: right;\">\n",
       "      <th></th>\n",
       "      <th>title</th>\n",
       "      <th>selftext</th>\n",
       "      <th>subreddit</th>\n",
       "      <th>created_utc</th>\n",
       "      <th>author</th>\n",
       "      <th>num_comments</th>\n",
       "      <th>score</th>\n",
       "      <th>is_self</th>\n",
       "      <th>timestamp</th>\n",
       "      <th>post</th>\n",
       "    </tr>\n",
       "  </thead>\n",
       "  <tbody>\n",
       "    <tr>\n",
       "      <th>0</th>\n",
       "      <td>It's going fast in TN</td>\n",
       "      <td>Anyone in this group should know to buy now if you haven't, but for the sake of reinforcement - buy now if you haven't!  I took my under 10 aged child to Walmart today and picked up some more to add, and it is a night and day difference from 3 days ago.  Toilet paper gone.  Paper towels gone.  Lysol, down to 4 bottles.  Hand sanitizer and alcohol, gone.  Bleach was available but only a few rem...</td>\n",
       "      <td>PandemicPreps</td>\n",
       "      <td>1583021338</td>\n",
       "      <td>BeautifulBalance1</td>\n",
       "      <td>18</td>\n",
       "      <td>1</td>\n",
       "      <td>True</td>\n",
       "      <td>2020-02-29 16:08:58</td>\n",
       "      <td>anyone in this group should know to buy now if you haven t  but for the sake of reinforcement   buy now if you haven t   i took my under    aged child to walmart today and picked up some more to add  and it is a night and day difference from   days ago   toilet paper gone   paper towels gone   lysol  down to   bottles   hand sanitizer and alcohol  gone   bleach was available but only a few rem...</td>\n",
       "    </tr>\n",
       "    <tr>\n",
       "      <th>1</th>\n",
       "      <td>Don’t forget about your pets!</td>\n",
       "      <td>Amazon is running low on cat and dog food, my normals are sold out. I feel bad for the delivery guy dropping my shit off, almost 300lbs of food and liter.</td>\n",
       "      <td>PandemicPreps</td>\n",
       "      <td>1583021470</td>\n",
       "      <td>JKMSDE</td>\n",
       "      <td>12</td>\n",
       "      <td>1</td>\n",
       "      <td>True</td>\n",
       "      <td>2020-02-29 16:11:10</td>\n",
       "      <td>amazon is running low on cat and dog food  my normals are sold out  i feel bad for the delivery guy dropping my shit off  almost    lbs of food and liter</td>\n",
       "    </tr>\n",
       "    <tr>\n",
       "      <th>2</th>\n",
       "      <td>DIY Hand Sanitizer</td>\n",
       "      <td>Because you just can't find it in stores any more...\\n\\n [http://www.utahpreppers.com/2009/04/pandemic-preparedness-diy-sanitization/](http://www.utahpreppers.com/2009/04/pandemic-preparedness-diy-sanitization/) \\n\\n* 5 c 91% isopropyl alcohol\\n* 2 c aloe vera gel\\n\\nHere's another receipt with essential oils\\n\\n [https://www.asiaone.com/lifestyle/make-your-own-diy-hand-sanitizer](https://www....</td>\n",
       "      <td>PandemicPreps</td>\n",
       "      <td>1583022495</td>\n",
       "      <td>AccidentalDragon</td>\n",
       "      <td>44</td>\n",
       "      <td>1</td>\n",
       "      <td>True</td>\n",
       "      <td>2020-02-29 16:28:15</td>\n",
       "      <td>because you just can t find it in stores any more         c     isopropyl alcohol   c aloe vera gel another receipt with essential oils       tablespoon rubbing alcohol or   tablespoons vodka    drops tea tree essential oil    drops lavender essential oil     cup aloe vera gel     teaspoon vitamin e oil  optional  a small bottle if i could just find some iso in the stores lol</td>\n",
       "    </tr>\n",
       "    <tr>\n",
       "      <th>3</th>\n",
       "      <td>Anyone notice anything in the Denver / Boulder area? I see no concern and it concerns me!</td>\n",
       "      <td>What the hell is going on. Anyone around this area notice anything?</td>\n",
       "      <td>PandemicPreps</td>\n",
       "      <td>1583023089</td>\n",
       "      <td>Wizard_Knife_Fight</td>\n",
       "      <td>12</td>\n",
       "      <td>1</td>\n",
       "      <td>True</td>\n",
       "      <td>2020-02-29 16:38:09</td>\n",
       "      <td>what the hell is going on  anyone around this area notice anything</td>\n",
       "    </tr>\n",
       "    <tr>\n",
       "      <th>4</th>\n",
       "      <td>PSA: don’t only buy a bunch of random foods, know how to cook it and get the proper nutrition.</td>\n",
       "      <td>I see a lot of people on here buying around the same types of stuff (canned beans, rice, etc). Just remember to know how to cook each item you buy and which combination of foods will have the right nutrients for example: you can’t live off of only eating meat products. Have a good balance of foods and learn the nutrients balance. Vitamin supplements are very important because fresh produce can...</td>\n",
       "      <td>PandemicPreps</td>\n",
       "      <td>1583025573</td>\n",
       "      <td>cutting-alumination</td>\n",
       "      <td>56</td>\n",
       "      <td>1</td>\n",
       "      <td>True</td>\n",
       "      <td>2020-02-29 17:19:33</td>\n",
       "      <td>i see a lot of people on here buying around the same types of stuff  canned beans  rice  etc   just remember to know how to cook each item you buy and which combination of foods will have the right nutrients for example  you can t live off of only eating meat products  have a good balance of foods and learn the nutrients balance  vitamin supplements are very important because fresh produce can...</td>\n",
       "    </tr>\n",
       "  </tbody>\n",
       "</table>\n",
       "</div>"
      ],
      "text/plain": [
       "                                                                                            title  \\\n",
       "0                                                                           It's going fast in TN   \n",
       "1                                                                   Don’t forget about your pets!   \n",
       "2                                                                              DIY Hand Sanitizer   \n",
       "3       Anyone notice anything in the Denver / Boulder area? I see no concern and it concerns me!   \n",
       "4  PSA: don’t only buy a bunch of random foods, know how to cook it and get the proper nutrition.   \n",
       "\n",
       "                                                                                                                                                                                                                                                                                                                                                                                                          selftext  \\\n",
       "0  Anyone in this group should know to buy now if you haven't, but for the sake of reinforcement - buy now if you haven't!  I took my under 10 aged child to Walmart today and picked up some more to add, and it is a night and day difference from 3 days ago.  Toilet paper gone.  Paper towels gone.  Lysol, down to 4 bottles.  Hand sanitizer and alcohol, gone.  Bleach was available but only a few rem...   \n",
       "1                                                                                                                                                                                                                                                       Amazon is running low on cat and dog food, my normals are sold out. I feel bad for the delivery guy dropping my shit off, almost 300lbs of food and liter.   \n",
       "2  Because you just can't find it in stores any more...\\n\\n [http://www.utahpreppers.com/2009/04/pandemic-preparedness-diy-sanitization/](http://www.utahpreppers.com/2009/04/pandemic-preparedness-diy-sanitization/) \\n\\n* 5 c 91% isopropyl alcohol\\n* 2 c aloe vera gel\\n\\nHere's another receipt with essential oils\\n\\n [https://www.asiaone.com/lifestyle/make-your-own-diy-hand-sanitizer](https://www....   \n",
       "3                                                                                                                                                                                                                                                                                                                                              What the hell is going on. Anyone around this area notice anything?   \n",
       "4  I see a lot of people on here buying around the same types of stuff (canned beans, rice, etc). Just remember to know how to cook each item you buy and which combination of foods will have the right nutrients for example: you can’t live off of only eating meat products. Have a good balance of foods and learn the nutrients balance. Vitamin supplements are very important because fresh produce can...   \n",
       "\n",
       "       subreddit  created_utc               author  num_comments  score  \\\n",
       "0  PandemicPreps   1583021338    BeautifulBalance1            18      1   \n",
       "1  PandemicPreps   1583021470               JKMSDE            12      1   \n",
       "2  PandemicPreps   1583022495     AccidentalDragon            44      1   \n",
       "3  PandemicPreps   1583023089   Wizard_Knife_Fight            12      1   \n",
       "4  PandemicPreps   1583025573  cutting-alumination            56      1   \n",
       "\n",
       "   is_self            timestamp  \\\n",
       "0     True  2020-02-29 16:08:58   \n",
       "1     True  2020-02-29 16:11:10   \n",
       "2     True  2020-02-29 16:28:15   \n",
       "3     True  2020-02-29 16:38:09   \n",
       "4     True  2020-02-29 17:19:33   \n",
       "\n",
       "                                                                                                                                                                                                                                                                                                                                                                                                              post  \n",
       "0  anyone in this group should know to buy now if you haven t  but for the sake of reinforcement   buy now if you haven t   i took my under    aged child to walmart today and picked up some more to add  and it is a night and day difference from   days ago   toilet paper gone   paper towels gone   lysol  down to   bottles   hand sanitizer and alcohol  gone   bleach was available but only a few rem...  \n",
       "1                                                                                                                                                                                                                                                       amazon is running low on cat and dog food  my normals are sold out  i feel bad for the delivery guy dropping my shit off  almost    lbs of food and liter   \n",
       "2                       because you just can t find it in stores any more         c     isopropyl alcohol   c aloe vera gel another receipt with essential oils       tablespoon rubbing alcohol or   tablespoons vodka    drops tea tree essential oil    drops lavender essential oil     cup aloe vera gel     teaspoon vitamin e oil  optional  a small bottle if i could just find some iso in the stores lol  \n",
       "3                                                                                                                                                                                                                                                                                                                                              what the hell is going on  anyone around this area notice anything   \n",
       "4  i see a lot of people on here buying around the same types of stuff  canned beans  rice  etc   just remember to know how to cook each item you buy and which combination of foods will have the right nutrients for example  you can t live off of only eating meat products  have a good balance of foods and learn the nutrients balance  vitamin supplements are very important because fresh produce can...  "
      ]
     },
     "execution_count": 34,
     "metadata": {},
     "output_type": "execute_result"
    }
   ],
   "source": [
    "df.head()"
   ]
  },
  {
   "cell_type": "markdown",
   "id": "ff0696b2",
   "metadata": {},
   "source": [
    "### Remove Stop Words"
   ]
  },
  {
   "cell_type": "code",
   "execution_count": 35,
   "id": "fe5aa588",
   "metadata": {},
   "outputs": [],
   "source": [
    "def remove_stop_words(dataFrame):\n",
    "    return [token for token in dataFrame if token not in stopwords.words('english')]"
   ]
  },
  {
   "cell_type": "code",
   "execution_count": 36,
   "id": "c4576c3e",
   "metadata": {
    "scrolled": true
   },
   "outputs": [],
   "source": [
    "#Importing stopwords from nltk library\n",
    "from nltk.corpus import stopwords\n",
    "STOPWORDS = set(stopwords.words('english'))# Function to remove the stopwords\n",
    "def stopwords(text):\n",
    "    return \" \".join([word for word in str(text).split() if word not in STOPWORDS])# Applying the stopwords to 'text_punct' and store into 'text_stop'\n",
    "\n",
    "\n",
    "df[\"post\"] = df[\"post\"].apply(stopwords)"
   ]
  },
  {
   "cell_type": "code",
   "execution_count": 37,
   "id": "6eb9c722",
   "metadata": {},
   "outputs": [
    {
     "data": {
      "text/html": [
       "<div>\n",
       "<style scoped>\n",
       "    .dataframe tbody tr th:only-of-type {\n",
       "        vertical-align: middle;\n",
       "    }\n",
       "\n",
       "    .dataframe tbody tr th {\n",
       "        vertical-align: top;\n",
       "    }\n",
       "\n",
       "    .dataframe thead th {\n",
       "        text-align: right;\n",
       "    }\n",
       "</style>\n",
       "<table border=\"1\" class=\"dataframe\">\n",
       "  <thead>\n",
       "    <tr style=\"text-align: right;\">\n",
       "      <th></th>\n",
       "      <th>title</th>\n",
       "      <th>selftext</th>\n",
       "      <th>subreddit</th>\n",
       "      <th>created_utc</th>\n",
       "      <th>author</th>\n",
       "      <th>num_comments</th>\n",
       "      <th>score</th>\n",
       "      <th>is_self</th>\n",
       "      <th>timestamp</th>\n",
       "      <th>post</th>\n",
       "    </tr>\n",
       "  </thead>\n",
       "  <tbody>\n",
       "    <tr>\n",
       "      <th>0</th>\n",
       "      <td>It's going fast in TN</td>\n",
       "      <td>Anyone in this group should know to buy now if you haven't, but for the sake of reinforcement - buy now if you haven't!  I took my under 10 aged child to Walmart today and picked up some more to add, and it is a night and day difference from 3 days ago.  Toilet paper gone.  Paper towels gone.  Lysol, down to 4 bottles.  Hand sanitizer and alcohol, gone.  Bleach was available but only a few rem...</td>\n",
       "      <td>PandemicPreps</td>\n",
       "      <td>1583021338</td>\n",
       "      <td>BeautifulBalance1</td>\n",
       "      <td>18</td>\n",
       "      <td>1</td>\n",
       "      <td>True</td>\n",
       "      <td>2020-02-29 16:08:58</td>\n",
       "      <td>anyone group know buy sake reinforcement buy took aged child walmart today picked add night day difference days ago toilet paper gone paper towels gone lysol bottles hand sanitizer alcohol gone bleach available remained cold meds low even dish gloves ransacked hot dogs gone flour low go beans rice aisle child said coronavirus yes lady checking front joke bottles shampoo conditioner spouse thin...</td>\n",
       "    </tr>\n",
       "    <tr>\n",
       "      <th>1</th>\n",
       "      <td>Don’t forget about your pets!</td>\n",
       "      <td>Amazon is running low on cat and dog food, my normals are sold out. I feel bad for the delivery guy dropping my shit off, almost 300lbs of food and liter.</td>\n",
       "      <td>PandemicPreps</td>\n",
       "      <td>1583021470</td>\n",
       "      <td>JKMSDE</td>\n",
       "      <td>12</td>\n",
       "      <td>1</td>\n",
       "      <td>True</td>\n",
       "      <td>2020-02-29 16:11:10</td>\n",
       "      <td>amazon running low cat dog food normals sold feel bad delivery guy dropping shit almost lbs food liter</td>\n",
       "    </tr>\n",
       "    <tr>\n",
       "      <th>2</th>\n",
       "      <td>DIY Hand Sanitizer</td>\n",
       "      <td>Because you just can't find it in stores any more...\\n\\n [http://www.utahpreppers.com/2009/04/pandemic-preparedness-diy-sanitization/](http://www.utahpreppers.com/2009/04/pandemic-preparedness-diy-sanitization/) \\n\\n* 5 c 91% isopropyl alcohol\\n* 2 c aloe vera gel\\n\\nHere's another receipt with essential oils\\n\\n [https://www.asiaone.com/lifestyle/make-your-own-diy-hand-sanitizer](https://www....</td>\n",
       "      <td>PandemicPreps</td>\n",
       "      <td>1583022495</td>\n",
       "      <td>AccidentalDragon</td>\n",
       "      <td>44</td>\n",
       "      <td>1</td>\n",
       "      <td>True</td>\n",
       "      <td>2020-02-29 16:28:15</td>\n",
       "      <td>find stores c isopropyl alcohol c aloe vera gel another receipt essential oils tablespoon rubbing alcohol tablespoons vodka drops tea tree essential oil drops lavender essential oil cup aloe vera gel teaspoon vitamin e oil optional small bottle could find iso stores lol</td>\n",
       "    </tr>\n",
       "    <tr>\n",
       "      <th>3</th>\n",
       "      <td>Anyone notice anything in the Denver / Boulder area? I see no concern and it concerns me!</td>\n",
       "      <td>What the hell is going on. Anyone around this area notice anything?</td>\n",
       "      <td>PandemicPreps</td>\n",
       "      <td>1583023089</td>\n",
       "      <td>Wizard_Knife_Fight</td>\n",
       "      <td>12</td>\n",
       "      <td>1</td>\n",
       "      <td>True</td>\n",
       "      <td>2020-02-29 16:38:09</td>\n",
       "      <td>hell going anyone around area notice anything</td>\n",
       "    </tr>\n",
       "    <tr>\n",
       "      <th>4</th>\n",
       "      <td>PSA: don’t only buy a bunch of random foods, know how to cook it and get the proper nutrition.</td>\n",
       "      <td>I see a lot of people on here buying around the same types of stuff (canned beans, rice, etc). Just remember to know how to cook each item you buy and which combination of foods will have the right nutrients for example: you can’t live off of only eating meat products. Have a good balance of foods and learn the nutrients balance. Vitamin supplements are very important because fresh produce can...</td>\n",
       "      <td>PandemicPreps</td>\n",
       "      <td>1583025573</td>\n",
       "      <td>cutting-alumination</td>\n",
       "      <td>56</td>\n",
       "      <td>1</td>\n",
       "      <td>True</td>\n",
       "      <td>2020-02-29 17:19:33</td>\n",
       "      <td>see lot people buying around types stuff canned beans rice etc remember know cook item buy combination foods right nutrients example live eating meat products good balance foods learn nutrients balance vitamin supplements important fresh produce go bad stored remember buy purpose good luck prepping guys</td>\n",
       "    </tr>\n",
       "  </tbody>\n",
       "</table>\n",
       "</div>"
      ],
      "text/plain": [
       "                                                                                            title  \\\n",
       "0                                                                           It's going fast in TN   \n",
       "1                                                                   Don’t forget about your pets!   \n",
       "2                                                                              DIY Hand Sanitizer   \n",
       "3       Anyone notice anything in the Denver / Boulder area? I see no concern and it concerns me!   \n",
       "4  PSA: don’t only buy a bunch of random foods, know how to cook it and get the proper nutrition.   \n",
       "\n",
       "                                                                                                                                                                                                                                                                                                                                                                                                          selftext  \\\n",
       "0  Anyone in this group should know to buy now if you haven't, but for the sake of reinforcement - buy now if you haven't!  I took my under 10 aged child to Walmart today and picked up some more to add, and it is a night and day difference from 3 days ago.  Toilet paper gone.  Paper towels gone.  Lysol, down to 4 bottles.  Hand sanitizer and alcohol, gone.  Bleach was available but only a few rem...   \n",
       "1                                                                                                                                                                                                                                                       Amazon is running low on cat and dog food, my normals are sold out. I feel bad for the delivery guy dropping my shit off, almost 300lbs of food and liter.   \n",
       "2  Because you just can't find it in stores any more...\\n\\n [http://www.utahpreppers.com/2009/04/pandemic-preparedness-diy-sanitization/](http://www.utahpreppers.com/2009/04/pandemic-preparedness-diy-sanitization/) \\n\\n* 5 c 91% isopropyl alcohol\\n* 2 c aloe vera gel\\n\\nHere's another receipt with essential oils\\n\\n [https://www.asiaone.com/lifestyle/make-your-own-diy-hand-sanitizer](https://www....   \n",
       "3                                                                                                                                                                                                                                                                                                                                              What the hell is going on. Anyone around this area notice anything?   \n",
       "4  I see a lot of people on here buying around the same types of stuff (canned beans, rice, etc). Just remember to know how to cook each item you buy and which combination of foods will have the right nutrients for example: you can’t live off of only eating meat products. Have a good balance of foods and learn the nutrients balance. Vitamin supplements are very important because fresh produce can...   \n",
       "\n",
       "       subreddit  created_utc               author  num_comments  score  \\\n",
       "0  PandemicPreps   1583021338    BeautifulBalance1            18      1   \n",
       "1  PandemicPreps   1583021470               JKMSDE            12      1   \n",
       "2  PandemicPreps   1583022495     AccidentalDragon            44      1   \n",
       "3  PandemicPreps   1583023089   Wizard_Knife_Fight            12      1   \n",
       "4  PandemicPreps   1583025573  cutting-alumination            56      1   \n",
       "\n",
       "   is_self            timestamp  \\\n",
       "0     True  2020-02-29 16:08:58   \n",
       "1     True  2020-02-29 16:11:10   \n",
       "2     True  2020-02-29 16:28:15   \n",
       "3     True  2020-02-29 16:38:09   \n",
       "4     True  2020-02-29 17:19:33   \n",
       "\n",
       "                                                                                                                                                                                                                                                                                                                                                                                                              post  \n",
       "0  anyone group know buy sake reinforcement buy took aged child walmart today picked add night day difference days ago toilet paper gone paper towels gone lysol bottles hand sanitizer alcohol gone bleach available remained cold meds low even dish gloves ransacked hot dogs gone flour low go beans rice aisle child said coronavirus yes lady checking front joke bottles shampoo conditioner spouse thin...  \n",
       "1                                                                                                                                                                                                                                                                                                           amazon running low cat dog food normals sold feel bad delivery guy dropping shit almost lbs food liter  \n",
       "2                                                                                                                                   find stores c isopropyl alcohol c aloe vera gel another receipt essential oils tablespoon rubbing alcohol tablespoons vodka drops tea tree essential oil drops lavender essential oil cup aloe vera gel teaspoon vitamin e oil optional small bottle could find iso stores lol  \n",
       "3                                                                                                                                                                                                                                                                                                                                                                    hell going anyone around area notice anything  \n",
       "4                                                                                                 see lot people buying around types stuff canned beans rice etc remember know cook item buy combination foods right nutrients example live eating meat products good balance foods learn nutrients balance vitamin supplements important fresh produce go bad stored remember buy purpose good luck prepping guys  "
      ]
     },
     "execution_count": 37,
     "metadata": {},
     "output_type": "execute_result"
    }
   ],
   "source": [
    "df.head()"
   ]
  },
  {
   "cell_type": "markdown",
   "id": "c55f4950",
   "metadata": {},
   "source": [
    "### Spelling Correction"
   ]
  },
  {
   "cell_type": "code",
   "execution_count": 38,
   "id": "0708f62d",
   "metadata": {},
   "outputs": [],
   "source": [
    "def compare(corrected_text, original_text):  \n",
    "    \n",
    "    l1 = list(corrected_text)\n",
    "    l2 = list(original_text)\n",
    "#     print(l1)\n",
    "    l1_ = [line.split(' ') for line in l1][0]\n",
    "    l2_ = [line.split(' ')for line in l2][0]\n",
    "#     print(l1)\n",
    "    good = 0\n",
    "    bad = 0\n",
    "    for i in range(0, len(l1)):\n",
    "        if l1_[i] != l2_[i]:\n",
    "            bad += 1\n",
    "            print(l1_[i] , l2_[i])\n",
    "        else:\n",
    "            good += 1\n",
    "    print(f'Number of accurate words are= {good},\\\n",
    "          \\nNumber of corrected words= {bad},\\\n",
    "          \\nCorrection Percentage={np.round(bad*100/(len(l1)), 1)}%')\n"
   ]
  },
  {
   "cell_type": "code",
   "execution_count": 39,
   "id": "689cbadb",
   "metadata": {},
   "outputs": [],
   "source": [
    "def correct_spell(original_text_df):\n",
    "    \n",
    "    return original_text_df.apply(lambda x: str(TextBlob(x).correct()))   # Correcting the text\n",
    "    "
   ]
  },
  {
   "cell_type": "code",
   "execution_count": 40,
   "id": "c2514340",
   "metadata": {},
   "outputs": [],
   "source": [
    "# df['post'] = correct_spell(original_text_df=df['post'])"
   ]
  },
  {
   "cell_type": "code",
   "execution_count": 41,
   "id": "4aaee16f",
   "metadata": {},
   "outputs": [
    {
     "data": {
      "text/html": [
       "<div>\n",
       "<style scoped>\n",
       "    .dataframe tbody tr th:only-of-type {\n",
       "        vertical-align: middle;\n",
       "    }\n",
       "\n",
       "    .dataframe tbody tr th {\n",
       "        vertical-align: top;\n",
       "    }\n",
       "\n",
       "    .dataframe thead th {\n",
       "        text-align: right;\n",
       "    }\n",
       "</style>\n",
       "<table border=\"1\" class=\"dataframe\">\n",
       "  <thead>\n",
       "    <tr style=\"text-align: right;\">\n",
       "      <th></th>\n",
       "      <th>title</th>\n",
       "      <th>selftext</th>\n",
       "      <th>subreddit</th>\n",
       "      <th>created_utc</th>\n",
       "      <th>author</th>\n",
       "      <th>num_comments</th>\n",
       "      <th>score</th>\n",
       "      <th>is_self</th>\n",
       "      <th>timestamp</th>\n",
       "      <th>post</th>\n",
       "    </tr>\n",
       "  </thead>\n",
       "  <tbody>\n",
       "    <tr>\n",
       "      <th>0</th>\n",
       "      <td>It's going fast in TN</td>\n",
       "      <td>Anyone in this group should know to buy now if you haven't, but for the sake of reinforcement - buy now if you haven't!  I took my under 10 aged child to Walmart today and picked up some more to add, and it is a night and day difference from 3 days ago.  Toilet paper gone.  Paper towels gone.  Lysol, down to 4 bottles.  Hand sanitizer and alcohol, gone.  Bleach was available but only a few rem...</td>\n",
       "      <td>PandemicPreps</td>\n",
       "      <td>1583021338</td>\n",
       "      <td>BeautifulBalance1</td>\n",
       "      <td>18</td>\n",
       "      <td>1</td>\n",
       "      <td>True</td>\n",
       "      <td>2020-02-29 16:08:58</td>\n",
       "      <td>anyone group know buy sake reinforcement buy took aged child walmart today picked add night day difference days ago toilet paper gone paper towels gone lysol bottles hand sanitizer alcohol gone bleach available remained cold meds low even dish gloves ransacked hot dogs gone flour low go beans rice aisle child said coronavirus yes lady checking front joke bottles shampoo conditioner spouse thin...</td>\n",
       "    </tr>\n",
       "    <tr>\n",
       "      <th>1</th>\n",
       "      <td>Don’t forget about your pets!</td>\n",
       "      <td>Amazon is running low on cat and dog food, my normals are sold out. I feel bad for the delivery guy dropping my shit off, almost 300lbs of food and liter.</td>\n",
       "      <td>PandemicPreps</td>\n",
       "      <td>1583021470</td>\n",
       "      <td>JKMSDE</td>\n",
       "      <td>12</td>\n",
       "      <td>1</td>\n",
       "      <td>True</td>\n",
       "      <td>2020-02-29 16:11:10</td>\n",
       "      <td>amazon running low cat dog food normals sold feel bad delivery guy dropping shit almost lbs food liter</td>\n",
       "    </tr>\n",
       "    <tr>\n",
       "      <th>2</th>\n",
       "      <td>DIY Hand Sanitizer</td>\n",
       "      <td>Because you just can't find it in stores any more...\\n\\n [http://www.utahpreppers.com/2009/04/pandemic-preparedness-diy-sanitization/](http://www.utahpreppers.com/2009/04/pandemic-preparedness-diy-sanitization/) \\n\\n* 5 c 91% isopropyl alcohol\\n* 2 c aloe vera gel\\n\\nHere's another receipt with essential oils\\n\\n [https://www.asiaone.com/lifestyle/make-your-own-diy-hand-sanitizer](https://www....</td>\n",
       "      <td>PandemicPreps</td>\n",
       "      <td>1583022495</td>\n",
       "      <td>AccidentalDragon</td>\n",
       "      <td>44</td>\n",
       "      <td>1</td>\n",
       "      <td>True</td>\n",
       "      <td>2020-02-29 16:28:15</td>\n",
       "      <td>find stores c isopropyl alcohol c aloe vera gel another receipt essential oils tablespoon rubbing alcohol tablespoons vodka drops tea tree essential oil drops lavender essential oil cup aloe vera gel teaspoon vitamin e oil optional small bottle could find iso stores lol</td>\n",
       "    </tr>\n",
       "    <tr>\n",
       "      <th>3</th>\n",
       "      <td>Anyone notice anything in the Denver / Boulder area? I see no concern and it concerns me!</td>\n",
       "      <td>What the hell is going on. Anyone around this area notice anything?</td>\n",
       "      <td>PandemicPreps</td>\n",
       "      <td>1583023089</td>\n",
       "      <td>Wizard_Knife_Fight</td>\n",
       "      <td>12</td>\n",
       "      <td>1</td>\n",
       "      <td>True</td>\n",
       "      <td>2020-02-29 16:38:09</td>\n",
       "      <td>hell going anyone around area notice anything</td>\n",
       "    </tr>\n",
       "    <tr>\n",
       "      <th>4</th>\n",
       "      <td>PSA: don’t only buy a bunch of random foods, know how to cook it and get the proper nutrition.</td>\n",
       "      <td>I see a lot of people on here buying around the same types of stuff (canned beans, rice, etc). Just remember to know how to cook each item you buy and which combination of foods will have the right nutrients for example: you can’t live off of only eating meat products. Have a good balance of foods and learn the nutrients balance. Vitamin supplements are very important because fresh produce can...</td>\n",
       "      <td>PandemicPreps</td>\n",
       "      <td>1583025573</td>\n",
       "      <td>cutting-alumination</td>\n",
       "      <td>56</td>\n",
       "      <td>1</td>\n",
       "      <td>True</td>\n",
       "      <td>2020-02-29 17:19:33</td>\n",
       "      <td>see lot people buying around types stuff canned beans rice etc remember know cook item buy combination foods right nutrients example live eating meat products good balance foods learn nutrients balance vitamin supplements important fresh produce go bad stored remember buy purpose good luck prepping guys</td>\n",
       "    </tr>\n",
       "  </tbody>\n",
       "</table>\n",
       "</div>"
      ],
      "text/plain": [
       "                                                                                            title  \\\n",
       "0                                                                           It's going fast in TN   \n",
       "1                                                                   Don’t forget about your pets!   \n",
       "2                                                                              DIY Hand Sanitizer   \n",
       "3       Anyone notice anything in the Denver / Boulder area? I see no concern and it concerns me!   \n",
       "4  PSA: don’t only buy a bunch of random foods, know how to cook it and get the proper nutrition.   \n",
       "\n",
       "                                                                                                                                                                                                                                                                                                                                                                                                          selftext  \\\n",
       "0  Anyone in this group should know to buy now if you haven't, but for the sake of reinforcement - buy now if you haven't!  I took my under 10 aged child to Walmart today and picked up some more to add, and it is a night and day difference from 3 days ago.  Toilet paper gone.  Paper towels gone.  Lysol, down to 4 bottles.  Hand sanitizer and alcohol, gone.  Bleach was available but only a few rem...   \n",
       "1                                                                                                                                                                                                                                                       Amazon is running low on cat and dog food, my normals are sold out. I feel bad for the delivery guy dropping my shit off, almost 300lbs of food and liter.   \n",
       "2  Because you just can't find it in stores any more...\\n\\n [http://www.utahpreppers.com/2009/04/pandemic-preparedness-diy-sanitization/](http://www.utahpreppers.com/2009/04/pandemic-preparedness-diy-sanitization/) \\n\\n* 5 c 91% isopropyl alcohol\\n* 2 c aloe vera gel\\n\\nHere's another receipt with essential oils\\n\\n [https://www.asiaone.com/lifestyle/make-your-own-diy-hand-sanitizer](https://www....   \n",
       "3                                                                                                                                                                                                                                                                                                                                              What the hell is going on. Anyone around this area notice anything?   \n",
       "4  I see a lot of people on here buying around the same types of stuff (canned beans, rice, etc). Just remember to know how to cook each item you buy and which combination of foods will have the right nutrients for example: you can’t live off of only eating meat products. Have a good balance of foods and learn the nutrients balance. Vitamin supplements are very important because fresh produce can...   \n",
       "\n",
       "       subreddit  created_utc               author  num_comments  score  \\\n",
       "0  PandemicPreps   1583021338    BeautifulBalance1            18      1   \n",
       "1  PandemicPreps   1583021470               JKMSDE            12      1   \n",
       "2  PandemicPreps   1583022495     AccidentalDragon            44      1   \n",
       "3  PandemicPreps   1583023089   Wizard_Knife_Fight            12      1   \n",
       "4  PandemicPreps   1583025573  cutting-alumination            56      1   \n",
       "\n",
       "   is_self            timestamp  \\\n",
       "0     True  2020-02-29 16:08:58   \n",
       "1     True  2020-02-29 16:11:10   \n",
       "2     True  2020-02-29 16:28:15   \n",
       "3     True  2020-02-29 16:38:09   \n",
       "4     True  2020-02-29 17:19:33   \n",
       "\n",
       "                                                                                                                                                                                                                                                                                                                                                                                                              post  \n",
       "0  anyone group know buy sake reinforcement buy took aged child walmart today picked add night day difference days ago toilet paper gone paper towels gone lysol bottles hand sanitizer alcohol gone bleach available remained cold meds low even dish gloves ransacked hot dogs gone flour low go beans rice aisle child said coronavirus yes lady checking front joke bottles shampoo conditioner spouse thin...  \n",
       "1                                                                                                                                                                                                                                                                                                           amazon running low cat dog food normals sold feel bad delivery guy dropping shit almost lbs food liter  \n",
       "2                                                                                                                                   find stores c isopropyl alcohol c aloe vera gel another receipt essential oils tablespoon rubbing alcohol tablespoons vodka drops tea tree essential oil drops lavender essential oil cup aloe vera gel teaspoon vitamin e oil optional small bottle could find iso stores lol  \n",
       "3                                                                                                                                                                                                                                                                                                                                                                    hell going anyone around area notice anything  \n",
       "4                                                                                                 see lot people buying around types stuff canned beans rice etc remember know cook item buy combination foods right nutrients example live eating meat products good balance foods learn nutrients balance vitamin supplements important fresh produce go bad stored remember buy purpose good luck prepping guys  "
      ]
     },
     "execution_count": 41,
     "metadata": {},
     "output_type": "execute_result"
    }
   ],
   "source": [
    "df.head()"
   ]
  },
  {
   "cell_type": "code",
   "execution_count": null,
   "id": "61b55ea0",
   "metadata": {},
   "outputs": [],
   "source": []
  },
  {
   "cell_type": "markdown",
   "id": "e521407f",
   "metadata": {},
   "source": [
    "# Stemmizing\n",
    "When we \"stem\" data, we take words and attempt to return a base form of the word. It tends to be cruder than using lemmatization."
   ]
  },
  {
   "cell_type": "code",
   "execution_count": 42,
   "id": "94b684b3",
   "metadata": {},
   "outputs": [],
   "source": [
    "Pstemmizer = PorterStemmer()"
   ]
  },
  {
   "cell_type": "code",
   "execution_count": 43,
   "id": "714bebf2",
   "metadata": {},
   "outputs": [],
   "source": [
    "def make_token(post):\n",
    "    tokenizer = RegexpTokenizer(r'\\w+') # remove the punctuation \n",
    "    post_tokens = tokenizer.tokenize(post)\n",
    "    stem_spam = [Pstemmizer.stem(token) for token in post_tokens]\n",
    "    return (' '.join(stem_spam))\n",
    "    "
   ]
  },
  {
   "cell_type": "code",
   "execution_count": 44,
   "id": "aa4958b0",
   "metadata": {},
   "outputs": [],
   "source": [
    "df['token'] = list(map(make_token,df['post']))"
   ]
  },
  {
   "cell_type": "code",
   "execution_count": 45,
   "id": "e4d41dde",
   "metadata": {},
   "outputs": [
    {
     "data": {
      "text/html": [
       "<div>\n",
       "<style scoped>\n",
       "    .dataframe tbody tr th:only-of-type {\n",
       "        vertical-align: middle;\n",
       "    }\n",
       "\n",
       "    .dataframe tbody tr th {\n",
       "        vertical-align: top;\n",
       "    }\n",
       "\n",
       "    .dataframe thead th {\n",
       "        text-align: right;\n",
       "    }\n",
       "</style>\n",
       "<table border=\"1\" class=\"dataframe\">\n",
       "  <thead>\n",
       "    <tr style=\"text-align: right;\">\n",
       "      <th></th>\n",
       "      <th>selftext</th>\n",
       "      <th>post</th>\n",
       "      <th>token</th>\n",
       "    </tr>\n",
       "  </thead>\n",
       "  <tbody>\n",
       "    <tr>\n",
       "      <th>0</th>\n",
       "      <td>Anyone in this group should know to buy now if you haven't, but for the sake of reinforcement - buy now if you haven't!  I took my under 10 aged child to Walmart today and picked up some more to add, and it is a night and day difference from 3 days ago.  Toilet paper gone.  Paper towels gone.  Lysol, down to 4 bottles.  Hand sanitizer and alcohol, gone.  Bleach was available but only a few rem...</td>\n",
       "      <td>anyone group know buy sake reinforcement buy took aged child walmart today picked add night day difference days ago toilet paper gone paper towels gone lysol bottles hand sanitizer alcohol gone bleach available remained cold meds low even dish gloves ransacked hot dogs gone flour low go beans rice aisle child said coronavirus yes lady checking front joke bottles shampoo conditioner spouse thin...</td>\n",
       "      <td>anyon group know buy sake reinforc buy took age child walmart today pick add night day differ day ago toilet paper gone paper towel gone lysol bottl hand sanit alcohol gone bleach avail remain cold med low even dish glove ransack hot dog gone flour low go bean rice aisl child said coronaviru ye ladi check front joke bottl shampoo condition spous think overplay taken video could see saw pleas g...</td>\n",
       "    </tr>\n",
       "    <tr>\n",
       "      <th>1</th>\n",
       "      <td>Amazon is running low on cat and dog food, my normals are sold out. I feel bad for the delivery guy dropping my shit off, almost 300lbs of food and liter.</td>\n",
       "      <td>amazon running low cat dog food normals sold feel bad delivery guy dropping shit almost lbs food liter</td>\n",
       "      <td>amazon run low cat dog food normal sold feel bad deliveri guy drop shit almost lb food liter</td>\n",
       "    </tr>\n",
       "    <tr>\n",
       "      <th>2</th>\n",
       "      <td>Because you just can't find it in stores any more...\\n\\n [http://www.utahpreppers.com/2009/04/pandemic-preparedness-diy-sanitization/](http://www.utahpreppers.com/2009/04/pandemic-preparedness-diy-sanitization/) \\n\\n* 5 c 91% isopropyl alcohol\\n* 2 c aloe vera gel\\n\\nHere's another receipt with essential oils\\n\\n [https://www.asiaone.com/lifestyle/make-your-own-diy-hand-sanitizer](https://www....</td>\n",
       "      <td>find stores c isopropyl alcohol c aloe vera gel another receipt essential oils tablespoon rubbing alcohol tablespoons vodka drops tea tree essential oil drops lavender essential oil cup aloe vera gel teaspoon vitamin e oil optional small bottle could find iso stores lol</td>\n",
       "      <td>find store c isopropyl alcohol c alo vera gel anoth receipt essenti oil tablespoon rub alcohol tablespoon vodka drop tea tree essenti oil drop lavend essenti oil cup alo vera gel teaspoon vitamin e oil option small bottl could find iso store lol</td>\n",
       "    </tr>\n",
       "    <tr>\n",
       "      <th>3</th>\n",
       "      <td>What the hell is going on. Anyone around this area notice anything?</td>\n",
       "      <td>hell going anyone around area notice anything</td>\n",
       "      <td>hell go anyon around area notic anyth</td>\n",
       "    </tr>\n",
       "    <tr>\n",
       "      <th>4</th>\n",
       "      <td>I see a lot of people on here buying around the same types of stuff (canned beans, rice, etc). Just remember to know how to cook each item you buy and which combination of foods will have the right nutrients for example: you can’t live off of only eating meat products. Have a good balance of foods and learn the nutrients balance. Vitamin supplements are very important because fresh produce can...</td>\n",
       "      <td>see lot people buying around types stuff canned beans rice etc remember know cook item buy combination foods right nutrients example live eating meat products good balance foods learn nutrients balance vitamin supplements important fresh produce go bad stored remember buy purpose good luck prepping guys</td>\n",
       "      <td>see lot peopl buy around type stuff can bean rice etc rememb know cook item buy combin food right nutrient exampl live eat meat product good balanc food learn nutrient balanc vitamin supplement import fresh produc go bad store rememb buy purpos good luck prep guy</td>\n",
       "    </tr>\n",
       "    <tr>\n",
       "      <th>...</th>\n",
       "      <td>...</td>\n",
       "      <td>...</td>\n",
       "      <td>...</td>\n",
       "    </tr>\n",
       "    <tr>\n",
       "      <th>2357</th>\n",
       "      <td>So right now I have about 50 days of food prepped for 2 people (50 each) at 2000 calories. \\n\\nI’m not sure if I should get more. I’ve got all my other supplies with just a few things here and there but nothing critical I need anymore.\\n\\nI’m just not sure if 50 days per person for me and my partner is enough or if I should get more. \\n\\nHow many days of food are you prepping for each person?</td>\n",
       "      <td>right days food prepped people calories sure get got supplies things nothing critical need anymore sure days per person partner enough get many days food prepping person</td>\n",
       "      <td>right day food prep peopl calori sure get got suppli thing noth critic need anymor sure day per person partner enough get mani day food prep person</td>\n",
       "    </tr>\n",
       "    <tr>\n",
       "      <th>2358</th>\n",
       "      <td>\\nEven if you avoid non essential travel, I'm sure some people might still need to fly long distances for various obligations.\\n\\nAre there guides or tips on what exactly one should do while going through security check, same sitting in the plane?\\n\\nFor instance, how to sanitize your plane seat?\\n\\nAny advice would be appreciated!!</td>\n",
       "      <td>even avoid non essential travel sure people might still need fly long distances various obligations guides tips exactly one going security check sitting plane instance sanitize plane seat advice would appreciated</td>\n",
       "      <td>even avoid non essenti travel sure peopl might still need fli long distanc variou oblig guid tip exactli one go secur check sit plane instanc sanit plane seat advic would appreci</td>\n",
       "    </tr>\n",
       "    <tr>\n",
       "      <th>2359</th>\n",
       "      <td>Why are many people expecting power outages and/or water contamination/loss of water during COVID-19 pandemic? \\n\\nIt’s an honest question and I’d like to understand people’s reasoning as maybe I’m overlooking something important. I keep hearing people say they are ready for the coming power outages or seeing it online.\\n\\nI’ve been following news and individual reports from hard hit areas and...</td>\n",
       "      <td>many people expecting power outages water contamination loss water covid pandemic honest question like understand people reasoning maybe overlooking something important keep hearing people say ready coming power outages seeing online following news individual reports hard hit areas quarantined areas appear shut power plants water treatment plants appear disruptions sars even ebola hit areas es...</td>\n",
       "      <td>mani peopl expect power outag water contamin loss water covid pandem honest question like understand peopl reason mayb overlook someth import keep hear peopl say readi come power outag see onlin follow news individu report hard hit area quarantin area appear shut power plant water treatment plant appear disrupt sar even ebola hit area essenti personnel critic servic alway work genuin wonder co...</td>\n",
       "    </tr>\n",
       "    <tr>\n",
       "      <th>2360</th>\n",
       "      <td>My husband’s been an ER RN for 20 years. He’s also been a Type 1 diabetic since he was 6. Over the course of our 26-year marriage the subject of a pandemic has come up several times. We created a master list of our needs and over the years we’ve purchased the big items. Last month we refreshed our supply on old items, but we’re still banging our heads against the same and most important subjec...</td>\n",
       "      <td>husband er rn years also type diabetic since course year marriage subject pandemic come several times created master list needs years purchased big items last month refreshed supply old items still banging heads important subject solar mini fridge insulin lose power feel dumb overwhelmed try understand need house root cellar giant generator apartment dwellers second floor yard ability mount so...</td>\n",
       "      <td>husband er rn year also type diabet sinc cours year marriag subject pandem come sever time creat master list need year purchas big item last month refresh suppli old item still bang head import subject solar mini fridg insulin lose power feel dumb overwhelm tri understand need hous root cellar giant gener apart dweller second floor yard abil mount solar panel hope get advic someon tackl issu s...</td>\n",
       "    </tr>\n",
       "    <tr>\n",
       "      <th>2361</th>\n",
       "      <td>Like in the title, that’s what I’m able to spend right now. I have 2-5 lb bags of rice, 2 flats of 40 water bottles, frozen veggies, peanut butter, lots of beans and bouillon cubes. What else would y’all get for food?</td>\n",
       "      <td>like title able spend right lb bags rice flats water bottles frozen veggies peanut butter lots beans bouillon cubes else would get food</td>\n",
       "      <td>like titl abl spend right lb bag rice flat water bottl frozen veggi peanut butter lot bean bouillon cube els would get food</td>\n",
       "    </tr>\n",
       "  </tbody>\n",
       "</table>\n",
       "<p>2362 rows × 3 columns</p>\n",
       "</div>"
      ],
      "text/plain": [
       "                                                                                                                                                                                                                                                                                                                                                                                                             selftext  \\\n",
       "0     Anyone in this group should know to buy now if you haven't, but for the sake of reinforcement - buy now if you haven't!  I took my under 10 aged child to Walmart today and picked up some more to add, and it is a night and day difference from 3 days ago.  Toilet paper gone.  Paper towels gone.  Lysol, down to 4 bottles.  Hand sanitizer and alcohol, gone.  Bleach was available but only a few rem...   \n",
       "1                                                                                                                                                                                                                                                          Amazon is running low on cat and dog food, my normals are sold out. I feel bad for the delivery guy dropping my shit off, almost 300lbs of food and liter.   \n",
       "2     Because you just can't find it in stores any more...\\n\\n [http://www.utahpreppers.com/2009/04/pandemic-preparedness-diy-sanitization/](http://www.utahpreppers.com/2009/04/pandemic-preparedness-diy-sanitization/) \\n\\n* 5 c 91% isopropyl alcohol\\n* 2 c aloe vera gel\\n\\nHere's another receipt with essential oils\\n\\n [https://www.asiaone.com/lifestyle/make-your-own-diy-hand-sanitizer](https://www....   \n",
       "3                                                                                                                                                                                                                                                                                                                                                 What the hell is going on. Anyone around this area notice anything?   \n",
       "4     I see a lot of people on here buying around the same types of stuff (canned beans, rice, etc). Just remember to know how to cook each item you buy and which combination of foods will have the right nutrients for example: you can’t live off of only eating meat products. Have a good balance of foods and learn the nutrients balance. Vitamin supplements are very important because fresh produce can...   \n",
       "...                                                                                                                                                                                                                                                                                                                                                                                                               ...   \n",
       "2357      So right now I have about 50 days of food prepped for 2 people (50 each) at 2000 calories. \\n\\nI’m not sure if I should get more. I’ve got all my other supplies with just a few things here and there but nothing critical I need anymore.\\n\\nI’m just not sure if 50 days per person for me and my partner is enough or if I should get more. \\n\\nHow many days of food are you prepping for each person?   \n",
       "2358                                                                   \\nEven if you avoid non essential travel, I'm sure some people might still need to fly long distances for various obligations.\\n\\nAre there guides or tips on what exactly one should do while going through security check, same sitting in the plane?\\n\\nFor instance, how to sanitize your plane seat?\\n\\nAny advice would be appreciated!!   \n",
       "2359  Why are many people expecting power outages and/or water contamination/loss of water during COVID-19 pandemic? \\n\\nIt’s an honest question and I’d like to understand people’s reasoning as maybe I’m overlooking something important. I keep hearing people say they are ready for the coming power outages or seeing it online.\\n\\nI’ve been following news and individual reports from hard hit areas and...   \n",
       "2360  My husband’s been an ER RN for 20 years. He’s also been a Type 1 diabetic since he was 6. Over the course of our 26-year marriage the subject of a pandemic has come up several times. We created a master list of our needs and over the years we’ve purchased the big items. Last month we refreshed our supply on old items, but we’re still banging our heads against the same and most important subjec...   \n",
       "2361                                                                                                                                                                                        Like in the title, that’s what I’m able to spend right now. I have 2-5 lb bags of rice, 2 flats of 40 water bottles, frozen veggies, peanut butter, lots of beans and bouillon cubes. What else would y’all get for food?   \n",
       "\n",
       "                                                                                                                                                                                                                                                                                                                                                                                                                 post  \\\n",
       "0     anyone group know buy sake reinforcement buy took aged child walmart today picked add night day difference days ago toilet paper gone paper towels gone lysol bottles hand sanitizer alcohol gone bleach available remained cold meds low even dish gloves ransacked hot dogs gone flour low go beans rice aisle child said coronavirus yes lady checking front joke bottles shampoo conditioner spouse thin...   \n",
       "1                                                                                                                                                                                                                                                                                                              amazon running low cat dog food normals sold feel bad delivery guy dropping shit almost lbs food liter   \n",
       "2                                                                                                                                      find stores c isopropyl alcohol c aloe vera gel another receipt essential oils tablespoon rubbing alcohol tablespoons vodka drops tea tree essential oil drops lavender essential oil cup aloe vera gel teaspoon vitamin e oil optional small bottle could find iso stores lol   \n",
       "3                                                                                                                                                                                                                                                                                                                                                                       hell going anyone around area notice anything   \n",
       "4                                                                                                    see lot people buying around types stuff canned beans rice etc remember know cook item buy combination foods right nutrients example live eating meat products good balance foods learn nutrients balance vitamin supplements important fresh produce go bad stored remember buy purpose good luck prepping guys   \n",
       "...                                                                                                                                                                                                                                                                                                                                                                                                               ...   \n",
       "2357                                                                                                                                                                                                                                        right days food prepped people calories sure get got supplies things nothing critical need anymore sure days per person partner enough get many days food prepping person   \n",
       "2358                                                                                                                                                                                             even avoid non essential travel sure people might still need fly long distances various obligations guides tips exactly one going security check sitting plane instance sanitize plane seat advice would appreciated   \n",
       "2359  many people expecting power outages water contamination loss water covid pandemic honest question like understand people reasoning maybe overlooking something important keep hearing people say ready coming power outages seeing online following news individual reports hard hit areas quarantined areas appear shut power plants water treatment plants appear disruptions sars even ebola hit areas es...   \n",
       "2360  husband er rn years also type diabetic since course year marriage subject pandemic come several times created master list needs years purchased big items last month refreshed supply old items still banging heads important subject solar mini fridge insulin lose power feel dumb overwhelmed try understand need house root cellar giant generator apartment dwellers second floor yard ability mount so...   \n",
       "2361                                                                                                                                                                                                                                                                          like title able spend right lb bags rice flats water bottles frozen veggies peanut butter lots beans bouillon cubes else would get food   \n",
       "\n",
       "                                                                                                                                                                                                                                                                                                                                                                                                                token  \n",
       "0     anyon group know buy sake reinforc buy took age child walmart today pick add night day differ day ago toilet paper gone paper towel gone lysol bottl hand sanit alcohol gone bleach avail remain cold med low even dish glove ransack hot dog gone flour low go bean rice aisl child said coronaviru ye ladi check front joke bottl shampoo condition spous think overplay taken video could see saw pleas g...  \n",
       "1                                                                                                                                                                                                                                                                                                                        amazon run low cat dog food normal sold feel bad deliveri guy drop shit almost lb food liter  \n",
       "2                                                                                                                                                               find store c isopropyl alcohol c alo vera gel anoth receipt essenti oil tablespoon rub alcohol tablespoon vodka drop tea tree essenti oil drop lavend essenti oil cup alo vera gel teaspoon vitamin e oil option small bottl could find iso store lol  \n",
       "3                                                                                                                                                                                                                                                                                                                                                                               hell go anyon around area notic anyth  \n",
       "4                                                                                                                                             see lot peopl buy around type stuff can bean rice etc rememb know cook item buy combin food right nutrient exampl live eat meat product good balanc food learn nutrient balanc vitamin supplement import fresh produc go bad store rememb buy purpos good luck prep guy  \n",
       "...                                                                                                                                                                                                                                                                                                                                                                                                               ...  \n",
       "2357                                                                                                                                                                                                                                                              right day food prep peopl calori sure get got suppli thing noth critic need anymor sure day per person partner enough get mani day food prep person  \n",
       "2358                                                                                                                                                                                                                               even avoid non essenti travel sure peopl might still need fli long distanc variou oblig guid tip exactli one go secur check sit plane instanc sanit plane seat advic would appreci  \n",
       "2359  mani peopl expect power outag water contamin loss water covid pandem honest question like understand peopl reason mayb overlook someth import keep hear peopl say readi come power outag see onlin follow news individu report hard hit area quarantin area appear shut power plant water treatment plant appear disrupt sar even ebola hit area essenti personnel critic servic alway work genuin wonder co...  \n",
       "2360  husband er rn year also type diabet sinc cours year marriag subject pandem come sever time creat master list need year purchas big item last month refresh suppli old item still bang head import subject solar mini fridg insulin lose power feel dumb overwhelm tri understand need hous root cellar giant gener apart dweller second floor yard abil mount solar panel hope get advic someon tackl issu s...  \n",
       "2361                                                                                                                                                                                                                                                                                      like titl abl spend right lb bag rice flat water bottl frozen veggi peanut butter lot bean bouillon cube els would get food  \n",
       "\n",
       "[2362 rows x 3 columns]"
      ]
     },
     "execution_count": 45,
     "metadata": {},
     "output_type": "execute_result"
    }
   ],
   "source": [
    "df[['selftext','post','token']]"
   ]
  },
  {
   "cell_type": "markdown",
   "id": "c4141f54",
   "metadata": {},
   "source": [
    "## Save text-processed doc"
   ]
  },
  {
   "cell_type": "code",
   "execution_count": 46,
   "id": "09ed8636",
   "metadata": {},
   "outputs": [
    {
     "data": {
      "text/plain": [
       "title           0\n",
       "selftext        0\n",
       "subreddit       0\n",
       "created_utc     0\n",
       "author          0\n",
       "num_comments    0\n",
       "score           0\n",
       "is_self         0\n",
       "timestamp       0\n",
       "post            0\n",
       "token           0\n",
       "dtype: int64"
      ]
     },
     "execution_count": 46,
     "metadata": {},
     "output_type": "execute_result"
    }
   ],
   "source": [
    "# check nulls\n",
    "df.isnull().sum()"
   ]
  },
  {
   "cell_type": "code",
   "execution_count": 47,
   "id": "94418631",
   "metadata": {},
   "outputs": [],
   "source": [
    "# save processed data to be used for distingushing with P\n",
    "df.to_csv('../datasets/text_processed_PandemicPreps.csv')"
   ]
  },
  {
   "cell_type": "markdown",
   "id": "2d1afdce",
   "metadata": {},
   "source": [
    "# reduce the time from March 2020 to March 2021"
   ]
  },
  {
   "cell_type": "code",
   "execution_count": 48,
   "id": "0efb299a",
   "metadata": {},
   "outputs": [
    {
     "data": {
      "text/plain": [
       "0       2020-02-29 16:08:58\n",
       "1       2020-02-29 16:11:10\n",
       "2       2020-02-29 16:28:15\n",
       "3       2020-02-29 16:38:09\n",
       "4       2020-02-29 17:19:33\n",
       "               ...         \n",
       "2357    2020-02-29 14:58:17\n",
       "2358    2020-02-29 15:46:42\n",
       "2359    2020-02-29 15:55:08\n",
       "2360    2020-02-29 15:56:39\n",
       "2361    2020-02-29 15:57:46\n",
       "Name: timestamp, Length: 2260, dtype: object"
      ]
     },
     "execution_count": 48,
     "metadata": {},
     "output_type": "execute_result"
    }
   ],
   "source": [
    "df[ df['timestamp'] < '2021-03-09 16:20:54' ]['timestamp']"
   ]
  },
  {
   "cell_type": "code",
   "execution_count": 49,
   "id": "324c36ae",
   "metadata": {},
   "outputs": [
    {
     "data": {
      "text/plain": [
       "(2362, 11)"
      ]
     },
     "execution_count": 49,
     "metadata": {},
     "output_type": "execute_result"
    }
   ],
   "source": [
    "df.shape"
   ]
  },
  {
   "cell_type": "markdown",
   "id": "6184401e",
   "metadata": {},
   "source": [
    "## Save text-processed doc"
   ]
  },
  {
   "cell_type": "markdown",
   "id": "83630238",
   "metadata": {},
   "source": [
    "check nulls for the last time"
   ]
  },
  {
   "cell_type": "code",
   "execution_count": 50,
   "id": "6c795426",
   "metadata": {},
   "outputs": [
    {
     "data": {
      "text/plain": [
       "title           0\n",
       "selftext        0\n",
       "subreddit       0\n",
       "created_utc     0\n",
       "author          0\n",
       "num_comments    0\n",
       "score           0\n",
       "is_self         0\n",
       "timestamp       0\n",
       "post            0\n",
       "token           0\n",
       "dtype: int64"
      ]
     },
     "execution_count": 50,
     "metadata": {},
     "output_type": "execute_result"
    }
   ],
   "source": [
    "df.isnull().sum()"
   ]
  },
  {
   "cell_type": "code",
   "execution_count": 51,
   "id": "878ddb90",
   "metadata": {},
   "outputs": [],
   "source": [
    "df.to_csv('../datasets/text_processed_PandemicPreps_Mar2020_Mar2021.csv')"
   ]
  }
 ],
 "metadata": {
  "kernelspec": {
   "display_name": "Python 3",
   "language": "python",
   "name": "python3"
  },
  "language_info": {
   "codemirror_mode": {
    "name": "ipython",
    "version": 3
   },
   "file_extension": ".py",
   "mimetype": "text/x-python",
   "name": "python",
   "nbconvert_exporter": "python",
   "pygments_lexer": "ipython3",
   "version": "3.9.5"
  }
 },
 "nbformat": 4,
 "nbformat_minor": 5
}
