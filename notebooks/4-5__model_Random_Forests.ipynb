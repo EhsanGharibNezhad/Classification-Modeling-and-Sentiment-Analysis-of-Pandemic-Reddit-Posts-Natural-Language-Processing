{
 "cells": [
  {
   "cell_type": "markdown",
   "id": "1c04f8e4",
   "metadata": {},
   "source": [
    "# Random Forests Model\n",
    "### Author: Ehsan Gharib-Nezhad\n"
   ]
  },
  {
   "cell_type": "markdown",
   "id": "0ee81a16",
   "metadata": {},
   "source": [
    "## Import Libraries and functions"
   ]
  },
  {
   "cell_type": "code",
   "execution_count": 1,
   "id": "cb4e2d88",
   "metadata": {},
   "outputs": [],
   "source": [
    "from myfunctions import *\n",
    "\n",
    "# # Import Bagging Classifier.\n",
    "from sklearn.ensemble import RandomForestClassifier\n",
    "from imblearn.over_sampling import RandomOverSampler\n",
    "\n",
    "from sklearn.feature_extraction.text import CountVectorizer\n",
    "from sklearn.model_selection import train_test_split, cross_val_score, GridSearchCV"
   ]
  },
  {
   "cell_type": "markdown",
   "id": "4ac2e1bb",
   "metadata": {},
   "source": [
    "## Import data"
   ]
  },
  {
   "cell_type": "code",
   "execution_count": 23,
   "id": "47b7b6a9",
   "metadata": {},
   "outputs": [],
   "source": [
    "df = pd.read_csv('../datasets/text_processed_all_posts_combined_imbalanced.csv',index_col=0)\n",
    "is_balanced = False # set True is the dataset is balanced!!! "
   ]
  },
  {
   "cell_type": "markdown",
   "id": "51ef5eba",
   "metadata": {},
   "source": [
    "### Set up X and Y"
   ]
  },
  {
   "cell_type": "code",
   "execution_count": 24,
   "id": "916e5afc",
   "metadata": {},
   "outputs": [],
   "source": [
    "X = df['token']\n",
    "y = df['is_Covid19positive']"
   ]
  },
  {
   "cell_type": "code",
   "execution_count": 25,
   "id": "2752d2ab",
   "metadata": {},
   "outputs": [
    {
     "data": {
      "text/plain": [
       "1    0.929286\n",
       "0    0.070714\n",
       "Name: is_Covid19positive, dtype: float64"
      ]
     },
     "execution_count": 25,
     "metadata": {},
     "output_type": "execute_result"
    }
   ],
   "source": [
    "#check baseline:\n",
    "\n",
    "y.value_counts(normalize = True)"
   ]
  },
  {
   "cell_type": "markdown",
   "id": "5586e76f",
   "metadata": {},
   "source": [
    "# train test split"
   ]
  },
  {
   "cell_type": "code",
   "execution_count": 26,
   "id": "7471dcc2",
   "metadata": {},
   "outputs": [],
   "source": [
    "X_train, X_test, y_train, y_test = train_test_split(X, y, \n",
    "                                                    stratify = y, \n",
    "                                                    random_state = 42)"
   ]
  },
  {
   "cell_type": "code",
   "execution_count": 27,
   "id": "1328767f",
   "metadata": {},
   "outputs": [
    {
     "data": {
      "text/plain": [
       "(1    23072\n",
       " 0     1756\n",
       " Name: is_Covid19positive, dtype: int64,\n",
       " 1    7692\n",
       " 0     585\n",
       " Name: is_Covid19positive, dtype: int64)"
      ]
     },
     "execution_count": 27,
     "metadata": {},
     "output_type": "execute_result"
    }
   ],
   "source": [
    "y_train.value_counts(), y_test.value_counts()"
   ]
  },
  {
   "cell_type": "markdown",
   "id": "958df98c",
   "metadata": {},
   "source": [
    "### Use count vectorizer"
   ]
  },
  {
   "cell_type": "code",
   "execution_count": 28,
   "id": "e29cbe38",
   "metadata": {},
   "outputs": [],
   "source": [
    "cvec = CountVectorizer()"
   ]
  },
  {
   "cell_type": "code",
   "execution_count": 29,
   "id": "856a4b6a",
   "metadata": {},
   "outputs": [],
   "source": [
    "Xcv_train = cvec.fit_transform(X_train)\n",
    "Xcv_test = cvec.transform(X_test)"
   ]
  },
  {
   "cell_type": "markdown",
   "id": "fe493aa2",
   "metadata": {},
   "source": [
    "# ======================================================\n",
    "## For imbalanced case"
   ]
  },
  {
   "cell_type": "code",
   "execution_count": 30,
   "id": "7ffe6ece",
   "metadata": {},
   "outputs": [],
   "source": [
    "ros = RandomOverSampler()\n",
    "\n",
    "Xcv_train , y_train = ros.fit_resample(Xcv_train, y_train)"
   ]
  },
  {
   "cell_type": "markdown",
   "id": "0ffce587",
   "metadata": {},
   "source": [
    "## Instantiate  Random Forest Classifier"
   ]
  },
  {
   "cell_type": "code",
   "execution_count": 31,
   "id": "795ac308",
   "metadata": {},
   "outputs": [],
   "source": [
    "rfc = RandomForestClassifier()"
   ]
  },
  {
   "cell_type": "code",
   "execution_count": 32,
   "id": "f7f02b92",
   "metadata": {},
   "outputs": [
    {
     "data": {
      "text/plain": [
       "RandomForestClassifier()"
      ]
     },
     "execution_count": 32,
     "metadata": {},
     "output_type": "execute_result"
    }
   ],
   "source": [
    "rfc.fit(Xcv_train, y_train)"
   ]
  },
  {
   "cell_type": "code",
   "execution_count": 33,
   "id": "0927f27e",
   "metadata": {},
   "outputs": [
    {
     "data": {
      "text/plain": [
       "(0.9986780513176144, 0.9670170351576658)"
      ]
     },
     "execution_count": 33,
     "metadata": {},
     "output_type": "execute_result"
    }
   ],
   "source": [
    "rfc.score(Xcv_train, y_train), rfc.score(Xcv_test, y_test)"
   ]
  },
  {
   "cell_type": "markdown",
   "id": "61cba413",
   "metadata": {},
   "source": [
    "# Feature Importance"
   ]
  },
  {
   "cell_type": "code",
   "execution_count": 34,
   "id": "ca1045f1",
   "metadata": {},
   "outputs": [],
   "source": [
    "#create a dataframe for our X_train_cv to use later:\n",
    "\n",
    "df_X_train = pd.DataFrame(Xcv_train.todense(), columns=cvec.get_feature_names())"
   ]
  },
  {
   "cell_type": "code",
   "execution_count": 35,
   "id": "2bf0ca6e",
   "metadata": {},
   "outputs": [
    {
     "data": {
      "text/html": [
       "<div>\n",
       "<style scoped>\n",
       "    .dataframe tbody tr th:only-of-type {\n",
       "        vertical-align: middle;\n",
       "    }\n",
       "\n",
       "    .dataframe tbody tr th {\n",
       "        vertical-align: top;\n",
       "    }\n",
       "\n",
       "    .dataframe thead th {\n",
       "        text-align: right;\n",
       "    }\n",
       "</style>\n",
       "<table border=\"1\" class=\"dataframe\">\n",
       "  <thead>\n",
       "    <tr style=\"text-align: right;\">\n",
       "      <th></th>\n",
       "      <th>Column Name</th>\n",
       "      <th>Feature Importance</th>\n",
       "    </tr>\n",
       "  </thead>\n",
       "  <tbody>\n",
       "    <tr>\n",
       "      <th>16838</th>\n",
       "      <td>symptom</td>\n",
       "      <td>0.045128</td>\n",
       "    </tr>\n",
       "    <tr>\n",
       "      <th>17199</th>\n",
       "      <td>test</td>\n",
       "      <td>0.039042</td>\n",
       "    </tr>\n",
       "    <tr>\n",
       "      <th>13187</th>\n",
       "      <td>posit</td>\n",
       "      <td>0.034052</td>\n",
       "    </tr>\n",
       "    <tr>\n",
       "      <th>3864</th>\n",
       "      <td>covid</td>\n",
       "      <td>0.024367</td>\n",
       "    </tr>\n",
       "    <tr>\n",
       "      <th>4248</th>\n",
       "      <td>day</td>\n",
       "      <td>0.017547</td>\n",
       "    </tr>\n",
       "    <tr>\n",
       "      <th>13377</th>\n",
       "      <td>prep</td>\n",
       "      <td>0.014211</td>\n",
       "    </tr>\n",
       "    <tr>\n",
       "      <th>15741</th>\n",
       "      <td>smell</td>\n",
       "      <td>0.013867</td>\n",
       "    </tr>\n",
       "    <tr>\n",
       "      <th>6246</th>\n",
       "      <td>fever</td>\n",
       "      <td>0.013842</td>\n",
       "    </tr>\n",
       "    <tr>\n",
       "      <th>17010</th>\n",
       "      <td>tast</td>\n",
       "      <td>0.012344</td>\n",
       "    </tr>\n",
       "    <tr>\n",
       "      <th>6186</th>\n",
       "      <td>feel</td>\n",
       "      <td>0.010746</td>\n",
       "    </tr>\n",
       "    <tr>\n",
       "      <th>11324</th>\n",
       "      <td>neg</td>\n",
       "      <td>0.010183</td>\n",
       "    </tr>\n",
       "    <tr>\n",
       "      <th>3790</th>\n",
       "      <td>cough</td>\n",
       "      <td>0.009629</td>\n",
       "    </tr>\n",
       "    <tr>\n",
       "      <th>16391</th>\n",
       "      <td>store</td>\n",
       "      <td>0.008386</td>\n",
       "    </tr>\n",
       "    <tr>\n",
       "      <th>17395</th>\n",
       "      <td>throat</td>\n",
       "      <td>0.007846</td>\n",
       "    </tr>\n",
       "    <tr>\n",
       "      <th>16680</th>\n",
       "      <td>suppli</td>\n",
       "      <td>0.007211</td>\n",
       "    </tr>\n",
       "    <tr>\n",
       "      <th>16369</th>\n",
       "      <td>stock</td>\n",
       "      <td>0.007022</td>\n",
       "    </tr>\n",
       "    <tr>\n",
       "      <th>1303</th>\n",
       "      <td>back</td>\n",
       "      <td>0.006936</td>\n",
       "    </tr>\n",
       "    <tr>\n",
       "      <th>18560</th>\n",
       "      <td>use</td>\n",
       "      <td>0.006515</td>\n",
       "    </tr>\n",
       "    <tr>\n",
       "      <th>18603</th>\n",
       "      <td>vaccin</td>\n",
       "      <td>0.006471</td>\n",
       "    </tr>\n",
       "    <tr>\n",
       "      <th>10664</th>\n",
       "      <td>mild</td>\n",
       "      <td>0.006293</td>\n",
       "    </tr>\n",
       "  </tbody>\n",
       "</table>\n",
       "</div>"
      ],
      "text/plain": [
       "      Column Name  Feature Importance\n",
       "16838     symptom            0.045128\n",
       "17199        test            0.039042\n",
       "13187       posit            0.034052\n",
       "3864        covid            0.024367\n",
       "4248          day            0.017547\n",
       "13377        prep            0.014211\n",
       "15741       smell            0.013867\n",
       "6246        fever            0.013842\n",
       "17010        tast            0.012344\n",
       "6186         feel            0.010746\n",
       "11324         neg            0.010183\n",
       "3790        cough            0.009629\n",
       "16391       store            0.008386\n",
       "17395      throat            0.007846\n",
       "16680      suppli            0.007211\n",
       "16369       stock            0.007022\n",
       "1303         back            0.006936\n",
       "18560         use            0.006515\n",
       "18603      vaccin            0.006471\n",
       "10664        mild            0.006293"
      ]
     },
     "execution_count": 35,
     "metadata": {},
     "output_type": "execute_result"
    }
   ],
   "source": [
    "d = {'Column Name':df_X_train.columns,'Feature Importance':rfc.feature_importances_}\n",
    "fi = pd.DataFrame(d)\n",
    "\n",
    "fi.sort_values(by=['Feature Importance'], ascending= False).head(20)"
   ]
  },
  {
   "cell_type": "code",
   "execution_count": 36,
   "id": "83f1af46",
   "metadata": {},
   "outputs": [
    {
     "data": {
      "image/png": "[encoded data removed]",
      "text/plain": [
       "<Figure size 720x576 with 1 Axes>"
      ]
     },
     "metadata": {
      "needs_background": "light"
     },
     "output_type": "display_data"
    }
   ],
   "source": [
    "plt.figure( figsize=(10,8))\n",
    "sns.barplot(x='Feature Importance',y='Column Name', \n",
    "            data=fi.sort_values(by='Feature Importance', ascending=False).iloc[0:20],\n",
    "           palette='coolwarm')\n",
    "plt.xlabel('Feature Importnace ',fontsize=14)\n",
    "plt.ylabel('Feature Name', fontsize = 14)\n",
    "plt.tick_params('both', labelsize = 13)"
   ]
  },
  {
   "cell_type": "markdown",
   "id": "ede2ab48",
   "metadata": {},
   "source": [
    "# Evaluate Model"
   ]
  },
  {
   "cell_type": "code",
   "execution_count": 37,
   "id": "dbe80c01",
   "metadata": {},
   "outputs": [
    {
     "name": "stdout",
     "output_type": "stream",
     "text": [
      "Score on training set: 0.9986780513176144\n",
      "Score on testing set: 0.9670170351576658\n",
      "              precision    recall  f1-score   support\n",
      "\n",
      "           0       0.90      0.60      0.72       585\n",
      "           1       0.97      1.00      0.98      7692\n",
      "\n",
      "    accuracy                           0.97      8277\n",
      "   macro avg       0.94      0.80      0.85      8277\n",
      "weighted avg       0.97      0.97      0.96      8277\n",
      "\n"
     ]
    },
    {
     "data": {
      "image/png": "[encoded data removed]",
      "text/plain": [
       "<Figure size 432x288 with 2 Axes>"
      ]
     },
     "metadata": {
      "needs_background": "light"
     },
     "output_type": "display_data"
    },
    {
     "data": {
      "image/png": "[encoded data removed]",
      "text/plain": [
       "<Figure size 432x288 with 1 Axes>"
      ]
     },
     "metadata": {
      "needs_background": "light"
     },
     "output_type": "display_data"
    }
   ],
   "source": [
    "model_Evaluate(rfc, Xcv_train, Xcv_test, y_train, y_test)"
   ]
  },
  {
   "cell_type": "code",
   "execution_count": 38,
   "id": "25010d12",
   "metadata": {},
   "outputs": [
    {
     "data": {
      "text/plain": [
       "(   score   metric           model balanced\n",
       " 0   1.00  R_train  Random Forests       no\n",
       " 1   0.97   R_test  Random Forests       no,\n",
       "    is_pandemicPreps  is_covid19positive     metric           model balanced\n",
       " 0              0.90                0.97  precision  Random Forests       no\n",
       " 1              0.60                1.00     recall  Random Forests       no\n",
       " 2              0.72                0.98     fscore  Random Forests       no\n",
       " 3            585.00             7692.00    support  Random Forests       no,\n",
       "    score     metric           model balanced\n",
       " 0   0.04   True Neg  Random Forests       no\n",
       " 1   0.03  False Pos  Random Forests       no\n",
       " 2   0.00  False Neg  Random Forests       no\n",
       " 3   0.92   True Pos  Random Forests       no)"
      ]
     },
     "execution_count": 38,
     "metadata": {},
     "output_type": "execute_result"
    }
   ],
   "source": [
    "save_model_Evaluate_values(rfc, Xcv_train, Xcv_test, y_train, y_test,  \n",
    "                             model_name='Random Forests',\n",
    "                             balanced=is_balanced)"
   ]
  },
  {
   "cell_type": "markdown",
   "id": "c42684b0",
   "metadata": {},
   "source": [
    "# ||||||||||||||||||||||||||||||||||||||||||||||||||||||||||||||||||||||||||||||||||||||||||||||||||||||||||||||||||||||||||||||||||||||||||||||||||||||||||||||"
   ]
  },
  {
   "cell_type": "markdown",
   "id": "02aac4f4",
   "metadata": {},
   "source": [
    "\n",
    "# RandomizedSearchCV:\n"
   ]
  },
  {
   "cell_type": "markdown",
   "id": "971ecf17",
   "metadata": {},
   "source": [
    "- This can be used to cut down on time spent on hyperparameter tuning \n",
    "- Can be used with any model, not just Random Forest\n",
    "- There is some tradeoff between runtime and quality of results, but tends to perform fairly well.\n",
    "\n",
    "In contrast to GridSearchCV, not all parameter values are tried out, but rather a fixed number of parameter settings is sampled from the specified distributions or lists. The number of parameter settings that are tried is given by n_iter.\n",
    "\n",
    "#### Primary Parameters:\n",
    "- `estimator`: Your model or pipeline object (same as gridsearch)\n",
    "- `param_distributions`: Same as `param_grid` in Gridsearch, but you can give it distributions instead of lists of values.\n",
    "- `n_iter`: Number of parameter settings that are sampled. n_iter trades off runtime vs quality of the solution.\n",
    "- `cv`: Cross-validated folds (same as Gridsearch)"
   ]
  },
  {
   "cell_type": "code",
   "execution_count": 18,
   "id": "3d9f1db7",
   "metadata": {},
   "outputs": [],
   "source": [
    "pipe_params = {\n",
    "    'n_estimators': [500, 750, 1000],\n",
    "    'max_depth': [17, 19, 21],\n",
    "    'min_samples_split': [3, 5, 7],\n",
    "    'min_samples_leaf': [3 ,5, 7]}"
   ]
  },
  {
   "cell_type": "code",
   "execution_count": 19,
   "id": "87f7132d",
   "metadata": {},
   "outputs": [],
   "source": [
    "gs = GridSearchCV(RandomForestClassifier(), \n",
    "                        pipe_params, \n",
    "                        cv = 5)\n"
   ]
  },
  {
   "cell_type": "code",
   "execution_count": 20,
   "id": "ad3f42b1",
   "metadata": {},
   "outputs": [
    {
     "data": {
      "text/plain": [
       "GridSearchCV(cv=5, estimator=RandomForestClassifier(),\n",
       "             param_grid={'max_depth': [17, 19, 21],\n",
       "                         'min_samples_leaf': [3, 5, 7],\n",
       "                         'min_samples_split': [3, 5, 7],\n",
       "                         'n_estimators': [500, 750, 1000]})"
      ]
     },
     "execution_count": 20,
     "metadata": {},
     "output_type": "execute_result"
    }
   ],
   "source": [
    "gs.fit(Xcv_train, y_train) \n"
   ]
  },
  {
   "cell_type": "code",
   "execution_count": 21,
   "id": "ff39ca89",
   "metadata": {},
   "outputs": [
    {
     "name": "stdout",
     "output_type": "stream",
     "text": [
      "Score on training set: 0.9191441441441441\n",
      "Score on testing set: 0.8846153846153846\n",
      "              precision    recall  f1-score   support\n",
      "\n",
      "           0       0.81      0.96      0.88       586\n",
      "           1       0.97      0.82      0.89       740\n",
      "\n",
      "    accuracy                           0.88      1326\n",
      "   macro avg       0.89      0.89      0.88      1326\n",
      "weighted avg       0.90      0.88      0.88      1326\n",
      "\n"
     ]
    },
    {
     "data": {
      "image/png": "[encoded data removed]",
      "text/plain": [
       "<Figure size 432x288 with 2 Axes>"
      ]
     },
     "metadata": {
      "needs_background": "light"
     },
     "output_type": "display_data"
    },
    {
     "data": {
      "image/png": "[encoded data removed]",
      "text/plain": [
       "<Figure size 432x288 with 1 Axes>"
      ]
     },
     "metadata": {
      "needs_background": "light"
     },
     "output_type": "display_data"
    }
   ],
   "source": [
    "model_Evaluate(gs, Xcv_train, Xcv_test, y_train, y_test)"
   ]
  },
  {
   "cell_type": "code",
   "execution_count": 22,
   "id": "65721fc4",
   "metadata": {},
   "outputs": [
    {
     "data": {
      "text/plain": [
       "(   score   metric                        model balanced\n",
       " 0   0.92  R_train  Random Forests-GridSearchCV      yes\n",
       " 1   0.88   R_test  Random Forests-GridSearchCV      yes,\n",
       "    is_pandemicPreps  is_covid19positive     metric  \\\n",
       " 0              0.81                0.97  precision   \n",
       " 1              0.96                0.82     recall   \n",
       " 2              0.88                0.89     fscore   \n",
       " 3            586.00              740.00    support   \n",
       " \n",
       "                          model balanced  \n",
       " 0  Random Forests-GridSearchCV      yes  \n",
       " 1  Random Forests-GridSearchCV      yes  \n",
       " 2  Random Forests-GridSearchCV      yes  \n",
       " 3  Random Forests-GridSearchCV      yes  ,\n",
       "    score     metric                        model balanced\n",
       " 0   0.43   True Neg  Random Forests-GridSearchCV      yes\n",
       " 1   0.02  False Pos  Random Forests-GridSearchCV      yes\n",
       " 2   0.10  False Neg  Random Forests-GridSearchCV      yes\n",
       " 3   0.46   True Pos  Random Forests-GridSearchCV      yes)"
      ]
     },
     "execution_count": 22,
     "metadata": {},
     "output_type": "execute_result"
    }
   ],
   "source": [
    "save_model_Evaluate_values(gs, Xcv_train, Xcv_test, y_train, y_test,  \n",
    "                             model_name='Random Forests-GridSearchCV',\n",
    "                          balanced = is_balanced)"
   ]
  },
  {
   "cell_type": "markdown",
   "id": "82e123f3",
   "metadata": {},
   "source": [
    "# Feature Importace"
   ]
  },
  {
   "cell_type": "code",
   "execution_count": 27,
   "id": "6009d6d3",
   "metadata": {},
   "outputs": [],
   "source": [
    "# d = {'Column Name':df_X_train.columns,'Feature Importance':gs.}\n",
    "# fi = pd.DataFrame(d)\n",
    "\n",
    "# fi.sort_values(by=['Feature Importance'], ascending= False).head(20)"
   ]
  },
  {
   "cell_type": "code",
   "execution_count": null,
   "id": "c911c280",
   "metadata": {},
   "outputs": [],
   "source": [
    "plt.figure( figsize=(10,8))\n",
    "sns.barplot(x='Feature Importance',y='Column Name', \n",
    "            data=fi.sort_values(by='Feature Importance', ascending=False).iloc[0:20],\n",
    "           palette='coolwarm')\n",
    "plt.xlabel('Feature Importnace ',fontsize=14)\n",
    "plt.ylabel('Feature Name', fontsize = 14)\n",
    "plt.tick_params('both', labelsize = 13)"
   ]
  },
  {
   "cell_type": "markdown",
   "id": "c2815a19",
   "metadata": {},
   "source": [
    "# Confusion Matrix"
   ]
  },
  {
   "cell_type": "code",
   "execution_count": 28,
   "id": "38086c48",
   "metadata": {},
   "outputs": [
    {
     "ename": "AttributeError",
     "evalue": "'RandomForestClassifier' object has no attribute 'tree_'",
     "output_type": "error",
     "traceback": [
      "\u001b[0;31m---------------------------------------------------------------------------\u001b[0m",
      "\u001b[0;31mAttributeError\u001b[0m                            Traceback (most recent call last)",
      "\u001b[0;32m<ipython-input-28-c6a88f485cba>\u001b[0m in \u001b[0;36m<module>\u001b[0;34m\u001b[0m\n\u001b[1;32m      6\u001b[0m \u001b[0;34m\u001b[0m\u001b[0m\n\u001b[1;32m      7\u001b[0m \u001b[0;31m# Plot our tree.\u001b[0m\u001b[0;34m\u001b[0m\u001b[0;34m\u001b[0m\u001b[0;34m\u001b[0m\u001b[0m\n\u001b[0;32m----> 8\u001b[0;31m plot_tree(gs.best_estimator_,\n\u001b[0m\u001b[1;32m      9\u001b[0m \u001b[0;31m#           feature_names = X_train.columns,\u001b[0m\u001b[0;34m\u001b[0m\u001b[0;34m\u001b[0m\u001b[0;34m\u001b[0m\u001b[0m\n\u001b[1;32m     10\u001b[0m \u001b[0;31m#           class_names = ['Dead', 'Survived'],\u001b[0m\u001b[0;34m\u001b[0m\u001b[0;34m\u001b[0m\u001b[0;34m\u001b[0m\u001b[0m\n",
      "\u001b[0;32m/usr/local/anaconda3/envs/ml/lib/python3.9/site-packages/sklearn/utils/validation.py\u001b[0m in \u001b[0;36minner_f\u001b[0;34m(*args, **kwargs)\u001b[0m\n\u001b[1;32m     61\u001b[0m             \u001b[0mextra_args\u001b[0m \u001b[0;34m=\u001b[0m \u001b[0mlen\u001b[0m\u001b[0;34m(\u001b[0m\u001b[0margs\u001b[0m\u001b[0;34m)\u001b[0m \u001b[0;34m-\u001b[0m \u001b[0mlen\u001b[0m\u001b[0;34m(\u001b[0m\u001b[0mall_args\u001b[0m\u001b[0;34m)\u001b[0m\u001b[0;34m\u001b[0m\u001b[0;34m\u001b[0m\u001b[0m\n\u001b[1;32m     62\u001b[0m             \u001b[0;32mif\u001b[0m \u001b[0mextra_args\u001b[0m \u001b[0;34m<=\u001b[0m \u001b[0;36m0\u001b[0m\u001b[0;34m:\u001b[0m\u001b[0;34m\u001b[0m\u001b[0;34m\u001b[0m\u001b[0m\n\u001b[0;32m---> 63\u001b[0;31m                 \u001b[0;32mreturn\u001b[0m \u001b[0mf\u001b[0m\u001b[0;34m(\u001b[0m\u001b[0;34m*\u001b[0m\u001b[0margs\u001b[0m\u001b[0;34m,\u001b[0m \u001b[0;34m**\u001b[0m\u001b[0mkwargs\u001b[0m\u001b[0;34m)\u001b[0m\u001b[0;34m\u001b[0m\u001b[0;34m\u001b[0m\u001b[0m\n\u001b[0m\u001b[1;32m     64\u001b[0m \u001b[0;34m\u001b[0m\u001b[0m\n\u001b[1;32m     65\u001b[0m             \u001b[0;31m# extra_args > 0\u001b[0m\u001b[0;34m\u001b[0m\u001b[0;34m\u001b[0m\u001b[0;34m\u001b[0m\u001b[0m\n",
      "\u001b[0;32m/usr/local/anaconda3/envs/ml/lib/python3.9/site-packages/sklearn/tree/_export.py\u001b[0m in \u001b[0;36mplot_tree\u001b[0;34m(decision_tree, max_depth, feature_names, class_names, label, filled, impurity, node_ids, proportion, rotate, rounded, precision, ax, fontsize)\u001b[0m\n\u001b[1;32m    192\u001b[0m         \u001b[0mproportion\u001b[0m\u001b[0;34m=\u001b[0m\u001b[0mproportion\u001b[0m\u001b[0;34m,\u001b[0m \u001b[0mrotate\u001b[0m\u001b[0;34m=\u001b[0m\u001b[0mrotate\u001b[0m\u001b[0;34m,\u001b[0m \u001b[0mrounded\u001b[0m\u001b[0;34m=\u001b[0m\u001b[0mrounded\u001b[0m\u001b[0;34m,\u001b[0m\u001b[0;34m\u001b[0m\u001b[0;34m\u001b[0m\u001b[0m\n\u001b[1;32m    193\u001b[0m         precision=precision, fontsize=fontsize)\n\u001b[0;32m--> 194\u001b[0;31m     \u001b[0;32mreturn\u001b[0m \u001b[0mexporter\u001b[0m\u001b[0;34m.\u001b[0m\u001b[0mexport\u001b[0m\u001b[0;34m(\u001b[0m\u001b[0mdecision_tree\u001b[0m\u001b[0;34m,\u001b[0m \u001b[0max\u001b[0m\u001b[0;34m=\u001b[0m\u001b[0max\u001b[0m\u001b[0;34m)\u001b[0m\u001b[0;34m\u001b[0m\u001b[0;34m\u001b[0m\u001b[0m\n\u001b[0m\u001b[1;32m    195\u001b[0m \u001b[0;34m\u001b[0m\u001b[0m\n\u001b[1;32m    196\u001b[0m \u001b[0;34m\u001b[0m\u001b[0m\n",
      "\u001b[0;32m/usr/local/anaconda3/envs/ml/lib/python3.9/site-packages/sklearn/tree/_export.py\u001b[0m in \u001b[0;36mexport\u001b[0;34m(self, decision_tree, ax)\u001b[0m\n\u001b[1;32m    582\u001b[0m         \u001b[0max\u001b[0m\u001b[0;34m.\u001b[0m\u001b[0mclear\u001b[0m\u001b[0;34m(\u001b[0m\u001b[0;34m)\u001b[0m\u001b[0;34m\u001b[0m\u001b[0;34m\u001b[0m\u001b[0m\n\u001b[1;32m    583\u001b[0m         \u001b[0max\u001b[0m\u001b[0;34m.\u001b[0m\u001b[0mset_axis_off\u001b[0m\u001b[0;34m(\u001b[0m\u001b[0;34m)\u001b[0m\u001b[0;34m\u001b[0m\u001b[0;34m\u001b[0m\u001b[0m\n\u001b[0;32m--> 584\u001b[0;31m         my_tree = self._make_tree(0, decision_tree.tree_,\n\u001b[0m\u001b[1;32m    585\u001b[0m                                   decision_tree.criterion)\n\u001b[1;32m    586\u001b[0m         \u001b[0mdraw_tree\u001b[0m \u001b[0;34m=\u001b[0m \u001b[0mbuchheim\u001b[0m\u001b[0;34m(\u001b[0m\u001b[0mmy_tree\u001b[0m\u001b[0;34m)\u001b[0m\u001b[0;34m\u001b[0m\u001b[0;34m\u001b[0m\u001b[0m\n",
      "\u001b[0;31mAttributeError\u001b[0m: 'RandomForestClassifier' object has no attribute 'tree_'"
     ]
    },
    {
     "data": {
      "image/png": "[encoded data removed]",
      "text/plain": [
       "<Figure size 3600x2160 with 1 Axes>"
      ]
     },
     "metadata": {
      "needs_background": "light"
     },
     "output_type": "display_data"
    }
   ],
   "source": [
    "# Import plot_tree from sklearn.tree module.\n",
    "from sklearn.tree import plot_tree\n",
    "\n",
    "# Establish size of figure.\n",
    "plt.figure(figsize = (50, 30))\n",
    "\n",
    "# Plot our tree.\n",
    "plot_tree(gs.best_estimator_,\n",
    "#           feature_names = X_train.columns,\n",
    "#           class_names = ['Dead', 'Survived'],\n",
    "          filled = True);"
   ]
  },
  {
   "cell_type": "code",
   "execution_count": null,
   "id": "9082ae85",
   "metadata": {},
   "outputs": [],
   "source": []
  }
 ],
 "metadata": {
  "kernelspec": {
   "display_name": "Python 3",
   "language": "python",
   "name": "python3"
  },
  "language_info": {
   "codemirror_mode": {
    "name": "ipython",
    "version": 3
   },
   "file_extension": ".py",
   "mimetype": "text/x-python",
   "name": "python",
   "nbconvert_exporter": "python",
   "pygments_lexer": "ipython3",
   "version": "3.9.5"
  }
 },
 "nbformat": 4,
 "nbformat_minor": 5
}
