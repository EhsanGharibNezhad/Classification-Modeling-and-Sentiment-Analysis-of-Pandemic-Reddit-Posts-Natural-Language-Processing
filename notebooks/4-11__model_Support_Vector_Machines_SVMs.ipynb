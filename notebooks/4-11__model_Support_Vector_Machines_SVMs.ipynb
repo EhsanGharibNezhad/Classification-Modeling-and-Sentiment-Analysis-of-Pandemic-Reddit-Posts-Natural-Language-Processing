{
 "cells": [
  {
   "cell_type": "markdown",
   "id": "c3bd5d44",
   "metadata": {},
   "source": [
    "# # Model: Support Vector Machines (SVMs)\n",
    "\n",
    "### Author: Ehsan Gharib-Nezhad\n",
    "\n"
   ]
  },
  {
   "cell_type": "code",
   "execution_count": 16,
   "id": "cb4e2d88",
   "metadata": {},
   "outputs": [],
   "source": [
    "from myfunctions import *\n",
    "\n",
    "from sklearn.feature_extraction.text import CountVectorizer\n",
    "from sklearn.model_selection import train_test_split, cross_val_score, GridSearchCV\n",
    "from sklearn.preprocessing import StandardScaler\n",
    "from sklearn.model_selection import GridSearchCV, train_test_split, StratifiedKFold\n",
    "from sklearn.svm import SVC, LinearSVC\n",
    "from sklearn.feature_extraction.text import CountVectorizer\n",
    "from imblearn.over_sampling import RandomOverSampler\n"
   ]
  },
  {
   "cell_type": "code",
   "execution_count": 17,
   "id": "d3ed863f",
   "metadata": {},
   "outputs": [],
   "source": [
    "df = pd.read_csv('../datasets/text_processed_all_posts_combined_imbalanced.csv',index_col=0)\n",
    "is_balanced = False # set True is the dataset is balanced!!! "
   ]
  },
  {
   "cell_type": "code",
   "execution_count": 18,
   "id": "7804e1c5",
   "metadata": {},
   "outputs": [
    {
     "data": {
      "text/plain": [
       "1    30764\n",
       "0     2341\n",
       "Name: is_Covid19positive, dtype: int64"
      ]
     },
     "execution_count": 18,
     "metadata": {},
     "output_type": "execute_result"
    }
   ],
   "source": [
    "df['is_Covid19positive'].value_counts()"
   ]
  },
  {
   "cell_type": "code",
   "execution_count": 31,
   "id": "8216fc7f",
   "metadata": {},
   "outputs": [
    {
     "data": {
      "text/html": [
       "<div>\n",
       "<style scoped>\n",
       "    .dataframe tbody tr th:only-of-type {\n",
       "        vertical-align: middle;\n",
       "    }\n",
       "\n",
       "    .dataframe tbody tr th {\n",
       "        vertical-align: top;\n",
       "    }\n",
       "\n",
       "    .dataframe thead th {\n",
       "        text-align: right;\n",
       "    }\n",
       "</style>\n",
       "<table border=\"1\" class=\"dataframe\">\n",
       "  <thead>\n",
       "    <tr style=\"text-align: right;\">\n",
       "      <th></th>\n",
       "      <th>selftext</th>\n",
       "      <th>is_Covid19positive</th>\n",
       "    </tr>\n",
       "  </thead>\n",
       "  <tbody>\n",
       "    <tr>\n",
       "      <th>30764</th>\n",
       "      <td>Anyone in this group should know to buy now if you haven't, but for the sake of reinforcement - buy now if you haven't!  I took my under 10 aged child to Walmart today and picked up some more to add, and it is a night and day difference from 3 days ago.  Toilet paper gone.  Paper towels gone.  Lysol, down to 4 bottles.  Hand sanitizer and alcohol, gone.  Bleach was available but only a few rem...</td>\n",
       "      <td>0</td>\n",
       "    </tr>\n",
       "    <tr>\n",
       "      <th>30765</th>\n",
       "      <td>Amazon is running low on cat and dog food, my normals are sold out. I feel bad for the delivery guy dropping my shit off, almost 300lbs of food and liter.</td>\n",
       "      <td>0</td>\n",
       "    </tr>\n",
       "    <tr>\n",
       "      <th>30766</th>\n",
       "      <td>Because you just can't find it in stores any more...\\n\\n [http://www.utahpreppers.com/2009/04/pandemic-preparedness-diy-sanitization/](http://www.utahpreppers.com/2009/04/pandemic-preparedness-diy-sanitization/) \\n\\n* 5 c 91% isopropyl alcohol\\n* 2 c aloe vera gel\\n\\nHere's another receipt with essential oils\\n\\n [https://www.asiaone.com/lifestyle/make-your-own-diy-hand-sanitizer](https://www....</td>\n",
       "      <td>0</td>\n",
       "    </tr>\n",
       "    <tr>\n",
       "      <th>30767</th>\n",
       "      <td>What the hell is going on. Anyone around this area notice anything?</td>\n",
       "      <td>0</td>\n",
       "    </tr>\n",
       "    <tr>\n",
       "      <th>30768</th>\n",
       "      <td>I see a lot of people on here buying around the same types of stuff (canned beans, rice, etc). Just remember to know how to cook each item you buy and which combination of foods will have the right nutrients for example: you can’t live off of only eating meat products. Have a good balance of foods and learn the nutrients balance. Vitamin supplements are very important because fresh produce can...</td>\n",
       "      <td>0</td>\n",
       "    </tr>\n",
       "    <tr>\n",
       "      <th>30769</th>\n",
       "      <td>Had a thought on the potential work from home situation. If quarantine happens, then will internet work with a huge number of homes likely streaming Netflix, Prime, Hulu, etc?</td>\n",
       "      <td>0</td>\n",
       "    </tr>\n",
       "    <tr>\n",
       "      <th>30770</th>\n",
       "      <td>I have a bunch of regular \"dust masks\" from harbor freight. They are not N95 masks, only have one elastic band, but do have a nose metal piece to adjust fit.\\n\\n&amp;amp;#x200B;\\n\\nI'm sure they are nowhere are good as a N95 mask, but in an emergency they might have to do.\\n\\n&amp;amp;#x200B;\\n\\nHas anyone seen any testing done to compare regular non-fit tested dust masks vs N95 masks?\\n\\nThe brand I ...</td>\n",
       "      <td>0</td>\n",
       "    </tr>\n",
       "    <tr>\n",
       "      <th>30771</th>\n",
       "      <td>Where can I get a cheap wheat grinder, or is there a readily available alternative product that would do the job, if needed? I might scour some local thrift stores and see what I can hunt up. I have some long term food storage preps from before this pandemic came up, and it includes wheat berries. I'm familiar with cooking them other ways and adding them to recipes, but if I can acquire a chea...</td>\n",
       "      <td>0</td>\n",
       "    </tr>\n",
       "    <tr>\n",
       "      <th>30772</th>\n",
       "      <td>The last thing you want if food poisoning while bugging in, and a lot of the prepper staples are ones you gotta watch out for. \\n\\nDried Beans - some raw soaked or undercooked beans can give you trouble. Please read up on how to avoid this. There is a toxin called Phytohaemagglutinin in raw beans that must be deactivated by being cooked at a high enough temperature. \\n\\nRice, pasta, potatoes -...</td>\n",
       "      <td>0</td>\n",
       "    </tr>\n",
       "    <tr>\n",
       "      <th>30773</th>\n",
       "      <td>I went to Dollar General tonight(as I do every Saturday for the $5 off a $25 purchase digital coupon), and I was looking for stuff to reach $25 that I might need. They had lots of decent deals and nothing was out of stock. \\n\\nHand Sanitizer? Yep, all sizes in stock. 30 ounce Germx for $4\\n\\nNitrile and Vinyl Gloves? Yep\\n\\nAntibacterial Soap? Yep\\n\\nDisinfectant Wipes? DG brand and Lysol all ...</td>\n",
       "      <td>0</td>\n",
       "    </tr>\n",
       "    <tr>\n",
       "      <th>30774</th>\n",
       "      <td>My parents and I are going to a wedding in about one and a half weeks that's about 1.5k miles away. The flight time there is about 3.5 hours. My parents and I are worried about getting sick especially since there's a lot of people at the airport, on the plane and at the wedding. They've already got masks and hand sanitizers ready. Is there anything else we can do to limit the chances of gettin...</td>\n",
       "      <td>0</td>\n",
       "    </tr>\n",
       "    <tr>\n",
       "      <th>30775</th>\n",
       "      <td>People of lower socioeconomic status are generally less careful about body substance isolation, so fancier grocery stores are safer, than say, walmart.\\n\\n;/</td>\n",
       "      <td>0</td>\n",
       "    </tr>\n",
       "    <tr>\n",
       "      <th>30776</th>\n",
       "      <td>One of the preps I made was buying Fresh Ginger and Ginger powder. I use it as an ingredient in different soups we make , but there is another reason to have it. \\n\\nNo, it's not a cure for Covid-19. That said, there is some scientific evidence that it helps to open airways and helps the lungs secrete mucus. (  [https://www.ncbi.nlm.nih.gov/pmc/articles/PMC3604064/](https://www.ncbi.nlm.nih.go...</td>\n",
       "      <td>0</td>\n",
       "    </tr>\n",
       "    <tr>\n",
       "      <th>30777</th>\n",
       "      <td>Last time I had it was a very long time ago and I can't remember how it tastes. I never wanted to eat it because it looks kind of nasty.</td>\n",
       "      <td>0</td>\n",
       "    </tr>\n",
       "    <tr>\n",
       "      <th>30778</th>\n",
       "      <td>my husband thinks im being irrational about wanting to prep. presently in FL and feel like everyone is in denial. nobody seems at all concerened.</td>\n",
       "      <td>0</td>\n",
       "    </tr>\n",
       "    <tr>\n",
       "      <th>30779</th>\n",
       "      <td>What have you been doing to take care of your mental health during all this? I had a bad week last week regarding sleeping and being able to concentrate, even while watching my usual TV shows (Saturday and still haven’t watched This Is Us?! 😱). I prepped more this weekend and feel a little better, but I still don’t feel totally prepared. I feel like one thing gets crossed off the list and anot...</td>\n",
       "      <td>0</td>\n",
       "    </tr>\n",
       "    <tr>\n",
       "      <th>30780</th>\n",
       "      <td>I’ve noticed guaifenesin mentioned quite a bit.  The other day at Costco I was torn between getting Mucinex that was just an expectorant and Mucinex that was an expectorant and a cough suppressant. I spoke with the pharmacist and he suggested the one with the cough suppressant, but I haven’t really seen that mentioned here. Is there a reason for that? Do you prefer one over the other and why?</td>\n",
       "      <td>0</td>\n",
       "    </tr>\n",
       "    <tr>\n",
       "      <th>30781</th>\n",
       "      <td>Hey Everyone!\\n\\nI've posted a couple of times on here but I want to officially introduce myself. My name is Jess and I'm a certified functional health coach practitioner. One of my health practitioners and I are putting together an Immune Boosting Crash Course that will have protocols and lots of ideas for immune boosting supplements. We thought it might be nice to use this time to educate pe...</td>\n",
       "      <td>0</td>\n",
       "    </tr>\n",
       "    <tr>\n",
       "      <th>30782</th>\n",
       "      <td>I’m a big Costco person. I’m there every week, sometimes more. I love walking around and trying the samples. I haven’t been trying the samples lately. Not an acceptable risk.\\n\\nI’m normally a germ-conscious person, so I try not to touch my face anyway, but I feel like I’ve gotten more aware of that. I’m using hand sanitizer more. My stock was running low before this started and it’s sold out ...</td>\n",
       "      <td>0</td>\n",
       "    </tr>\n",
       "    <tr>\n",
       "      <th>30783</th>\n",
       "      <td>Based off of everything I’m reading, hospitals are likely going to have to turn people away at some point. \\n\\nGenuine question: what on earth are we supposed to do in this scenario? Go home to die? I mean, seriously, is there a way to prep that will actually help? Mucinex can only go so far when it comes to a virus like this... right?</td>\n",
       "      <td>0</td>\n",
       "    </tr>\n",
       "    <tr>\n",
       "      <th>30784</th>\n",
       "      <td>Ex-Wife and kids live 30 minutes away. I can either stick around for when the shit hits the fan. Or go up to my moms 4 hours out of town and be safe. They won’t come with me.</td>\n",
       "      <td>0</td>\n",
       "    </tr>\n",
       "    <tr>\n",
       "      <th>30785</th>\n",
       "      <td>What exactly are you “prepping” for? Do you think the city water will stop flowing because people get the flu? Are you going to hide in your basement eating beans? \\n\\nYou’re reactionary sheep. You’re creating the self-fulfilling prophecy. You’re the problem. Stop.</td>\n",
       "      <td>0</td>\n",
       "    </tr>\n",
       "    <tr>\n",
       "      <th>30786</th>\n",
       "      <td>I have panic disorder/ severe PTSD and because of this, my husband thinks I'm not seeing things clearly. He is just trying to keep me calm and about 90% of the time I need his help to see past the panic of every day. My doctor had me start not watching anything news related a few months ago and my mental health has gotten better. BUT because of this my husband and I have not prepped for the in...</td>\n",
       "      <td>0</td>\n",
       "    </tr>\n",
       "    <tr>\n",
       "      <th>30787</th>\n",
       "      <td>We keep about an extra week to two weeks of food on hand at all times just because there are weeks when we just don't make it to a grocery store. We're also avid campers and I prefer to not need to restock on ice every day, so I have collected recipes that can be made from shelf stable ingredients. \\n\\nFully shelf stable\\n\\n* White Chili ( [https://www.campingdude.com/content/recipe/white\\_chi...</td>\n",
       "      <td>0</td>\n",
       "    </tr>\n",
       "    <tr>\n",
       "      <th>30788</th>\n",
       "      <td>[Link Here ](https://www.reddit.com/r/PandemicPreps/comments/f9hjjm/if_you_are_brand_new_to_prepping_start_here/?utm_source=share&amp;amp;utm_medium=ios_app&amp;amp;utm_name=iossmf)</td>\n",
       "      <td>0</td>\n",
       "    </tr>\n",
       "    <tr>\n",
       "      <th>30789</th>\n",
       "      <td>First sorry for not writing this earlier but yesterday I was pretty busy prepping and organizing my stuff.\\n\\nSo in the grocery store while a few days ago it was only a few shelves with canned food emptied, now there started to have entire sections empty.\\n\\nPasta, instant soup, sugar, floor, canned food, hand sanitizer etc are all gone or only a few items are left.\\n\\nPeople have definitely s...</td>\n",
       "      <td>0</td>\n",
       "    </tr>\n",
       "    <tr>\n",
       "      <th>30790</th>\n",
       "      <td>In a SHTF scenario, how would you dispose of trash? A full self quarantine would include not going into the hallway to the trash chute. \\n\\nI’ll need to leave the apartment either tomorrow or Monday. I don’t want to leave without proper protection (mask, gloves, goggles). However, I don’t want to waste a mask *yet* because supplies are very limited. What would you do? Waste a mask to be safe o...</td>\n",
       "      <td>0</td>\n",
       "    </tr>\n",
       "    <tr>\n",
       "      <th>30791</th>\n",
       "      <td>I'm looking at getting some mylar bags and oxygen absorbers, but would like to store several different dried goods (lentils, rice, herbs etc) in one bag to limit the number of bags I have open (small household).  I am looking at putting these in separate paper bags in each mylar bag.  Will this work or will there be any side effects to this?</td>\n",
       "      <td>0</td>\n",
       "    </tr>\n",
       "    <tr>\n",
       "      <th>30792</th>\n",
       "      <td>A few observations:\\n\\n1. This sub is *filled* with pictures/stories of people stocking up on canned food and such. \\n2. Every now and then, people mention (without actually discussing it much further) 'be sure to know how to actually prepare your food' and every single time, it's met with too many people saying they have little to no experience knowing how to cook. \\n\\nHere's the thing: prepa...</td>\n",
       "      <td>0</td>\n",
       "    </tr>\n",
       "    <tr>\n",
       "      <th>30793</th>\n",
       "      <td>I see people in rural areas prepping almoat more than people in cities, and was wondering, how much worse off are you being in a city? Say living in an apartment and taking public transit</td>\n",
       "      <td>0</td>\n",
       "    </tr>\n",
       "  </tbody>\n",
       "</table>\n",
       "</div>"
      ],
      "text/plain": [
       "                                                                                                                                                                                                                                                                                                                                                                                                              selftext  \\\n",
       "30764  Anyone in this group should know to buy now if you haven't, but for the sake of reinforcement - buy now if you haven't!  I took my under 10 aged child to Walmart today and picked up some more to add, and it is a night and day difference from 3 days ago.  Toilet paper gone.  Paper towels gone.  Lysol, down to 4 bottles.  Hand sanitizer and alcohol, gone.  Bleach was available but only a few rem...   \n",
       "30765                                                                                                                                                                                                                                                       Amazon is running low on cat and dog food, my normals are sold out. I feel bad for the delivery guy dropping my shit off, almost 300lbs of food and liter.   \n",
       "30766  Because you just can't find it in stores any more...\\n\\n [http://www.utahpreppers.com/2009/04/pandemic-preparedness-diy-sanitization/](http://www.utahpreppers.com/2009/04/pandemic-preparedness-diy-sanitization/) \\n\\n* 5 c 91% isopropyl alcohol\\n* 2 c aloe vera gel\\n\\nHere's another receipt with essential oils\\n\\n [https://www.asiaone.com/lifestyle/make-your-own-diy-hand-sanitizer](https://www....   \n",
       "30767                                                                                                                                                                                                                                                                                                                                              What the hell is going on. Anyone around this area notice anything?   \n",
       "30768  I see a lot of people on here buying around the same types of stuff (canned beans, rice, etc). Just remember to know how to cook each item you buy and which combination of foods will have the right nutrients for example: you can’t live off of only eating meat products. Have a good balance of foods and learn the nutrients balance. Vitamin supplements are very important because fresh produce can...   \n",
       "30769                                                                                                                                                                                                                                  Had a thought on the potential work from home situation. If quarantine happens, then will internet work with a huge number of homes likely streaming Netflix, Prime, Hulu, etc?   \n",
       "30770  I have a bunch of regular \"dust masks\" from harbor freight. They are not N95 masks, only have one elastic band, but do have a nose metal piece to adjust fit.\\n\\n&amp;#x200B;\\n\\nI'm sure they are nowhere are good as a N95 mask, but in an emergency they might have to do.\\n\\n&amp;#x200B;\\n\\nHas anyone seen any testing done to compare regular non-fit tested dust masks vs N95 masks?\\n\\nThe brand I ...   \n",
       "30771  Where can I get a cheap wheat grinder, or is there a readily available alternative product that would do the job, if needed? I might scour some local thrift stores and see what I can hunt up. I have some long term food storage preps from before this pandemic came up, and it includes wheat berries. I'm familiar with cooking them other ways and adding them to recipes, but if I can acquire a chea...   \n",
       "30772  The last thing you want if food poisoning while bugging in, and a lot of the prepper staples are ones you gotta watch out for. \\n\\nDried Beans - some raw soaked or undercooked beans can give you trouble. Please read up on how to avoid this. There is a toxin called Phytohaemagglutinin in raw beans that must be deactivated by being cooked at a high enough temperature. \\n\\nRice, pasta, potatoes -...   \n",
       "30773  I went to Dollar General tonight(as I do every Saturday for the $5 off a $25 purchase digital coupon), and I was looking for stuff to reach $25 that I might need. They had lots of decent deals and nothing was out of stock. \\n\\nHand Sanitizer? Yep, all sizes in stock. 30 ounce Germx for $4\\n\\nNitrile and Vinyl Gloves? Yep\\n\\nAntibacterial Soap? Yep\\n\\nDisinfectant Wipes? DG brand and Lysol all ...   \n",
       "30774  My parents and I are going to a wedding in about one and a half weeks that's about 1.5k miles away. The flight time there is about 3.5 hours. My parents and I are worried about getting sick especially since there's a lot of people at the airport, on the plane and at the wedding. They've already got masks and hand sanitizers ready. Is there anything else we can do to limit the chances of gettin...   \n",
       "30775                                                                                                                                                                                                                                                    People of lower socioeconomic status are generally less careful about body substance isolation, so fancier grocery stores are safer, than say, walmart.\\n\\n;/   \n",
       "30776  One of the preps I made was buying Fresh Ginger and Ginger powder. I use it as an ingredient in different soups we make , but there is another reason to have it. \\n\\nNo, it's not a cure for Covid-19. That said, there is some scientific evidence that it helps to open airways and helps the lungs secrete mucus. (  [https://www.ncbi.nlm.nih.gov/pmc/articles/PMC3604064/](https://www.ncbi.nlm.nih.go...   \n",
       "30777                                                                                                                                                                                                                                                                         Last time I had it was a very long time ago and I can't remember how it tastes. I never wanted to eat it because it looks kind of nasty.   \n",
       "30778                                                                                                                                                                                                                                                                my husband thinks im being irrational about wanting to prep. presently in FL and feel like everyone is in denial. nobody seems at all concerened.   \n",
       "30779  What have you been doing to take care of your mental health during all this? I had a bad week last week regarding sleeping and being able to concentrate, even while watching my usual TV shows (Saturday and still haven’t watched This Is Us?! 😱). I prepped more this weekend and feel a little better, but I still don’t feel totally prepared. I feel like one thing gets crossed off the list and anot...   \n",
       "30780      I’ve noticed guaifenesin mentioned quite a bit.  The other day at Costco I was torn between getting Mucinex that was just an expectorant and Mucinex that was an expectorant and a cough suppressant. I spoke with the pharmacist and he suggested the one with the cough suppressant, but I haven’t really seen that mentioned here. Is there a reason for that? Do you prefer one over the other and why?   \n",
       "30781  Hey Everyone!\\n\\nI've posted a couple of times on here but I want to officially introduce myself. My name is Jess and I'm a certified functional health coach practitioner. One of my health practitioners and I are putting together an Immune Boosting Crash Course that will have protocols and lots of ideas for immune boosting supplements. We thought it might be nice to use this time to educate pe...   \n",
       "30782  I’m a big Costco person. I’m there every week, sometimes more. I love walking around and trying the samples. I haven’t been trying the samples lately. Not an acceptable risk.\\n\\nI’m normally a germ-conscious person, so I try not to touch my face anyway, but I feel like I’ve gotten more aware of that. I’m using hand sanitizer more. My stock was running low before this started and it’s sold out ...   \n",
       "30783                                                                Based off of everything I’m reading, hospitals are likely going to have to turn people away at some point. \\n\\nGenuine question: what on earth are we supposed to do in this scenario? Go home to die? I mean, seriously, is there a way to prep that will actually help? Mucinex can only go so far when it comes to a virus like this... right?   \n",
       "30784                                                                                                                                                                                                                                   Ex-Wife and kids live 30 minutes away. I can either stick around for when the shit hits the fan. Or go up to my moms 4 hours out of town and be safe. They won’t come with me.   \n",
       "30785                                                                                                                                        What exactly are you “prepping” for? Do you think the city water will stop flowing because people get the flu? Are you going to hide in your basement eating beans? \\n\\nYou’re reactionary sheep. You’re creating the self-fulfilling prophecy. You’re the problem. Stop.   \n",
       "30786  I have panic disorder/ severe PTSD and because of this, my husband thinks I'm not seeing things clearly. He is just trying to keep me calm and about 90% of the time I need his help to see past the panic of every day. My doctor had me start not watching anything news related a few months ago and my mental health has gotten better. BUT because of this my husband and I have not prepped for the in...   \n",
       "30787  We keep about an extra week to two weeks of food on hand at all times just because there are weeks when we just don't make it to a grocery store. We're also avid campers and I prefer to not need to restock on ice every day, so I have collected recipes that can be made from shelf stable ingredients. \\n\\nFully shelf stable\\n\\n* White Chili ( [https://www.campingdude.com/content/recipe/white\\_chi...   \n",
       "30788                                                                                                                                                                                                                                    [Link Here ](https://www.reddit.com/r/PandemicPreps/comments/f9hjjm/if_you_are_brand_new_to_prepping_start_here/?utm_source=share&amp;utm_medium=ios_app&amp;utm_name=iossmf)   \n",
       "30789  First sorry for not writing this earlier but yesterday I was pretty busy prepping and organizing my stuff.\\n\\nSo in the grocery store while a few days ago it was only a few shelves with canned food emptied, now there started to have entire sections empty.\\n\\nPasta, instant soup, sugar, floor, canned food, hand sanitizer etc are all gone or only a few items are left.\\n\\nPeople have definitely s...   \n",
       "30790  In a SHTF scenario, how would you dispose of trash? A full self quarantine would include not going into the hallway to the trash chute. \\n\\nI’ll need to leave the apartment either tomorrow or Monday. I don’t want to leave without proper protection (mask, gloves, goggles). However, I don’t want to waste a mask *yet* because supplies are very limited. What would you do? Waste a mask to be safe o...   \n",
       "30791                                                          I'm looking at getting some mylar bags and oxygen absorbers, but would like to store several different dried goods (lentils, rice, herbs etc) in one bag to limit the number of bags I have open (small household).  I am looking at putting these in separate paper bags in each mylar bag.  Will this work or will there be any side effects to this?   \n",
       "30792  A few observations:\\n\\n1. This sub is *filled* with pictures/stories of people stocking up on canned food and such. \\n2. Every now and then, people mention (without actually discussing it much further) 'be sure to know how to actually prepare your food' and every single time, it's met with too many people saying they have little to no experience knowing how to cook. \\n\\nHere's the thing: prepa...   \n",
       "30793                                                                                                                                                                                                                      I see people in rural areas prepping almoat more than people in cities, and was wondering, how much worse off are you being in a city? Say living in an apartment and taking public transit   \n",
       "\n",
       "       is_Covid19positive  \n",
       "30764                   0  \n",
       "30765                   0  \n",
       "30766                   0  \n",
       "30767                   0  \n",
       "30768                   0  \n",
       "30769                   0  \n",
       "30770                   0  \n",
       "30771                   0  \n",
       "30772                   0  \n",
       "30773                   0  \n",
       "30774                   0  \n",
       "30775                   0  \n",
       "30776                   0  \n",
       "30777                   0  \n",
       "30778                   0  \n",
       "30779                   0  \n",
       "30780                   0  \n",
       "30781                   0  \n",
       "30782                   0  \n",
       "30783                   0  \n",
       "30784                   0  \n",
       "30785                   0  \n",
       "30786                   0  \n",
       "30787                   0  \n",
       "30788                   0  \n",
       "30789                   0  \n",
       "30790                   0  \n",
       "30791                   0  \n",
       "30792                   0  \n",
       "30793                   0  "
      ]
     },
     "execution_count": 31,
     "metadata": {},
     "output_type": "execute_result"
    }
   ],
   "source": [
    "df[df['is_Covid19positive']==0][['selftext','is_Covid19positive']].head(30)"
   ]
  },
  {
   "cell_type": "markdown",
   "id": "07648508",
   "metadata": {},
   "source": [
    "### Set up X and Y"
   ]
  },
  {
   "cell_type": "code",
   "execution_count": 19,
   "id": "0c0186b1",
   "metadata": {},
   "outputs": [],
   "source": [
    "X = df['token']\n",
    "y = df['is_Covid19positive']"
   ]
  },
  {
   "cell_type": "code",
   "execution_count": 20,
   "id": "623fba2c",
   "metadata": {},
   "outputs": [
    {
     "data": {
      "text/plain": [
       "1    0.929286\n",
       "0    0.070714\n",
       "Name: is_Covid19positive, dtype: float64"
      ]
     },
     "execution_count": 20,
     "metadata": {},
     "output_type": "execute_result"
    }
   ],
   "source": [
    "#check baseline:\n",
    "\n",
    "y.value_counts(normalize = True)"
   ]
  },
  {
   "cell_type": "markdown",
   "id": "1ac0a301",
   "metadata": {},
   "source": [
    "# train test split"
   ]
  },
  {
   "cell_type": "code",
   "execution_count": 21,
   "id": "9018616d",
   "metadata": {},
   "outputs": [],
   "source": [
    "# Split the data into the training and testing sets.\n",
    "X_train, X_test, y_train, y_test = train_test_split(X,\n",
    "                                                    y,\n",
    "                                                    stratify=y,\n",
    "                                                    random_state=42)"
   ]
  },
  {
   "cell_type": "code",
   "execution_count": 22,
   "id": "963ff506",
   "metadata": {},
   "outputs": [
    {
     "data": {
      "text/plain": [
       "(1    0.929273\n",
       " 0    0.070727\n",
       " Name: is_Covid19positive, dtype: float64,\n",
       " 1    0.929322\n",
       " 0    0.070678\n",
       " Name: is_Covid19positive, dtype: float64)"
      ]
     },
     "execution_count": 22,
     "metadata": {},
     "output_type": "execute_result"
    }
   ],
   "source": [
    "y_train.value_counts(normalize=True), y_test.value_counts(normalize=True)"
   ]
  },
  {
   "cell_type": "markdown",
   "id": "2448c83d",
   "metadata": {},
   "source": [
    "## CountVectorizer\n",
    "---\n",
    "\n",
    "The easiest way for us to convert text data into a structured, numeric `X` dataframe is to use `CountVectorizer`.\n",
    "\n",
    "- **Count**: Count up how many times a token is observed in a given document.\n",
    "- **Vectorizer**: Create a column (also known as a vector) that stores those counts.\n",
    "\n",
    "![](./images/countvectorizer2.png)"
   ]
  },
  {
   "cell_type": "code",
   "execution_count": 23,
   "id": "9bdcfce0",
   "metadata": {},
   "outputs": [],
   "source": [
    "cvec = CountVectorizer()"
   ]
  },
  {
   "cell_type": "code",
   "execution_count": 24,
   "id": "793289b9",
   "metadata": {},
   "outputs": [],
   "source": [
    "Xcv_train = cvec.fit_transform(X_train)\n",
    "Xcv_test = cvec.transform(X_test)"
   ]
  },
  {
   "cell_type": "markdown",
   "id": "6d2e3545",
   "metadata": {},
   "source": [
    "# ======================================================\n",
    "## For imbalanced case"
   ]
  },
  {
   "cell_type": "code",
   "execution_count": 11,
   "id": "1e565d00",
   "metadata": {},
   "outputs": [],
   "source": [
    "ros = RandomOverSampler()\n",
    "\n",
    "Xcv_train , y_train = ros.fit_resample(Xcv_train, y_train)"
   ]
  },
  {
   "cell_type": "markdown",
   "id": "d0c61915",
   "metadata": {},
   "source": [
    "# modeling"
   ]
  },
  {
   "cell_type": "code",
   "execution_count": 12,
   "id": "0794e15e",
   "metadata": {},
   "outputs": [],
   "source": [
    "svc = SVC()"
   ]
  },
  {
   "cell_type": "code",
   "execution_count": 13,
   "id": "a98c9f09",
   "metadata": {},
   "outputs": [
    {
     "data": {
      "text/plain": [
       "SVC()"
      ]
     },
     "execution_count": 13,
     "metadata": {},
     "output_type": "execute_result"
    }
   ],
   "source": [
    "svc.fit(Xcv_train, y_train)"
   ]
  },
  {
   "cell_type": "code",
   "execution_count": 14,
   "id": "d2f11e5c",
   "metadata": {},
   "outputs": [
    {
     "name": "stdout",
     "output_type": "stream",
     "text": [
      "Score on training set: 0.9398648648648649\n",
      "Score on testing set: 0.8974358974358975\n",
      "              precision    recall  f1-score   support\n",
      "\n",
      "           0       0.85      0.94      0.89       586\n",
      "           1       0.95      0.86      0.90       740\n",
      "\n",
      "    accuracy                           0.90      1326\n",
      "   macro avg       0.90      0.90      0.90      1326\n",
      "weighted avg       0.90      0.90      0.90      1326\n",
      "\n"
     ]
    },
    {
     "data": {
      "image/png": "[encoded data removed]",
      "text/plain": [
       "<Figure size 432x288 with 2 Axes>"
      ]
     },
     "metadata": {
      "needs_background": "light"
     },
     "output_type": "display_data"
    },
    {
     "data": {
      "image/png": "[encoded data removed]",
      "text/plain": [
       "<Figure size 432x288 with 1 Axes>"
      ]
     },
     "metadata": {
      "needs_background": "light"
     },
     "output_type": "display_data"
    }
   ],
   "source": [
    "# Evaluate Model\n",
    "model_Evaluate(svc, Xcv_train, Xcv_test, y_train, y_test)"
   ]
  },
  {
   "cell_type": "code",
   "execution_count": 38,
   "id": "8b307d9a",
   "metadata": {},
   "outputs": [
    {
     "data": {
      "text/plain": [
       "(   score   metric           model balanced\n",
       " 0   0.98  R_train  Support Vector       no\n",
       " 1   0.96   R_test  Support Vector       no,\n",
       "    is_pandemicPreps  is_covid19positive     metric           model balanced\n",
       " 0              0.67                0.99  precision  Support Vector       no\n",
       " 1              0.85                0.97     recall  Support Vector       no\n",
       " 2              0.75                0.98     fscore  Support Vector       no\n",
       " 3            585.00             7692.00    support  Support Vector       no,\n",
       "    score     metric           model balanced\n",
       " 0   0.06   True Neg  Support Vector       no\n",
       " 1   0.01  False Pos  Support Vector       no\n",
       " 2   0.03  False Neg  Support Vector       no\n",
       " 3   0.90   True Pos  Support Vector       no)"
      ]
     },
     "execution_count": 38,
     "metadata": {},
     "output_type": "execute_result"
    }
   ],
   "source": [
    "save_model_Evaluate_values(svc, Xcv_train, Xcv_test, y_train, y_test,  \n",
    "                             model_name='Support Vector',\n",
    "                             balanced= is_balanced)"
   ]
  },
  {
   "cell_type": "markdown",
   "id": "37609f1a",
   "metadata": {},
   "source": [
    "# Feature Count"
   ]
  },
  {
   "cell_type": "code",
   "execution_count": null,
   "id": "25dc3198",
   "metadata": {},
   "outputs": [],
   "source": []
  },
  {
   "cell_type": "code",
   "execution_count": 25,
   "id": "37f24006",
   "metadata": {},
   "outputs": [
    {
     "data": {
      "text/html": [
       "<div>\n",
       "<style scoped>\n",
       "    .dataframe tbody tr th:only-of-type {\n",
       "        vertical-align: middle;\n",
       "    }\n",
       "\n",
       "    .dataframe tbody tr th {\n",
       "        vertical-align: top;\n",
       "    }\n",
       "\n",
       "    .dataframe thead th {\n",
       "        text-align: right;\n",
       "    }\n",
       "</style>\n",
       "<table border=\"1\" class=\"dataframe\">\n",
       "  <thead>\n",
       "    <tr style=\"text-align: right;\">\n",
       "      <th></th>\n",
       "      <th>aa</th>\n",
       "      <th>aaa</th>\n",
       "      <th>aaaaaaaaaaaaaaaaaaaaaaaaaaaaaaaaaaaaaaaa</th>\n",
       "      <th>aaaaaachooooooo</th>\n",
       "      <th>aaaand</th>\n",
       "      <th>aaargh</th>\n",
       "      <th>ab</th>\n",
       "      <th>aback</th>\n",
       "      <th>abain</th>\n",
       "      <th>abandon</th>\n",
       "      <th>...</th>\n",
       "      <th>zpak</th>\n",
       "      <th>zucchini</th>\n",
       "      <th>zuchinni</th>\n",
       "      <th>zuckersaid</th>\n",
       "      <th>zuid</th>\n",
       "      <th>zurich</th>\n",
       "      <th>zybio</th>\n",
       "      <th>zyrtec</th>\n",
       "      <th>zz</th>\n",
       "      <th>zzzquil</th>\n",
       "    </tr>\n",
       "  </thead>\n",
       "  <tbody>\n",
       "    <tr>\n",
       "      <th>0</th>\n",
       "      <td>0</td>\n",
       "      <td>0</td>\n",
       "      <td>0</td>\n",
       "      <td>0</td>\n",
       "      <td>0</td>\n",
       "      <td>0</td>\n",
       "      <td>0</td>\n",
       "      <td>0</td>\n",
       "      <td>0</td>\n",
       "      <td>0</td>\n",
       "      <td>...</td>\n",
       "      <td>0</td>\n",
       "      <td>0</td>\n",
       "      <td>0</td>\n",
       "      <td>0</td>\n",
       "      <td>0</td>\n",
       "      <td>0</td>\n",
       "      <td>0</td>\n",
       "      <td>0</td>\n",
       "      <td>0</td>\n",
       "      <td>0</td>\n",
       "    </tr>\n",
       "    <tr>\n",
       "      <th>1</th>\n",
       "      <td>0</td>\n",
       "      <td>0</td>\n",
       "      <td>0</td>\n",
       "      <td>0</td>\n",
       "      <td>0</td>\n",
       "      <td>0</td>\n",
       "      <td>0</td>\n",
       "      <td>0</td>\n",
       "      <td>0</td>\n",
       "      <td>0</td>\n",
       "      <td>...</td>\n",
       "      <td>0</td>\n",
       "      <td>0</td>\n",
       "      <td>0</td>\n",
       "      <td>0</td>\n",
       "      <td>0</td>\n",
       "      <td>0</td>\n",
       "      <td>0</td>\n",
       "      <td>0</td>\n",
       "      <td>0</td>\n",
       "      <td>0</td>\n",
       "    </tr>\n",
       "    <tr>\n",
       "      <th>2</th>\n",
       "      <td>0</td>\n",
       "      <td>0</td>\n",
       "      <td>0</td>\n",
       "      <td>0</td>\n",
       "      <td>0</td>\n",
       "      <td>0</td>\n",
       "      <td>0</td>\n",
       "      <td>0</td>\n",
       "      <td>0</td>\n",
       "      <td>0</td>\n",
       "      <td>...</td>\n",
       "      <td>0</td>\n",
       "      <td>0</td>\n",
       "      <td>0</td>\n",
       "      <td>0</td>\n",
       "      <td>0</td>\n",
       "      <td>0</td>\n",
       "      <td>0</td>\n",
       "      <td>0</td>\n",
       "      <td>0</td>\n",
       "      <td>0</td>\n",
       "    </tr>\n",
       "    <tr>\n",
       "      <th>3</th>\n",
       "      <td>0</td>\n",
       "      <td>0</td>\n",
       "      <td>0</td>\n",
       "      <td>0</td>\n",
       "      <td>0</td>\n",
       "      <td>0</td>\n",
       "      <td>0</td>\n",
       "      <td>0</td>\n",
       "      <td>0</td>\n",
       "      <td>0</td>\n",
       "      <td>...</td>\n",
       "      <td>0</td>\n",
       "      <td>0</td>\n",
       "      <td>0</td>\n",
       "      <td>0</td>\n",
       "      <td>0</td>\n",
       "      <td>0</td>\n",
       "      <td>0</td>\n",
       "      <td>0</td>\n",
       "      <td>0</td>\n",
       "      <td>0</td>\n",
       "    </tr>\n",
       "    <tr>\n",
       "      <th>4</th>\n",
       "      <td>0</td>\n",
       "      <td>0</td>\n",
       "      <td>0</td>\n",
       "      <td>0</td>\n",
       "      <td>0</td>\n",
       "      <td>0</td>\n",
       "      <td>0</td>\n",
       "      <td>0</td>\n",
       "      <td>0</td>\n",
       "      <td>0</td>\n",
       "      <td>...</td>\n",
       "      <td>0</td>\n",
       "      <td>0</td>\n",
       "      <td>0</td>\n",
       "      <td>0</td>\n",
       "      <td>0</td>\n",
       "      <td>0</td>\n",
       "      <td>0</td>\n",
       "      <td>0</td>\n",
       "      <td>0</td>\n",
       "      <td>0</td>\n",
       "    </tr>\n",
       "    <tr>\n",
       "      <th>...</th>\n",
       "      <td>...</td>\n",
       "      <td>...</td>\n",
       "      <td>...</td>\n",
       "      <td>...</td>\n",
       "      <td>...</td>\n",
       "      <td>...</td>\n",
       "      <td>...</td>\n",
       "      <td>...</td>\n",
       "      <td>...</td>\n",
       "      <td>...</td>\n",
       "      <td>...</td>\n",
       "      <td>...</td>\n",
       "      <td>...</td>\n",
       "      <td>...</td>\n",
       "      <td>...</td>\n",
       "      <td>...</td>\n",
       "      <td>...</td>\n",
       "      <td>...</td>\n",
       "      <td>...</td>\n",
       "      <td>...</td>\n",
       "      <td>...</td>\n",
       "    </tr>\n",
       "    <tr>\n",
       "      <th>24823</th>\n",
       "      <td>0</td>\n",
       "      <td>0</td>\n",
       "      <td>0</td>\n",
       "      <td>0</td>\n",
       "      <td>0</td>\n",
       "      <td>0</td>\n",
       "      <td>0</td>\n",
       "      <td>0</td>\n",
       "      <td>0</td>\n",
       "      <td>0</td>\n",
       "      <td>...</td>\n",
       "      <td>0</td>\n",
       "      <td>0</td>\n",
       "      <td>0</td>\n",
       "      <td>0</td>\n",
       "      <td>0</td>\n",
       "      <td>0</td>\n",
       "      <td>0</td>\n",
       "      <td>0</td>\n",
       "      <td>0</td>\n",
       "      <td>0</td>\n",
       "    </tr>\n",
       "    <tr>\n",
       "      <th>24824</th>\n",
       "      <td>0</td>\n",
       "      <td>0</td>\n",
       "      <td>0</td>\n",
       "      <td>0</td>\n",
       "      <td>0</td>\n",
       "      <td>0</td>\n",
       "      <td>0</td>\n",
       "      <td>0</td>\n",
       "      <td>0</td>\n",
       "      <td>0</td>\n",
       "      <td>...</td>\n",
       "      <td>0</td>\n",
       "      <td>0</td>\n",
       "      <td>0</td>\n",
       "      <td>0</td>\n",
       "      <td>0</td>\n",
       "      <td>0</td>\n",
       "      <td>0</td>\n",
       "      <td>0</td>\n",
       "      <td>0</td>\n",
       "      <td>0</td>\n",
       "    </tr>\n",
       "    <tr>\n",
       "      <th>24825</th>\n",
       "      <td>0</td>\n",
       "      <td>0</td>\n",
       "      <td>0</td>\n",
       "      <td>0</td>\n",
       "      <td>0</td>\n",
       "      <td>0</td>\n",
       "      <td>0</td>\n",
       "      <td>0</td>\n",
       "      <td>0</td>\n",
       "      <td>0</td>\n",
       "      <td>...</td>\n",
       "      <td>0</td>\n",
       "      <td>0</td>\n",
       "      <td>0</td>\n",
       "      <td>0</td>\n",
       "      <td>0</td>\n",
       "      <td>0</td>\n",
       "      <td>0</td>\n",
       "      <td>0</td>\n",
       "      <td>0</td>\n",
       "      <td>0</td>\n",
       "    </tr>\n",
       "    <tr>\n",
       "      <th>24826</th>\n",
       "      <td>0</td>\n",
       "      <td>0</td>\n",
       "      <td>0</td>\n",
       "      <td>0</td>\n",
       "      <td>0</td>\n",
       "      <td>0</td>\n",
       "      <td>0</td>\n",
       "      <td>0</td>\n",
       "      <td>0</td>\n",
       "      <td>0</td>\n",
       "      <td>...</td>\n",
       "      <td>0</td>\n",
       "      <td>0</td>\n",
       "      <td>0</td>\n",
       "      <td>0</td>\n",
       "      <td>0</td>\n",
       "      <td>0</td>\n",
       "      <td>0</td>\n",
       "      <td>0</td>\n",
       "      <td>0</td>\n",
       "      <td>0</td>\n",
       "    </tr>\n",
       "    <tr>\n",
       "      <th>24827</th>\n",
       "      <td>0</td>\n",
       "      <td>0</td>\n",
       "      <td>0</td>\n",
       "      <td>0</td>\n",
       "      <td>0</td>\n",
       "      <td>0</td>\n",
       "      <td>0</td>\n",
       "      <td>0</td>\n",
       "      <td>0</td>\n",
       "      <td>0</td>\n",
       "      <td>...</td>\n",
       "      <td>0</td>\n",
       "      <td>0</td>\n",
       "      <td>0</td>\n",
       "      <td>0</td>\n",
       "      <td>0</td>\n",
       "      <td>0</td>\n",
       "      <td>0</td>\n",
       "      <td>0</td>\n",
       "      <td>0</td>\n",
       "      <td>0</td>\n",
       "    </tr>\n",
       "  </tbody>\n",
       "</table>\n",
       "<p>24828 rows × 19772 columns</p>\n",
       "</div>"
      ],
      "text/plain": [
       "       aa  aaa  aaaaaaaaaaaaaaaaaaaaaaaaaaaaaaaaaaaaaaaa  aaaaaachooooooo  \\\n",
       "0       0    0                                         0                0   \n",
       "1       0    0                                         0                0   \n",
       "2       0    0                                         0                0   \n",
       "3       0    0                                         0                0   \n",
       "4       0    0                                         0                0   \n",
       "...    ..  ...                                       ...              ...   \n",
       "24823   0    0                                         0                0   \n",
       "24824   0    0                                         0                0   \n",
       "24825   0    0                                         0                0   \n",
       "24826   0    0                                         0                0   \n",
       "24827   0    0                                         0                0   \n",
       "\n",
       "       aaaand  aaargh  ab  aback  abain  abandon  ...  zpak  zucchini  \\\n",
       "0           0       0   0      0      0        0  ...     0         0   \n",
       "1           0       0   0      0      0        0  ...     0         0   \n",
       "2           0       0   0      0      0        0  ...     0         0   \n",
       "3           0       0   0      0      0        0  ...     0         0   \n",
       "4           0       0   0      0      0        0  ...     0         0   \n",
       "...       ...     ...  ..    ...    ...      ...  ...   ...       ...   \n",
       "24823       0       0   0      0      0        0  ...     0         0   \n",
       "24824       0       0   0      0      0        0  ...     0         0   \n",
       "24825       0       0   0      0      0        0  ...     0         0   \n",
       "24826       0       0   0      0      0        0  ...     0         0   \n",
       "24827       0       0   0      0      0        0  ...     0         0   \n",
       "\n",
       "       zuchinni  zuckersaid  zuid  zurich  zybio  zyrtec  zz  zzzquil  \n",
       "0             0           0     0       0      0       0   0        0  \n",
       "1             0           0     0       0      0       0   0        0  \n",
       "2             0           0     0       0      0       0   0        0  \n",
       "3             0           0     0       0      0       0   0        0  \n",
       "4             0           0     0       0      0       0   0        0  \n",
       "...         ...         ...   ...     ...    ...     ...  ..      ...  \n",
       "24823         0           0     0       0      0       0   0        0  \n",
       "24824         0           0     0       0      0       0   0        0  \n",
       "24825         0           0     0       0      0       0   0        0  \n",
       "24826         0           0     0       0      0       0   0        0  \n",
       "24827         0           0     0       0      0       0   0        0  \n",
       "\n",
       "[24828 rows x 19772 columns]"
      ]
     },
     "execution_count": 25,
     "metadata": {},
     "output_type": "execute_result"
    }
   ],
   "source": [
    "#create a dataframe for our X_train_cv to use later:\n",
    "\n",
    "df_X_train = pd.DataFrame(Xcv_train.todense(), columns=cvec.get_feature_names())\n",
    "df_X_train"
   ]
  },
  {
   "cell_type": "code",
   "execution_count": 40,
   "id": "2b57ac17",
   "metadata": {},
   "outputs": [],
   "source": [
    "# f = {'Feature Name':df_X_train.columns,'Feature Count':svc.coef_[1]}\n",
    "# mnb_fi = pd.DataFrame(f)\n",
    "\n",
    "# mnb_fi.sort_values(by=['Feature Count'], ascending = False).head(20)"
   ]
  },
  {
   "cell_type": "code",
   "execution_count": 41,
   "id": "e712daad",
   "metadata": {},
   "outputs": [],
   "source": [
    "# plt.figure( figsize=(10,8))\n",
    "# sns.barplot(x='Feature Count',y='Feature Name', \n",
    "#             data=mnb_fi.sort_values(by=['Feature Count'], ascending = False).iloc[0:20],\n",
    "#            palette='coolwarm')\n",
    "# plt.xlabel('Feature Count ',fontsize=14)\n",
    "# plt.ylabel('Feature Name', fontsize = 14)\n",
    "# plt.tick_params('both', labelsize = 13)"
   ]
  },
  {
   "cell_type": "markdown",
   "id": "af4281f7",
   "metadata": {},
   "source": [
    "# ||||||||||||||||||||||||||||||||||||||||||||||||||||||||||||||||||||||||||||||||||||||||||||||||||||||||||||||||||||||||||||||||||||||||||||||||||||||||||||||"
   ]
  },
  {
   "cell_type": "markdown",
   "id": "f0ffc3fb",
   "metadata": {},
   "source": [
    "# GridSearchCV"
   ]
  },
  {
   "cell_type": "markdown",
   "id": "d3fc6116",
   "metadata": {},
   "source": [
    "### Hyperparameters of SVMs\n",
    "SVMs will have two main hyperparameters: `C` and `kernel`.\n",
    "\n",
    "#### Parameter: `C`\n",
    "`C` controls how much we regularize the boundary that is fit between classes.\n",
    "- **If `C` is small**: We regularize substantially, leading to a less perfect classification of our training data.\n",
    "- **If `C` is large**: We do not regularize much, leading to a more perfect classification of our training data.\n",
    "\n",
    "(THREAD) As we increase `C`, what happens to our bias-variance tradeoff?\n",
    "\n",
    "#### Parameter: `kernel`\n",
    "There are several options:\n",
    "* `linear`, `rbf`, `polynomial`, `sigmoid`, or something custom\n",
    "\n",
    "**Which do we use?**\n",
    "- **Quick answer**: As long as it's not the linear kernel, it actually matters surprisingly little!\n",
    "- **Lazy answer**: Use the RBF kernel, as it's usually best (or no different from other options).\n",
    "- **Better answer**: It's a model parameter that you're free to gridsearch over!"
   ]
  },
  {
   "cell_type": "code",
   "execution_count": 42,
   "id": "2e415b88",
   "metadata": {},
   "outputs": [],
   "source": [
    "params = {\n",
    "    'C' : [0.1,1,10,100],\n",
    "    'kernel' : [ 'rbf'],\n",
    "    'gamma'  : ['scale', 'auto']\n",
    "    \n",
    "}"
   ]
  },
  {
   "cell_type": "code",
   "execution_count": 43,
   "id": "3d53bca9",
   "metadata": {},
   "outputs": [],
   "source": [
    "# Instantiate GridSearchCV.\n",
    "\n",
    "gs = GridSearchCV( SVC(), params, cv = 5 )"
   ]
  },
  {
   "cell_type": "code",
   "execution_count": null,
   "id": "51b6063a",
   "metadata": {},
   "outputs": [],
   "source": [
    "gs.fit(Xcv_train, y_train )"
   ]
  },
  {
   "cell_type": "code",
   "execution_count": null,
   "id": "8e81a9c0",
   "metadata": {},
   "outputs": [],
   "source": [
    "gs.best_params_"
   ]
  },
  {
   "cell_type": "code",
   "execution_count": null,
   "id": "dd6811f2",
   "metadata": {
    "scrolled": false
   },
   "outputs": [],
   "source": [
    "# Evaluate model.\n",
    "model_Evaluate(gs, Xcv_train, Xcv_test, y_train, y_test)"
   ]
  },
  {
   "cell_type": "code",
   "execution_count": null,
   "id": "6b415065",
   "metadata": {},
   "outputs": [],
   "source": [
    "save_model_Evaluate_values(gs, Xcv_train, Xcv_test, y_train, y_test,  \n",
    "                             model_name='Support Vector - GridSearchCV',\n",
    "                            balanced= is_balanced)"
   ]
  },
  {
   "cell_type": "code",
   "execution_count": null,
   "id": "7e18abb8",
   "metadata": {},
   "outputs": [],
   "source": []
  }
 ],
 "metadata": {
  "kernelspec": {
   "display_name": "Python 3",
   "language": "python",
   "name": "python3"
  },
  "language_info": {
   "codemirror_mode": {
    "name": "ipython",
    "version": 3
   },
   "file_extension": ".py",
   "mimetype": "text/x-python",
   "name": "python",
   "nbconvert_exporter": "python",
   "pygments_lexer": "ipython3",
   "version": "3.9.5"
  }
 },
 "nbformat": 4,
 "nbformat_minor": 5
}
