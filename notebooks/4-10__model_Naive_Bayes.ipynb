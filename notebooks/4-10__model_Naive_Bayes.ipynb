{
 "cells": [
  {
   "cell_type": "markdown",
   "id": "c3bd5d44",
   "metadata": {},
   "source": [
    "# # Model: Naïve Bayes\n",
    "\n",
    "### Author: Ehsan Gharib-Nezhad\n",
    "\n",
    "\n",
    "I am only going to scratch the surface of this algorithm. We will provide additionnal resources if you want to look further into the math of how this model works.\n",
    "\n",
    "Naïve Bayes relies on [Bayes theorem](https://www.mathsisfun.com/data/bayes-theorem.html), which we will officially cover in a later week. Right now, just know that we rely on our prior knowledge to calculate probabilities.\n",
    "\n",
    "In order to understand Bayes theorem, we need to remember conditional probabilities. A quick example to understand this intuitively:\n",
    "\n",
    "<details><summary>If you pick a card from a standard 52-card deck, what is the probability of drawing a queen given the card is a heart?</summary>\n",
    "    \n",
    "I have told you the condition: that the card is a heart. Therefore, we only have 13 options to choose from, since there are 13 hearts in a deck of cards. Out of these, only 1 card is a queen (there is one queen in each suit), so the probability of drawing a queen given the card is a heart is 1/13.\n",
    "    \n",
    "It is important to note here that the probability of drawing a queen given the card is a heart is not the same as the probability of drawing a heart given the card is a queen! This would be 1/4.\n",
    "</details>\n",
    "\n",
    "\n",
    "If we know $P(B|A)$, Bayes theorem allows us to calculate the probability of $P(A|B)$ by relating the probability of $P(A|B)$ to $P(B|A)$. \n",
    "\n",
    "$$\n",
    "\\begin{eqnarray*}\n",
    "\\text{Bayes' Theorem: } P(A|B) &=& \\frac{P(B|A)P(A)}{P(B)}\n",
    "\\end{eqnarray*}\n",
    "$$\n",
    "\n",
    "- Let $A$ be that a message is spam.\n",
    "- Let $B$ represent the words used in the message.\n",
    "\n",
    "$$\n",
    "\\begin{eqnarray*}\n",
    "\\text{Bayes' Theorem: } P(A|B) &=& \\frac{P(B|A)P(A)}{P(B)} \\\\\n",
    "\\Rightarrow P(\\text{message is spam}|\\text{words in message}) &=& \\frac{P(\\text{words in message}|\\text{message is spam})P(\\text{message is spam})}{P(\\text{words in message})}\n",
    "\\end{eqnarray*}\n",
    "$$\n",
    "\n",
    "We want to calculate the probability that a post is spam **given** the words that are in the message! Our model can learn this from the training data.\n",
    "\n",
    "**Naïve Bayes** makes the assumption that all features are independent of one another (this is why it is called *naïve*)."
   ]
  },
  {
   "cell_type": "markdown",
   "id": "17f21448",
   "metadata": {},
   "source": [
    "<details><summary>Why is this assumption not realistic with our data?</summary>\n",
    "    \n",
    "Text data is never independent! Certain words can change the context of a sentence when used with other words. The way language works, we have words that are more or less likely to follow other words.\n",
    "</details>"
   ]
  },
  {
   "cell_type": "markdown",
   "id": "cb3ce5de",
   "metadata": {},
   "source": [
    "Despite this assumption not being realistic with NLP data, we still use Naïve Bayes pretty frequently.\n",
    "- It's a very fast modeling algorithm (which is great especially when we have lots of features and/or lots of data!).\n",
    "- It is often an excellent classifier, outperforming more complicated models.\n",
    "\n",
    "There are three common types of Naive Bayes models: Bernoulli Naive Bayes, Multinomial Naive Bayes, and Gaussian Naive Bayes.\n",
    "- How do we pick which of the three models to use? It depends on our $X$ variable.\n",
    "    - [Bernoulli Naive Bayes](https://scikit-learn.org/stable/modules/generated/sklearn.naive_bayes.BernoulliNB.html#sklearn.naive_bayes.BernoulliNB): when we have 0/1 variables.\n",
    "    - [Multinomial Naive Bayes](https://scikit-learn.org/stable/modules/generated/sklearn.naive_bayes.MultinomialNB.html#sklearn.naive_bayes.MultinomialNB): when our variables are positive integers.\n",
    "    - [Gaussian Naive Bayes](https://scikit-learn.org/stable/modules/generated/sklearn.naive_bayes.GaussianNB.html#sklearn.naive_bayes.GaussianNB): when our features are Normally distributed."
   ]
  },
  {
   "cell_type": "code",
   "execution_count": 1,
   "id": "cb4e2d88",
   "metadata": {},
   "outputs": [],
   "source": [
    "from myfunctions import *\n",
    "from sklearn.naive_bayes import MultinomialNB\n",
    "from sklearn.feature_extraction.text import CountVectorizer\n",
    "from sklearn.model_selection import train_test_split, cross_val_score, GridSearchCV\n",
    "from imblearn.over_sampling import RandomOverSampler\n",
    "\n"
   ]
  },
  {
   "cell_type": "code",
   "execution_count": 24,
   "id": "d3ed863f",
   "metadata": {},
   "outputs": [],
   "source": [
    "df = pd.read_csv('../datasets/text_processed_all_posts_combined_imbalanced.csv',index_col=0)\n",
    "is_balanced = False # set True is the dataset is balanced!!! "
   ]
  },
  {
   "cell_type": "code",
   "execution_count": 25,
   "id": "7804e1c5",
   "metadata": {},
   "outputs": [
    {
     "data": {
      "text/plain": [
       "1    30764\n",
       "0     2341\n",
       "Name: is_Covid19positive, dtype: int64"
      ]
     },
     "execution_count": 25,
     "metadata": {},
     "output_type": "execute_result"
    }
   ],
   "source": [
    "df['is_Covid19positive'].value_counts()"
   ]
  },
  {
   "cell_type": "markdown",
   "id": "07648508",
   "metadata": {},
   "source": [
    "### Set up X and Y"
   ]
  },
  {
   "cell_type": "code",
   "execution_count": 26,
   "id": "0c0186b1",
   "metadata": {},
   "outputs": [],
   "source": [
    "X = df['token']\n",
    "y = df['is_Covid19positive']"
   ]
  },
  {
   "cell_type": "code",
   "execution_count": 27,
   "id": "623fba2c",
   "metadata": {},
   "outputs": [
    {
     "data": {
      "text/plain": [
       "1    0.929286\n",
       "0    0.070714\n",
       "Name: is_Covid19positive, dtype: float64"
      ]
     },
     "execution_count": 27,
     "metadata": {},
     "output_type": "execute_result"
    }
   ],
   "source": [
    "#check baseline:\n",
    "\n",
    "y.value_counts(normalize = True)"
   ]
  },
  {
   "cell_type": "markdown",
   "id": "1ac0a301",
   "metadata": {},
   "source": [
    "# train test split"
   ]
  },
  {
   "cell_type": "code",
   "execution_count": 28,
   "id": "9018616d",
   "metadata": {},
   "outputs": [],
   "source": [
    "# Split the data into the training and testing sets.\n",
    "X_train, X_test, y_train, y_test = train_test_split(X,\n",
    "                                                    y,\n",
    "                                                    stratify=y,\n",
    "                                                    random_state=42)"
   ]
  },
  {
   "cell_type": "code",
   "execution_count": 29,
   "id": "963ff506",
   "metadata": {},
   "outputs": [
    {
     "data": {
      "text/plain": [
       "(1    0.929273\n",
       " 0    0.070727\n",
       " Name: is_Covid19positive, dtype: float64,\n",
       " 1    0.929322\n",
       " 0    0.070678\n",
       " Name: is_Covid19positive, dtype: float64)"
      ]
     },
     "execution_count": 29,
     "metadata": {},
     "output_type": "execute_result"
    }
   ],
   "source": [
    "y_train.value_counts(normalize=True), y_test.value_counts(normalize=True)"
   ]
  },
  {
   "cell_type": "markdown",
   "id": "2448c83d",
   "metadata": {},
   "source": [
    "## CountVectorizer\n",
    "---\n",
    "\n",
    "The easiest way for us to convert text data into a structured, numeric `X` dataframe is to use `CountVectorizer`.\n",
    "\n",
    "- **Count**: Count up how many times a token is observed in a given document.\n",
    "- **Vectorizer**: Create a column (also known as a vector) that stores those counts.\n",
    "\n",
    "![](./images/countvectorizer2.png)"
   ]
  },
  {
   "cell_type": "code",
   "execution_count": 30,
   "id": "9bdcfce0",
   "metadata": {},
   "outputs": [],
   "source": [
    "cvec = CountVectorizer()"
   ]
  },
  {
   "cell_type": "code",
   "execution_count": 31,
   "id": "793289b9",
   "metadata": {},
   "outputs": [],
   "source": [
    "Xcv_train = cvec.fit_transform(X_train)\n",
    "Xcv_test = cvec.transform(X_test)"
   ]
  },
  {
   "cell_type": "markdown",
   "id": "db50b838",
   "metadata": {},
   "source": [
    "# ======================================================\n",
    "## For imbalanced case"
   ]
  },
  {
   "cell_type": "code",
   "execution_count": 32,
   "id": "5785c8a7",
   "metadata": {},
   "outputs": [],
   "source": [
    "ros = RandomOverSampler()\n",
    "\n",
    "Xcv_train , y_train = ros.fit_resample(Xcv_train, y_train)"
   ]
  },
  {
   "cell_type": "markdown",
   "id": "6d2e3545",
   "metadata": {},
   "source": [
    "## MultinomialNB"
   ]
  },
  {
   "cell_type": "code",
   "execution_count": 33,
   "id": "0794e15e",
   "metadata": {},
   "outputs": [],
   "source": [
    "mnb = MultinomialNB()"
   ]
  },
  {
   "cell_type": "code",
   "execution_count": 34,
   "id": "a98c9f09",
   "metadata": {},
   "outputs": [
    {
     "data": {
      "text/plain": [
       "MultinomialNB()"
      ]
     },
     "execution_count": 34,
     "metadata": {},
     "output_type": "execute_result"
    }
   ],
   "source": [
    "mnb.fit(Xcv_train, y_train)"
   ]
  },
  {
   "cell_type": "code",
   "execution_count": 35,
   "id": "d2f11e5c",
   "metadata": {},
   "outputs": [
    {
     "name": "stdout",
     "output_type": "stream",
     "text": [
      "Score on training set: 0.962248613037448\n",
      "Score on testing set: 0.9597680318956143\n",
      "              precision    recall  f1-score   support\n",
      "\n",
      "           0       0.65      0.92      0.76       585\n",
      "           1       0.99      0.96      0.98      7692\n",
      "\n",
      "    accuracy                           0.96      8277\n",
      "   macro avg       0.82      0.94      0.87      8277\n",
      "weighted avg       0.97      0.96      0.96      8277\n",
      "\n"
     ]
    },
    {
     "data": {
      "image/png": "[encoded data removed]",
      "text/plain": [
       "<Figure size 432x288 with 2 Axes>"
      ]
     },
     "metadata": {
      "needs_background": "light"
     },
     "output_type": "display_data"
    },
    {
     "data": {
      "image/png": "[encoded data removed]",
      "text/plain": [
       "<Figure size 432x288 with 1 Axes>"
      ]
     },
     "metadata": {
      "needs_background": "light"
     },
     "output_type": "display_data"
    }
   ],
   "source": [
    "# Evaluate Model\n",
    "model_Evaluate(mnb, Xcv_train, Xcv_test, y_train, y_test)"
   ]
  },
  {
   "cell_type": "code",
   "execution_count": 36,
   "id": "febb4889",
   "metadata": {},
   "outputs": [
    {
     "data": {
      "text/plain": [
       "(   score   metric          model balanced\n",
       " 0   0.96  R_train  MultinomialNB       no\n",
       " 1   0.96   R_test  MultinomialNB       no,\n",
       "    is_pandemicPreps  is_covid19positive     metric          model balanced\n",
       " 0              0.65                0.99  precision  MultinomialNB       no\n",
       " 1              0.92                0.96     recall  MultinomialNB       no\n",
       " 2              0.76                0.98     fscore  MultinomialNB       no\n",
       " 3            585.00             7692.00    support  MultinomialNB       no,\n",
       "    score     metric          model balanced\n",
       " 0   0.06   True Neg  MultinomialNB       no\n",
       " 1   0.01  False Pos  MultinomialNB       no\n",
       " 2   0.03  False Neg  MultinomialNB       no\n",
       " 3   0.89   True Pos  MultinomialNB       no)"
      ]
     },
     "execution_count": 36,
     "metadata": {},
     "output_type": "execute_result"
    }
   ],
   "source": [
    "save_model_Evaluate_values(mnb, Xcv_train, Xcv_test, y_train, y_test,  \n",
    "                             model_name='MultinomialNB',\n",
    "                            balanced = is_balanced)"
   ]
  },
  {
   "cell_type": "markdown",
   "id": "37609f1a",
   "metadata": {},
   "source": [
    "# Feature Count"
   ]
  },
  {
   "cell_type": "code",
   "execution_count": 37,
   "id": "37f24006",
   "metadata": {},
   "outputs": [],
   "source": [
    "#create a dataframe for our X_train_cv to use later:\n",
    "\n",
    "df_X_train = pd.DataFrame(Xcv_train.todense(), columns=cvec.get_feature_names())"
   ]
  },
  {
   "cell_type": "code",
   "execution_count": 38,
   "id": "2b57ac17",
   "metadata": {},
   "outputs": [
    {
     "data": {
      "text/html": [
       "<div>\n",
       "<style scoped>\n",
       "    .dataframe tbody tr th:only-of-type {\n",
       "        vertical-align: middle;\n",
       "    }\n",
       "\n",
       "    .dataframe tbody tr th {\n",
       "        vertical-align: top;\n",
       "    }\n",
       "\n",
       "    .dataframe thead th {\n",
       "        text-align: right;\n",
       "    }\n",
       "</style>\n",
       "<table border=\"1\" class=\"dataframe\">\n",
       "  <thead>\n",
       "    <tr style=\"text-align: right;\">\n",
       "      <th></th>\n",
       "      <th>Feature Name</th>\n",
       "      <th>Feature Count</th>\n",
       "    </tr>\n",
       "  </thead>\n",
       "  <tbody>\n",
       "    <tr>\n",
       "      <th>4248</th>\n",
       "      <td>day</td>\n",
       "      <td>28215.0</td>\n",
       "    </tr>\n",
       "    <tr>\n",
       "      <th>17199</th>\n",
       "      <td>test</td>\n",
       "      <td>28213.0</td>\n",
       "    </tr>\n",
       "    <tr>\n",
       "      <th>16838</th>\n",
       "      <td>symptom</td>\n",
       "      <td>21714.0</td>\n",
       "    </tr>\n",
       "    <tr>\n",
       "      <th>7037</th>\n",
       "      <td>get</td>\n",
       "      <td>19728.0</td>\n",
       "    </tr>\n",
       "    <tr>\n",
       "      <th>6186</th>\n",
       "      <td>feel</td>\n",
       "      <td>19501.0</td>\n",
       "    </tr>\n",
       "    <tr>\n",
       "      <th>3864</th>\n",
       "      <td>covid</td>\n",
       "      <td>18961.0</td>\n",
       "    </tr>\n",
       "    <tr>\n",
       "      <th>13187</th>\n",
       "      <td>posit</td>\n",
       "      <td>16499.0</td>\n",
       "    </tr>\n",
       "    <tr>\n",
       "      <th>9793</th>\n",
       "      <td>like</td>\n",
       "      <td>16144.0</td>\n",
       "    </tr>\n",
       "    <tr>\n",
       "      <th>1303</th>\n",
       "      <td>back</td>\n",
       "      <td>12381.0</td>\n",
       "    </tr>\n",
       "    <tr>\n",
       "      <th>7236</th>\n",
       "      <td>got</td>\n",
       "      <td>11270.0</td>\n",
       "    </tr>\n",
       "    <tr>\n",
       "      <th>3790</th>\n",
       "      <td>cough</td>\n",
       "      <td>11069.0</td>\n",
       "    </tr>\n",
       "    <tr>\n",
       "      <th>15741</th>\n",
       "      <td>smell</td>\n",
       "      <td>10937.0</td>\n",
       "    </tr>\n",
       "    <tr>\n",
       "      <th>7164</th>\n",
       "      <td>go</td>\n",
       "      <td>10741.0</td>\n",
       "    </tr>\n",
       "    <tr>\n",
       "      <th>6246</th>\n",
       "      <td>fever</td>\n",
       "      <td>10653.0</td>\n",
       "    </tr>\n",
       "    <tr>\n",
       "      <th>19138</th>\n",
       "      <td>week</td>\n",
       "      <td>10637.0</td>\n",
       "    </tr>\n",
       "    <tr>\n",
       "      <th>16350</th>\n",
       "      <td>still</td>\n",
       "      <td>10525.0</td>\n",
       "    </tr>\n",
       "    <tr>\n",
       "      <th>16246</th>\n",
       "      <td>start</td>\n",
       "      <td>9904.0</td>\n",
       "    </tr>\n",
       "    <tr>\n",
       "      <th>17010</th>\n",
       "      <td>tast</td>\n",
       "      <td>9006.0</td>\n",
       "    </tr>\n",
       "    <tr>\n",
       "      <th>17514</th>\n",
       "      <td>time</td>\n",
       "      <td>8669.0</td>\n",
       "    </tr>\n",
       "    <tr>\n",
       "      <th>9419</th>\n",
       "      <td>know</td>\n",
       "      <td>8038.0</td>\n",
       "    </tr>\n",
       "  </tbody>\n",
       "</table>\n",
       "</div>"
      ],
      "text/plain": [
       "      Feature Name  Feature Count\n",
       "4248           day        28215.0\n",
       "17199         test        28213.0\n",
       "16838      symptom        21714.0\n",
       "7037           get        19728.0\n",
       "6186          feel        19501.0\n",
       "3864         covid        18961.0\n",
       "13187        posit        16499.0\n",
       "9793          like        16144.0\n",
       "1303          back        12381.0\n",
       "7236           got        11270.0\n",
       "3790         cough        11069.0\n",
       "15741        smell        10937.0\n",
       "7164            go        10741.0\n",
       "6246         fever        10653.0\n",
       "19138         week        10637.0\n",
       "16350        still        10525.0\n",
       "16246        start         9904.0\n",
       "17010         tast         9006.0\n",
       "17514         time         8669.0\n",
       "9419          know         8038.0"
      ]
     },
     "execution_count": 38,
     "metadata": {},
     "output_type": "execute_result"
    }
   ],
   "source": [
    "f = {'Feature Name':df_X_train.columns,'Feature Count':mnb.feature_count_[1]}\n",
    "mnb_fi = pd.DataFrame(f)\n",
    "\n",
    "mnb_fi.sort_values(by=['Feature Count'], ascending = False).head(20)"
   ]
  },
  {
   "cell_type": "code",
   "execution_count": 39,
   "id": "e712daad",
   "metadata": {},
   "outputs": [
    {
     "data": {
      "image/png": "[encoded data removed]",
      "text/plain": [
       "<Figure size 720x576 with 1 Axes>"
      ]
     },
     "metadata": {
      "needs_background": "light"
     },
     "output_type": "display_data"
    }
   ],
   "source": [
    "plt.figure( figsize=(10,8))\n",
    "sns.barplot(x='Feature Count',y='Feature Name', \n",
    "            data=mnb_fi.sort_values(by=['Feature Count'], ascending = False).iloc[0:20],\n",
    "           palette='coolwarm')\n",
    "plt.xlabel('Feature Count ',fontsize=14)\n",
    "plt.ylabel('Feature Name', fontsize = 14)\n",
    "plt.tick_params('both', labelsize = 13)"
   ]
  },
  {
   "cell_type": "markdown",
   "id": "af4281f7",
   "metadata": {},
   "source": [
    "# ||||||||||||||||||||||||||||||||||||||||||||||||||||||||||||||||||||||||||||||||||||||||||||||||||||||||||||||||||||||||||||||||||||||||||||||||||||||||||||||"
   ]
  },
  {
   "cell_type": "markdown",
   "id": "f0ffc3fb",
   "metadata": {},
   "source": [
    "# GridSearchCV"
   ]
  },
  {
   "cell_type": "code",
   "execution_count": 40,
   "id": "2e415b88",
   "metadata": {},
   "outputs": [],
   "source": [
    "pipe_params = {\n",
    "  'alpha': [.9, 1, 2, 3, 4, 5, 6],\n",
    "  'fit_prior': [True, False],  \n",
    "}"
   ]
  },
  {
   "cell_type": "code",
   "execution_count": 41,
   "id": "3d53bca9",
   "metadata": {},
   "outputs": [],
   "source": [
    "# Instantiate GridSearchCV.\n",
    "\n",
    "gs = GridSearchCV(MultinomialNB(), # what object are we optimizing?\n",
    "                  pipe_params, # what parameters values are we searching?\n",
    "                  cv =5) # 5-fold cross-validation."
   ]
  },
  {
   "cell_type": "code",
   "execution_count": 42,
   "id": "51b6063a",
   "metadata": {},
   "outputs": [
    {
     "data": {
      "text/plain": [
       "GridSearchCV(cv=5, estimator=MultinomialNB(),\n",
       "             param_grid={'alpha': [0.9, 1, 2, 3, 4, 5, 6],\n",
       "                         'fit_prior': [True, False]})"
      ]
     },
     "execution_count": 42,
     "metadata": {},
     "output_type": "execute_result"
    }
   ],
   "source": [
    "gs.fit(Xcv_train, y_train )"
   ]
  },
  {
   "cell_type": "code",
   "execution_count": 43,
   "id": "8e81a9c0",
   "metadata": {},
   "outputs": [
    {
     "data": {
      "text/plain": [
       "{'alpha': 0.9, 'fit_prior': True}"
      ]
     },
     "execution_count": 43,
     "metadata": {},
     "output_type": "execute_result"
    }
   ],
   "source": [
    "gs.best_params_"
   ]
  },
  {
   "cell_type": "code",
   "execution_count": 44,
   "id": "dd6811f2",
   "metadata": {
    "scrolled": false
   },
   "outputs": [
    {
     "name": "stdout",
     "output_type": "stream",
     "text": [
      "Score on training set: 0.9624436546463245\n",
      "Score on testing set: 0.9597680318956143\n",
      "              precision    recall  f1-score   support\n",
      "\n",
      "           0       0.65      0.92      0.76       585\n",
      "           1       0.99      0.96      0.98      7692\n",
      "\n",
      "    accuracy                           0.96      8277\n",
      "   macro avg       0.82      0.94      0.87      8277\n",
      "weighted avg       0.97      0.96      0.96      8277\n",
      "\n"
     ]
    },
    {
     "data": {
      "image/png": "[encoded data removed]",
      "text/plain": [
       "<Figure size 432x288 with 2 Axes>"
      ]
     },
     "metadata": {
      "needs_background": "light"
     },
     "output_type": "display_data"
    },
    {
     "data": {
      "image/png": "[encoded data removed]",
      "text/plain": [
       "<Figure size 432x288 with 1 Axes>"
      ]
     },
     "metadata": {
      "needs_background": "light"
     },
     "output_type": "display_data"
    }
   ],
   "source": [
    "# Evaluate model.\n",
    "model_Evaluate(gs, Xcv_train, Xcv_test, y_train, y_test)"
   ]
  },
  {
   "cell_type": "code",
   "execution_count": 45,
   "id": "6b415065",
   "metadata": {},
   "outputs": [
    {
     "data": {
      "text/plain": [
       "(   score   metric                       model balanced\n",
       " 0   0.96  R_train  MultinomialNB-GridSearchCV       no\n",
       " 1   0.96   R_test  MultinomialNB-GridSearchCV       no,\n",
       "    is_pandemicPreps  is_covid19positive     metric  \\\n",
       " 0              0.65                0.99  precision   \n",
       " 1              0.92                0.96     recall   \n",
       " 2              0.76                0.98     fscore   \n",
       " 3            585.00             7692.00    support   \n",
       " \n",
       "                         model balanced  \n",
       " 0  MultinomialNB-GridSearchCV       no  \n",
       " 1  MultinomialNB-GridSearchCV       no  \n",
       " 2  MultinomialNB-GridSearchCV       no  \n",
       " 3  MultinomialNB-GridSearchCV       no  ,\n",
       "    score     metric                       model balanced\n",
       " 0   0.06   True Neg  MultinomialNB-GridSearchCV       no\n",
       " 1   0.01  False Pos  MultinomialNB-GridSearchCV       no\n",
       " 2   0.03  False Neg  MultinomialNB-GridSearchCV       no\n",
       " 3   0.89   True Pos  MultinomialNB-GridSearchCV       no)"
      ]
     },
     "execution_count": 45,
     "metadata": {},
     "output_type": "execute_result"
    }
   ],
   "source": [
    "save_model_Evaluate_values(gs, Xcv_train, Xcv_test, y_train, y_test,  \n",
    "                             model_name='MultinomialNB-GridSearchCV',\n",
    "                             balanced = is_balanced)"
   ]
  },
  {
   "cell_type": "code",
   "execution_count": null,
   "id": "89c07270",
   "metadata": {},
   "outputs": [],
   "source": []
  }
 ],
 "metadata": {
  "kernelspec": {
   "display_name": "Python 3",
   "language": "python",
   "name": "python3"
  },
  "language_info": {
   "codemirror_mode": {
    "name": "ipython",
    "version": 3
   },
   "file_extension": ".py",
   "mimetype": "text/x-python",
   "name": "python",
   "nbconvert_exporter": "python",
   "pygments_lexer": "ipython3",
   "version": "3.9.5"
  }
 },
 "nbformat": 4,
 "nbformat_minor": 5
}
