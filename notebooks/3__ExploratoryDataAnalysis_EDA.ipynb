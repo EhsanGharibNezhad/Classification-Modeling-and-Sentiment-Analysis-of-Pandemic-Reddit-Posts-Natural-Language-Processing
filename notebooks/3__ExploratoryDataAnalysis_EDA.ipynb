{
 "cells": [
  {
   "cell_type": "markdown",
   "id": "b129f5aa",
   "metadata": {},
   "source": [
    "# Exploratory Data Analysis\n",
    "### Author: Ehsan Gharib-Nezhad\n"
   ]
  },
  {
   "cell_type": "code",
   "execution_count": 1,
   "id": "d0ec0ce1",
   "metadata": {},
   "outputs": [],
   "source": [
    "# Load Libraries\n",
    "from myfunctions import *"
   ]
  },
  {
   "cell_type": "code",
   "execution_count": 2,
   "id": "0c77dc9b",
   "metadata": {},
   "outputs": [],
   "source": [
    "# Load datasets\n",
    "df = pd.read_csv('../datasets/text_processed_all_posts_combined.csv',index_col=0)"
   ]
  },
  {
   "cell_type": "code",
   "execution_count": 3,
   "id": "d7b3617b",
   "metadata": {
    "scrolled": false
   },
   "outputs": [
    {
     "data": {
      "text/html": [
       "<div>\n",
       "<style scoped>\n",
       "    .dataframe tbody tr th:only-of-type {\n",
       "        vertical-align: middle;\n",
       "    }\n",
       "\n",
       "    .dataframe tbody tr th {\n",
       "        vertical-align: top;\n",
       "    }\n",
       "\n",
       "    .dataframe thead th {\n",
       "        text-align: right;\n",
       "    }\n",
       "</style>\n",
       "<table border=\"1\" class=\"dataframe\">\n",
       "  <thead>\n",
       "    <tr style=\"text-align: right;\">\n",
       "      <th></th>\n",
       "      <th>title</th>\n",
       "      <th>selftext</th>\n",
       "      <th>subreddit</th>\n",
       "      <th>created_utc</th>\n",
       "      <th>author</th>\n",
       "      <th>num_comments</th>\n",
       "      <th>score</th>\n",
       "      <th>is_self</th>\n",
       "      <th>timestamp</th>\n",
       "      <th>post</th>\n",
       "      <th>token</th>\n",
       "      <th>is_Covid19positive</th>\n",
       "    </tr>\n",
       "  </thead>\n",
       "  <tbody>\n",
       "    <tr>\n",
       "      <th>0</th>\n",
       "      <td>I am constantly seeing people asking about people’s experiences so I figured now we can go to one place and stop spamming the AMA and ask Reddit’s subs.</td>\n",
       "      <td>For those that have tested positive I hope every single one of you feels better soon!</td>\n",
       "      <td>COVID19positive</td>\n",
       "      <td>1584148032</td>\n",
       "      <td>the1andonlyjoja</td>\n",
       "      <td>191</td>\n",
       "      <td>1</td>\n",
       "      <td>True</td>\n",
       "      <td>2020-03-13 18:07:12</td>\n",
       "      <td>tested positive hope every single one feels better soon</td>\n",
       "      <td>test posit hope everi singl one feel better soon</td>\n",
       "      <td>1</td>\n",
       "    </tr>\n",
       "    <tr>\n",
       "      <th>1</th>\n",
       "      <td>How severe are your guys' symptoms?</td>\n",
       "      <td>I have no idea if I've got the coronavirus, or it's just a cold etc. I've got a runny nose and coughing quite a lot, and a bit of a headache. I don't want to go out in case I do have it and I give it to other people. Are your symptoms debilitating?</td>\n",
       "      <td>COVID19positive</td>\n",
       "      <td>1584358828</td>\n",
       "      <td>RocketFrasier</td>\n",
       "      <td>0</td>\n",
       "      <td>1</td>\n",
       "      <td>True</td>\n",
       "      <td>2020-03-16 04:40:28</td>\n",
       "      <td>idea got coronavirus cold etc got runny nose coughing quite lot bit headache want go case give people symptoms debilitating</td>\n",
       "      <td>idea got coronaviru cold etc got runni nose cough quit lot bit headach want go case give peopl symptom debilit</td>\n",
       "      <td>1</td>\n",
       "    </tr>\n",
       "    <tr>\n",
       "      <th>2</th>\n",
       "      <td>How severe are your symptoms?</td>\n",
       "      <td>I have no idea if I've got the coronavirus, or it's just a cold etc. I've got a runny nose and coughing quite a lot, and a bit of a headache. I don't want to go out in case I do have it and I give it to other people.  My symptoms feel practically the same as a normal cold/flu, other than last night where my eyes hurt a bit, so I wasn't able to sleep. Are your symptoms debilitating?</td>\n",
       "      <td>COVID19positive</td>\n",
       "      <td>1584358937</td>\n",
       "      <td>RocketFrasier</td>\n",
       "      <td>42</td>\n",
       "      <td>1</td>\n",
       "      <td>True</td>\n",
       "      <td>2020-03-16 04:42:17</td>\n",
       "      <td>idea got coronavirus cold etc got runny nose coughing quite lot bit headache want go case give people symptoms feel practically normal cold flu last night eyes hurt bit able sleep symptoms debilitating</td>\n",
       "      <td>idea got coronaviru cold etc got runni nose cough quit lot bit headach want go case give peopl symptom feel practic normal cold flu last night eye hurt bit abl sleep symptom debilit</td>\n",
       "      <td>1</td>\n",
       "    </tr>\n",
       "  </tbody>\n",
       "</table>\n",
       "</div>"
      ],
      "text/plain": [
       "                                                                                                                                                      title  \\\n",
       "0  I am constantly seeing people asking about people’s experiences so I figured now we can go to one place and stop spamming the AMA and ask Reddit’s subs.   \n",
       "1                                                                                                                       How severe are your guys' symptoms?   \n",
       "2                                                                                                                             How severe are your symptoms?   \n",
       "\n",
       "                                                                                                                                                                                                                                                                                                                                                                                           selftext  \\\n",
       "0                                                                                                                                                                                                                                                                                                             For those that have tested positive I hope every single one of you feels better soon!   \n",
       "1                                                                                                                                          I have no idea if I've got the coronavirus, or it's just a cold etc. I've got a runny nose and coughing quite a lot, and a bit of a headache. I don't want to go out in case I do have it and I give it to other people. Are your symptoms debilitating?   \n",
       "2  I have no idea if I've got the coronavirus, or it's just a cold etc. I've got a runny nose and coughing quite a lot, and a bit of a headache. I don't want to go out in case I do have it and I give it to other people.  My symptoms feel practically the same as a normal cold/flu, other than last night where my eyes hurt a bit, so I wasn't able to sleep. Are your symptoms debilitating?   \n",
       "\n",
       "         subreddit  created_utc           author  num_comments  score  \\\n",
       "0  COVID19positive   1584148032  the1andonlyjoja           191      1   \n",
       "1  COVID19positive   1584358828    RocketFrasier             0      1   \n",
       "2  COVID19positive   1584358937    RocketFrasier            42      1   \n",
       "\n",
       "   is_self            timestamp  \\\n",
       "0     True  2020-03-13 18:07:12   \n",
       "1     True  2020-03-16 04:40:28   \n",
       "2     True  2020-03-16 04:42:17   \n",
       "\n",
       "                                                                                                                                                                                                        post  \\\n",
       "0                                                                                                                                                    tested positive hope every single one feels better soon   \n",
       "1                                                                                idea got coronavirus cold etc got runny nose coughing quite lot bit headache want go case give people symptoms debilitating   \n",
       "2  idea got coronavirus cold etc got runny nose coughing quite lot bit headache want go case give people symptoms feel practically normal cold flu last night eyes hurt bit able sleep symptoms debilitating   \n",
       "\n",
       "                                                                                                                                                                                   token  \\\n",
       "0                                                                                                                                       test posit hope everi singl one feel better soon   \n",
       "1                                                                         idea got coronaviru cold etc got runni nose cough quit lot bit headach want go case give peopl symptom debilit   \n",
       "2  idea got coronaviru cold etc got runni nose cough quit lot bit headach want go case give peopl symptom feel practic normal cold flu last night eye hurt bit abl sleep symptom debilit   \n",
       "\n",
       "   is_Covid19positive  \n",
       "0                   1  \n",
       "1                   1  \n",
       "2                   1  "
      ]
     },
     "execution_count": 3,
     "metadata": {},
     "output_type": "execute_result"
    }
   ],
   "source": [
    "df.head(3)"
   ]
  },
  {
   "cell_type": "code",
   "execution_count": 4,
   "id": "ab5d61e9",
   "metadata": {},
   "outputs": [
    {
     "data": {
      "text/plain": [
       "title                 object\n",
       "selftext              object\n",
       "subreddit             object\n",
       "created_utc            int64\n",
       "author                object\n",
       "num_comments           int64\n",
       "score                  int64\n",
       "is_self                 bool\n",
       "timestamp             object\n",
       "post                  object\n",
       "token                 object\n",
       "is_Covid19positive     int64\n",
       "dtype: object"
      ]
     },
     "execution_count": 4,
     "metadata": {},
     "output_type": "execute_result"
    }
   ],
   "source": [
    "df.dtypes"
   ]
  },
  {
   "cell_type": "markdown",
   "id": "97890ee2",
   "metadata": {},
   "source": [
    "### check/drop nan"
   ]
  },
  {
   "cell_type": "code",
   "execution_count": 5,
   "id": "7d049c28",
   "metadata": {},
   "outputs": [
    {
     "data": {
      "text/plain": [
       "title                 0\n",
       "selftext              0\n",
       "subreddit             0\n",
       "created_utc           0\n",
       "author                0\n",
       "num_comments          0\n",
       "score                 0\n",
       "is_self               0\n",
       "timestamp             0\n",
       "post                  0\n",
       "token                 0\n",
       "is_Covid19positive    0\n",
       "dtype: int64"
      ]
     },
     "execution_count": 5,
     "metadata": {},
     "output_type": "execute_result"
    }
   ],
   "source": [
    "df.isnull().sum()"
   ]
  },
  {
   "cell_type": "markdown",
   "id": "c3494154",
   "metadata": {},
   "source": [
    "### count the number of characters in each post"
   ]
  },
  {
   "cell_type": "code",
   "execution_count": 6,
   "id": "11e36587",
   "metadata": {},
   "outputs": [],
   "source": [
    "df['text_char_length'] = df['token'].str.len()"
   ]
  },
  {
   "cell_type": "code",
   "execution_count": 7,
   "id": "34418242",
   "metadata": {},
   "outputs": [
    {
     "data": {
      "text/html": [
       "<div>\n",
       "<style scoped>\n",
       "    .dataframe tbody tr th:only-of-type {\n",
       "        vertical-align: middle;\n",
       "    }\n",
       "\n",
       "    .dataframe tbody tr th {\n",
       "        vertical-align: top;\n",
       "    }\n",
       "\n",
       "    .dataframe thead th {\n",
       "        text-align: right;\n",
       "    }\n",
       "</style>\n",
       "<table border=\"1\" class=\"dataframe\">\n",
       "  <thead>\n",
       "    <tr style=\"text-align: right;\">\n",
       "      <th></th>\n",
       "      <th>title</th>\n",
       "      <th>selftext</th>\n",
       "      <th>subreddit</th>\n",
       "      <th>created_utc</th>\n",
       "      <th>author</th>\n",
       "      <th>num_comments</th>\n",
       "      <th>score</th>\n",
       "      <th>is_self</th>\n",
       "      <th>timestamp</th>\n",
       "      <th>post</th>\n",
       "      <th>token</th>\n",
       "      <th>is_Covid19positive</th>\n",
       "      <th>text_char_length</th>\n",
       "    </tr>\n",
       "  </thead>\n",
       "  <tbody>\n",
       "    <tr>\n",
       "      <th>0</th>\n",
       "      <td>I am constantly seeing people asking about people’s experiences so I figured now we can go to one place and stop spamming the AMA and ask Reddit’s subs.</td>\n",
       "      <td>For those that have tested positive I hope every single one of you feels better soon!</td>\n",
       "      <td>COVID19positive</td>\n",
       "      <td>1584148032</td>\n",
       "      <td>the1andonlyjoja</td>\n",
       "      <td>191</td>\n",
       "      <td>1</td>\n",
       "      <td>True</td>\n",
       "      <td>2020-03-13 18:07:12</td>\n",
       "      <td>tested positive hope every single one feels better soon</td>\n",
       "      <td>test posit hope everi singl one feel better soon</td>\n",
       "      <td>1</td>\n",
       "      <td>48</td>\n",
       "    </tr>\n",
       "    <tr>\n",
       "      <th>1</th>\n",
       "      <td>How severe are your guys' symptoms?</td>\n",
       "      <td>I have no idea if I've got the coronavirus, or it's just a cold etc. I've got a runny nose and coughing quite a lot, and a bit of a headache. I don't want to go out in case I do have it and I give it to other people. Are your symptoms debilitating?</td>\n",
       "      <td>COVID19positive</td>\n",
       "      <td>1584358828</td>\n",
       "      <td>RocketFrasier</td>\n",
       "      <td>0</td>\n",
       "      <td>1</td>\n",
       "      <td>True</td>\n",
       "      <td>2020-03-16 04:40:28</td>\n",
       "      <td>idea got coronavirus cold etc got runny nose coughing quite lot bit headache want go case give people symptoms debilitating</td>\n",
       "      <td>idea got coronaviru cold etc got runni nose cough quit lot bit headach want go case give peopl symptom debilit</td>\n",
       "      <td>1</td>\n",
       "      <td>110</td>\n",
       "    </tr>\n",
       "    <tr>\n",
       "      <th>2</th>\n",
       "      <td>How severe are your symptoms?</td>\n",
       "      <td>I have no idea if I've got the coronavirus, or it's just a cold etc. I've got a runny nose and coughing quite a lot, and a bit of a headache. I don't want to go out in case I do have it and I give it to other people.  My symptoms feel practically the same as a normal cold/flu, other than last night where my eyes hurt a bit, so I wasn't able to sleep. Are your symptoms debilitating?</td>\n",
       "      <td>COVID19positive</td>\n",
       "      <td>1584358937</td>\n",
       "      <td>RocketFrasier</td>\n",
       "      <td>42</td>\n",
       "      <td>1</td>\n",
       "      <td>True</td>\n",
       "      <td>2020-03-16 04:42:17</td>\n",
       "      <td>idea got coronavirus cold etc got runny nose coughing quite lot bit headache want go case give people symptoms feel practically normal cold flu last night eyes hurt bit able sleep symptoms debilitating</td>\n",
       "      <td>idea got coronaviru cold etc got runni nose cough quit lot bit headach want go case give peopl symptom feel practic normal cold flu last night eye hurt bit abl sleep symptom debilit</td>\n",
       "      <td>1</td>\n",
       "      <td>181</td>\n",
       "    </tr>\n",
       "    <tr>\n",
       "      <th>3</th>\n",
       "      <td>Shortness of breath as first symptom?</td>\n",
       "      <td>I live in a Canadian province with only 3 presumed cases, all related to travel. I haven’t travelled outside my city, and haven’t been in contact with anyone who has a known case of covid19. However, 11 days ago I was interacting with someone who travelled from the US and had been travelling in international airports. \\n\\nI’m 21F and feel like I’m experiencing shortness of breath, but unsure b...</td>\n",
       "      <td>COVID19positive</td>\n",
       "      <td>1584375181</td>\n",
       "      <td>_haligirl98_</td>\n",
       "      <td>77</td>\n",
       "      <td>1</td>\n",
       "      <td>True</td>\n",
       "      <td>2020-03-16 09:13:01</td>\n",
       "      <td>live canadian province presumed cases related travel travelled outside city contact anyone known case covid however days ago interacting someone travelled us travelling international airports f feel like experiencing shortness breath unsure never felt way felt slight pressure tightness right side chest feel like get much air lungs usual pains sharp feelings yet fever cough headache symptom rea...</td>\n",
       "      <td>live canadian provinc presum case relat travel travel outsid citi contact anyon known case covid howev day ago interact someon travel us travel intern airport f feel like experienc short breath unsur never felt way felt slight pressur tight right side chest feel like get much air lung usual pain sharp feel yet fever cough headach symptom read stori peopl symptom seem start least fever cough sh...</td>\n",
       "      <td>1</td>\n",
       "      <td>419</td>\n",
       "    </tr>\n",
       "    <tr>\n",
       "      <th>4</th>\n",
       "      <td>I need advice, please!</td>\n",
       "      <td>Yesterday I woke up and noticed I had a shortness of breath a few hours after waking up. At work I went home early because I felt weak/tired. \\n\\nThis morning, I don’t feel as weak anymore, but I still have the shortness of breath and slight chest pain. Could this be allergies? Did any of you have these symptoms?\\n\\nI called my doctors and they will not test me unless I have a cough with a fev...</td>\n",
       "      <td>COVID19positive</td>\n",
       "      <td>1584382909</td>\n",
       "      <td>monkcell</td>\n",
       "      <td>11</td>\n",
       "      <td>2</td>\n",
       "      <td>True</td>\n",
       "      <td>2020-03-16 11:21:49</td>\n",
       "      <td>yesterday woke noticed shortness breath hours waking work went home early felt weak tired morning feel weak anymore still shortness breath slight chest pain could allergies symptoms called doctors test unless cough fever shortness breath cough fever</td>\n",
       "      <td>yesterday woke notic short breath hour wake work went home earli felt weak tire morn feel weak anymor still short breath slight chest pain could allergi symptom call doctor test unless cough fever short breath cough fever</td>\n",
       "      <td>1</td>\n",
       "      <td>221</td>\n",
       "    </tr>\n",
       "    <tr>\n",
       "      <th>...</th>\n",
       "      <td>...</td>\n",
       "      <td>...</td>\n",
       "      <td>...</td>\n",
       "      <td>...</td>\n",
       "      <td>...</td>\n",
       "      <td>...</td>\n",
       "      <td>...</td>\n",
       "      <td>...</td>\n",
       "      <td>...</td>\n",
       "      <td>...</td>\n",
       "      <td>...</td>\n",
       "      <td>...</td>\n",
       "      <td>...</td>\n",
       "    </tr>\n",
       "    <tr>\n",
       "      <th>5296</th>\n",
       "      <td>Not sure how much food to prep</td>\n",
       "      <td>So right now I have about 50 days of food prepped for 2 people (50 each) at 2000 calories. \\n\\nI’m not sure if I should get more. I’ve got all my other supplies with just a few things here and there but nothing critical I need anymore.\\n\\nI’m just not sure if 50 days per person for me and my partner is enough or if I should get more. \\n\\nHow many days of food are you prepping for each person?</td>\n",
       "      <td>PandemicPreps</td>\n",
       "      <td>1583017097</td>\n",
       "      <td>PP3V42G3H</td>\n",
       "      <td>21</td>\n",
       "      <td>1</td>\n",
       "      <td>True</td>\n",
       "      <td>2020-02-29 14:58:17</td>\n",
       "      <td>right days food prepped people calories sure get got supplies things nothing critical need anymore sure days per person partner enough get many days food prepping person</td>\n",
       "      <td>right day food prep peopl calori sure get got suppli thing noth critic need anymor sure day per person partner enough get mani day food prep person</td>\n",
       "      <td>0</td>\n",
       "      <td>147</td>\n",
       "    </tr>\n",
       "    <tr>\n",
       "      <th>5297</th>\n",
       "      <td>How to protect yourself while flying long distance?</td>\n",
       "      <td>\\nEven if you avoid non essential travel, I'm sure some people might still need to fly long distances for various obligations.\\n\\nAre there guides or tips on what exactly one should do while going through security check, same sitting in the plane?\\n\\nFor instance, how to sanitize your plane seat?\\n\\nAny advice would be appreciated!!</td>\n",
       "      <td>PandemicPreps</td>\n",
       "      <td>1583020002</td>\n",
       "      <td>Klutzy-Nerve</td>\n",
       "      <td>8</td>\n",
       "      <td>1</td>\n",
       "      <td>True</td>\n",
       "      <td>2020-02-29 15:46:42</td>\n",
       "      <td>even avoid non essential travel sure people might still need fly long distances various obligations guides tips exactly one going security check sitting plane instance sanitize plane seat advice would appreciated</td>\n",
       "      <td>even avoid non essenti travel sure peopl might still need fli long distanc variou oblig guid tip exactli one go secur check sit plane instanc sanit plane seat advic would appreci</td>\n",
       "      <td>0</td>\n",
       "      <td>178</td>\n",
       "    </tr>\n",
       "    <tr>\n",
       "      <th>5298</th>\n",
       "      <td>Honest Question</td>\n",
       "      <td>Why are many people expecting power outages and/or water contamination/loss of water during COVID-19 pandemic? \\n\\nIt’s an honest question and I’d like to understand people’s reasoning as maybe I’m overlooking something important. I keep hearing people say they are ready for the coming power outages or seeing it online.\\n\\nI’ve been following news and individual reports from hard hit areas and...</td>\n",
       "      <td>PandemicPreps</td>\n",
       "      <td>1583020508</td>\n",
       "      <td>Jules6146</td>\n",
       "      <td>25</td>\n",
       "      <td>1</td>\n",
       "      <td>True</td>\n",
       "      <td>2020-02-29 15:55:08</td>\n",
       "      <td>many people expecting power outages water contamination loss water covid pandemic honest question like understand people reasoning maybe overlooking something important keep hearing people say ready coming power outages seeing online following news individual reports hard hit areas quarantined areas appear shut power plants water treatment plants appear disruptions sars even ebola hit areas es...</td>\n",
       "      <td>mani peopl expect power outag water contamin loss water covid pandem honest question like understand peopl reason mayb overlook someth import keep hear peopl say readi come power outag see onlin follow news individu report hard hit area quarantin area appear shut power plant water treatment plant appear disrupt sar even ebola hit area essenti personnel critic servic alway work genuin wonder co...</td>\n",
       "      <td>0</td>\n",
       "      <td>506</td>\n",
       "    </tr>\n",
       "    <tr>\n",
       "      <th>5299</th>\n",
       "      <td>We’ve been trying to solve this problem for years. Can someone smarter please help?</td>\n",
       "      <td>My husband’s been an ER RN for 20 years. He’s also been a Type 1 diabetic since he was 6. Over the course of our 26-year marriage the subject of a pandemic has come up several times. We created a master list of our needs and over the years we’ve purchased the big items. Last month we refreshed our supply on old items, but we’re still banging our heads against the same and most important subjec...</td>\n",
       "      <td>PandemicPreps</td>\n",
       "      <td>1583020599</td>\n",
       "      <td>Blue_Bee_Magic</td>\n",
       "      <td>43</td>\n",
       "      <td>1</td>\n",
       "      <td>True</td>\n",
       "      <td>2020-02-29 15:56:39</td>\n",
       "      <td>husband er rn years also type diabetic since course year marriage subject pandemic come several times created master list needs years purchased big items last month refreshed supply old items still banging heads important subject solar mini fridge insulin lose power feel dumb overwhelmed try understand need house root cellar giant generator apartment dwellers second floor yard ability mount so...</td>\n",
       "      <td>husband er rn year also type diabet sinc cours year marriag subject pandem come sever time creat master list need year purchas big item last month refresh suppli old item still bang head import subject solar mini fridg insulin lose power feel dumb overwhelm tri understand need hous root cellar giant gener apart dweller second floor yard abil mount solar panel hope get advic someon tackl issu s...</td>\n",
       "      <td>0</td>\n",
       "      <td>426</td>\n",
       "    </tr>\n",
       "    <tr>\n",
       "      <th>5300</th>\n",
       "      <td>$100 at Walmart. What would you get?</td>\n",
       "      <td>Like in the title, that’s what I’m able to spend right now. I have 2-5 lb bags of rice, 2 flats of 40 water bottles, frozen veggies, peanut butter, lots of beans and bouillon cubes. What else would y’all get for food?</td>\n",
       "      <td>PandemicPreps</td>\n",
       "      <td>1583020666</td>\n",
       "      <td>sunnysideup2323</td>\n",
       "      <td>17</td>\n",
       "      <td>1</td>\n",
       "      <td>True</td>\n",
       "      <td>2020-02-29 15:57:46</td>\n",
       "      <td>like title able spend right lb bags rice flats water bottles frozen veggies peanut butter lots beans bouillon cubes else would get food</td>\n",
       "      <td>like titl abl spend right lb bag rice flat water bottl frozen veggi peanut butter lot bean bouillon cube els would get food</td>\n",
       "      <td>0</td>\n",
       "      <td>123</td>\n",
       "    </tr>\n",
       "  </tbody>\n",
       "</table>\n",
       "<p>5301 rows × 13 columns</p>\n",
       "</div>"
      ],
      "text/plain": [
       "                                                                                                                                                         title  \\\n",
       "0     I am constantly seeing people asking about people’s experiences so I figured now we can go to one place and stop spamming the AMA and ask Reddit’s subs.   \n",
       "1                                                                                                                          How severe are your guys' symptoms?   \n",
       "2                                                                                                                                How severe are your symptoms?   \n",
       "3                                                                                                                        Shortness of breath as first symptom?   \n",
       "4                                                                                                                                       I need advice, please!   \n",
       "...                                                                                                                                                        ...   \n",
       "5296                                                                                                                            Not sure how much food to prep   \n",
       "5297                                                                                                       How to protect yourself while flying long distance?   \n",
       "5298                                                                                                                                           Honest Question   \n",
       "5299                                                                       We’ve been trying to solve this problem for years. Can someone smarter please help?   \n",
       "5300                                                                                                                      $100 at Walmart. What would you get?   \n",
       "\n",
       "                                                                                                                                                                                                                                                                                                                                                                                                             selftext  \\\n",
       "0                                                                                                                                                                                                                                                                                                                               For those that have tested positive I hope every single one of you feels better soon!   \n",
       "1                                                                                                                                                            I have no idea if I've got the coronavirus, or it's just a cold etc. I've got a runny nose and coughing quite a lot, and a bit of a headache. I don't want to go out in case I do have it and I give it to other people. Are your symptoms debilitating?   \n",
       "2                    I have no idea if I've got the coronavirus, or it's just a cold etc. I've got a runny nose and coughing quite a lot, and a bit of a headache. I don't want to go out in case I do have it and I give it to other people.  My symptoms feel practically the same as a normal cold/flu, other than last night where my eyes hurt a bit, so I wasn't able to sleep. Are your symptoms debilitating?   \n",
       "3     I live in a Canadian province with only 3 presumed cases, all related to travel. I haven’t travelled outside my city, and haven’t been in contact with anyone who has a known case of covid19. However, 11 days ago I was interacting with someone who travelled from the US and had been travelling in international airports. \\n\\nI’m 21F and feel like I’m experiencing shortness of breath, but unsure b...   \n",
       "4     Yesterday I woke up and noticed I had a shortness of breath a few hours after waking up. At work I went home early because I felt weak/tired. \\n\\nThis morning, I don’t feel as weak anymore, but I still have the shortness of breath and slight chest pain. Could this be allergies? Did any of you have these symptoms?\\n\\nI called my doctors and they will not test me unless I have a cough with a fev...   \n",
       "...                                                                                                                                                                                                                                                                                                                                                                                                               ...   \n",
       "5296      So right now I have about 50 days of food prepped for 2 people (50 each) at 2000 calories. \\n\\nI’m not sure if I should get more. I’ve got all my other supplies with just a few things here and there but nothing critical I need anymore.\\n\\nI’m just not sure if 50 days per person for me and my partner is enough or if I should get more. \\n\\nHow many days of food are you prepping for each person?   \n",
       "5297                                                                   \\nEven if you avoid non essential travel, I'm sure some people might still need to fly long distances for various obligations.\\n\\nAre there guides or tips on what exactly one should do while going through security check, same sitting in the plane?\\n\\nFor instance, how to sanitize your plane seat?\\n\\nAny advice would be appreciated!!   \n",
       "5298  Why are many people expecting power outages and/or water contamination/loss of water during COVID-19 pandemic? \\n\\nIt’s an honest question and I’d like to understand people’s reasoning as maybe I’m overlooking something important. I keep hearing people say they are ready for the coming power outages or seeing it online.\\n\\nI’ve been following news and individual reports from hard hit areas and...   \n",
       "5299  My husband’s been an ER RN for 20 years. He’s also been a Type 1 diabetic since he was 6. Over the course of our 26-year marriage the subject of a pandemic has come up several times. We created a master list of our needs and over the years we’ve purchased the big items. Last month we refreshed our supply on old items, but we’re still banging our heads against the same and most important subjec...   \n",
       "5300                                                                                                                                                                                        Like in the title, that’s what I’m able to spend right now. I have 2-5 lb bags of rice, 2 flats of 40 water bottles, frozen veggies, peanut butter, lots of beans and bouillon cubes. What else would y’all get for food?   \n",
       "\n",
       "            subreddit  created_utc           author  num_comments  score  \\\n",
       "0     COVID19positive   1584148032  the1andonlyjoja           191      1   \n",
       "1     COVID19positive   1584358828    RocketFrasier             0      1   \n",
       "2     COVID19positive   1584358937    RocketFrasier            42      1   \n",
       "3     COVID19positive   1584375181     _haligirl98_            77      1   \n",
       "4     COVID19positive   1584382909         monkcell            11      2   \n",
       "...               ...          ...              ...           ...    ...   \n",
       "5296    PandemicPreps   1583017097        PP3V42G3H            21      1   \n",
       "5297    PandemicPreps   1583020002     Klutzy-Nerve             8      1   \n",
       "5298    PandemicPreps   1583020508        Jules6146            25      1   \n",
       "5299    PandemicPreps   1583020599   Blue_Bee_Magic            43      1   \n",
       "5300    PandemicPreps   1583020666  sunnysideup2323            17      1   \n",
       "\n",
       "      is_self            timestamp  \\\n",
       "0        True  2020-03-13 18:07:12   \n",
       "1        True  2020-03-16 04:40:28   \n",
       "2        True  2020-03-16 04:42:17   \n",
       "3        True  2020-03-16 09:13:01   \n",
       "4        True  2020-03-16 11:21:49   \n",
       "...       ...                  ...   \n",
       "5296     True  2020-02-29 14:58:17   \n",
       "5297     True  2020-02-29 15:46:42   \n",
       "5298     True  2020-02-29 15:55:08   \n",
       "5299     True  2020-02-29 15:56:39   \n",
       "5300     True  2020-02-29 15:57:46   \n",
       "\n",
       "                                                                                                                                                                                                                                                                                                                                                                                                                 post  \\\n",
       "0                                                                                                                                                                                                                                                                                                                                                             tested positive hope every single one feels better soon   \n",
       "1                                                                                                                                                                                                                                                                                         idea got coronavirus cold etc got runny nose coughing quite lot bit headache want go case give people symptoms debilitating   \n",
       "2                                                                                                                                                                                                           idea got coronavirus cold etc got runny nose coughing quite lot bit headache want go case give people symptoms feel practically normal cold flu last night eyes hurt bit able sleep symptoms debilitating   \n",
       "3     live canadian province presumed cases related travel travelled outside city contact anyone known case covid however days ago interacting someone travelled us travelling international airports f feel like experiencing shortness breath unsure never felt way felt slight pressure tightness right side chest feel like get much air lungs usual pains sharp feelings yet fever cough headache symptom rea...   \n",
       "4                                                                                                                                                           yesterday woke noticed shortness breath hours waking work went home early felt weak tired morning feel weak anymore still shortness breath slight chest pain could allergies symptoms called doctors test unless cough fever shortness breath cough fever   \n",
       "...                                                                                                                                                                                                                                                                                                                                                                                                               ...   \n",
       "5296                                                                                                                                                                                                                                        right days food prepped people calories sure get got supplies things nothing critical need anymore sure days per person partner enough get many days food prepping person   \n",
       "5297                                                                                                                                                                                             even avoid non essential travel sure people might still need fly long distances various obligations guides tips exactly one going security check sitting plane instance sanitize plane seat advice would appreciated   \n",
       "5298  many people expecting power outages water contamination loss water covid pandemic honest question like understand people reasoning maybe overlooking something important keep hearing people say ready coming power outages seeing online following news individual reports hard hit areas quarantined areas appear shut power plants water treatment plants appear disruptions sars even ebola hit areas es...   \n",
       "5299  husband er rn years also type diabetic since course year marriage subject pandemic come several times created master list needs years purchased big items last month refreshed supply old items still banging heads important subject solar mini fridge insulin lose power feel dumb overwhelmed try understand need house root cellar giant generator apartment dwellers second floor yard ability mount so...   \n",
       "5300                                                                                                                                                                                                                                                                          like title able spend right lb bags rice flats water bottles frozen veggies peanut butter lots beans bouillon cubes else would get food   \n",
       "\n",
       "                                                                                                                                                                                                                                                                                                                                                                                                                token  \\\n",
       "0                                                                                                                                                                                                                                                                                                                                                                    test posit hope everi singl one feel better soon   \n",
       "1                                                                                                                                                                                                                                                                                                      idea got coronaviru cold etc got runni nose cough quit lot bit headach want go case give peopl symptom debilit   \n",
       "2                                                                                                                                                                                                                               idea got coronaviru cold etc got runni nose cough quit lot bit headach want go case give peopl symptom feel practic normal cold flu last night eye hurt bit abl sleep symptom debilit   \n",
       "3     live canadian provinc presum case relat travel travel outsid citi contact anyon known case covid howev day ago interact someon travel us travel intern airport f feel like experienc short breath unsur never felt way felt slight pressur tight right side chest feel like get much air lung usual pain sharp feel yet fever cough headach symptom read stori peopl symptom seem start least fever cough sh...   \n",
       "4                                                                                                                                                                                       yesterday woke notic short breath hour wake work went home earli felt weak tire morn feel weak anymor still short breath slight chest pain could allergi symptom call doctor test unless cough fever short breath cough fever   \n",
       "...                                                                                                                                                                                                                                                                                                                                                                                                               ...   \n",
       "5296                                                                                                                                                                                                                                                              right day food prep peopl calori sure get got suppli thing noth critic need anymor sure day per person partner enough get mani day food prep person   \n",
       "5297                                                                                                                                                                                                                               even avoid non essenti travel sure peopl might still need fli long distanc variou oblig guid tip exactli one go secur check sit plane instanc sanit plane seat advic would appreci   \n",
       "5298  mani peopl expect power outag water contamin loss water covid pandem honest question like understand peopl reason mayb overlook someth import keep hear peopl say readi come power outag see onlin follow news individu report hard hit area quarantin area appear shut power plant water treatment plant appear disrupt sar even ebola hit area essenti personnel critic servic alway work genuin wonder co...   \n",
       "5299  husband er rn year also type diabet sinc cours year marriag subject pandem come sever time creat master list need year purchas big item last month refresh suppli old item still bang head import subject solar mini fridg insulin lose power feel dumb overwhelm tri understand need hous root cellar giant gener apart dweller second floor yard abil mount solar panel hope get advic someon tackl issu s...   \n",
       "5300                                                                                                                                                                                                                                                                                      like titl abl spend right lb bag rice flat water bottl frozen veggi peanut butter lot bean bouillon cube els would get food   \n",
       "\n",
       "      is_Covid19positive  text_char_length  \n",
       "0                      1                48  \n",
       "1                      1               110  \n",
       "2                      1               181  \n",
       "3                      1               419  \n",
       "4                      1               221  \n",
       "...                  ...               ...  \n",
       "5296                   0               147  \n",
       "5297                   0               178  \n",
       "5298                   0               506  \n",
       "5299                   0               426  \n",
       "5300                   0               123  \n",
       "\n",
       "[5301 rows x 13 columns]"
      ]
     },
     "execution_count": 7,
     "metadata": {},
     "output_type": "execute_result"
    }
   ],
   "source": [
    "df"
   ]
  },
  {
   "cell_type": "code",
   "execution_count": 8,
   "id": "fd58496a",
   "metadata": {},
   "outputs": [
    {
     "data": {
      "image/png": "[encoded data removed]",
      "text/plain": [
       "<Figure size 432x288 with 1 Axes>"
      ]
     },
     "metadata": {
      "needs_background": "light"
     },
     "output_type": "display_data"
    }
   ],
   "source": [
    "df['text_char_length'].plot(kind='hist',bins=20)\n",
    "plt.ylabel('Frequency', fontsize=16)\n",
    "plt.xlabel('Number of characters', fontsize=16);"
   ]
  },
  {
   "cell_type": "markdown",
   "id": "9d99c322",
   "metadata": {},
   "source": [
    "### count the number of words in each post"
   ]
  },
  {
   "cell_type": "code",
   "execution_count": 9,
   "id": "328366e6",
   "metadata": {},
   "outputs": [],
   "source": [
    "# in the original post\n",
    "df['selftext_word_count'] = [len(df['selftext'][i].split(' ')) for i in range (len(df['selftext']))]"
   ]
  },
  {
   "cell_type": "code",
   "execution_count": 10,
   "id": "0757c959",
   "metadata": {},
   "outputs": [],
   "source": [
    "# in the processed stemmed token\n",
    "df['token_word_count'] = [len(df['token'][i].split(' ')) for i in range (len(df['token']))]"
   ]
  },
  {
   "cell_type": "code",
   "execution_count": 11,
   "id": "ff3a8b81",
   "metadata": {},
   "outputs": [
    {
     "data": {
      "text/html": [
       "<div>\n",
       "<style scoped>\n",
       "    .dataframe tbody tr th:only-of-type {\n",
       "        vertical-align: middle;\n",
       "    }\n",
       "\n",
       "    .dataframe tbody tr th {\n",
       "        vertical-align: top;\n",
       "    }\n",
       "\n",
       "    .dataframe thead th {\n",
       "        text-align: right;\n",
       "    }\n",
       "</style>\n",
       "<table border=\"1\" class=\"dataframe\">\n",
       "  <thead>\n",
       "    <tr style=\"text-align: right;\">\n",
       "      <th></th>\n",
       "      <th>title</th>\n",
       "      <th>selftext</th>\n",
       "      <th>subreddit</th>\n",
       "      <th>created_utc</th>\n",
       "      <th>author</th>\n",
       "      <th>num_comments</th>\n",
       "      <th>score</th>\n",
       "      <th>is_self</th>\n",
       "      <th>timestamp</th>\n",
       "      <th>post</th>\n",
       "      <th>token</th>\n",
       "      <th>is_Covid19positive</th>\n",
       "      <th>text_char_length</th>\n",
       "      <th>selftext_word_count</th>\n",
       "      <th>token_word_count</th>\n",
       "    </tr>\n",
       "  </thead>\n",
       "  <tbody>\n",
       "    <tr>\n",
       "      <th>0</th>\n",
       "      <td>I am constantly seeing people asking about people’s experiences so I figured now we can go to one place and stop spamming the AMA and ask Reddit’s subs.</td>\n",
       "      <td>For those that have tested positive I hope every single one of you feels better soon!</td>\n",
       "      <td>COVID19positive</td>\n",
       "      <td>1584148032</td>\n",
       "      <td>the1andonlyjoja</td>\n",
       "      <td>191</td>\n",
       "      <td>1</td>\n",
       "      <td>True</td>\n",
       "      <td>2020-03-13 18:07:12</td>\n",
       "      <td>tested positive hope every single one feels better soon</td>\n",
       "      <td>test posit hope everi singl one feel better soon</td>\n",
       "      <td>1</td>\n",
       "      <td>48</td>\n",
       "      <td>16</td>\n",
       "      <td>9</td>\n",
       "    </tr>\n",
       "  </tbody>\n",
       "</table>\n",
       "</div>"
      ],
      "text/plain": [
       "                                                                                                                                                      title  \\\n",
       "0  I am constantly seeing people asking about people’s experiences so I figured now we can go to one place and stop spamming the AMA and ask Reddit’s subs.   \n",
       "\n",
       "                                                                                selftext  \\\n",
       "0  For those that have tested positive I hope every single one of you feels better soon!   \n",
       "\n",
       "         subreddit  created_utc           author  num_comments  score  \\\n",
       "0  COVID19positive   1584148032  the1andonlyjoja           191      1   \n",
       "\n",
       "   is_self            timestamp  \\\n",
       "0     True  2020-03-13 18:07:12   \n",
       "\n",
       "                                                      post  \\\n",
       "0  tested positive hope every single one feels better soon   \n",
       "\n",
       "                                              token  is_Covid19positive  \\\n",
       "0  test posit hope everi singl one feel better soon                   1   \n",
       "\n",
       "   text_char_length  selftext_word_count  token_word_count  \n",
       "0                48                   16                 9  "
      ]
     },
     "execution_count": 11,
     "metadata": {},
     "output_type": "execute_result"
    }
   ],
   "source": [
    "df.head(1)"
   ]
  },
  {
   "cell_type": "code",
   "execution_count": 12,
   "id": "7a3455e4",
   "metadata": {},
   "outputs": [],
   "source": [
    "m1 = np.round( df[df['is_Covid19positive']==1]['selftext_word_count'].mean(), 1)\n",
    "s1 = np.round( df[df['is_Covid19positive']==1]['selftext_word_count'].std(), 1)"
   ]
  },
  {
   "cell_type": "code",
   "execution_count": 13,
   "id": "bbecdbfe",
   "metadata": {},
   "outputs": [],
   "source": [
    "m0 = np.round( df[df['is_Covid19positive']==0]['selftext_word_count'].mean(), 1)\n",
    "s0 = np.round( df[df['is_Covid19positive']==0]['selftext_word_count'].std(), 1)"
   ]
  },
  {
   "cell_type": "code",
   "execution_count": 14,
   "id": "2cb8bb6c",
   "metadata": {},
   "outputs": [
    {
     "data": {
      "image/png": "[encoded data removed]",
      "text/plain": [
       "<Figure size 360x216 with 1 Axes>"
      ]
     },
     "metadata": {
      "needs_background": "light"
     },
     "output_type": "display_data"
    }
   ],
   "source": [
    "plt.figure(figsize=(5,3))\n",
    "plt.title('Post Wordiness:\\n Covid19Positive vs. CovidPreps Reddits', fontsize=14)\n",
    "sns.histplot(x='selftext_word_count', hue='is_Covid19positive', data=df,\n",
    "             stat = 'probability')\n",
    "plt.xlim((0,600))\n",
    "plt.legend((r'Covid19Positive:'+str(m1)+'$\\pm$'+str(s1),\n",
    "             'CovidPreps: '+str(m0)+'$\\pm$'+str(s0),), fontsize=12)\n",
    "plt.ylabel('Probability', fontsize=12)\n",
    "plt.xlabel('Word Counts/post', fontsize=12)\n",
    "plt.xticks(fontsize=12)\n",
    "plt.yticks(fontsize=12);"
   ]
  },
  {
   "cell_type": "code",
   "execution_count": 15,
   "id": "b2ee596b",
   "metadata": {},
   "outputs": [],
   "source": [
    "m1 = np.round( df[df['is_Covid19positive']==1]['token_word_count'].mean(), 1)\n",
    "s1 = np.round( df[df['is_Covid19positive']==1]['token_word_count'].std(), 1)"
   ]
  },
  {
   "cell_type": "code",
   "execution_count": 16,
   "id": "1aca4855",
   "metadata": {},
   "outputs": [],
   "source": [
    "m0 = np.round( df[df['is_Covid19positive']==0]['token_word_count'].mean(), 1)\n",
    "s0 = np.round( df[df['is_Covid19positive']==0]['token_word_count'].std(), 1)"
   ]
  },
  {
   "cell_type": "code",
   "execution_count": 17,
   "id": "a35edbfb",
   "metadata": {},
   "outputs": [
    {
     "data": {
      "image/png": "[encoded data removed]",
      "text/plain": [
       "<Figure size 360x216 with 1 Axes>"
      ]
     },
     "metadata": {
      "needs_background": "light"
     },
     "output_type": "display_data"
    }
   ],
   "source": [
    "plt.figure(figsize=(5,3))\n",
    "plt.title('Token Wordiness:\\n Covid19Positive vs. CovidPreps Reddits', fontsize=14)\n",
    "sns.histplot(x='token_word_count', hue='is_Covid19positive', data=df,\n",
    "             stat = 'probability')\n",
    "plt.xlim((0,600))\n",
    "plt.legend((r'Covid19Positive:'+str(m1)+'$\\pm$'+str(s1),\n",
    "             'CovidPreps: '+str(m0)+'$\\pm$'+str(s0),), fontsize=12)\n",
    "plt.ylabel('Probability', fontsize=12)\n",
    "plt.xlabel('Word Counts/post', fontsize=12)\n",
    "plt.xticks(fontsize=12)\n",
    "plt.yticks(fontsize=12);"
   ]
  },
  {
   "cell_type": "code",
   "execution_count": 22,
   "id": "591152a3",
   "metadata": {},
   "outputs": [
    {
     "ename": "ValueError",
     "evalue": "hbar is not a valid plot kind",
     "output_type": "error",
     "traceback": [
      "\u001b[0;31m---------------------------------------------------------------------------\u001b[0m",
      "\u001b[0;31mValueError\u001b[0m                                Traceback (most recent call last)",
      "\u001b[0;32m<ipython-input-22-2a4ecc87812c>\u001b[0m in \u001b[0;36m<module>\u001b[0;34m\u001b[0m\n\u001b[0;32m----> 1\u001b[0;31m \u001b[0mdf\u001b[0m\u001b[0;34m[\u001b[0m\u001b[0mdf\u001b[0m\u001b[0;34m[\u001b[0m\u001b[0;34m'is_Covid19positive'\u001b[0m\u001b[0;34m]\u001b[0m\u001b[0;34m==\u001b[0m\u001b[0;36m1\u001b[0m\u001b[0;34m]\u001b[0m\u001b[0;34m[\u001b[0m\u001b[0;34m'token'\u001b[0m\u001b[0;34m]\u001b[0m\u001b[0;34m.\u001b[0m\u001b[0mvalue_counts\u001b[0m\u001b[0;34m(\u001b[0m\u001b[0;34m)\u001b[0m\u001b[0;34m.\u001b[0m\u001b[0mplot\u001b[0m\u001b[0;34m(\u001b[0m\u001b[0mkind\u001b[0m\u001b[0;34m=\u001b[0m\u001b[0;34m'hbar'\u001b[0m\u001b[0;34m)\u001b[0m\u001b[0;34m\u001b[0m\u001b[0;34m\u001b[0m\u001b[0m\n\u001b[0m",
      "\u001b[0;32m/usr/local/anaconda3/envs/ml/lib/python3.9/site-packages/pandas/plotting/_core.py\u001b[0m in \u001b[0;36m__call__\u001b[0;34m(self, *args, **kwargs)\u001b[0m\n\u001b[1;32m    886\u001b[0m \u001b[0;34m\u001b[0m\u001b[0m\n\u001b[1;32m    887\u001b[0m         \u001b[0;32mif\u001b[0m \u001b[0mkind\u001b[0m \u001b[0;32mnot\u001b[0m \u001b[0;32min\u001b[0m \u001b[0mself\u001b[0m\u001b[0;34m.\u001b[0m\u001b[0m_all_kinds\u001b[0m\u001b[0;34m:\u001b[0m\u001b[0;34m\u001b[0m\u001b[0;34m\u001b[0m\u001b[0m\n\u001b[0;32m--> 888\u001b[0;31m             \u001b[0;32mraise\u001b[0m \u001b[0mValueError\u001b[0m\u001b[0;34m(\u001b[0m\u001b[0;34mf\"{kind} is not a valid plot kind\"\u001b[0m\u001b[0;34m)\u001b[0m\u001b[0;34m\u001b[0m\u001b[0;34m\u001b[0m\u001b[0m\n\u001b[0m\u001b[1;32m    889\u001b[0m \u001b[0;34m\u001b[0m\u001b[0m\n\u001b[1;32m    890\u001b[0m         \u001b[0;31m# The original data structured can be transformed before passed to the\u001b[0m\u001b[0;34m\u001b[0m\u001b[0;34m\u001b[0m\u001b[0;34m\u001b[0m\u001b[0m\n",
      "\u001b[0;31mValueError\u001b[0m: hbar is not a valid plot kind"
     ]
    }
   ],
   "source": [
    "df[df['is_Covid19positive']==1]['token'].value_counts()"
   ]
  },
  {
   "cell_type": "code",
   "execution_count": null,
   "id": "d841873d",
   "metadata": {},
   "outputs": [],
   "source": []
  }
 ],
 "metadata": {
  "kernelspec": {
   "display_name": "Python 3",
   "language": "python",
   "name": "python3"
  },
  "language_info": {
   "codemirror_mode": {
    "name": "ipython",
    "version": 3
   },
   "file_extension": ".py",
   "mimetype": "text/x-python",
   "name": "python",
   "nbconvert_exporter": "python",
   "pygments_lexer": "ipython3",
   "version": "3.9.5"
  }
 },
 "nbformat": 4,
 "nbformat_minor": 5
}
