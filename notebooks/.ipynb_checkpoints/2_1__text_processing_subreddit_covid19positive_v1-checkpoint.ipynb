{
 "cells": [
  {
   "cell_type": "markdown",
   "id": "80eef07c",
   "metadata": {},
   "source": [
    "# Text Processing: Covid19 Positive\n",
    "### Author: Ehsan Gharib-Nezhad\n"
   ]
  },
  {
   "cell_type": "markdown",
   "id": "64439d7c",
   "metadata": {},
   "source": [
    "<!-- Let's review some of the pre-processing steps for text data:\n",
    "\n",
    "- Remove special characters\n",
    "- Tokenizing\n",
    "- Lemmatizing/Stemming\n",
    "- Stop word removal\n",
    "\n",
    "`CountVectorizer` actually can do a lot of this for us! It is important to keep these steps in mind in case you want to change the default methods used for each of these. -->"
   ]
  },
  {
   "cell_type": "code",
   "execution_count": 1,
   "id": "0a07c19a",
   "metadata": {},
   "outputs": [],
   "source": [
    "# Load Libraries\n",
    "from myfunctions import *\n",
    "from bs4 import BeautifulSoup #Function for removing html\n",
    "from nltk.stem.porter import PorterStemmer\n",
    "from nltk.tokenize import sent_tokenize, word_tokenize, RegexpTokenizer\n"
   ]
  },
  {
   "cell_type": "code",
   "execution_count": 2,
   "id": "ea75fcb8",
   "metadata": {},
   "outputs": [],
   "source": [
    "# Load datasets\n",
    "df = pd.read_csv('../datasets/preprocessed_covid19positive_reddit_LAST.csv',index_col=0)"
   ]
  },
  {
   "cell_type": "code",
   "execution_count": 3,
   "id": "b558f616",
   "metadata": {
    "scrolled": false
   },
   "outputs": [
    {
     "data": {
      "text/html": [
       "<div>\n",
       "<style scoped>\n",
       "    .dataframe tbody tr th:only-of-type {\n",
       "        vertical-align: middle;\n",
       "    }\n",
       "\n",
       "    .dataframe tbody tr th {\n",
       "        vertical-align: top;\n",
       "    }\n",
       "\n",
       "    .dataframe thead th {\n",
       "        text-align: right;\n",
       "    }\n",
       "</style>\n",
       "<table border=\"1\" class=\"dataframe\">\n",
       "  <thead>\n",
       "    <tr style=\"text-align: right;\">\n",
       "      <th></th>\n",
       "      <th>title</th>\n",
       "      <th>selftext</th>\n",
       "      <th>subreddit</th>\n",
       "      <th>created_utc</th>\n",
       "      <th>author</th>\n",
       "      <th>num_comments</th>\n",
       "      <th>score</th>\n",
       "      <th>is_self</th>\n",
       "      <th>timestamp</th>\n",
       "    </tr>\n",
       "  </thead>\n",
       "  <tbody>\n",
       "    <tr>\n",
       "      <th>0</th>\n",
       "      <td>I am constantly seeing people asking about people’s experiences so I figured now we can go to one place and stop spamming the AMA and ask Reddit’s subs.</td>\n",
       "      <td>For those that have tested positive I hope every single one of you feels better soon!</td>\n",
       "      <td>COVID19positive</td>\n",
       "      <td>1584148032</td>\n",
       "      <td>the1andonlyjoja</td>\n",
       "      <td>191</td>\n",
       "      <td>1</td>\n",
       "      <td>True</td>\n",
       "      <td>2020-03-13 18:07:12</td>\n",
       "    </tr>\n",
       "    <tr>\n",
       "      <th>1</th>\n",
       "      <td>How severe are your guys' symptoms?</td>\n",
       "      <td>I have no idea if I've got the coronavirus, or it's just a cold etc. I've got a runny nose and coughing quite a lot, and a bit of a headache. I don't want to go out in case I do have it and I give it to other people. Are your symptoms debilitating?</td>\n",
       "      <td>COVID19positive</td>\n",
       "      <td>1584358828</td>\n",
       "      <td>RocketFrasier</td>\n",
       "      <td>0</td>\n",
       "      <td>1</td>\n",
       "      <td>True</td>\n",
       "      <td>2020-03-16 04:40:28</td>\n",
       "    </tr>\n",
       "    <tr>\n",
       "      <th>2</th>\n",
       "      <td>How severe are your symptoms?</td>\n",
       "      <td>I have no idea if I've got the coronavirus, or it's just a cold etc. I've got a runny nose and coughing quite a lot, and a bit of a headache. I don't want to go out in case I do have it and I give it to other people.  My symptoms feel practically the same as a normal cold/flu, other than last night where my eyes hurt a bit, so I wasn't able to sleep. Are your symptoms debilitating?</td>\n",
       "      <td>COVID19positive</td>\n",
       "      <td>1584358937</td>\n",
       "      <td>RocketFrasier</td>\n",
       "      <td>42</td>\n",
       "      <td>1</td>\n",
       "      <td>True</td>\n",
       "      <td>2020-03-16 04:42:17</td>\n",
       "    </tr>\n",
       "    <tr>\n",
       "      <th>3</th>\n",
       "      <td>Shortness of breath as first symptom?</td>\n",
       "      <td>I live in a Canadian province with only 3 presumed cases, all related to travel. I haven’t travelled outside my city, and haven’t been in contact with anyone who has a known case of covid19. However, 11 days ago I was interacting with someone who travelled from the US and had been travelling in international airports. \\n\\nI’m 21F and feel like I’m experiencing shortness of breath, but unsure b...</td>\n",
       "      <td>COVID19positive</td>\n",
       "      <td>1584375181</td>\n",
       "      <td>_haligirl98_</td>\n",
       "      <td>77</td>\n",
       "      <td>1</td>\n",
       "      <td>True</td>\n",
       "      <td>2020-03-16 09:13:01</td>\n",
       "    </tr>\n",
       "    <tr>\n",
       "      <th>4</th>\n",
       "      <td>I need advice, please!</td>\n",
       "      <td>Yesterday I woke up and noticed I had a shortness of breath a few hours after waking up. At work I went home early because I felt weak/tired. \\n\\nThis morning, I don’t feel as weak anymore, but I still have the shortness of breath and slight chest pain. Could this be allergies? Did any of you have these symptoms?\\n\\nI called my doctors and they will not test me unless I have a cough with a fev...</td>\n",
       "      <td>COVID19positive</td>\n",
       "      <td>1584382909</td>\n",
       "      <td>monkcell</td>\n",
       "      <td>11</td>\n",
       "      <td>2</td>\n",
       "      <td>True</td>\n",
       "      <td>2020-03-16 11:21:49</td>\n",
       "    </tr>\n",
       "  </tbody>\n",
       "</table>\n",
       "</div>"
      ],
      "text/plain": [
       "                                                                                                                                                      title  \\\n",
       "0  I am constantly seeing people asking about people’s experiences so I figured now we can go to one place and stop spamming the AMA and ask Reddit’s subs.   \n",
       "1                                                                                                                       How severe are your guys' symptoms?   \n",
       "2                                                                                                                             How severe are your symptoms?   \n",
       "3                                                                                                                     Shortness of breath as first symptom?   \n",
       "4                                                                                                                                    I need advice, please!   \n",
       "\n",
       "                                                                                                                                                                                                                                                                                                                                                                                                          selftext  \\\n",
       "0                                                                                                                                                                                                                                                                                                                            For those that have tested positive I hope every single one of you feels better soon!   \n",
       "1                                                                                                                                                         I have no idea if I've got the coronavirus, or it's just a cold etc. I've got a runny nose and coughing quite a lot, and a bit of a headache. I don't want to go out in case I do have it and I give it to other people. Are your symptoms debilitating?   \n",
       "2                 I have no idea if I've got the coronavirus, or it's just a cold etc. I've got a runny nose and coughing quite a lot, and a bit of a headache. I don't want to go out in case I do have it and I give it to other people.  My symptoms feel practically the same as a normal cold/flu, other than last night where my eyes hurt a bit, so I wasn't able to sleep. Are your symptoms debilitating?   \n",
       "3  I live in a Canadian province with only 3 presumed cases, all related to travel. I haven’t travelled outside my city, and haven’t been in contact with anyone who has a known case of covid19. However, 11 days ago I was interacting with someone who travelled from the US and had been travelling in international airports. \\n\\nI’m 21F and feel like I’m experiencing shortness of breath, but unsure b...   \n",
       "4  Yesterday I woke up and noticed I had a shortness of breath a few hours after waking up. At work I went home early because I felt weak/tired. \\n\\nThis morning, I don’t feel as weak anymore, but I still have the shortness of breath and slight chest pain. Could this be allergies? Did any of you have these symptoms?\\n\\nI called my doctors and they will not test me unless I have a cough with a fev...   \n",
       "\n",
       "         subreddit  created_utc           author  num_comments  score  \\\n",
       "0  COVID19positive   1584148032  the1andonlyjoja           191      1   \n",
       "1  COVID19positive   1584358828    RocketFrasier             0      1   \n",
       "2  COVID19positive   1584358937    RocketFrasier            42      1   \n",
       "3  COVID19positive   1584375181     _haligirl98_            77      1   \n",
       "4  COVID19positive   1584382909         monkcell            11      2   \n",
       "\n",
       "   is_self            timestamp  \n",
       "0     True  2020-03-13 18:07:12  \n",
       "1     True  2020-03-16 04:40:28  \n",
       "2     True  2020-03-16 04:42:17  \n",
       "3     True  2020-03-16 09:13:01  \n",
       "4     True  2020-03-16 11:21:49  "
      ]
     },
     "execution_count": 3,
     "metadata": {},
     "output_type": "execute_result"
    }
   ],
   "source": [
    "df[df[]].head()"
   ]
  },
  {
   "cell_type": "markdown",
   "id": "d6fc2aeb",
   "metadata": {},
   "source": [
    "### Data shape"
   ]
  },
  {
   "cell_type": "code",
   "execution_count": 4,
   "id": "6d5728a6",
   "metadata": {},
   "outputs": [
    {
     "data": {
      "text/plain": [
       "(30815, 9)"
      ]
     },
     "execution_count": 4,
     "metadata": {},
     "output_type": "execute_result"
    }
   ],
   "source": [
    "df.shape"
   ]
  },
  {
   "cell_type": "code",
   "execution_count": 5,
   "id": "cd8e4d79",
   "metadata": {},
   "outputs": [
    {
     "data": {
      "text/plain": [
       "23208602"
      ]
     },
     "execution_count": 5,
     "metadata": {},
     "output_type": "execute_result"
    }
   ],
   "source": [
    "df['selftext'].str.len().sum()"
   ]
  },
  {
   "cell_type": "markdown",
   "id": "f329171d",
   "metadata": {},
   "source": [
    "### Drop rows with selftext equal '[removed]'"
   ]
  },
  {
   "cell_type": "code",
   "execution_count": 6,
   "id": "7441be00",
   "metadata": {},
   "outputs": [
    {
     "name": "stdout",
     "output_type": "stream",
     "text": [
      "percentage of rows with '[removed]' word:       0.0%\n"
     ]
    }
   ],
   "source": [
    "# percentage of rows with \"[removed]\" word\n",
    "print(f\"percentage of rows with '[removed]' word: \\\n",
    "      {np.round(len(df[df['selftext']=='[removed]'])*100/len(df),2)}%\")"
   ]
  },
  {
   "cell_type": "code",
   "execution_count": 7,
   "id": "4c507612",
   "metadata": {},
   "outputs": [],
   "source": [
    "# remove all rows with selftext = \"[removed]\"\n",
    "df.drop(index=df[df['selftext']=='[removed]'].index, inplace=True)"
   ]
  },
  {
   "cell_type": "code",
   "execution_count": 8,
   "id": "06109be2",
   "metadata": {},
   "outputs": [],
   "source": [
    "df.reset_index(drop=True, inplace=True)"
   ]
  },
  {
   "cell_type": "code",
   "execution_count": 9,
   "id": "6c2b4bfd",
   "metadata": {},
   "outputs": [
    {
     "data": {
      "text/html": [
       "<div>\n",
       "<style scoped>\n",
       "    .dataframe tbody tr th:only-of-type {\n",
       "        vertical-align: middle;\n",
       "    }\n",
       "\n",
       "    .dataframe tbody tr th {\n",
       "        vertical-align: top;\n",
       "    }\n",
       "\n",
       "    .dataframe thead th {\n",
       "        text-align: right;\n",
       "    }\n",
       "</style>\n",
       "<table border=\"1\" class=\"dataframe\">\n",
       "  <thead>\n",
       "    <tr style=\"text-align: right;\">\n",
       "      <th></th>\n",
       "      <th>title</th>\n",
       "      <th>selftext</th>\n",
       "      <th>subreddit</th>\n",
       "      <th>created_utc</th>\n",
       "      <th>author</th>\n",
       "      <th>num_comments</th>\n",
       "      <th>score</th>\n",
       "      <th>is_self</th>\n",
       "      <th>timestamp</th>\n",
       "    </tr>\n",
       "  </thead>\n",
       "  <tbody>\n",
       "    <tr>\n",
       "      <th>0</th>\n",
       "      <td>I am constantly seeing people asking about people’s experiences so I figured now we can go to one place and stop spamming the AMA and ask Reddit’s subs.</td>\n",
       "      <td>For those that have tested positive I hope every single one of you feels better soon!</td>\n",
       "      <td>COVID19positive</td>\n",
       "      <td>1584148032</td>\n",
       "      <td>the1andonlyjoja</td>\n",
       "      <td>191</td>\n",
       "      <td>1</td>\n",
       "      <td>True</td>\n",
       "      <td>2020-03-13 18:07:12</td>\n",
       "    </tr>\n",
       "    <tr>\n",
       "      <th>1</th>\n",
       "      <td>How severe are your guys' symptoms?</td>\n",
       "      <td>I have no idea if I've got the coronavirus, or it's just a cold etc. I've got a runny nose and coughing quite a lot, and a bit of a headache. I don't want to go out in case I do have it and I give it to other people. Are your symptoms debilitating?</td>\n",
       "      <td>COVID19positive</td>\n",
       "      <td>1584358828</td>\n",
       "      <td>RocketFrasier</td>\n",
       "      <td>0</td>\n",
       "      <td>1</td>\n",
       "      <td>True</td>\n",
       "      <td>2020-03-16 04:40:28</td>\n",
       "    </tr>\n",
       "    <tr>\n",
       "      <th>2</th>\n",
       "      <td>How severe are your symptoms?</td>\n",
       "      <td>I have no idea if I've got the coronavirus, or it's just a cold etc. I've got a runny nose and coughing quite a lot, and a bit of a headache. I don't want to go out in case I do have it and I give it to other people.  My symptoms feel practically the same as a normal cold/flu, other than last night where my eyes hurt a bit, so I wasn't able to sleep. Are your symptoms debilitating?</td>\n",
       "      <td>COVID19positive</td>\n",
       "      <td>1584358937</td>\n",
       "      <td>RocketFrasier</td>\n",
       "      <td>42</td>\n",
       "      <td>1</td>\n",
       "      <td>True</td>\n",
       "      <td>2020-03-16 04:42:17</td>\n",
       "    </tr>\n",
       "    <tr>\n",
       "      <th>3</th>\n",
       "      <td>Shortness of breath as first symptom?</td>\n",
       "      <td>I live in a Canadian province with only 3 presumed cases, all related to travel. I haven’t travelled outside my city, and haven’t been in contact with anyone who has a known case of covid19. However, 11 days ago I was interacting with someone who travelled from the US and had been travelling in international airports. \\n\\nI’m 21F and feel like I’m experiencing shortness of breath, but unsure b...</td>\n",
       "      <td>COVID19positive</td>\n",
       "      <td>1584375181</td>\n",
       "      <td>_haligirl98_</td>\n",
       "      <td>77</td>\n",
       "      <td>1</td>\n",
       "      <td>True</td>\n",
       "      <td>2020-03-16 09:13:01</td>\n",
       "    </tr>\n",
       "    <tr>\n",
       "      <th>4</th>\n",
       "      <td>I need advice, please!</td>\n",
       "      <td>Yesterday I woke up and noticed I had a shortness of breath a few hours after waking up. At work I went home early because I felt weak/tired. \\n\\nThis morning, I don’t feel as weak anymore, but I still have the shortness of breath and slight chest pain. Could this be allergies? Did any of you have these symptoms?\\n\\nI called my doctors and they will not test me unless I have a cough with a fev...</td>\n",
       "      <td>COVID19positive</td>\n",
       "      <td>1584382909</td>\n",
       "      <td>monkcell</td>\n",
       "      <td>11</td>\n",
       "      <td>2</td>\n",
       "      <td>True</td>\n",
       "      <td>2020-03-16 11:21:49</td>\n",
       "    </tr>\n",
       "  </tbody>\n",
       "</table>\n",
       "</div>"
      ],
      "text/plain": [
       "                                                                                                                                                      title  \\\n",
       "0  I am constantly seeing people asking about people’s experiences so I figured now we can go to one place and stop spamming the AMA and ask Reddit’s subs.   \n",
       "1                                                                                                                       How severe are your guys' symptoms?   \n",
       "2                                                                                                                             How severe are your symptoms?   \n",
       "3                                                                                                                     Shortness of breath as first symptom?   \n",
       "4                                                                                                                                    I need advice, please!   \n",
       "\n",
       "                                                                                                                                                                                                                                                                                                                                                                                                          selftext  \\\n",
       "0                                                                                                                                                                                                                                                                                                                            For those that have tested positive I hope every single one of you feels better soon!   \n",
       "1                                                                                                                                                         I have no idea if I've got the coronavirus, or it's just a cold etc. I've got a runny nose and coughing quite a lot, and a bit of a headache. I don't want to go out in case I do have it and I give it to other people. Are your symptoms debilitating?   \n",
       "2                 I have no idea if I've got the coronavirus, or it's just a cold etc. I've got a runny nose and coughing quite a lot, and a bit of a headache. I don't want to go out in case I do have it and I give it to other people.  My symptoms feel practically the same as a normal cold/flu, other than last night where my eyes hurt a bit, so I wasn't able to sleep. Are your symptoms debilitating?   \n",
       "3  I live in a Canadian province with only 3 presumed cases, all related to travel. I haven’t travelled outside my city, and haven’t been in contact with anyone who has a known case of covid19. However, 11 days ago I was interacting with someone who travelled from the US and had been travelling in international airports. \\n\\nI’m 21F and feel like I’m experiencing shortness of breath, but unsure b...   \n",
       "4  Yesterday I woke up and noticed I had a shortness of breath a few hours after waking up. At work I went home early because I felt weak/tired. \\n\\nThis morning, I don’t feel as weak anymore, but I still have the shortness of breath and slight chest pain. Could this be allergies? Did any of you have these symptoms?\\n\\nI called my doctors and they will not test me unless I have a cough with a fev...   \n",
       "\n",
       "         subreddit  created_utc           author  num_comments  score  \\\n",
       "0  COVID19positive   1584148032  the1andonlyjoja           191      1   \n",
       "1  COVID19positive   1584358828    RocketFrasier             0      1   \n",
       "2  COVID19positive   1584358937    RocketFrasier            42      1   \n",
       "3  COVID19positive   1584375181     _haligirl98_            77      1   \n",
       "4  COVID19positive   1584382909         monkcell            11      2   \n",
       "\n",
       "   is_self            timestamp  \n",
       "0     True  2020-03-13 18:07:12  \n",
       "1     True  2020-03-16 04:40:28  \n",
       "2     True  2020-03-16 04:42:17  \n",
       "3     True  2020-03-16 09:13:01  \n",
       "4     True  2020-03-16 11:21:49  "
      ]
     },
     "execution_count": 9,
     "metadata": {},
     "output_type": "execute_result"
    }
   ],
   "source": [
    "df.head()"
   ]
  },
  {
   "cell_type": "markdown",
   "id": "0d244682",
   "metadata": {},
   "source": [
    "### Drop rows with nan in the selftext"
   ]
  },
  {
   "cell_type": "code",
   "execution_count": 10,
   "id": "78bdad01",
   "metadata": {},
   "outputs": [
    {
     "data": {
      "text/plain": [
       "title           0.0\n",
       "selftext        0.0\n",
       "subreddit       0.0\n",
       "created_utc     0.0\n",
       "author          0.0\n",
       "num_comments    0.0\n",
       "score           0.0\n",
       "is_self         0.0\n",
       "timestamp       0.0\n",
       "dtype: float64"
      ]
     },
     "execution_count": 10,
     "metadata": {},
     "output_type": "execute_result"
    }
   ],
   "source": [
    "# null percentage\n",
    "df.isnull().sum()*100/len(df)"
   ]
  },
  {
   "cell_type": "code",
   "execution_count": 11,
   "id": "24139096",
   "metadata": {},
   "outputs": [],
   "source": [
    "#drop all rows with nulls\n",
    "df.dropna(inplace=True)"
   ]
  },
  {
   "cell_type": "code",
   "execution_count": 12,
   "id": "ceb23b8f",
   "metadata": {},
   "outputs": [],
   "source": [
    "# resetting the index\n",
    "df.reset_index(inplace=True, drop = True)"
   ]
  },
  {
   "cell_type": "code",
   "execution_count": 13,
   "id": "40518dd6",
   "metadata": {
    "scrolled": true
   },
   "outputs": [
    {
     "data": {
      "text/plain": [
       "title           0\n",
       "selftext        0\n",
       "subreddit       0\n",
       "created_utc     0\n",
       "author          0\n",
       "num_comments    0\n",
       "score           0\n",
       "is_self         0\n",
       "timestamp       0\n",
       "dtype: int64"
      ]
     },
     "execution_count": 13,
     "metadata": {},
     "output_type": "execute_result"
    }
   ],
   "source": [
    "# check for any remained nulls ?!\n",
    "df.isna().sum()"
   ]
  },
  {
   "cell_type": "code",
   "execution_count": 14,
   "id": "6034442f",
   "metadata": {},
   "outputs": [
    {
     "data": {
      "text/html": [
       "<div>\n",
       "<style scoped>\n",
       "    .dataframe tbody tr th:only-of-type {\n",
       "        vertical-align: middle;\n",
       "    }\n",
       "\n",
       "    .dataframe tbody tr th {\n",
       "        vertical-align: top;\n",
       "    }\n",
       "\n",
       "    .dataframe thead th {\n",
       "        text-align: right;\n",
       "    }\n",
       "</style>\n",
       "<table border=\"1\" class=\"dataframe\">\n",
       "  <thead>\n",
       "    <tr style=\"text-align: right;\">\n",
       "      <th></th>\n",
       "      <th>title</th>\n",
       "      <th>selftext</th>\n",
       "      <th>subreddit</th>\n",
       "      <th>created_utc</th>\n",
       "      <th>author</th>\n",
       "      <th>num_comments</th>\n",
       "      <th>score</th>\n",
       "      <th>is_self</th>\n",
       "      <th>timestamp</th>\n",
       "    </tr>\n",
       "  </thead>\n",
       "  <tbody>\n",
       "    <tr>\n",
       "      <th>0</th>\n",
       "      <td>I am constantly seeing people asking about people’s experiences so I figured now we can go to one place and stop spamming the AMA and ask Reddit’s subs.</td>\n",
       "      <td>For those that have tested positive I hope every single one of you feels better soon!</td>\n",
       "      <td>COVID19positive</td>\n",
       "      <td>1584148032</td>\n",
       "      <td>the1andonlyjoja</td>\n",
       "      <td>191</td>\n",
       "      <td>1</td>\n",
       "      <td>True</td>\n",
       "      <td>2020-03-13 18:07:12</td>\n",
       "    </tr>\n",
       "    <tr>\n",
       "      <th>1</th>\n",
       "      <td>How severe are your guys' symptoms?</td>\n",
       "      <td>I have no idea if I've got the coronavirus, or it's just a cold etc. I've got a runny nose and coughing quite a lot, and a bit of a headache. I don't want to go out in case I do have it and I give it to other people. Are your symptoms debilitating?</td>\n",
       "      <td>COVID19positive</td>\n",
       "      <td>1584358828</td>\n",
       "      <td>RocketFrasier</td>\n",
       "      <td>0</td>\n",
       "      <td>1</td>\n",
       "      <td>True</td>\n",
       "      <td>2020-03-16 04:40:28</td>\n",
       "    </tr>\n",
       "    <tr>\n",
       "      <th>2</th>\n",
       "      <td>How severe are your symptoms?</td>\n",
       "      <td>I have no idea if I've got the coronavirus, or it's just a cold etc. I've got a runny nose and coughing quite a lot, and a bit of a headache. I don't want to go out in case I do have it and I give it to other people.  My symptoms feel practically the same as a normal cold/flu, other than last night where my eyes hurt a bit, so I wasn't able to sleep. Are your symptoms debilitating?</td>\n",
       "      <td>COVID19positive</td>\n",
       "      <td>1584358937</td>\n",
       "      <td>RocketFrasier</td>\n",
       "      <td>42</td>\n",
       "      <td>1</td>\n",
       "      <td>True</td>\n",
       "      <td>2020-03-16 04:42:17</td>\n",
       "    </tr>\n",
       "    <tr>\n",
       "      <th>3</th>\n",
       "      <td>Shortness of breath as first symptom?</td>\n",
       "      <td>I live in a Canadian province with only 3 presumed cases, all related to travel. I haven’t travelled outside my city, and haven’t been in contact with anyone who has a known case of covid19. However, 11 days ago I was interacting with someone who travelled from the US and had been travelling in international airports. \\n\\nI’m 21F and feel like I’m experiencing shortness of breath, but unsure b...</td>\n",
       "      <td>COVID19positive</td>\n",
       "      <td>1584375181</td>\n",
       "      <td>_haligirl98_</td>\n",
       "      <td>77</td>\n",
       "      <td>1</td>\n",
       "      <td>True</td>\n",
       "      <td>2020-03-16 09:13:01</td>\n",
       "    </tr>\n",
       "    <tr>\n",
       "      <th>4</th>\n",
       "      <td>I need advice, please!</td>\n",
       "      <td>Yesterday I woke up and noticed I had a shortness of breath a few hours after waking up. At work I went home early because I felt weak/tired. \\n\\nThis morning, I don’t feel as weak anymore, but I still have the shortness of breath and slight chest pain. Could this be allergies? Did any of you have these symptoms?\\n\\nI called my doctors and they will not test me unless I have a cough with a fev...</td>\n",
       "      <td>COVID19positive</td>\n",
       "      <td>1584382909</td>\n",
       "      <td>monkcell</td>\n",
       "      <td>11</td>\n",
       "      <td>2</td>\n",
       "      <td>True</td>\n",
       "      <td>2020-03-16 11:21:49</td>\n",
       "    </tr>\n",
       "  </tbody>\n",
       "</table>\n",
       "</div>"
      ],
      "text/plain": [
       "                                                                                                                                                      title  \\\n",
       "0  I am constantly seeing people asking about people’s experiences so I figured now we can go to one place and stop spamming the AMA and ask Reddit’s subs.   \n",
       "1                                                                                                                       How severe are your guys' symptoms?   \n",
       "2                                                                                                                             How severe are your symptoms?   \n",
       "3                                                                                                                     Shortness of breath as first symptom?   \n",
       "4                                                                                                                                    I need advice, please!   \n",
       "\n",
       "                                                                                                                                                                                                                                                                                                                                                                                                          selftext  \\\n",
       "0                                                                                                                                                                                                                                                                                                                            For those that have tested positive I hope every single one of you feels better soon!   \n",
       "1                                                                                                                                                         I have no idea if I've got the coronavirus, or it's just a cold etc. I've got a runny nose and coughing quite a lot, and a bit of a headache. I don't want to go out in case I do have it and I give it to other people. Are your symptoms debilitating?   \n",
       "2                 I have no idea if I've got the coronavirus, or it's just a cold etc. I've got a runny nose and coughing quite a lot, and a bit of a headache. I don't want to go out in case I do have it and I give it to other people.  My symptoms feel practically the same as a normal cold/flu, other than last night where my eyes hurt a bit, so I wasn't able to sleep. Are your symptoms debilitating?   \n",
       "3  I live in a Canadian province with only 3 presumed cases, all related to travel. I haven’t travelled outside my city, and haven’t been in contact with anyone who has a known case of covid19. However, 11 days ago I was interacting with someone who travelled from the US and had been travelling in international airports. \\n\\nI’m 21F and feel like I’m experiencing shortness of breath, but unsure b...   \n",
       "4  Yesterday I woke up and noticed I had a shortness of breath a few hours after waking up. At work I went home early because I felt weak/tired. \\n\\nThis morning, I don’t feel as weak anymore, but I still have the shortness of breath and slight chest pain. Could this be allergies? Did any of you have these symptoms?\\n\\nI called my doctors and they will not test me unless I have a cough with a fev...   \n",
       "\n",
       "         subreddit  created_utc           author  num_comments  score  \\\n",
       "0  COVID19positive   1584148032  the1andonlyjoja           191      1   \n",
       "1  COVID19positive   1584358828    RocketFrasier             0      1   \n",
       "2  COVID19positive   1584358937    RocketFrasier            42      1   \n",
       "3  COVID19positive   1584375181     _haligirl98_            77      1   \n",
       "4  COVID19positive   1584382909         monkcell            11      2   \n",
       "\n",
       "   is_self            timestamp  \n",
       "0     True  2020-03-13 18:07:12  \n",
       "1     True  2020-03-16 04:40:28  \n",
       "2     True  2020-03-16 04:42:17  \n",
       "3     True  2020-03-16 09:13:01  \n",
       "4     True  2020-03-16 11:21:49  "
      ]
     },
     "execution_count": 14,
     "metadata": {},
     "output_type": "execute_result"
    }
   ],
   "source": [
    "df.head()"
   ]
  },
  {
   "cell_type": "markdown",
   "id": "f8400d09",
   "metadata": {},
   "source": [
    "### Lower Casing"
   ]
  },
  {
   "cell_type": "code",
   "execution_count": 15,
   "id": "0eaed289",
   "metadata": {},
   "outputs": [],
   "source": [
    "df['post']  = df['selftext'].str.lower()"
   ]
  },
  {
   "cell_type": "code",
   "execution_count": 16,
   "id": "82c1f7f0",
   "metadata": {},
   "outputs": [
    {
     "data": {
      "text/plain": [
       "0                                                                                                                                                                                                                                                                                                                                  for those that have tested positive i hope every single one of you feels better soon!\n",
       "1                                                                                                                                                               i have no idea if i've got the coronavirus, or it's just a cold etc. i've got a runny nose and coughing quite a lot, and a bit of a headache. i don't want to go out in case i do have it and i give it to other people. are your symptoms debilitating?\n",
       "2                       i have no idea if i've got the coronavirus, or it's just a cold etc. i've got a runny nose and coughing quite a lot, and a bit of a headache. i don't want to go out in case i do have it and i give it to other people.  my symptoms feel practically the same as a normal cold/flu, other than last night where my eyes hurt a bit, so i wasn't able to sleep. are your symptoms debilitating?\n",
       "3        i live in a canadian province with only 3 presumed cases, all related to travel. i haven’t travelled outside my city, and haven’t been in contact with anyone who has a known case of covid19. however, 11 days ago i was interacting with someone who travelled from the us and had been travelling in international airports. \\n\\ni’m 21f and feel like i’m experiencing shortness of breath, but unsure b...\n",
       "4        yesterday i woke up and noticed i had a shortness of breath a few hours after waking up. at work i went home early because i felt weak/tired. \\n\\nthis morning, i don’t feel as weak anymore, but i still have the shortness of breath and slight chest pain. could this be allergies? did any of you have these symptoms?\\n\\ni called my doctors and they will not test me unless i have a cough with a fev...\n",
       "                                                                                                                                                                                                              ...                                                                                                                                                                                                       \n",
       "30810                                                                                                                        i am not sure how this all works. i tested positive sunday for covid despite being fully vaccinated. my boyfriend started showing symptoms later and tested positive tuesday. am i able to see him when my isolation is over and he is still in isolation or should i wait until he is out?\n",
       "30811    back in 2019, december 27 to be exact, i was the sickest i had ever been in my entire life. my chest hurt, it was hard to breathe, i coughed so much i popped blood vessels in my eyes, and i had no sense of smell. completely bed ridden for 2 days, needing help to walk to the bathroom, sleeping 20h of the day.\\n\\ni was 25.\\n\\nthere's a part of me that thinks it was covid, but seeing how it was i...\n",
       "30812                                                                                                                                                                                                       just tried having a drink for the first time after recovering from covid about a month ago. had food with the alcohol, but it seems to be hitting harder than normal.  curious what others have experienced.\n",
       "30813    can you get reinfected again with covid after recently recovering from covid?my sister tested negative for covid like in the first or second week of august after dealing with it and her friend was tested positive today. she’s been spending time with her at the gym and at work since they both work together. my mom is still recovering from pneumonia but we were all tested negative a couple of we...\n",
       "30814    i had covid in october of last year, i'm a federal worker and with the new executive order biden signed i can't put off the vaccination any longer. i have terrible health anxiety and i'm really struggling with this, i'm not antivax at all just scared. i think id rather have the j&amp;j just to have the one and done. but i was curious if anyone else has had covid and then the vaccine, i know th...\n",
       "Name: post, Length: 30815, dtype: object"
      ]
     },
     "execution_count": 16,
     "metadata": {},
     "output_type": "execute_result"
    }
   ],
   "source": [
    "df['post']"
   ]
  },
  {
   "cell_type": "markdown",
   "id": "8972906a",
   "metadata": {},
   "source": [
    "### Remove URL's / Website address"
   ]
  },
  {
   "cell_type": "code",
   "execution_count": 17,
   "id": "a1768c68",
   "metadata": {},
   "outputs": [],
   "source": [
    "# Function for url's\n",
    "def remove_urls(text):\n",
    "    url_pattern = re.compile(r'https?://\\S+|www\\.\\S+')\n",
    "    return url_pattern.sub(r'', text)"
   ]
  },
  {
   "cell_type": "code",
   "execution_count": 18,
   "id": "84ca2441",
   "metadata": {},
   "outputs": [],
   "source": [
    "df['post'] = df['post'].map( remove_urls )"
   ]
  },
  {
   "cell_type": "markdown",
   "id": "33411688",
   "metadata": {},
   "source": [
    "### Removing special characters"
   ]
  },
  {
   "cell_type": "code",
   "execution_count": 19,
   "id": "f5529350",
   "metadata": {},
   "outputs": [],
   "source": [
    "df['post'] = df['post']\\\n",
    "                        .replace('http\\S+', '', regex=True)\\\n",
    "                        .replace('www\\S+', '', regex=True)\\\n",
    "                        .replace('\\n\\n\\S+', '', regex=True)\\\n",
    "                        .replace('\\n', '', regex=True)\\\n",
    "                        .replace('\\*', '', regex=True)"
   ]
  },
  {
   "cell_type": "code",
   "execution_count": 20,
   "id": "4ce86b4c",
   "metadata": {},
   "outputs": [
    {
     "data": {
      "text/plain": [
       "0                                                                                                                                                                                                                                                                                                                                  for those that have tested positive i hope every single one of you feels better soon!\n",
       "1                                                                                                                                                               i have no idea if i've got the coronavirus, or it's just a cold etc. i've got a runny nose and coughing quite a lot, and a bit of a headache. i don't want to go out in case i do have it and i give it to other people. are your symptoms debilitating?\n",
       "2                       i have no idea if i've got the coronavirus, or it's just a cold etc. i've got a runny nose and coughing quite a lot, and a bit of a headache. i don't want to go out in case i do have it and i give it to other people.  my symptoms feel practically the same as a normal cold/flu, other than last night where my eyes hurt a bit, so i wasn't able to sleep. are your symptoms debilitating?\n",
       "3        i live in a canadian province with only 3 presumed cases, all related to travel. i haven’t travelled outside my city, and haven’t been in contact with anyone who has a known case of covid19. however, 11 days ago i was interacting with someone who travelled from the us and had been travelling in international airports.  21f and feel like i’m experiencing shortness of breath, but unsure because ...\n",
       "4        yesterday i woke up and noticed i had a shortness of breath a few hours after waking up. at work i went home early because i felt weak/tired.  morning, i don’t feel as weak anymore, but i still have the shortness of breath and slight chest pain. could this be allergies? did any of you have these symptoms? called my doctors and they will not test me unless i have a cough with a fever and shortn...\n",
       "                                                                                                                                                                                                              ...                                                                                                                                                                                                       \n",
       "30810                                                                                                                        i am not sure how this all works. i tested positive sunday for covid despite being fully vaccinated. my boyfriend started showing symptoms later and tested positive tuesday. am i able to see him when my isolation is over and he is still in isolation or should i wait until he is out?\n",
       "30811    back in 2019, december 27 to be exact, i was the sickest i had ever been in my entire life. my chest hurt, it was hard to breathe, i coughed so much i popped blood vessels in my eyes, and i had no sense of smell. completely bed ridden for 2 days, needing help to walk to the bathroom, sleeping 20h of the day. was 25. a part of me that thinks it was covid, but seeing how it was in december, the ...\n",
       "30812                                                                                                                                                                                                       just tried having a drink for the first time after recovering from covid about a month ago. had food with the alcohol, but it seems to be hitting harder than normal.  curious what others have experienced.\n",
       "30813    can you get reinfected again with covid after recently recovering from covid?my sister tested negative for covid like in the first or second week of august after dealing with it and her friend was tested positive today. she’s been spending time with her at the gym and at work since they both work together. my mom is still recovering from pneumonia but we were all tested negative a couple of we...\n",
       "30814    i had covid in october of last year, i'm a federal worker and with the new executive order biden signed i can't put off the vaccination any longer. i have terrible health anxiety and i'm really struggling with this, i'm not antivax at all just scared. i think id rather have the j&amp;j just to have the one and done. but i was curious if anyone else has had covid and then the vaccine, i know th...\n",
       "Name: post, Length: 30815, dtype: object"
      ]
     },
     "execution_count": 20,
     "metadata": {},
     "output_type": "execute_result"
    }
   ],
   "source": [
    "df['post']"
   ]
  },
  {
   "cell_type": "code",
   "execution_count": 33,
   "id": "64aac86b",
   "metadata": {},
   "outputs": [
    {
     "data": {
      "text/plain": [
       "22779514"
      ]
     },
     "execution_count": 33,
     "metadata": {},
     "output_type": "execute_result"
    }
   ],
   "source": [
    "df['post'].str.len().sum()"
   ]
  },
  {
   "cell_type": "markdown",
   "id": "a63253f7",
   "metadata": {},
   "source": [
    "### Find/Count emoji"
   ]
  },
  {
   "cell_type": "code",
   "execution_count": 22,
   "id": "3656c55e",
   "metadata": {},
   "outputs": [],
   "source": [
    "import demoji"
   ]
  },
  {
   "cell_type": "code",
   "execution_count": 23,
   "id": "237c008a",
   "metadata": {},
   "outputs": [],
   "source": [
    "def find_emoji(dataframe, \n",
    "               print_option = False):\n",
    "    if print_option == True:\n",
    "        print ( dataframe[dataframe.map(demoji.findall) != {}])\n",
    "    return (dataframe.map(demoji.findall) != {}).sum()"
   ]
  },
  {
   "cell_type": "code",
   "execution_count": 24,
   "id": "0979c4c7",
   "metadata": {},
   "outputs": [
    {
     "data": {
      "text/plain": [
       "847"
      ]
     },
     "execution_count": 24,
     "metadata": {},
     "output_type": "execute_result"
    }
   ],
   "source": [
    "find_emoji(df['post'])"
   ]
  },
  {
   "cell_type": "markdown",
   "id": "9413a2ac",
   "metadata": {},
   "source": [
    "### Remove emoji"
   ]
  },
  {
   "cell_type": "code",
   "execution_count": 25,
   "id": "6878a595",
   "metadata": {},
   "outputs": [],
   "source": [
    "def remove_emoji(dataframe):\n",
    "    return dataframe.map(demoji.replace)"
   ]
  },
  {
   "cell_type": "code",
   "execution_count": 26,
   "id": "05f225e4",
   "metadata": {},
   "outputs": [],
   "source": [
    "df['post'] = remove_emoji(df['post'])"
   ]
  },
  {
   "cell_type": "markdown",
   "id": "913d7236",
   "metadata": {},
   "source": [
    "### Convert emoji to text\n",
    "All emojis are removed fot the first part of the project which is distingushing two sub-redits. \n",
    "However, emojis are converted to text for sentiment analysis."
   ]
  },
  {
   "cell_type": "code",
   "execution_count": 27,
   "id": "75145c49",
   "metadata": {},
   "outputs": [],
   "source": [
    "import emoji\n",
    "def convert_emoji_to_text(text):\n",
    "    return emoji.demojize(text)"
   ]
  },
  {
   "cell_type": "code",
   "execution_count": 28,
   "id": "60eee86f",
   "metadata": {},
   "outputs": [],
   "source": [
    "# df['selftext'].iloc[0:10].map(convert_emoji_to_text)"
   ]
  },
  {
   "cell_type": "markdown",
   "id": "1c3bd480",
   "metadata": {},
   "source": [
    "### Removal of HTML tags"
   ]
  },
  {
   "cell_type": "code",
   "execution_count": 29,
   "id": "4075e5ea",
   "metadata": {},
   "outputs": [],
   "source": [
    "from bs4 import BeautifulSoup #Function for removing html"
   ]
  },
  {
   "cell_type": "code",
   "execution_count": 30,
   "id": "c98e2630",
   "metadata": {},
   "outputs": [],
   "source": [
    "def remove_html(text):\n",
    "    return BeautifulSoup(text, \"lxml\").text"
   ]
  },
  {
   "cell_type": "code",
   "execution_count": 31,
   "id": "31ee868f",
   "metadata": {},
   "outputs": [],
   "source": [
    "df['post'] = df['post'].map(remove_html)"
   ]
  },
  {
   "cell_type": "code",
   "execution_count": 32,
   "id": "37449642",
   "metadata": {},
   "outputs": [
    {
     "data": {
      "text/html": [
       "<div>\n",
       "<style scoped>\n",
       "    .dataframe tbody tr th:only-of-type {\n",
       "        vertical-align: middle;\n",
       "    }\n",
       "\n",
       "    .dataframe tbody tr th {\n",
       "        vertical-align: top;\n",
       "    }\n",
       "\n",
       "    .dataframe thead th {\n",
       "        text-align: right;\n",
       "    }\n",
       "</style>\n",
       "<table border=\"1\" class=\"dataframe\">\n",
       "  <thead>\n",
       "    <tr style=\"text-align: right;\">\n",
       "      <th></th>\n",
       "      <th>title</th>\n",
       "      <th>selftext</th>\n",
       "      <th>subreddit</th>\n",
       "      <th>created_utc</th>\n",
       "      <th>author</th>\n",
       "      <th>num_comments</th>\n",
       "      <th>score</th>\n",
       "      <th>is_self</th>\n",
       "      <th>timestamp</th>\n",
       "      <th>post</th>\n",
       "    </tr>\n",
       "  </thead>\n",
       "  <tbody>\n",
       "    <tr>\n",
       "      <th>0</th>\n",
       "      <td>I am constantly seeing people asking about people’s experiences so I figured now we can go to one place and stop spamming the AMA and ask Reddit’s subs.</td>\n",
       "      <td>For those that have tested positive I hope every single one of you feels better soon!</td>\n",
       "      <td>COVID19positive</td>\n",
       "      <td>1584148032</td>\n",
       "      <td>the1andonlyjoja</td>\n",
       "      <td>191</td>\n",
       "      <td>1</td>\n",
       "      <td>True</td>\n",
       "      <td>2020-03-13 18:07:12</td>\n",
       "      <td>for those that have tested positive i hope every single one of you feels better soon!</td>\n",
       "    </tr>\n",
       "    <tr>\n",
       "      <th>1</th>\n",
       "      <td>How severe are your guys' symptoms?</td>\n",
       "      <td>I have no idea if I've got the coronavirus, or it's just a cold etc. I've got a runny nose and coughing quite a lot, and a bit of a headache. I don't want to go out in case I do have it and I give it to other people. Are your symptoms debilitating?</td>\n",
       "      <td>COVID19positive</td>\n",
       "      <td>1584358828</td>\n",
       "      <td>RocketFrasier</td>\n",
       "      <td>0</td>\n",
       "      <td>1</td>\n",
       "      <td>True</td>\n",
       "      <td>2020-03-16 04:40:28</td>\n",
       "      <td>i have no idea if i've got the coronavirus, or it's just a cold etc. i've got a runny nose and coughing quite a lot, and a bit of a headache. i don't want to go out in case i do have it and i give it to other people. are your symptoms debilitating?</td>\n",
       "    </tr>\n",
       "    <tr>\n",
       "      <th>2</th>\n",
       "      <td>How severe are your symptoms?</td>\n",
       "      <td>I have no idea if I've got the coronavirus, or it's just a cold etc. I've got a runny nose and coughing quite a lot, and a bit of a headache. I don't want to go out in case I do have it and I give it to other people.  My symptoms feel practically the same as a normal cold/flu, other than last night where my eyes hurt a bit, so I wasn't able to sleep. Are your symptoms debilitating?</td>\n",
       "      <td>COVID19positive</td>\n",
       "      <td>1584358937</td>\n",
       "      <td>RocketFrasier</td>\n",
       "      <td>42</td>\n",
       "      <td>1</td>\n",
       "      <td>True</td>\n",
       "      <td>2020-03-16 04:42:17</td>\n",
       "      <td>i have no idea if i've got the coronavirus, or it's just a cold etc. i've got a runny nose and coughing quite a lot, and a bit of a headache. i don't want to go out in case i do have it and i give it to other people.  my symptoms feel practically the same as a normal cold/flu, other than last night where my eyes hurt a bit, so i wasn't able to sleep. are your symptoms debilitating?</td>\n",
       "    </tr>\n",
       "    <tr>\n",
       "      <th>3</th>\n",
       "      <td>Shortness of breath as first symptom?</td>\n",
       "      <td>I live in a Canadian province with only 3 presumed cases, all related to travel. I haven’t travelled outside my city, and haven’t been in contact with anyone who has a known case of covid19. However, 11 days ago I was interacting with someone who travelled from the US and had been travelling in international airports. \\n\\nI’m 21F and feel like I’m experiencing shortness of breath, but unsure b...</td>\n",
       "      <td>COVID19positive</td>\n",
       "      <td>1584375181</td>\n",
       "      <td>_haligirl98_</td>\n",
       "      <td>77</td>\n",
       "      <td>1</td>\n",
       "      <td>True</td>\n",
       "      <td>2020-03-16 09:13:01</td>\n",
       "      <td>i live in a canadian province with only 3 presumed cases, all related to travel. i haven’t travelled outside my city, and haven’t been in contact with anyone who has a known case of covid19. however, 11 days ago i was interacting with someone who travelled from the us and had been travelling in international airports.  21f and feel like i’m experiencing shortness of breath, but unsure because ...</td>\n",
       "    </tr>\n",
       "    <tr>\n",
       "      <th>4</th>\n",
       "      <td>I need advice, please!</td>\n",
       "      <td>Yesterday I woke up and noticed I had a shortness of breath a few hours after waking up. At work I went home early because I felt weak/tired. \\n\\nThis morning, I don’t feel as weak anymore, but I still have the shortness of breath and slight chest pain. Could this be allergies? Did any of you have these symptoms?\\n\\nI called my doctors and they will not test me unless I have a cough with a fev...</td>\n",
       "      <td>COVID19positive</td>\n",
       "      <td>1584382909</td>\n",
       "      <td>monkcell</td>\n",
       "      <td>11</td>\n",
       "      <td>2</td>\n",
       "      <td>True</td>\n",
       "      <td>2020-03-16 11:21:49</td>\n",
       "      <td>yesterday i woke up and noticed i had a shortness of breath a few hours after waking up. at work i went home early because i felt weak/tired.  morning, i don’t feel as weak anymore, but i still have the shortness of breath and slight chest pain. could this be allergies? did any of you have these symptoms? called my doctors and they will not test me unless i have a cough with a fever and shortn...</td>\n",
       "    </tr>\n",
       "  </tbody>\n",
       "</table>\n",
       "</div>"
      ],
      "text/plain": [
       "                                                                                                                                                      title  \\\n",
       "0  I am constantly seeing people asking about people’s experiences so I figured now we can go to one place and stop spamming the AMA and ask Reddit’s subs.   \n",
       "1                                                                                                                       How severe are your guys' symptoms?   \n",
       "2                                                                                                                             How severe are your symptoms?   \n",
       "3                                                                                                                     Shortness of breath as first symptom?   \n",
       "4                                                                                                                                    I need advice, please!   \n",
       "\n",
       "                                                                                                                                                                                                                                                                                                                                                                                                          selftext  \\\n",
       "0                                                                                                                                                                                                                                                                                                                            For those that have tested positive I hope every single one of you feels better soon!   \n",
       "1                                                                                                                                                         I have no idea if I've got the coronavirus, or it's just a cold etc. I've got a runny nose and coughing quite a lot, and a bit of a headache. I don't want to go out in case I do have it and I give it to other people. Are your symptoms debilitating?   \n",
       "2                 I have no idea if I've got the coronavirus, or it's just a cold etc. I've got a runny nose and coughing quite a lot, and a bit of a headache. I don't want to go out in case I do have it and I give it to other people.  My symptoms feel practically the same as a normal cold/flu, other than last night where my eyes hurt a bit, so I wasn't able to sleep. Are your symptoms debilitating?   \n",
       "3  I live in a Canadian province with only 3 presumed cases, all related to travel. I haven’t travelled outside my city, and haven’t been in contact with anyone who has a known case of covid19. However, 11 days ago I was interacting with someone who travelled from the US and had been travelling in international airports. \\n\\nI’m 21F and feel like I’m experiencing shortness of breath, but unsure b...   \n",
       "4  Yesterday I woke up and noticed I had a shortness of breath a few hours after waking up. At work I went home early because I felt weak/tired. \\n\\nThis morning, I don’t feel as weak anymore, but I still have the shortness of breath and slight chest pain. Could this be allergies? Did any of you have these symptoms?\\n\\nI called my doctors and they will not test me unless I have a cough with a fev...   \n",
       "\n",
       "         subreddit  created_utc           author  num_comments  score  \\\n",
       "0  COVID19positive   1584148032  the1andonlyjoja           191      1   \n",
       "1  COVID19positive   1584358828    RocketFrasier             0      1   \n",
       "2  COVID19positive   1584358937    RocketFrasier            42      1   \n",
       "3  COVID19positive   1584375181     _haligirl98_            77      1   \n",
       "4  COVID19positive   1584382909         monkcell            11      2   \n",
       "\n",
       "   is_self            timestamp  \\\n",
       "0     True  2020-03-13 18:07:12   \n",
       "1     True  2020-03-16 04:40:28   \n",
       "2     True  2020-03-16 04:42:17   \n",
       "3     True  2020-03-16 09:13:01   \n",
       "4     True  2020-03-16 11:21:49   \n",
       "\n",
       "                                                                                                                                                                                                                                                                                                                                                                                                              post  \n",
       "0                                                                                                                                                                                                                                                                                                                            for those that have tested positive i hope every single one of you feels better soon!  \n",
       "1                                                                                                                                                         i have no idea if i've got the coronavirus, or it's just a cold etc. i've got a runny nose and coughing quite a lot, and a bit of a headache. i don't want to go out in case i do have it and i give it to other people. are your symptoms debilitating?  \n",
       "2                 i have no idea if i've got the coronavirus, or it's just a cold etc. i've got a runny nose and coughing quite a lot, and a bit of a headache. i don't want to go out in case i do have it and i give it to other people.  my symptoms feel practically the same as a normal cold/flu, other than last night where my eyes hurt a bit, so i wasn't able to sleep. are your symptoms debilitating?  \n",
       "3  i live in a canadian province with only 3 presumed cases, all related to travel. i haven’t travelled outside my city, and haven’t been in contact with anyone who has a known case of covid19. however, 11 days ago i was interacting with someone who travelled from the us and had been travelling in international airports.  21f and feel like i’m experiencing shortness of breath, but unsure because ...  \n",
       "4  yesterday i woke up and noticed i had a shortness of breath a few hours after waking up. at work i went home early because i felt weak/tired.  morning, i don’t feel as weak anymore, but i still have the shortness of breath and slight chest pain. could this be allergies? did any of you have these symptoms? called my doctors and they will not test me unless i have a cough with a fever and shortn...  "
      ]
     },
     "execution_count": 32,
     "metadata": {},
     "output_type": "execute_result"
    }
   ],
   "source": [
    "df.head()"
   ]
  },
  {
   "cell_type": "markdown",
   "id": "8c6057d0",
   "metadata": {},
   "source": [
    "### Replace all non-letters with space"
   ]
  },
  {
   "cell_type": "code",
   "execution_count": 34,
   "id": "b50bf8e1",
   "metadata": {},
   "outputs": [],
   "source": [
    "def replace_all_non_letters_with_space(text):\n",
    "    return re.sub(\"[^a-zA-Z]\",  # Search for all non-letters\n",
    "                          \" \",          # Replace all non-letters with spaces\n",
    "                          str(text))"
   ]
  },
  {
   "cell_type": "code",
   "execution_count": 35,
   "id": "412c0879",
   "metadata": {},
   "outputs": [],
   "source": [
    "df['post'] = df['post'].map(replace_all_non_letters_with_space)"
   ]
  },
  {
   "cell_type": "code",
   "execution_count": 36,
   "id": "5952479b",
   "metadata": {},
   "outputs": [
    {
     "data": {
      "text/html": [
       "<div>\n",
       "<style scoped>\n",
       "    .dataframe tbody tr th:only-of-type {\n",
       "        vertical-align: middle;\n",
       "    }\n",
       "\n",
       "    .dataframe tbody tr th {\n",
       "        vertical-align: top;\n",
       "    }\n",
       "\n",
       "    .dataframe thead th {\n",
       "        text-align: right;\n",
       "    }\n",
       "</style>\n",
       "<table border=\"1\" class=\"dataframe\">\n",
       "  <thead>\n",
       "    <tr style=\"text-align: right;\">\n",
       "      <th></th>\n",
       "      <th>title</th>\n",
       "      <th>selftext</th>\n",
       "      <th>subreddit</th>\n",
       "      <th>created_utc</th>\n",
       "      <th>author</th>\n",
       "      <th>num_comments</th>\n",
       "      <th>score</th>\n",
       "      <th>is_self</th>\n",
       "      <th>timestamp</th>\n",
       "      <th>post</th>\n",
       "    </tr>\n",
       "  </thead>\n",
       "  <tbody>\n",
       "    <tr>\n",
       "      <th>0</th>\n",
       "      <td>I am constantly seeing people asking about people’s experiences so I figured now we can go to one place and stop spamming the AMA and ask Reddit’s subs.</td>\n",
       "      <td>For those that have tested positive I hope every single one of you feels better soon!</td>\n",
       "      <td>COVID19positive</td>\n",
       "      <td>1584148032</td>\n",
       "      <td>the1andonlyjoja</td>\n",
       "      <td>191</td>\n",
       "      <td>1</td>\n",
       "      <td>True</td>\n",
       "      <td>2020-03-13 18:07:12</td>\n",
       "      <td>for those that have tested positive i hope every single one of you feels better soon</td>\n",
       "    </tr>\n",
       "    <tr>\n",
       "      <th>1</th>\n",
       "      <td>How severe are your guys' symptoms?</td>\n",
       "      <td>I have no idea if I've got the coronavirus, or it's just a cold etc. I've got a runny nose and coughing quite a lot, and a bit of a headache. I don't want to go out in case I do have it and I give it to other people. Are your symptoms debilitating?</td>\n",
       "      <td>COVID19positive</td>\n",
       "      <td>1584358828</td>\n",
       "      <td>RocketFrasier</td>\n",
       "      <td>0</td>\n",
       "      <td>1</td>\n",
       "      <td>True</td>\n",
       "      <td>2020-03-16 04:40:28</td>\n",
       "      <td>i have no idea if i ve got the coronavirus  or it s just a cold etc  i ve got a runny nose and coughing quite a lot  and a bit of a headache  i don t want to go out in case i do have it and i give it to other people  are your symptoms debilitating</td>\n",
       "    </tr>\n",
       "    <tr>\n",
       "      <th>2</th>\n",
       "      <td>How severe are your symptoms?</td>\n",
       "      <td>I have no idea if I've got the coronavirus, or it's just a cold etc. I've got a runny nose and coughing quite a lot, and a bit of a headache. I don't want to go out in case I do have it and I give it to other people.  My symptoms feel practically the same as a normal cold/flu, other than last night where my eyes hurt a bit, so I wasn't able to sleep. Are your symptoms debilitating?</td>\n",
       "      <td>COVID19positive</td>\n",
       "      <td>1584358937</td>\n",
       "      <td>RocketFrasier</td>\n",
       "      <td>42</td>\n",
       "      <td>1</td>\n",
       "      <td>True</td>\n",
       "      <td>2020-03-16 04:42:17</td>\n",
       "      <td>i have no idea if i ve got the coronavirus  or it s just a cold etc  i ve got a runny nose and coughing quite a lot  and a bit of a headache  i don t want to go out in case i do have it and i give it to other people   my symptoms feel practically the same as a normal cold flu  other than last night where my eyes hurt a bit  so i wasn t able to sleep  are your symptoms debilitating</td>\n",
       "    </tr>\n",
       "    <tr>\n",
       "      <th>3</th>\n",
       "      <td>Shortness of breath as first symptom?</td>\n",
       "      <td>I live in a Canadian province with only 3 presumed cases, all related to travel. I haven’t travelled outside my city, and haven’t been in contact with anyone who has a known case of covid19. However, 11 days ago I was interacting with someone who travelled from the US and had been travelling in international airports. \\n\\nI’m 21F and feel like I’m experiencing shortness of breath, but unsure b...</td>\n",
       "      <td>COVID19positive</td>\n",
       "      <td>1584375181</td>\n",
       "      <td>_haligirl98_</td>\n",
       "      <td>77</td>\n",
       "      <td>1</td>\n",
       "      <td>True</td>\n",
       "      <td>2020-03-16 09:13:01</td>\n",
       "      <td>i live in a canadian province with only   presumed cases  all related to travel  i haven t travelled outside my city  and haven t been in contact with anyone who has a known case of covid    however     days ago i was interacting with someone who travelled from the us and had been travelling in international airports     f and feel like i m experiencing shortness of breath  but unsure because ...</td>\n",
       "    </tr>\n",
       "    <tr>\n",
       "      <th>4</th>\n",
       "      <td>I need advice, please!</td>\n",
       "      <td>Yesterday I woke up and noticed I had a shortness of breath a few hours after waking up. At work I went home early because I felt weak/tired. \\n\\nThis morning, I don’t feel as weak anymore, but I still have the shortness of breath and slight chest pain. Could this be allergies? Did any of you have these symptoms?\\n\\nI called my doctors and they will not test me unless I have a cough with a fev...</td>\n",
       "      <td>COVID19positive</td>\n",
       "      <td>1584382909</td>\n",
       "      <td>monkcell</td>\n",
       "      <td>11</td>\n",
       "      <td>2</td>\n",
       "      <td>True</td>\n",
       "      <td>2020-03-16 11:21:49</td>\n",
       "      <td>yesterday i woke up and noticed i had a shortness of breath a few hours after waking up  at work i went home early because i felt weak tired   morning  i don t feel as weak anymore  but i still have the shortness of breath and slight chest pain  could this be allergies  did any of you have these symptoms  called my doctors and they will not test me unless i have a cough with a fever and shortn...</td>\n",
       "    </tr>\n",
       "  </tbody>\n",
       "</table>\n",
       "</div>"
      ],
      "text/plain": [
       "                                                                                                                                                      title  \\\n",
       "0  I am constantly seeing people asking about people’s experiences so I figured now we can go to one place and stop spamming the AMA and ask Reddit’s subs.   \n",
       "1                                                                                                                       How severe are your guys' symptoms?   \n",
       "2                                                                                                                             How severe are your symptoms?   \n",
       "3                                                                                                                     Shortness of breath as first symptom?   \n",
       "4                                                                                                                                    I need advice, please!   \n",
       "\n",
       "                                                                                                                                                                                                                                                                                                                                                                                                          selftext  \\\n",
       "0                                                                                                                                                                                                                                                                                                                            For those that have tested positive I hope every single one of you feels better soon!   \n",
       "1                                                                                                                                                         I have no idea if I've got the coronavirus, or it's just a cold etc. I've got a runny nose and coughing quite a lot, and a bit of a headache. I don't want to go out in case I do have it and I give it to other people. Are your symptoms debilitating?   \n",
       "2                 I have no idea if I've got the coronavirus, or it's just a cold etc. I've got a runny nose and coughing quite a lot, and a bit of a headache. I don't want to go out in case I do have it and I give it to other people.  My symptoms feel practically the same as a normal cold/flu, other than last night where my eyes hurt a bit, so I wasn't able to sleep. Are your symptoms debilitating?   \n",
       "3  I live in a Canadian province with only 3 presumed cases, all related to travel. I haven’t travelled outside my city, and haven’t been in contact with anyone who has a known case of covid19. However, 11 days ago I was interacting with someone who travelled from the US and had been travelling in international airports. \\n\\nI’m 21F and feel like I’m experiencing shortness of breath, but unsure b...   \n",
       "4  Yesterday I woke up and noticed I had a shortness of breath a few hours after waking up. At work I went home early because I felt weak/tired. \\n\\nThis morning, I don’t feel as weak anymore, but I still have the shortness of breath and slight chest pain. Could this be allergies? Did any of you have these symptoms?\\n\\nI called my doctors and they will not test me unless I have a cough with a fev...   \n",
       "\n",
       "         subreddit  created_utc           author  num_comments  score  \\\n",
       "0  COVID19positive   1584148032  the1andonlyjoja           191      1   \n",
       "1  COVID19positive   1584358828    RocketFrasier             0      1   \n",
       "2  COVID19positive   1584358937    RocketFrasier            42      1   \n",
       "3  COVID19positive   1584375181     _haligirl98_            77      1   \n",
       "4  COVID19positive   1584382909         monkcell            11      2   \n",
       "\n",
       "   is_self            timestamp  \\\n",
       "0     True  2020-03-13 18:07:12   \n",
       "1     True  2020-03-16 04:40:28   \n",
       "2     True  2020-03-16 04:42:17   \n",
       "3     True  2020-03-16 09:13:01   \n",
       "4     True  2020-03-16 11:21:49   \n",
       "\n",
       "                                                                                                                                                                                                                                                                                                                                                                                                              post  \n",
       "0                                                                                                                                                                                                                                                                                                                            for those that have tested positive i hope every single one of you feels better soon   \n",
       "1                                                                                                                                                         i have no idea if i ve got the coronavirus  or it s just a cold etc  i ve got a runny nose and coughing quite a lot  and a bit of a headache  i don t want to go out in case i do have it and i give it to other people  are your symptoms debilitating   \n",
       "2                 i have no idea if i ve got the coronavirus  or it s just a cold etc  i ve got a runny nose and coughing quite a lot  and a bit of a headache  i don t want to go out in case i do have it and i give it to other people   my symptoms feel practically the same as a normal cold flu  other than last night where my eyes hurt a bit  so i wasn t able to sleep  are your symptoms debilitating   \n",
       "3  i live in a canadian province with only   presumed cases  all related to travel  i haven t travelled outside my city  and haven t been in contact with anyone who has a known case of covid    however     days ago i was interacting with someone who travelled from the us and had been travelling in international airports     f and feel like i m experiencing shortness of breath  but unsure because ...  \n",
       "4  yesterday i woke up and noticed i had a shortness of breath a few hours after waking up  at work i went home early because i felt weak tired   morning  i don t feel as weak anymore  but i still have the shortness of breath and slight chest pain  could this be allergies  did any of you have these symptoms  called my doctors and they will not test me unless i have a cough with a fever and shortn...  "
      ]
     },
     "execution_count": 36,
     "metadata": {},
     "output_type": "execute_result"
    }
   ],
   "source": [
    "df.head()"
   ]
  },
  {
   "cell_type": "markdown",
   "id": "07d4f168",
   "metadata": {},
   "source": [
    "### Remove Stop Words"
   ]
  },
  {
   "cell_type": "code",
   "execution_count": 37,
   "id": "ccae74ef",
   "metadata": {},
   "outputs": [],
   "source": [
    "def remove_stop_words(dataFrame):\n",
    "    return [token for token in dataFrame if token not in stopwords.words('english')]"
   ]
  },
  {
   "cell_type": "code",
   "execution_count": 38,
   "id": "71bef404",
   "metadata": {
    "scrolled": true
   },
   "outputs": [],
   "source": [
    "#Importing stopwords from nltk library\n",
    "from nltk.corpus import stopwords\n",
    "STOPWORDS = set(stopwords.words('english'))# Function to remove the stopwords\n",
    "def stopwords(text):\n",
    "    return \" \".join([word for word in str(text).split() if word not in STOPWORDS])# Applying the stopwords to 'text_punct' and store into 'text_stop'\n",
    "\n",
    "\n",
    "df[\"post\"] = df[\"post\"].apply(stopwords)"
   ]
  },
  {
   "cell_type": "code",
   "execution_count": 39,
   "id": "c40433ea",
   "metadata": {},
   "outputs": [
    {
     "data": {
      "text/html": [
       "<div>\n",
       "<style scoped>\n",
       "    .dataframe tbody tr th:only-of-type {\n",
       "        vertical-align: middle;\n",
       "    }\n",
       "\n",
       "    .dataframe tbody tr th {\n",
       "        vertical-align: top;\n",
       "    }\n",
       "\n",
       "    .dataframe thead th {\n",
       "        text-align: right;\n",
       "    }\n",
       "</style>\n",
       "<table border=\"1\" class=\"dataframe\">\n",
       "  <thead>\n",
       "    <tr style=\"text-align: right;\">\n",
       "      <th></th>\n",
       "      <th>title</th>\n",
       "      <th>selftext</th>\n",
       "      <th>subreddit</th>\n",
       "      <th>created_utc</th>\n",
       "      <th>author</th>\n",
       "      <th>num_comments</th>\n",
       "      <th>score</th>\n",
       "      <th>is_self</th>\n",
       "      <th>timestamp</th>\n",
       "      <th>post</th>\n",
       "    </tr>\n",
       "  </thead>\n",
       "  <tbody>\n",
       "    <tr>\n",
       "      <th>0</th>\n",
       "      <td>I am constantly seeing people asking about people’s experiences so I figured now we can go to one place and stop spamming the AMA and ask Reddit’s subs.</td>\n",
       "      <td>For those that have tested positive I hope every single one of you feels better soon!</td>\n",
       "      <td>COVID19positive</td>\n",
       "      <td>1584148032</td>\n",
       "      <td>the1andonlyjoja</td>\n",
       "      <td>191</td>\n",
       "      <td>1</td>\n",
       "      <td>True</td>\n",
       "      <td>2020-03-13 18:07:12</td>\n",
       "      <td>tested positive hope every single one feels better soon</td>\n",
       "    </tr>\n",
       "    <tr>\n",
       "      <th>1</th>\n",
       "      <td>How severe are your guys' symptoms?</td>\n",
       "      <td>I have no idea if I've got the coronavirus, or it's just a cold etc. I've got a runny nose and coughing quite a lot, and a bit of a headache. I don't want to go out in case I do have it and I give it to other people. Are your symptoms debilitating?</td>\n",
       "      <td>COVID19positive</td>\n",
       "      <td>1584358828</td>\n",
       "      <td>RocketFrasier</td>\n",
       "      <td>0</td>\n",
       "      <td>1</td>\n",
       "      <td>True</td>\n",
       "      <td>2020-03-16 04:40:28</td>\n",
       "      <td>idea got coronavirus cold etc got runny nose coughing quite lot bit headache want go case give people symptoms debilitating</td>\n",
       "    </tr>\n",
       "    <tr>\n",
       "      <th>2</th>\n",
       "      <td>How severe are your symptoms?</td>\n",
       "      <td>I have no idea if I've got the coronavirus, or it's just a cold etc. I've got a runny nose and coughing quite a lot, and a bit of a headache. I don't want to go out in case I do have it and I give it to other people.  My symptoms feel practically the same as a normal cold/flu, other than last night where my eyes hurt a bit, so I wasn't able to sleep. Are your symptoms debilitating?</td>\n",
       "      <td>COVID19positive</td>\n",
       "      <td>1584358937</td>\n",
       "      <td>RocketFrasier</td>\n",
       "      <td>42</td>\n",
       "      <td>1</td>\n",
       "      <td>True</td>\n",
       "      <td>2020-03-16 04:42:17</td>\n",
       "      <td>idea got coronavirus cold etc got runny nose coughing quite lot bit headache want go case give people symptoms feel practically normal cold flu last night eyes hurt bit able sleep symptoms debilitating</td>\n",
       "    </tr>\n",
       "    <tr>\n",
       "      <th>3</th>\n",
       "      <td>Shortness of breath as first symptom?</td>\n",
       "      <td>I live in a Canadian province with only 3 presumed cases, all related to travel. I haven’t travelled outside my city, and haven’t been in contact with anyone who has a known case of covid19. However, 11 days ago I was interacting with someone who travelled from the US and had been travelling in international airports. \\n\\nI’m 21F and feel like I’m experiencing shortness of breath, but unsure b...</td>\n",
       "      <td>COVID19positive</td>\n",
       "      <td>1584375181</td>\n",
       "      <td>_haligirl98_</td>\n",
       "      <td>77</td>\n",
       "      <td>1</td>\n",
       "      <td>True</td>\n",
       "      <td>2020-03-16 09:13:01</td>\n",
       "      <td>live canadian province presumed cases related travel travelled outside city contact anyone known case covid however days ago interacting someone travelled us travelling international airports f feel like experiencing shortness breath unsure never felt way felt slight pressure tightness right side chest feel like get much air lungs usual pains sharp feelings yet fever cough headache symptom rea...</td>\n",
       "    </tr>\n",
       "    <tr>\n",
       "      <th>4</th>\n",
       "      <td>I need advice, please!</td>\n",
       "      <td>Yesterday I woke up and noticed I had a shortness of breath a few hours after waking up. At work I went home early because I felt weak/tired. \\n\\nThis morning, I don’t feel as weak anymore, but I still have the shortness of breath and slight chest pain. Could this be allergies? Did any of you have these symptoms?\\n\\nI called my doctors and they will not test me unless I have a cough with a fev...</td>\n",
       "      <td>COVID19positive</td>\n",
       "      <td>1584382909</td>\n",
       "      <td>monkcell</td>\n",
       "      <td>11</td>\n",
       "      <td>2</td>\n",
       "      <td>True</td>\n",
       "      <td>2020-03-16 11:21:49</td>\n",
       "      <td>yesterday woke noticed shortness breath hours waking work went home early felt weak tired morning feel weak anymore still shortness breath slight chest pain could allergies symptoms called doctors test unless cough fever shortness breath cough fever</td>\n",
       "    </tr>\n",
       "  </tbody>\n",
       "</table>\n",
       "</div>"
      ],
      "text/plain": [
       "                                                                                                                                                      title  \\\n",
       "0  I am constantly seeing people asking about people’s experiences so I figured now we can go to one place and stop spamming the AMA and ask Reddit’s subs.   \n",
       "1                                                                                                                       How severe are your guys' symptoms?   \n",
       "2                                                                                                                             How severe are your symptoms?   \n",
       "3                                                                                                                     Shortness of breath as first symptom?   \n",
       "4                                                                                                                                    I need advice, please!   \n",
       "\n",
       "                                                                                                                                                                                                                                                                                                                                                                                                          selftext  \\\n",
       "0                                                                                                                                                                                                                                                                                                                            For those that have tested positive I hope every single one of you feels better soon!   \n",
       "1                                                                                                                                                         I have no idea if I've got the coronavirus, or it's just a cold etc. I've got a runny nose and coughing quite a lot, and a bit of a headache. I don't want to go out in case I do have it and I give it to other people. Are your symptoms debilitating?   \n",
       "2                 I have no idea if I've got the coronavirus, or it's just a cold etc. I've got a runny nose and coughing quite a lot, and a bit of a headache. I don't want to go out in case I do have it and I give it to other people.  My symptoms feel practically the same as a normal cold/flu, other than last night where my eyes hurt a bit, so I wasn't able to sleep. Are your symptoms debilitating?   \n",
       "3  I live in a Canadian province with only 3 presumed cases, all related to travel. I haven’t travelled outside my city, and haven’t been in contact with anyone who has a known case of covid19. However, 11 days ago I was interacting with someone who travelled from the US and had been travelling in international airports. \\n\\nI’m 21F and feel like I’m experiencing shortness of breath, but unsure b...   \n",
       "4  Yesterday I woke up and noticed I had a shortness of breath a few hours after waking up. At work I went home early because I felt weak/tired. \\n\\nThis morning, I don’t feel as weak anymore, but I still have the shortness of breath and slight chest pain. Could this be allergies? Did any of you have these symptoms?\\n\\nI called my doctors and they will not test me unless I have a cough with a fev...   \n",
       "\n",
       "         subreddit  created_utc           author  num_comments  score  \\\n",
       "0  COVID19positive   1584148032  the1andonlyjoja           191      1   \n",
       "1  COVID19positive   1584358828    RocketFrasier             0      1   \n",
       "2  COVID19positive   1584358937    RocketFrasier            42      1   \n",
       "3  COVID19positive   1584375181     _haligirl98_            77      1   \n",
       "4  COVID19positive   1584382909         monkcell            11      2   \n",
       "\n",
       "   is_self            timestamp  \\\n",
       "0     True  2020-03-13 18:07:12   \n",
       "1     True  2020-03-16 04:40:28   \n",
       "2     True  2020-03-16 04:42:17   \n",
       "3     True  2020-03-16 09:13:01   \n",
       "4     True  2020-03-16 11:21:49   \n",
       "\n",
       "                                                                                                                                                                                                                                                                                                                                                                                                              post  \n",
       "0                                                                                                                                                                                                                                                                                                                                                          tested positive hope every single one feels better soon  \n",
       "1                                                                                                                                                                                                                                                                                      idea got coronavirus cold etc got runny nose coughing quite lot bit headache want go case give people symptoms debilitating  \n",
       "2                                                                                                                                                                                                        idea got coronavirus cold etc got runny nose coughing quite lot bit headache want go case give people symptoms feel practically normal cold flu last night eyes hurt bit able sleep symptoms debilitating  \n",
       "3  live canadian province presumed cases related travel travelled outside city contact anyone known case covid however days ago interacting someone travelled us travelling international airports f feel like experiencing shortness breath unsure never felt way felt slight pressure tightness right side chest feel like get much air lungs usual pains sharp feelings yet fever cough headache symptom rea...  \n",
       "4                                                                                                                                                        yesterday woke noticed shortness breath hours waking work went home early felt weak tired morning feel weak anymore still shortness breath slight chest pain could allergies symptoms called doctors test unless cough fever shortness breath cough fever  "
      ]
     },
     "execution_count": 39,
     "metadata": {},
     "output_type": "execute_result"
    }
   ],
   "source": [
    "df.head()"
   ]
  },
  {
   "cell_type": "markdown",
   "id": "ddc7f365",
   "metadata": {},
   "source": [
    "### Spelling Correction"
   ]
  },
  {
   "cell_type": "code",
   "execution_count": 40,
   "id": "10e281d2",
   "metadata": {},
   "outputs": [],
   "source": [
    "def compare(corrected_text, original_text):  \n",
    "    \n",
    "    l1 = list(corrected_text)\n",
    "    l2 = list(original_text)\n",
    "#     print(l1)\n",
    "    l1_ = [line.split(' ') for line in l1][0]\n",
    "    l2_ = [line.split(' ')for line in l2][0]\n",
    "#     print(l1)\n",
    "    good = 0\n",
    "    bad = 0\n",
    "    for i in range(0, len(l1)):\n",
    "        if l1_[i] != l2_[i]:\n",
    "            bad += 1\n",
    "            print(l1_[i] , l2_[i])\n",
    "        else:\n",
    "            good += 1\n",
    "    print(f'Number of accurate words are= {good},\\\n",
    "          \\nNumber of corrected words= {bad},\\\n",
    "          \\nCorrection Percentage={np.round(bad*100/(len(l1)), 1)}%')\n"
   ]
  },
  {
   "cell_type": "code",
   "execution_count": 41,
   "id": "2c21cb1d",
   "metadata": {},
   "outputs": [],
   "source": [
    "def correct_spell(original_text_df):\n",
    "    \n",
    "    return original_text_df.apply(lambda x: str(TextBlob(x).correct()))   # Correcting the text\n",
    "    "
   ]
  },
  {
   "cell_type": "code",
   "execution_count": 42,
   "id": "5ddd02fa",
   "metadata": {},
   "outputs": [],
   "source": [
    "# df['post'] = correct_spell(original_text_df=df['post'])"
   ]
  },
  {
   "cell_type": "code",
   "execution_count": 43,
   "id": "3852f416",
   "metadata": {},
   "outputs": [
    {
     "data": {
      "text/html": [
       "<div>\n",
       "<style scoped>\n",
       "    .dataframe tbody tr th:only-of-type {\n",
       "        vertical-align: middle;\n",
       "    }\n",
       "\n",
       "    .dataframe tbody tr th {\n",
       "        vertical-align: top;\n",
       "    }\n",
       "\n",
       "    .dataframe thead th {\n",
       "        text-align: right;\n",
       "    }\n",
       "</style>\n",
       "<table border=\"1\" class=\"dataframe\">\n",
       "  <thead>\n",
       "    <tr style=\"text-align: right;\">\n",
       "      <th></th>\n",
       "      <th>title</th>\n",
       "      <th>selftext</th>\n",
       "      <th>subreddit</th>\n",
       "      <th>created_utc</th>\n",
       "      <th>author</th>\n",
       "      <th>num_comments</th>\n",
       "      <th>score</th>\n",
       "      <th>is_self</th>\n",
       "      <th>timestamp</th>\n",
       "      <th>post</th>\n",
       "    </tr>\n",
       "  </thead>\n",
       "  <tbody>\n",
       "    <tr>\n",
       "      <th>0</th>\n",
       "      <td>I am constantly seeing people asking about people’s experiences so I figured now we can go to one place and stop spamming the AMA and ask Reddit’s subs.</td>\n",
       "      <td>For those that have tested positive I hope every single one of you feels better soon!</td>\n",
       "      <td>COVID19positive</td>\n",
       "      <td>1584148032</td>\n",
       "      <td>the1andonlyjoja</td>\n",
       "      <td>191</td>\n",
       "      <td>1</td>\n",
       "      <td>True</td>\n",
       "      <td>2020-03-13 18:07:12</td>\n",
       "      <td>tested positive hope every single one feels better soon</td>\n",
       "    </tr>\n",
       "    <tr>\n",
       "      <th>1</th>\n",
       "      <td>How severe are your guys' symptoms?</td>\n",
       "      <td>I have no idea if I've got the coronavirus, or it's just a cold etc. I've got a runny nose and coughing quite a lot, and a bit of a headache. I don't want to go out in case I do have it and I give it to other people. Are your symptoms debilitating?</td>\n",
       "      <td>COVID19positive</td>\n",
       "      <td>1584358828</td>\n",
       "      <td>RocketFrasier</td>\n",
       "      <td>0</td>\n",
       "      <td>1</td>\n",
       "      <td>True</td>\n",
       "      <td>2020-03-16 04:40:28</td>\n",
       "      <td>idea got coronavirus cold etc got runny nose coughing quite lot bit headache want go case give people symptoms debilitating</td>\n",
       "    </tr>\n",
       "    <tr>\n",
       "      <th>2</th>\n",
       "      <td>How severe are your symptoms?</td>\n",
       "      <td>I have no idea if I've got the coronavirus, or it's just a cold etc. I've got a runny nose and coughing quite a lot, and a bit of a headache. I don't want to go out in case I do have it and I give it to other people.  My symptoms feel practically the same as a normal cold/flu, other than last night where my eyes hurt a bit, so I wasn't able to sleep. Are your symptoms debilitating?</td>\n",
       "      <td>COVID19positive</td>\n",
       "      <td>1584358937</td>\n",
       "      <td>RocketFrasier</td>\n",
       "      <td>42</td>\n",
       "      <td>1</td>\n",
       "      <td>True</td>\n",
       "      <td>2020-03-16 04:42:17</td>\n",
       "      <td>idea got coronavirus cold etc got runny nose coughing quite lot bit headache want go case give people symptoms feel practically normal cold flu last night eyes hurt bit able sleep symptoms debilitating</td>\n",
       "    </tr>\n",
       "    <tr>\n",
       "      <th>3</th>\n",
       "      <td>Shortness of breath as first symptom?</td>\n",
       "      <td>I live in a Canadian province with only 3 presumed cases, all related to travel. I haven’t travelled outside my city, and haven’t been in contact with anyone who has a known case of covid19. However, 11 days ago I was interacting with someone who travelled from the US and had been travelling in international airports. \\n\\nI’m 21F and feel like I’m experiencing shortness of breath, but unsure b...</td>\n",
       "      <td>COVID19positive</td>\n",
       "      <td>1584375181</td>\n",
       "      <td>_haligirl98_</td>\n",
       "      <td>77</td>\n",
       "      <td>1</td>\n",
       "      <td>True</td>\n",
       "      <td>2020-03-16 09:13:01</td>\n",
       "      <td>live canadian province presumed cases related travel travelled outside city contact anyone known case covid however days ago interacting someone travelled us travelling international airports f feel like experiencing shortness breath unsure never felt way felt slight pressure tightness right side chest feel like get much air lungs usual pains sharp feelings yet fever cough headache symptom rea...</td>\n",
       "    </tr>\n",
       "    <tr>\n",
       "      <th>4</th>\n",
       "      <td>I need advice, please!</td>\n",
       "      <td>Yesterday I woke up and noticed I had a shortness of breath a few hours after waking up. At work I went home early because I felt weak/tired. \\n\\nThis morning, I don’t feel as weak anymore, but I still have the shortness of breath and slight chest pain. Could this be allergies? Did any of you have these symptoms?\\n\\nI called my doctors and they will not test me unless I have a cough with a fev...</td>\n",
       "      <td>COVID19positive</td>\n",
       "      <td>1584382909</td>\n",
       "      <td>monkcell</td>\n",
       "      <td>11</td>\n",
       "      <td>2</td>\n",
       "      <td>True</td>\n",
       "      <td>2020-03-16 11:21:49</td>\n",
       "      <td>yesterday woke noticed shortness breath hours waking work went home early felt weak tired morning feel weak anymore still shortness breath slight chest pain could allergies symptoms called doctors test unless cough fever shortness breath cough fever</td>\n",
       "    </tr>\n",
       "  </tbody>\n",
       "</table>\n",
       "</div>"
      ],
      "text/plain": [
       "                                                                                                                                                      title  \\\n",
       "0  I am constantly seeing people asking about people’s experiences so I figured now we can go to one place and stop spamming the AMA and ask Reddit’s subs.   \n",
       "1                                                                                                                       How severe are your guys' symptoms?   \n",
       "2                                                                                                                             How severe are your symptoms?   \n",
       "3                                                                                                                     Shortness of breath as first symptom?   \n",
       "4                                                                                                                                    I need advice, please!   \n",
       "\n",
       "                                                                                                                                                                                                                                                                                                                                                                                                          selftext  \\\n",
       "0                                                                                                                                                                                                                                                                                                                            For those that have tested positive I hope every single one of you feels better soon!   \n",
       "1                                                                                                                                                         I have no idea if I've got the coronavirus, or it's just a cold etc. I've got a runny nose and coughing quite a lot, and a bit of a headache. I don't want to go out in case I do have it and I give it to other people. Are your symptoms debilitating?   \n",
       "2                 I have no idea if I've got the coronavirus, or it's just a cold etc. I've got a runny nose and coughing quite a lot, and a bit of a headache. I don't want to go out in case I do have it and I give it to other people.  My symptoms feel practically the same as a normal cold/flu, other than last night where my eyes hurt a bit, so I wasn't able to sleep. Are your symptoms debilitating?   \n",
       "3  I live in a Canadian province with only 3 presumed cases, all related to travel. I haven’t travelled outside my city, and haven’t been in contact with anyone who has a known case of covid19. However, 11 days ago I was interacting with someone who travelled from the US and had been travelling in international airports. \\n\\nI’m 21F and feel like I’m experiencing shortness of breath, but unsure b...   \n",
       "4  Yesterday I woke up and noticed I had a shortness of breath a few hours after waking up. At work I went home early because I felt weak/tired. \\n\\nThis morning, I don’t feel as weak anymore, but I still have the shortness of breath and slight chest pain. Could this be allergies? Did any of you have these symptoms?\\n\\nI called my doctors and they will not test me unless I have a cough with a fev...   \n",
       "\n",
       "         subreddit  created_utc           author  num_comments  score  \\\n",
       "0  COVID19positive   1584148032  the1andonlyjoja           191      1   \n",
       "1  COVID19positive   1584358828    RocketFrasier             0      1   \n",
       "2  COVID19positive   1584358937    RocketFrasier            42      1   \n",
       "3  COVID19positive   1584375181     _haligirl98_            77      1   \n",
       "4  COVID19positive   1584382909         monkcell            11      2   \n",
       "\n",
       "   is_self            timestamp  \\\n",
       "0     True  2020-03-13 18:07:12   \n",
       "1     True  2020-03-16 04:40:28   \n",
       "2     True  2020-03-16 04:42:17   \n",
       "3     True  2020-03-16 09:13:01   \n",
       "4     True  2020-03-16 11:21:49   \n",
       "\n",
       "                                                                                                                                                                                                                                                                                                                                                                                                              post  \n",
       "0                                                                                                                                                                                                                                                                                                                                                          tested positive hope every single one feels better soon  \n",
       "1                                                                                                                                                                                                                                                                                      idea got coronavirus cold etc got runny nose coughing quite lot bit headache want go case give people symptoms debilitating  \n",
       "2                                                                                                                                                                                                        idea got coronavirus cold etc got runny nose coughing quite lot bit headache want go case give people symptoms feel practically normal cold flu last night eyes hurt bit able sleep symptoms debilitating  \n",
       "3  live canadian province presumed cases related travel travelled outside city contact anyone known case covid however days ago interacting someone travelled us travelling international airports f feel like experiencing shortness breath unsure never felt way felt slight pressure tightness right side chest feel like get much air lungs usual pains sharp feelings yet fever cough headache symptom rea...  \n",
       "4                                                                                                                                                        yesterday woke noticed shortness breath hours waking work went home early felt weak tired morning feel weak anymore still shortness breath slight chest pain could allergies symptoms called doctors test unless cough fever shortness breath cough fever  "
      ]
     },
     "execution_count": 43,
     "metadata": {},
     "output_type": "execute_result"
    }
   ],
   "source": [
    "df.head()"
   ]
  },
  {
   "cell_type": "markdown",
   "id": "c828ca8e",
   "metadata": {},
   "source": [
    "# Stemmizing\n",
    "When we \"stem\" data, we take words and attempt to return a base form of the word. It tends to be cruder than using lemmatization."
   ]
  },
  {
   "cell_type": "code",
   "execution_count": 44,
   "id": "5337df8f",
   "metadata": {},
   "outputs": [],
   "source": [
    "Pstemmizer = PorterStemmer()"
   ]
  },
  {
   "cell_type": "code",
   "execution_count": 45,
   "id": "54438d2a",
   "metadata": {},
   "outputs": [],
   "source": [
    "def make_token(post):\n",
    "    tokenizer = RegexpTokenizer(r'\\w+') # remove the punctuation \n",
    "    post_tokens = tokenizer.tokenize(post)\n",
    "    stem_spam = [Pstemmizer.stem(token) for token in post_tokens]\n",
    "    return (' '.join(stem_spam))\n",
    "    "
   ]
  },
  {
   "cell_type": "code",
   "execution_count": 46,
   "id": "63a03860",
   "metadata": {},
   "outputs": [],
   "source": [
    "df['token'] = list(map(make_token,df['post']))"
   ]
  },
  {
   "cell_type": "code",
   "execution_count": 47,
   "id": "eddc4e7a",
   "metadata": {
    "scrolled": true
   },
   "outputs": [
    {
     "data": {
      "text/html": [
       "<div>\n",
       "<style scoped>\n",
       "    .dataframe tbody tr th:only-of-type {\n",
       "        vertical-align: middle;\n",
       "    }\n",
       "\n",
       "    .dataframe tbody tr th {\n",
       "        vertical-align: top;\n",
       "    }\n",
       "\n",
       "    .dataframe thead th {\n",
       "        text-align: right;\n",
       "    }\n",
       "</style>\n",
       "<table border=\"1\" class=\"dataframe\">\n",
       "  <thead>\n",
       "    <tr style=\"text-align: right;\">\n",
       "      <th></th>\n",
       "      <th>title</th>\n",
       "      <th>selftext</th>\n",
       "      <th>subreddit</th>\n",
       "      <th>created_utc</th>\n",
       "      <th>author</th>\n",
       "      <th>num_comments</th>\n",
       "      <th>score</th>\n",
       "      <th>is_self</th>\n",
       "      <th>timestamp</th>\n",
       "      <th>post</th>\n",
       "      <th>token</th>\n",
       "    </tr>\n",
       "  </thead>\n",
       "  <tbody>\n",
       "    <tr>\n",
       "      <th>0</th>\n",
       "      <td>I am constantly seeing people asking about people’s experiences so I figured now we can go to one place and stop spamming the AMA and ask Reddit’s subs.</td>\n",
       "      <td>For those that have tested positive I hope every single one of you feels better soon!</td>\n",
       "      <td>COVID19positive</td>\n",
       "      <td>1584148032</td>\n",
       "      <td>the1andonlyjoja</td>\n",
       "      <td>191</td>\n",
       "      <td>1</td>\n",
       "      <td>True</td>\n",
       "      <td>2020-03-13 18:07:12</td>\n",
       "      <td>tested positive hope every single one feels better soon</td>\n",
       "      <td>test posit hope everi singl one feel better soon</td>\n",
       "    </tr>\n",
       "    <tr>\n",
       "      <th>1</th>\n",
       "      <td>How severe are your guys' symptoms?</td>\n",
       "      <td>I have no idea if I've got the coronavirus, or it's just a cold etc. I've got a runny nose and coughing quite a lot, and a bit of a headache. I don't want to go out in case I do have it and I give it to other people. Are your symptoms debilitating?</td>\n",
       "      <td>COVID19positive</td>\n",
       "      <td>1584358828</td>\n",
       "      <td>RocketFrasier</td>\n",
       "      <td>0</td>\n",
       "      <td>1</td>\n",
       "      <td>True</td>\n",
       "      <td>2020-03-16 04:40:28</td>\n",
       "      <td>idea got coronavirus cold etc got runny nose coughing quite lot bit headache want go case give people symptoms debilitating</td>\n",
       "      <td>idea got coronaviru cold etc got runni nose cough quit lot bit headach want go case give peopl symptom debilit</td>\n",
       "    </tr>\n",
       "    <tr>\n",
       "      <th>2</th>\n",
       "      <td>How severe are your symptoms?</td>\n",
       "      <td>I have no idea if I've got the coronavirus, or it's just a cold etc. I've got a runny nose and coughing quite a lot, and a bit of a headache. I don't want to go out in case I do have it and I give it to other people.  My symptoms feel practically the same as a normal cold/flu, other than last night where my eyes hurt a bit, so I wasn't able to sleep. Are your symptoms debilitating?</td>\n",
       "      <td>COVID19positive</td>\n",
       "      <td>1584358937</td>\n",
       "      <td>RocketFrasier</td>\n",
       "      <td>42</td>\n",
       "      <td>1</td>\n",
       "      <td>True</td>\n",
       "      <td>2020-03-16 04:42:17</td>\n",
       "      <td>idea got coronavirus cold etc got runny nose coughing quite lot bit headache want go case give people symptoms feel practically normal cold flu last night eyes hurt bit able sleep symptoms debilitating</td>\n",
       "      <td>idea got coronaviru cold etc got runni nose cough quit lot bit headach want go case give peopl symptom feel practic normal cold flu last night eye hurt bit abl sleep symptom debilit</td>\n",
       "    </tr>\n",
       "    <tr>\n",
       "      <th>3</th>\n",
       "      <td>Shortness of breath as first symptom?</td>\n",
       "      <td>I live in a Canadian province with only 3 presumed cases, all related to travel. I haven’t travelled outside my city, and haven’t been in contact with anyone who has a known case of covid19. However, 11 days ago I was interacting with someone who travelled from the US and had been travelling in international airports. \\n\\nI’m 21F and feel like I’m experiencing shortness of breath, but unsure b...</td>\n",
       "      <td>COVID19positive</td>\n",
       "      <td>1584375181</td>\n",
       "      <td>_haligirl98_</td>\n",
       "      <td>77</td>\n",
       "      <td>1</td>\n",
       "      <td>True</td>\n",
       "      <td>2020-03-16 09:13:01</td>\n",
       "      <td>live canadian province presumed cases related travel travelled outside city contact anyone known case covid however days ago interacting someone travelled us travelling international airports f feel like experiencing shortness breath unsure never felt way felt slight pressure tightness right side chest feel like get much air lungs usual pains sharp feelings yet fever cough headache symptom rea...</td>\n",
       "      <td>live canadian provinc presum case relat travel travel outsid citi contact anyon known case covid howev day ago interact someon travel us travel intern airport f feel like experienc short breath unsur never felt way felt slight pressur tight right side chest feel like get much air lung usual pain sharp feel yet fever cough headach symptom read stori peopl symptom seem start least fever cough sh...</td>\n",
       "    </tr>\n",
       "    <tr>\n",
       "      <th>4</th>\n",
       "      <td>I need advice, please!</td>\n",
       "      <td>Yesterday I woke up and noticed I had a shortness of breath a few hours after waking up. At work I went home early because I felt weak/tired. \\n\\nThis morning, I don’t feel as weak anymore, but I still have the shortness of breath and slight chest pain. Could this be allergies? Did any of you have these symptoms?\\n\\nI called my doctors and they will not test me unless I have a cough with a fev...</td>\n",
       "      <td>COVID19positive</td>\n",
       "      <td>1584382909</td>\n",
       "      <td>monkcell</td>\n",
       "      <td>11</td>\n",
       "      <td>2</td>\n",
       "      <td>True</td>\n",
       "      <td>2020-03-16 11:21:49</td>\n",
       "      <td>yesterday woke noticed shortness breath hours waking work went home early felt weak tired morning feel weak anymore still shortness breath slight chest pain could allergies symptoms called doctors test unless cough fever shortness breath cough fever</td>\n",
       "      <td>yesterday woke notic short breath hour wake work went home earli felt weak tire morn feel weak anymor still short breath slight chest pain could allergi symptom call doctor test unless cough fever short breath cough fever</td>\n",
       "    </tr>\n",
       "    <tr>\n",
       "      <th>...</th>\n",
       "      <td>...</td>\n",
       "      <td>...</td>\n",
       "      <td>...</td>\n",
       "      <td>...</td>\n",
       "      <td>...</td>\n",
       "      <td>...</td>\n",
       "      <td>...</td>\n",
       "      <td>...</td>\n",
       "      <td>...</td>\n",
       "      <td>...</td>\n",
       "      <td>...</td>\n",
       "    </tr>\n",
       "    <tr>\n",
       "      <th>30810</th>\n",
       "      <td>Just tested positive for COVID fully vaccinated, when my isolation is over am I able to see my boyfriend who tested positive a few days later than me and will still be in isolation?</td>\n",
       "      <td>I am not sure how this all works. I tested positive Sunday for COVID despite being fully vaccinated. My boyfriend started showing symptoms later and tested positive Tuesday. Am I able to see him when my isolation is over and he is still in isolation or should I wait until he is out?</td>\n",
       "      <td>COVID19positive</td>\n",
       "      <td>1631227446</td>\n",
       "      <td>bunnygirl1716</td>\n",
       "      <td>7</td>\n",
       "      <td>1</td>\n",
       "      <td>True</td>\n",
       "      <td>2021-09-09 15:44:06</td>\n",
       "      <td>sure works tested positive sunday covid despite fully vaccinated boyfriend started showing symptoms later tested positive tuesday able see isolation still isolation wait</td>\n",
       "      <td>sure work test posit sunday covid despit fulli vaccin boyfriend start show symptom later test posit tuesday abl see isol still isol wait</td>\n",
       "    </tr>\n",
       "    <tr>\n",
       "      <th>30811</th>\n",
       "      <td>Has anyone tried taking cough syrup/Buckleys with Covid, and their body just throwing it back up?</td>\n",
       "      <td>Back in 2019, December 27 to be exact, I was the sickest I had ever been in my entire life. My chest hurt, it was hard to breathe, I coughed so much I popped blood vessels in my eyes, and I had no sense of smell. Completely bed ridden for 2 days, needing help to walk to the bathroom, sleeping 20h of the day.\\n\\nI was 25.\\n\\nThere's a part of me that thinks it was Covid, but seeing how it was i...</td>\n",
       "      <td>COVID19positive</td>\n",
       "      <td>1631227752</td>\n",
       "      <td>PsydemonCat</td>\n",
       "      <td>5</td>\n",
       "      <td>1</td>\n",
       "      <td>True</td>\n",
       "      <td>2021-09-09 15:49:12</td>\n",
       "      <td>back december exact sickest ever entire life chest hurt hard breathe coughed much popped blood vessels eyes sense smell completely bed ridden days needing help walk bathroom sleeping h day part thinks covid seeing december world tells thing also lived heavy tourism city especially china typical tourists end day wondering whenever tried taking buckleys kind cough syrup body would puke minute la...</td>\n",
       "      <td>back decemb exact sickest ever entir life chest hurt hard breath cough much pop blood vessel eye sens smell complet bed ridden day need help walk bathroom sleep h day part think covid see decemb world tell thing also live heavi tourism citi especi china typic tourist end day wonder whenev tri take buckley kind cough syrup bodi would puke minut later anyon els answer</td>\n",
       "    </tr>\n",
       "    <tr>\n",
       "      <th>30812</th>\n",
       "      <td>Alcohol after covid</td>\n",
       "      <td>Just tried having a drink for the first time after recovering from covid about a month ago. Had food with the alcohol, but it seems to be hitting harder than normal.  Curious what others have experienced.</td>\n",
       "      <td>COVID19positive</td>\n",
       "      <td>1631229654</td>\n",
       "      <td>waster02</td>\n",
       "      <td>12</td>\n",
       "      <td>1</td>\n",
       "      <td>True</td>\n",
       "      <td>2021-09-09 16:20:54</td>\n",
       "      <td>tried drink first time recovering covid month ago food alcohol seems hitting harder normal curious others experienced</td>\n",
       "      <td>tri drink first time recov covid month ago food alcohol seem hit harder normal curiou other experienc</td>\n",
       "    </tr>\n",
       "    <tr>\n",
       "      <th>30813</th>\n",
       "      <td>Covid</td>\n",
       "      <td>Can you get reinfected again with covid after recently recovering from covid?My sister tested negative for covid like in the first or second week of August after dealing with it and her friend was tested positive today. She’s been spending time with her at the gym and at work since they both work together. My mom is still recovering from pneumonia but we were all tested negative a couple of we...</td>\n",
       "      <td>COVID19positive</td>\n",
       "      <td>1631230273</td>\n",
       "      <td>Huge_Commercial_9976</td>\n",
       "      <td>7</td>\n",
       "      <td>1</td>\n",
       "      <td>True</td>\n",
       "      <td>2021-09-09 16:31:13</td>\n",
       "      <td>get reinfected covid recently recovering covid sister tested negative covid like first second week august dealing friend tested positive today spending time gym work since work together mom still recovering pneumonia tested negative couple weeks ago</td>\n",
       "      <td>get reinfect covid recent recov covid sister test neg covid like first second week august deal friend test posit today spend time gym work sinc work togeth mom still recov pneumonia test neg coupl week ago</td>\n",
       "    </tr>\n",
       "    <tr>\n",
       "      <th>30814</th>\n",
       "      <td>J&amp;amp;j vaccine after covid</td>\n",
       "      <td>I had covid in October of last year, I'm a federal worker and with the new executive order Biden signed I can't put off the vaccination any longer. I have terrible health anxiety and I'm really struggling with this, I'm not antivax at all just scared. I think id rather have the J&amp;amp;J just to have the one and done. But I was curious if anyone else has had covid and then the vaccine, I know th...</td>\n",
       "      <td>COVID19positive</td>\n",
       "      <td>1631231168</td>\n",
       "      <td>pleasant_lay</td>\n",
       "      <td>55</td>\n",
       "      <td>1</td>\n",
       "      <td>True</td>\n",
       "      <td>2021-09-09 16:46:08</td>\n",
       "      <td>covid october last year federal worker new executive order biden signed put vaccination longer terrible health anxiety really struggling antivax scared think id rather j j one done curious anyone else covid vaccine know mrna vaccines make feel pretty rough prior infections curious hear others year old male little overweight serious health issues covid moderate breathing issues alot aches chill...</td>\n",
       "      <td>covid octob last year feder worker new execut order biden sign put vaccin longer terribl health anxieti realli struggl antivax scare think id rather j j one done curiou anyon els covid vaccin know mrna vaccin make feel pretti rough prior infect curiou hear other year old male littl overweight seriou health issu covid moder breath issu alot ach chill horribl fatigu</td>\n",
       "    </tr>\n",
       "  </tbody>\n",
       "</table>\n",
       "<p>30815 rows × 11 columns</p>\n",
       "</div>"
      ],
      "text/plain": [
       "                                                                                                                                                                                       title  \\\n",
       "0                                   I am constantly seeing people asking about people’s experiences so I figured now we can go to one place and stop spamming the AMA and ask Reddit’s subs.   \n",
       "1                                                                                                                                                        How severe are your guys' symptoms?   \n",
       "2                                                                                                                                                              How severe are your symptoms?   \n",
       "3                                                                                                                                                      Shortness of breath as first symptom?   \n",
       "4                                                                                                                                                                     I need advice, please!   \n",
       "...                                                                                                                                                                                      ...   \n",
       "30810  Just tested positive for COVID fully vaccinated, when my isolation is over am I able to see my boyfriend who tested positive a few days later than me and will still be in isolation?   \n",
       "30811                                                                                      Has anyone tried taking cough syrup/Buckleys with Covid, and their body just throwing it back up?   \n",
       "30812                                                                                                                                                                    Alcohol after covid   \n",
       "30813                                                                                                                                                                                  Covid   \n",
       "30814                                                                                                                                                            J&amp;j vaccine after covid   \n",
       "\n",
       "                                                                                                                                                                                                                                                                                                                                                                                                              selftext  \\\n",
       "0                                                                                                                                                                                                                                                                                                                                For those that have tested positive I hope every single one of you feels better soon!   \n",
       "1                                                                                                                                                             I have no idea if I've got the coronavirus, or it's just a cold etc. I've got a runny nose and coughing quite a lot, and a bit of a headache. I don't want to go out in case I do have it and I give it to other people. Are your symptoms debilitating?   \n",
       "2                     I have no idea if I've got the coronavirus, or it's just a cold etc. I've got a runny nose and coughing quite a lot, and a bit of a headache. I don't want to go out in case I do have it and I give it to other people.  My symptoms feel practically the same as a normal cold/flu, other than last night where my eyes hurt a bit, so I wasn't able to sleep. Are your symptoms debilitating?   \n",
       "3      I live in a Canadian province with only 3 presumed cases, all related to travel. I haven’t travelled outside my city, and haven’t been in contact with anyone who has a known case of covid19. However, 11 days ago I was interacting with someone who travelled from the US and had been travelling in international airports. \\n\\nI’m 21F and feel like I’m experiencing shortness of breath, but unsure b...   \n",
       "4      Yesterday I woke up and noticed I had a shortness of breath a few hours after waking up. At work I went home early because I felt weak/tired. \\n\\nThis morning, I don’t feel as weak anymore, but I still have the shortness of breath and slight chest pain. Could this be allergies? Did any of you have these symptoms?\\n\\nI called my doctors and they will not test me unless I have a cough with a fev...   \n",
       "...                                                                                                                                                                                                                                                                                                                                                                                                                ...   \n",
       "30810                                                                                                                      I am not sure how this all works. I tested positive Sunday for COVID despite being fully vaccinated. My boyfriend started showing symptoms later and tested positive Tuesday. Am I able to see him when my isolation is over and he is still in isolation or should I wait until he is out?   \n",
       "30811  Back in 2019, December 27 to be exact, I was the sickest I had ever been in my entire life. My chest hurt, it was hard to breathe, I coughed so much I popped blood vessels in my eyes, and I had no sense of smell. Completely bed ridden for 2 days, needing help to walk to the bathroom, sleeping 20h of the day.\\n\\nI was 25.\\n\\nThere's a part of me that thinks it was Covid, but seeing how it was i...   \n",
       "30812                                                                                                                                                                                                     Just tried having a drink for the first time after recovering from covid about a month ago. Had food with the alcohol, but it seems to be hitting harder than normal.  Curious what others have experienced.   \n",
       "30813  Can you get reinfected again with covid after recently recovering from covid?My sister tested negative for covid like in the first or second week of August after dealing with it and her friend was tested positive today. She’s been spending time with her at the gym and at work since they both work together. My mom is still recovering from pneumonia but we were all tested negative a couple of we...   \n",
       "30814  I had covid in October of last year, I'm a federal worker and with the new executive order Biden signed I can't put off the vaccination any longer. I have terrible health anxiety and I'm really struggling with this, I'm not antivax at all just scared. I think id rather have the J&amp;J just to have the one and done. But I was curious if anyone else has had covid and then the vaccine, I know th...   \n",
       "\n",
       "             subreddit  created_utc                author  num_comments  \\\n",
       "0      COVID19positive   1584148032       the1andonlyjoja           191   \n",
       "1      COVID19positive   1584358828         RocketFrasier             0   \n",
       "2      COVID19positive   1584358937         RocketFrasier            42   \n",
       "3      COVID19positive   1584375181          _haligirl98_            77   \n",
       "4      COVID19positive   1584382909              monkcell            11   \n",
       "...                ...          ...                   ...           ...   \n",
       "30810  COVID19positive   1631227446         bunnygirl1716             7   \n",
       "30811  COVID19positive   1631227752           PsydemonCat             5   \n",
       "30812  COVID19positive   1631229654              waster02            12   \n",
       "30813  COVID19positive   1631230273  Huge_Commercial_9976             7   \n",
       "30814  COVID19positive   1631231168          pleasant_lay            55   \n",
       "\n",
       "       score  is_self            timestamp  \\\n",
       "0          1     True  2020-03-13 18:07:12   \n",
       "1          1     True  2020-03-16 04:40:28   \n",
       "2          1     True  2020-03-16 04:42:17   \n",
       "3          1     True  2020-03-16 09:13:01   \n",
       "4          2     True  2020-03-16 11:21:49   \n",
       "...      ...      ...                  ...   \n",
       "30810      1     True  2021-09-09 15:44:06   \n",
       "30811      1     True  2021-09-09 15:49:12   \n",
       "30812      1     True  2021-09-09 16:20:54   \n",
       "30813      1     True  2021-09-09 16:31:13   \n",
       "30814      1     True  2021-09-09 16:46:08   \n",
       "\n",
       "                                                                                                                                                                                                                                                                                                                                                                                                                  post  \\\n",
       "0                                                                                                                                                                                                                                                                                                                                                              tested positive hope every single one feels better soon   \n",
       "1                                                                                                                                                                                                                                                                                          idea got coronavirus cold etc got runny nose coughing quite lot bit headache want go case give people symptoms debilitating   \n",
       "2                                                                                                                                                                                                            idea got coronavirus cold etc got runny nose coughing quite lot bit headache want go case give people symptoms feel practically normal cold flu last night eyes hurt bit able sleep symptoms debilitating   \n",
       "3      live canadian province presumed cases related travel travelled outside city contact anyone known case covid however days ago interacting someone travelled us travelling international airports f feel like experiencing shortness breath unsure never felt way felt slight pressure tightness right side chest feel like get much air lungs usual pains sharp feelings yet fever cough headache symptom rea...   \n",
       "4                                                                                                                                                            yesterday woke noticed shortness breath hours waking work went home early felt weak tired morning feel weak anymore still shortness breath slight chest pain could allergies symptoms called doctors test unless cough fever shortness breath cough fever   \n",
       "...                                                                                                                                                                                                                                                                                                                                                                                                                ...   \n",
       "30810                                                                                                                                                                                                                                        sure works tested positive sunday covid despite fully vaccinated boyfriend started showing symptoms later tested positive tuesday able see isolation still isolation wait   \n",
       "30811  back december exact sickest ever entire life chest hurt hard breathe coughed much popped blood vessels eyes sense smell completely bed ridden days needing help walk bathroom sleeping h day part thinks covid seeing december world tells thing also lived heavy tourism city especially china typical tourists end day wondering whenever tried taking buckleys kind cough syrup body would puke minute la...   \n",
       "30812                                                                                                                                                                                                                                                                                            tried drink first time recovering covid month ago food alcohol seems hitting harder normal curious others experienced   \n",
       "30813                                                                                                                                                        get reinfected covid recently recovering covid sister tested negative covid like first second week august dealing friend tested positive today spending time gym work since work together mom still recovering pneumonia tested negative couple weeks ago   \n",
       "30814  covid october last year federal worker new executive order biden signed put vaccination longer terrible health anxiety really struggling antivax scared think id rather j j one done curious anyone else covid vaccine know mrna vaccines make feel pretty rough prior infections curious hear others year old male little overweight serious health issues covid moderate breathing issues alot aches chill...   \n",
       "\n",
       "                                                                                                                                                                                                                                                                                                                                                                                                                 token  \n",
       "0                                                                                                                                                                                                                                                                                                                                                                     test posit hope everi singl one feel better soon  \n",
       "1                                                                                                                                                                                                                                                                                                       idea got coronaviru cold etc got runni nose cough quit lot bit headach want go case give peopl symptom debilit  \n",
       "2                                                                                                                                                                                                                                idea got coronaviru cold etc got runni nose cough quit lot bit headach want go case give peopl symptom feel practic normal cold flu last night eye hurt bit abl sleep symptom debilit  \n",
       "3      live canadian provinc presum case relat travel travel outsid citi contact anyon known case covid howev day ago interact someon travel us travel intern airport f feel like experienc short breath unsur never felt way felt slight pressur tight right side chest feel like get much air lung usual pain sharp feel yet fever cough headach symptom read stori peopl symptom seem start least fever cough sh...  \n",
       "4                                                                                                                                                                                        yesterday woke notic short breath hour wake work went home earli felt weak tire morn feel weak anymor still short breath slight chest pain could allergi symptom call doctor test unless cough fever short breath cough fever  \n",
       "...                                                                                                                                                                                                                                                                                                                                                                                                                ...  \n",
       "30810                                                                                                                                                                                                                                                                         sure work test posit sunday covid despit fulli vaccin boyfriend start show symptom later test posit tuesday abl see isol still isol wait  \n",
       "30811                                 back decemb exact sickest ever entir life chest hurt hard breath cough much pop blood vessel eye sens smell complet bed ridden day need help walk bathroom sleep h day part think covid see decemb world tell thing also live heavi tourism citi especi china typic tourist end day wonder whenev tri take buckley kind cough syrup bodi would puke minut later anyon els answer  \n",
       "30812                                                                                                                                                                                                                                                                                                            tri drink first time recov covid month ago food alcohol seem hit harder normal curiou other experienc  \n",
       "30813                                                                                                                                                                                                    get reinfect covid recent recov covid sister test neg covid like first second week august deal friend test posit today spend time gym work sinc work togeth mom still recov pneumonia test neg coupl week ago  \n",
       "30814                                   covid octob last year feder worker new execut order biden sign put vaccin longer terribl health anxieti realli struggl antivax scare think id rather j j one done curiou anyon els covid vaccin know mrna vaccin make feel pretti rough prior infect curiou hear other year old male littl overweight seriou health issu covid moder breath issu alot ach chill horribl fatigu  \n",
       "\n",
       "[30815 rows x 11 columns]"
      ]
     },
     "execution_count": 47,
     "metadata": {},
     "output_type": "execute_result"
    }
   ],
   "source": [
    "df"
   ]
  },
  {
   "cell_type": "code",
   "execution_count": 49,
   "id": "2496e98d",
   "metadata": {},
   "outputs": [
    {
     "data": {
      "text/plain": [
       "(13885968, 12191584)"
      ]
     },
     "execution_count": 49,
     "metadata": {},
     "output_type": "execute_result"
    }
   ],
   "source": [
    "df['post'].str.len().sum(),df['token'].str.len().sum()"
   ]
  },
  {
   "cell_type": "code",
   "execution_count": 97,
   "id": "603d9efe",
   "metadata": {},
   "outputs": [],
   "source": [
    "## save text processed token as cvs"
   ]
  },
  {
   "cell_type": "code",
   "execution_count": 98,
   "id": "8e5f4496",
   "metadata": {},
   "outputs": [],
   "source": [
    "# save processed data to be used for distingushing\n",
    "df.to_csv('../datasets/text_processed_covid19positive.csv')"
   ]
  },
  {
   "cell_type": "markdown",
   "id": "3e89c63a",
   "metadata": {},
   "source": [
    "# reduce the time from March 2020 to March 2021"
   ]
  },
  {
   "cell_type": "code",
   "execution_count": 99,
   "id": "b9930e09",
   "metadata": {},
   "outputs": [
    {
     "data": {
      "text/plain": [
       "0        2020-03-13 18:07:12\n",
       "1        2020-03-16 04:40:28\n",
       "2        2020-03-16 04:42:17\n",
       "3        2020-03-16 09:13:01\n",
       "4        2020-03-16 11:21:49\n",
       "                ...         \n",
       "20613    2021-03-09 15:14:00\n",
       "20614    2021-03-09 15:43:36\n",
       "20615    2021-03-09 16:00:08\n",
       "20616    2021-03-09 16:08:21\n",
       "20617    2021-03-09 16:10:00\n",
       "Name: timestamp, Length: 20618, dtype: object"
      ]
     },
     "execution_count": 99,
     "metadata": {},
     "output_type": "execute_result"
    }
   ],
   "source": [
    "df[ df['timestamp'] < '2021-03-09 16:20:54' ]['timestamp']"
   ]
  },
  {
   "cell_type": "markdown",
   "id": "de7e7d95",
   "metadata": {},
   "source": [
    "## Save text-processed doc"
   ]
  },
  {
   "cell_type": "markdown",
   "id": "811428fe",
   "metadata": {},
   "source": [
    "check nulls for the last time"
   ]
  },
  {
   "cell_type": "code",
   "execution_count": 100,
   "id": "17205837",
   "metadata": {},
   "outputs": [
    {
     "data": {
      "text/plain": [
       "title           0\n",
       "selftext        0\n",
       "subreddit       0\n",
       "created_utc     0\n",
       "author          0\n",
       "num_comments    0\n",
       "score           0\n",
       "is_self         0\n",
       "timestamp       0\n",
       "post            0\n",
       "token           0\n",
       "dtype: int64"
      ]
     },
     "execution_count": 100,
     "metadata": {},
     "output_type": "execute_result"
    }
   ],
   "source": [
    "df.isnull().sum()"
   ]
  },
  {
   "cell_type": "code",
   "execution_count": 101,
   "id": "87c48c95",
   "metadata": {},
   "outputs": [],
   "source": [
    "df_limitedTime = df[ df['timestamp'] < '2021-03-09 16:20:54' ]"
   ]
  },
  {
   "cell_type": "code",
   "execution_count": 102,
   "id": "53dbfd45",
   "metadata": {},
   "outputs": [],
   "source": [
    "df.to_csv('../datasets/text_processed_covid19positive_Mar2020_Mar2021.csv')"
   ]
  }
 ],
 "metadata": {
  "kernelspec": {
   "display_name": "Python 3",
   "language": "python",
   "name": "python3"
  },
  "language_info": {
   "codemirror_mode": {
    "name": "ipython",
    "version": 3
   },
   "file_extension": ".py",
   "mimetype": "text/x-python",
   "name": "python",
   "nbconvert_exporter": "python",
   "pygments_lexer": "ipython3",
   "version": "3.9.5"
  }
 },
 "nbformat": 4,
 "nbformat_minor": 5
}
