{
 "cells": [
  {
   "cell_type": "markdown",
   "id": "c3bd5d44",
   "metadata": {},
   "source": [
    "# # Model: Adaboost\n",
    "\n",
    "### Author: Ehsan Gharib-Nezhad\n",
    "\n"
   ]
  },
  {
   "cell_type": "markdown",
   "id": "34757b9a",
   "metadata": {},
   "source": [
    "<a id='intro'></a>\n",
    "\n",
    "## Boosting as an Ensemble Method\n",
    "\n",
    "---\n",
    "\n",
    "Boosting is another ensemble method with a different approach to bagging. Boosting takes a weak base learner and tries to make it a strong learner by retraining it on the misclassified samples.\n",
    "\n",
    "1) **Base model fitting is an iterative procedure**: It cannot be run in parallel.\n",
    "- **Weights are assigned to observations to indicate their \"importance:\"** Samples with higher weights are given higher influence on the total error of the next model, prioritizing those observations.\n",
    "- **Weights change at each iteration with the goal of correcting the errors/misclassifications of the previous iteration**: The first base estimator is fit with uniform weights on the observations.\n",
    "- **Final prediction is typically constructed by a weighted vote**: Weights for each base model depend on their training errors or misclassification rates."
   ]
  },
  {
   "cell_type": "code",
   "execution_count": 1,
   "id": "cb4e2d88",
   "metadata": {},
   "outputs": [],
   "source": [
    "from myfunctions import *\n",
    "\n",
    "# # Import Bagging Classifier.\n",
    "from sklearn.ensemble import AdaBoostClassifier\n",
    "from imblearn.over_sampling import RandomOverSampler\n",
    "\n",
    "\n",
    "from sklearn.feature_extraction.text import CountVectorizer\n",
    "from imblearn.pipeline import Pipeline\n",
    "from sklearn.model_selection import train_test_split, cross_val_score, GridSearchCV\n",
    "from sklearn.model_selection import train_test_split, RandomizedSearchCV, GridSearchCV\n"
   ]
  },
  {
   "cell_type": "code",
   "execution_count": 25,
   "id": "d3ed863f",
   "metadata": {},
   "outputs": [],
   "source": [
    "df = pd.read_csv('../datasets/text_processed_all_posts_combined_imbalanced.csv',index_col=0)\n",
    "is_balanced = False # set True is the dataset is balanced!!! "
   ]
  },
  {
   "cell_type": "code",
   "execution_count": 26,
   "id": "fb1a0621",
   "metadata": {},
   "outputs": [
    {
     "data": {
      "text/html": [
       "<div>\n",
       "<style scoped>\n",
       "    .dataframe tbody tr th:only-of-type {\n",
       "        vertical-align: middle;\n",
       "    }\n",
       "\n",
       "    .dataframe tbody tr th {\n",
       "        vertical-align: top;\n",
       "    }\n",
       "\n",
       "    .dataframe thead th {\n",
       "        text-align: right;\n",
       "    }\n",
       "</style>\n",
       "<table border=\"1\" class=\"dataframe\">\n",
       "  <thead>\n",
       "    <tr style=\"text-align: right;\">\n",
       "      <th></th>\n",
       "      <th>title</th>\n",
       "      <th>selftext</th>\n",
       "      <th>subreddit</th>\n",
       "      <th>created_utc</th>\n",
       "      <th>author</th>\n",
       "      <th>num_comments</th>\n",
       "      <th>score</th>\n",
       "      <th>is_self</th>\n",
       "      <th>timestamp</th>\n",
       "      <th>post</th>\n",
       "      <th>token</th>\n",
       "      <th>is_Covid19positive</th>\n",
       "    </tr>\n",
       "  </thead>\n",
       "  <tbody>\n",
       "    <tr>\n",
       "      <th>0</th>\n",
       "      <td>I am constantly seeing people asking about people’s experiences so I figured now we can go to one place and stop spamming the AMA and ask Reddit’s subs.</td>\n",
       "      <td>For those that have tested positive I hope every single one of you feels better soon!</td>\n",
       "      <td>COVID19positive</td>\n",
       "      <td>1584148032</td>\n",
       "      <td>the1andonlyjoja</td>\n",
       "      <td>191</td>\n",
       "      <td>1</td>\n",
       "      <td>True</td>\n",
       "      <td>2020-03-13 18:07:12</td>\n",
       "      <td>tested positive hope every single one feels better soon</td>\n",
       "      <td>test posit hope everi singl one feel better soon</td>\n",
       "      <td>1</td>\n",
       "    </tr>\n",
       "    <tr>\n",
       "      <th>1</th>\n",
       "      <td>How severe are your guys' symptoms?</td>\n",
       "      <td>I have no idea if I've got the coronavirus, or it's just a cold etc. I've got a runny nose and coughing quite a lot, and a bit of a headache. I don't want to go out in case I do have it and I give it to other people. Are your symptoms debilitating?</td>\n",
       "      <td>COVID19positive</td>\n",
       "      <td>1584358828</td>\n",
       "      <td>RocketFrasier</td>\n",
       "      <td>0</td>\n",
       "      <td>1</td>\n",
       "      <td>True</td>\n",
       "      <td>2020-03-16 04:40:28</td>\n",
       "      <td>idea got coronavirus cold etc got runny nose coughing quite lot bit headache want go case give people symptoms debilitating</td>\n",
       "      <td>idea got coronaviru cold etc got runni nose cough quit lot bit headach want go case give peopl symptom debilit</td>\n",
       "      <td>1</td>\n",
       "    </tr>\n",
       "    <tr>\n",
       "      <th>2</th>\n",
       "      <td>How severe are your symptoms?</td>\n",
       "      <td>I have no idea if I've got the coronavirus, or it's just a cold etc. I've got a runny nose and coughing quite a lot, and a bit of a headache. I don't want to go out in case I do have it and I give it to other people.  My symptoms feel practically the same as a normal cold/flu, other than last night where my eyes hurt a bit, so I wasn't able to sleep. Are your symptoms debilitating?</td>\n",
       "      <td>COVID19positive</td>\n",
       "      <td>1584358937</td>\n",
       "      <td>RocketFrasier</td>\n",
       "      <td>42</td>\n",
       "      <td>1</td>\n",
       "      <td>True</td>\n",
       "      <td>2020-03-16 04:42:17</td>\n",
       "      <td>idea got coronavirus cold etc got runny nose coughing quite lot bit headache want go case give people symptoms feel practically normal cold flu last night eyes hurt bit able sleep symptoms debilitating</td>\n",
       "      <td>idea got coronaviru cold etc got runni nose cough quit lot bit headach want go case give peopl symptom feel practic normal cold flu last night eye hurt bit abl sleep symptom debilit</td>\n",
       "      <td>1</td>\n",
       "    </tr>\n",
       "    <tr>\n",
       "      <th>3</th>\n",
       "      <td>Shortness of breath as first symptom?</td>\n",
       "      <td>I live in a Canadian province with only 3 presumed cases, all related to travel. I haven’t travelled outside my city, and haven’t been in contact with anyone who has a known case of covid19. However, 11 days ago I was interacting with someone who travelled from the US and had been travelling in international airports. \\n\\nI’m 21F and feel like I’m experiencing shortness of breath, but unsure b...</td>\n",
       "      <td>COVID19positive</td>\n",
       "      <td>1584375181</td>\n",
       "      <td>_haligirl98_</td>\n",
       "      <td>77</td>\n",
       "      <td>1</td>\n",
       "      <td>True</td>\n",
       "      <td>2020-03-16 09:13:01</td>\n",
       "      <td>live canadian province presumed cases related travel travelled outside city contact anyone known case covid however days ago interacting someone travelled us travelling international airports f feel like experiencing shortness breath unsure never felt way felt slight pressure tightness right side chest feel like get much air lungs usual pains sharp feelings yet fever cough headache symptom rea...</td>\n",
       "      <td>live canadian provinc presum case relat travel travel outsid citi contact anyon known case covid howev day ago interact someon travel us travel intern airport f feel like experienc short breath unsur never felt way felt slight pressur tight right side chest feel like get much air lung usual pain sharp feel yet fever cough headach symptom read stori peopl symptom seem start least fever cough sh...</td>\n",
       "      <td>1</td>\n",
       "    </tr>\n",
       "    <tr>\n",
       "      <th>4</th>\n",
       "      <td>I need advice, please!</td>\n",
       "      <td>Yesterday I woke up and noticed I had a shortness of breath a few hours after waking up. At work I went home early because I felt weak/tired. \\n\\nThis morning, I don’t feel as weak anymore, but I still have the shortness of breath and slight chest pain. Could this be allergies? Did any of you have these symptoms?\\n\\nI called my doctors and they will not test me unless I have a cough with a fev...</td>\n",
       "      <td>COVID19positive</td>\n",
       "      <td>1584382909</td>\n",
       "      <td>monkcell</td>\n",
       "      <td>11</td>\n",
       "      <td>2</td>\n",
       "      <td>True</td>\n",
       "      <td>2020-03-16 11:21:49</td>\n",
       "      <td>yesterday woke noticed shortness breath hours waking work went home early felt weak tired morning feel weak anymore still shortness breath slight chest pain could allergies symptoms called doctors test unless cough fever shortness breath cough fever</td>\n",
       "      <td>yesterday woke notic short breath hour wake work went home earli felt weak tire morn feel weak anymor still short breath slight chest pain could allergi symptom call doctor test unless cough fever short breath cough fever</td>\n",
       "      <td>1</td>\n",
       "    </tr>\n",
       "  </tbody>\n",
       "</table>\n",
       "</div>"
      ],
      "text/plain": [
       "                                                                                                                                                      title  \\\n",
       "0  I am constantly seeing people asking about people’s experiences so I figured now we can go to one place and stop spamming the AMA and ask Reddit’s subs.   \n",
       "1                                                                                                                       How severe are your guys' symptoms?   \n",
       "2                                                                                                                             How severe are your symptoms?   \n",
       "3                                                                                                                     Shortness of breath as first symptom?   \n",
       "4                                                                                                                                    I need advice, please!   \n",
       "\n",
       "                                                                                                                                                                                                                                                                                                                                                                                                          selftext  \\\n",
       "0                                                                                                                                                                                                                                                                                                                            For those that have tested positive I hope every single one of you feels better soon!   \n",
       "1                                                                                                                                                         I have no idea if I've got the coronavirus, or it's just a cold etc. I've got a runny nose and coughing quite a lot, and a bit of a headache. I don't want to go out in case I do have it and I give it to other people. Are your symptoms debilitating?   \n",
       "2                 I have no idea if I've got the coronavirus, or it's just a cold etc. I've got a runny nose and coughing quite a lot, and a bit of a headache. I don't want to go out in case I do have it and I give it to other people.  My symptoms feel practically the same as a normal cold/flu, other than last night where my eyes hurt a bit, so I wasn't able to sleep. Are your symptoms debilitating?   \n",
       "3  I live in a Canadian province with only 3 presumed cases, all related to travel. I haven’t travelled outside my city, and haven’t been in contact with anyone who has a known case of covid19. However, 11 days ago I was interacting with someone who travelled from the US and had been travelling in international airports. \\n\\nI’m 21F and feel like I’m experiencing shortness of breath, but unsure b...   \n",
       "4  Yesterday I woke up and noticed I had a shortness of breath a few hours after waking up. At work I went home early because I felt weak/tired. \\n\\nThis morning, I don’t feel as weak anymore, but I still have the shortness of breath and slight chest pain. Could this be allergies? Did any of you have these symptoms?\\n\\nI called my doctors and they will not test me unless I have a cough with a fev...   \n",
       "\n",
       "         subreddit  created_utc           author  num_comments  score  \\\n",
       "0  COVID19positive   1584148032  the1andonlyjoja           191      1   \n",
       "1  COVID19positive   1584358828    RocketFrasier             0      1   \n",
       "2  COVID19positive   1584358937    RocketFrasier            42      1   \n",
       "3  COVID19positive   1584375181     _haligirl98_            77      1   \n",
       "4  COVID19positive   1584382909         monkcell            11      2   \n",
       "\n",
       "   is_self            timestamp  \\\n",
       "0     True  2020-03-13 18:07:12   \n",
       "1     True  2020-03-16 04:40:28   \n",
       "2     True  2020-03-16 04:42:17   \n",
       "3     True  2020-03-16 09:13:01   \n",
       "4     True  2020-03-16 11:21:49   \n",
       "\n",
       "                                                                                                                                                                                                                                                                                                                                                                                                              post  \\\n",
       "0                                                                                                                                                                                                                                                                                                                                                          tested positive hope every single one feels better soon   \n",
       "1                                                                                                                                                                                                                                                                                      idea got coronavirus cold etc got runny nose coughing quite lot bit headache want go case give people symptoms debilitating   \n",
       "2                                                                                                                                                                                                        idea got coronavirus cold etc got runny nose coughing quite lot bit headache want go case give people symptoms feel practically normal cold flu last night eyes hurt bit able sleep symptoms debilitating   \n",
       "3  live canadian province presumed cases related travel travelled outside city contact anyone known case covid however days ago interacting someone travelled us travelling international airports f feel like experiencing shortness breath unsure never felt way felt slight pressure tightness right side chest feel like get much air lungs usual pains sharp feelings yet fever cough headache symptom rea...   \n",
       "4                                                                                                                                                        yesterday woke noticed shortness breath hours waking work went home early felt weak tired morning feel weak anymore still shortness breath slight chest pain could allergies symptoms called doctors test unless cough fever shortness breath cough fever   \n",
       "\n",
       "                                                                                                                                                                                                                                                                                                                                                                                                             token  \\\n",
       "0                                                                                                                                                                                                                                                                                                                                                                 test posit hope everi singl one feel better soon   \n",
       "1                                                                                                                                                                                                                                                                                                   idea got coronaviru cold etc got runni nose cough quit lot bit headach want go case give peopl symptom debilit   \n",
       "2                                                                                                                                                                                                                            idea got coronaviru cold etc got runni nose cough quit lot bit headach want go case give peopl symptom feel practic normal cold flu last night eye hurt bit abl sleep symptom debilit   \n",
       "3  live canadian provinc presum case relat travel travel outsid citi contact anyon known case covid howev day ago interact someon travel us travel intern airport f feel like experienc short breath unsur never felt way felt slight pressur tight right side chest feel like get much air lung usual pain sharp feel yet fever cough headach symptom read stori peopl symptom seem start least fever cough sh...   \n",
       "4                                                                                                                                                                                    yesterday woke notic short breath hour wake work went home earli felt weak tire morn feel weak anymor still short breath slight chest pain could allergi symptom call doctor test unless cough fever short breath cough fever   \n",
       "\n",
       "   is_Covid19positive  \n",
       "0                   1  \n",
       "1                   1  \n",
       "2                   1  \n",
       "3                   1  \n",
       "4                   1  "
      ]
     },
     "execution_count": 26,
     "metadata": {},
     "output_type": "execute_result"
    }
   ],
   "source": [
    "df.head()"
   ]
  },
  {
   "cell_type": "markdown",
   "id": "07648508",
   "metadata": {},
   "source": [
    "### Set up X and Y"
   ]
  },
  {
   "cell_type": "code",
   "execution_count": 27,
   "id": "0c0186b1",
   "metadata": {},
   "outputs": [],
   "source": [
    "X = df['token']\n",
    "y = df['is_Covid19positive']"
   ]
  },
  {
   "cell_type": "code",
   "execution_count": 28,
   "id": "623fba2c",
   "metadata": {},
   "outputs": [
    {
     "data": {
      "text/plain": [
       "1    0.929286\n",
       "0    0.070714\n",
       "Name: is_Covid19positive, dtype: float64"
      ]
     },
     "execution_count": 28,
     "metadata": {},
     "output_type": "execute_result"
    }
   ],
   "source": [
    "#check baseline:\n",
    "\n",
    "y.value_counts(normalize = True)"
   ]
  },
  {
   "cell_type": "markdown",
   "id": "1b116262",
   "metadata": {},
   "source": [
    "# train test split"
   ]
  },
  {
   "cell_type": "code",
   "execution_count": 29,
   "id": "9018616d",
   "metadata": {},
   "outputs": [],
   "source": [
    "# Split the data into the training and testing sets.\n",
    "X_train, X_test, y_train, y_test = train_test_split(X,\n",
    "                                                    y,\n",
    "                                                    stratify=y,\n",
    "                                                    random_state=42)"
   ]
  },
  {
   "cell_type": "code",
   "execution_count": 30,
   "id": "963ff506",
   "metadata": {},
   "outputs": [
    {
     "data": {
      "text/plain": [
       "(1    0.929273\n",
       " 0    0.070727\n",
       " Name: is_Covid19positive, dtype: float64,\n",
       " 1    0.929322\n",
       " 0    0.070678\n",
       " Name: is_Covid19positive, dtype: float64)"
      ]
     },
     "execution_count": 30,
     "metadata": {},
     "output_type": "execute_result"
    }
   ],
   "source": [
    "y_train.value_counts(normalize=True), y_test.value_counts(normalize=True)"
   ]
  },
  {
   "cell_type": "markdown",
   "id": "2448c83d",
   "metadata": {},
   "source": [
    "##  Count Vectorizer\n"
   ]
  },
  {
   "cell_type": "code",
   "execution_count": 31,
   "id": "9bdcfce0",
   "metadata": {},
   "outputs": [],
   "source": [
    "cvec = CountVectorizer()"
   ]
  },
  {
   "cell_type": "code",
   "execution_count": 32,
   "id": "793289b9",
   "metadata": {},
   "outputs": [],
   "source": [
    "Xcv_train = cvec.fit_transform(X_train)\n",
    "Xcv_test = cvec.transform(X_test)"
   ]
  },
  {
   "cell_type": "markdown",
   "id": "55559b81",
   "metadata": {},
   "source": [
    "# ======================================================\n",
    "## For imbalanced case"
   ]
  },
  {
   "cell_type": "code",
   "execution_count": 33,
   "id": "2266c50a",
   "metadata": {},
   "outputs": [],
   "source": [
    "ros = RandomOverSampler()\n",
    "\n",
    "Xcv_train , y_train = ros.fit_resample(Xcv_train, y_train)"
   ]
  },
  {
   "cell_type": "code",
   "execution_count": 34,
   "id": "ca7f4194",
   "metadata": {},
   "outputs": [
    {
     "data": {
      "text/html": [
       "<div>\n",
       "<style scoped>\n",
       "    .dataframe tbody tr th:only-of-type {\n",
       "        vertical-align: middle;\n",
       "    }\n",
       "\n",
       "    .dataframe tbody tr th {\n",
       "        vertical-align: top;\n",
       "    }\n",
       "\n",
       "    .dataframe thead th {\n",
       "        text-align: right;\n",
       "    }\n",
       "</style>\n",
       "<table border=\"1\" class=\"dataframe\">\n",
       "  <thead>\n",
       "    <tr style=\"text-align: right;\">\n",
       "      <th></th>\n",
       "      <th>aa</th>\n",
       "      <th>aaa</th>\n",
       "      <th>aaaaaaaaaaaaaaaaaaaaaaaaaaaaaaaaaaaaaaaa</th>\n",
       "      <th>aaaaaachooooooo</th>\n",
       "      <th>aaaand</th>\n",
       "      <th>aaargh</th>\n",
       "      <th>ab</th>\n",
       "      <th>aback</th>\n",
       "      <th>abain</th>\n",
       "      <th>abandon</th>\n",
       "      <th>...</th>\n",
       "      <th>zpak</th>\n",
       "      <th>zucchini</th>\n",
       "      <th>zuchinni</th>\n",
       "      <th>zuckersaid</th>\n",
       "      <th>zuid</th>\n",
       "      <th>zurich</th>\n",
       "      <th>zybio</th>\n",
       "      <th>zyrtec</th>\n",
       "      <th>zz</th>\n",
       "      <th>zzzquil</th>\n",
       "    </tr>\n",
       "  </thead>\n",
       "  <tbody>\n",
       "    <tr>\n",
       "      <th>0</th>\n",
       "      <td>0</td>\n",
       "      <td>0</td>\n",
       "      <td>0</td>\n",
       "      <td>0</td>\n",
       "      <td>0</td>\n",
       "      <td>0</td>\n",
       "      <td>0</td>\n",
       "      <td>0</td>\n",
       "      <td>0</td>\n",
       "      <td>0</td>\n",
       "      <td>...</td>\n",
       "      <td>0</td>\n",
       "      <td>0</td>\n",
       "      <td>0</td>\n",
       "      <td>0</td>\n",
       "      <td>0</td>\n",
       "      <td>0</td>\n",
       "      <td>0</td>\n",
       "      <td>0</td>\n",
       "      <td>0</td>\n",
       "      <td>0</td>\n",
       "    </tr>\n",
       "    <tr>\n",
       "      <th>1</th>\n",
       "      <td>0</td>\n",
       "      <td>0</td>\n",
       "      <td>0</td>\n",
       "      <td>0</td>\n",
       "      <td>0</td>\n",
       "      <td>0</td>\n",
       "      <td>0</td>\n",
       "      <td>0</td>\n",
       "      <td>0</td>\n",
       "      <td>0</td>\n",
       "      <td>...</td>\n",
       "      <td>0</td>\n",
       "      <td>0</td>\n",
       "      <td>0</td>\n",
       "      <td>0</td>\n",
       "      <td>0</td>\n",
       "      <td>0</td>\n",
       "      <td>0</td>\n",
       "      <td>0</td>\n",
       "      <td>0</td>\n",
       "      <td>0</td>\n",
       "    </tr>\n",
       "    <tr>\n",
       "      <th>2</th>\n",
       "      <td>0</td>\n",
       "      <td>0</td>\n",
       "      <td>0</td>\n",
       "      <td>0</td>\n",
       "      <td>0</td>\n",
       "      <td>0</td>\n",
       "      <td>0</td>\n",
       "      <td>0</td>\n",
       "      <td>0</td>\n",
       "      <td>0</td>\n",
       "      <td>...</td>\n",
       "      <td>0</td>\n",
       "      <td>0</td>\n",
       "      <td>0</td>\n",
       "      <td>0</td>\n",
       "      <td>0</td>\n",
       "      <td>0</td>\n",
       "      <td>0</td>\n",
       "      <td>0</td>\n",
       "      <td>0</td>\n",
       "      <td>0</td>\n",
       "    </tr>\n",
       "    <tr>\n",
       "      <th>3</th>\n",
       "      <td>0</td>\n",
       "      <td>0</td>\n",
       "      <td>0</td>\n",
       "      <td>0</td>\n",
       "      <td>0</td>\n",
       "      <td>0</td>\n",
       "      <td>0</td>\n",
       "      <td>0</td>\n",
       "      <td>0</td>\n",
       "      <td>0</td>\n",
       "      <td>...</td>\n",
       "      <td>0</td>\n",
       "      <td>0</td>\n",
       "      <td>0</td>\n",
       "      <td>0</td>\n",
       "      <td>0</td>\n",
       "      <td>0</td>\n",
       "      <td>0</td>\n",
       "      <td>0</td>\n",
       "      <td>0</td>\n",
       "      <td>0</td>\n",
       "    </tr>\n",
       "    <tr>\n",
       "      <th>4</th>\n",
       "      <td>0</td>\n",
       "      <td>0</td>\n",
       "      <td>0</td>\n",
       "      <td>0</td>\n",
       "      <td>0</td>\n",
       "      <td>0</td>\n",
       "      <td>0</td>\n",
       "      <td>0</td>\n",
       "      <td>0</td>\n",
       "      <td>0</td>\n",
       "      <td>...</td>\n",
       "      <td>0</td>\n",
       "      <td>0</td>\n",
       "      <td>0</td>\n",
       "      <td>0</td>\n",
       "      <td>0</td>\n",
       "      <td>0</td>\n",
       "      <td>0</td>\n",
       "      <td>0</td>\n",
       "      <td>0</td>\n",
       "      <td>0</td>\n",
       "    </tr>\n",
       "    <tr>\n",
       "      <th>...</th>\n",
       "      <td>...</td>\n",
       "      <td>...</td>\n",
       "      <td>...</td>\n",
       "      <td>...</td>\n",
       "      <td>...</td>\n",
       "      <td>...</td>\n",
       "      <td>...</td>\n",
       "      <td>...</td>\n",
       "      <td>...</td>\n",
       "      <td>...</td>\n",
       "      <td>...</td>\n",
       "      <td>...</td>\n",
       "      <td>...</td>\n",
       "      <td>...</td>\n",
       "      <td>...</td>\n",
       "      <td>...</td>\n",
       "      <td>...</td>\n",
       "      <td>...</td>\n",
       "      <td>...</td>\n",
       "      <td>...</td>\n",
       "      <td>...</td>\n",
       "    </tr>\n",
       "    <tr>\n",
       "      <th>46139</th>\n",
       "      <td>0</td>\n",
       "      <td>0</td>\n",
       "      <td>0</td>\n",
       "      <td>0</td>\n",
       "      <td>0</td>\n",
       "      <td>0</td>\n",
       "      <td>0</td>\n",
       "      <td>0</td>\n",
       "      <td>0</td>\n",
       "      <td>0</td>\n",
       "      <td>...</td>\n",
       "      <td>0</td>\n",
       "      <td>0</td>\n",
       "      <td>0</td>\n",
       "      <td>0</td>\n",
       "      <td>0</td>\n",
       "      <td>0</td>\n",
       "      <td>0</td>\n",
       "      <td>0</td>\n",
       "      <td>0</td>\n",
       "      <td>0</td>\n",
       "    </tr>\n",
       "    <tr>\n",
       "      <th>46140</th>\n",
       "      <td>0</td>\n",
       "      <td>0</td>\n",
       "      <td>0</td>\n",
       "      <td>0</td>\n",
       "      <td>0</td>\n",
       "      <td>0</td>\n",
       "      <td>0</td>\n",
       "      <td>0</td>\n",
       "      <td>0</td>\n",
       "      <td>0</td>\n",
       "      <td>...</td>\n",
       "      <td>0</td>\n",
       "      <td>0</td>\n",
       "      <td>0</td>\n",
       "      <td>0</td>\n",
       "      <td>0</td>\n",
       "      <td>0</td>\n",
       "      <td>0</td>\n",
       "      <td>0</td>\n",
       "      <td>0</td>\n",
       "      <td>0</td>\n",
       "    </tr>\n",
       "    <tr>\n",
       "      <th>46141</th>\n",
       "      <td>0</td>\n",
       "      <td>0</td>\n",
       "      <td>0</td>\n",
       "      <td>0</td>\n",
       "      <td>0</td>\n",
       "      <td>0</td>\n",
       "      <td>0</td>\n",
       "      <td>0</td>\n",
       "      <td>0</td>\n",
       "      <td>0</td>\n",
       "      <td>...</td>\n",
       "      <td>0</td>\n",
       "      <td>0</td>\n",
       "      <td>0</td>\n",
       "      <td>0</td>\n",
       "      <td>0</td>\n",
       "      <td>0</td>\n",
       "      <td>0</td>\n",
       "      <td>0</td>\n",
       "      <td>0</td>\n",
       "      <td>0</td>\n",
       "    </tr>\n",
       "    <tr>\n",
       "      <th>46142</th>\n",
       "      <td>0</td>\n",
       "      <td>0</td>\n",
       "      <td>0</td>\n",
       "      <td>0</td>\n",
       "      <td>0</td>\n",
       "      <td>0</td>\n",
       "      <td>0</td>\n",
       "      <td>0</td>\n",
       "      <td>0</td>\n",
       "      <td>0</td>\n",
       "      <td>...</td>\n",
       "      <td>0</td>\n",
       "      <td>0</td>\n",
       "      <td>0</td>\n",
       "      <td>0</td>\n",
       "      <td>0</td>\n",
       "      <td>0</td>\n",
       "      <td>0</td>\n",
       "      <td>0</td>\n",
       "      <td>0</td>\n",
       "      <td>0</td>\n",
       "    </tr>\n",
       "    <tr>\n",
       "      <th>46143</th>\n",
       "      <td>0</td>\n",
       "      <td>0</td>\n",
       "      <td>0</td>\n",
       "      <td>0</td>\n",
       "      <td>0</td>\n",
       "      <td>0</td>\n",
       "      <td>0</td>\n",
       "      <td>0</td>\n",
       "      <td>0</td>\n",
       "      <td>0</td>\n",
       "      <td>...</td>\n",
       "      <td>0</td>\n",
       "      <td>0</td>\n",
       "      <td>0</td>\n",
       "      <td>0</td>\n",
       "      <td>0</td>\n",
       "      <td>0</td>\n",
       "      <td>0</td>\n",
       "      <td>0</td>\n",
       "      <td>0</td>\n",
       "      <td>0</td>\n",
       "    </tr>\n",
       "  </tbody>\n",
       "</table>\n",
       "<p>46144 rows × 19772 columns</p>\n",
       "</div>"
      ],
      "text/plain": [
       "       aa  aaa  aaaaaaaaaaaaaaaaaaaaaaaaaaaaaaaaaaaaaaaa  aaaaaachooooooo  \\\n",
       "0       0    0                                         0                0   \n",
       "1       0    0                                         0                0   \n",
       "2       0    0                                         0                0   \n",
       "3       0    0                                         0                0   \n",
       "4       0    0                                         0                0   \n",
       "...    ..  ...                                       ...              ...   \n",
       "46139   0    0                                         0                0   \n",
       "46140   0    0                                         0                0   \n",
       "46141   0    0                                         0                0   \n",
       "46142   0    0                                         0                0   \n",
       "46143   0    0                                         0                0   \n",
       "\n",
       "       aaaand  aaargh  ab  aback  abain  abandon  ...  zpak  zucchini  \\\n",
       "0           0       0   0      0      0        0  ...     0         0   \n",
       "1           0       0   0      0      0        0  ...     0         0   \n",
       "2           0       0   0      0      0        0  ...     0         0   \n",
       "3           0       0   0      0      0        0  ...     0         0   \n",
       "4           0       0   0      0      0        0  ...     0         0   \n",
       "...       ...     ...  ..    ...    ...      ...  ...   ...       ...   \n",
       "46139       0       0   0      0      0        0  ...     0         0   \n",
       "46140       0       0   0      0      0        0  ...     0         0   \n",
       "46141       0       0   0      0      0        0  ...     0         0   \n",
       "46142       0       0   0      0      0        0  ...     0         0   \n",
       "46143       0       0   0      0      0        0  ...     0         0   \n",
       "\n",
       "       zuchinni  zuckersaid  zuid  zurich  zybio  zyrtec  zz  zzzquil  \n",
       "0             0           0     0       0      0       0   0        0  \n",
       "1             0           0     0       0      0       0   0        0  \n",
       "2             0           0     0       0      0       0   0        0  \n",
       "3             0           0     0       0      0       0   0        0  \n",
       "4             0           0     0       0      0       0   0        0  \n",
       "...         ...         ...   ...     ...    ...     ...  ..      ...  \n",
       "46139         0           0     0       0      0       0   0        0  \n",
       "46140         0           0     0       0      0       0   0        0  \n",
       "46141         0           0     0       0      0       0   0        0  \n",
       "46142         0           0     0       0      0       0   0        0  \n",
       "46143         0           0     0       0      0       0   0        0  \n",
       "\n",
       "[46144 rows x 19772 columns]"
      ]
     },
     "execution_count": 34,
     "metadata": {},
     "output_type": "execute_result"
    }
   ],
   "source": [
    "#create a dataframe for our X_train_cv to use later:\n",
    "\n",
    "df_X_train = pd.DataFrame(Xcv_train.todense(), columns=cvec.get_feature_names())\n",
    "df_X_train"
   ]
  },
  {
   "cell_type": "markdown",
   "id": "6d2e3545",
   "metadata": {},
   "source": [
    "## Adaboost"
   ]
  },
  {
   "cell_type": "code",
   "execution_count": 35,
   "id": "0794e15e",
   "metadata": {},
   "outputs": [],
   "source": [
    "ada = AdaBoostClassifier()"
   ]
  },
  {
   "cell_type": "code",
   "execution_count": 36,
   "id": "a98c9f09",
   "metadata": {},
   "outputs": [
    {
     "data": {
      "text/plain": [
       "AdaBoostClassifier()"
      ]
     },
     "execution_count": 36,
     "metadata": {},
     "output_type": "execute_result"
    }
   ],
   "source": [
    "ada.fit(Xcv_train, y_train)"
   ]
  },
  {
   "cell_type": "code",
   "execution_count": 37,
   "id": "afe7df17",
   "metadata": {},
   "outputs": [
    {
     "name": "stdout",
     "output_type": "stream",
     "text": [
      "Score on training set: 0.9313020110957004\n",
      "Score on testing set: 0.9208650477226048\n",
      "              precision    recall  f1-score   support\n",
      "\n",
      "           0       0.47      0.91      0.62       585\n",
      "           1       0.99      0.92      0.96      7692\n",
      "\n",
      "    accuracy                           0.92      8277\n",
      "   macro avg       0.73      0.92      0.79      8277\n",
      "weighted avg       0.96      0.92      0.93      8277\n",
      "\n"
     ]
    },
    {
     "data": {
      "image/png": "[encoded data removed]",
      "text/plain": [
       "<Figure size 432x288 with 2 Axes>"
      ]
     },
     "metadata": {
      "needs_background": "light"
     },
     "output_type": "display_data"
    },
    {
     "data": {
      "image/png": "[encoded data removed]",
      "text/plain": [
       "<Figure size 432x288 with 1 Axes>"
      ]
     },
     "metadata": {
      "needs_background": "light"
     },
     "output_type": "display_data"
    }
   ],
   "source": [
    "# Evaluate model.\n",
    "\n",
    "model_Evaluate(ada, Xcv_train, Xcv_test, y_train, y_test)"
   ]
  },
  {
   "cell_type": "code",
   "execution_count": 38,
   "id": "b969eaec",
   "metadata": {},
   "outputs": [
    {
     "data": {
      "text/plain": [
       "(   score   metric     model balanced\n",
       " 0   0.93  R_train  Adaboost       no\n",
       " 1   0.92   R_test  Adaboost       no,\n",
       "    is_pandemicPreps  is_covid19positive     metric     model balanced\n",
       " 0              0.47                0.99  precision  Adaboost       no\n",
       " 1              0.91                0.92     recall  Adaboost       no\n",
       " 2              0.62                0.96     fscore  Adaboost       no\n",
       " 3            585.00             7692.00    support  Adaboost       no,\n",
       "    score     metric     model balanced\n",
       " 0   0.06   True Neg  Adaboost       no\n",
       " 1   0.01  False Pos  Adaboost       no\n",
       " 2   0.07  False Neg  Adaboost       no\n",
       " 3   0.86   True Pos  Adaboost       no)"
      ]
     },
     "execution_count": 38,
     "metadata": {},
     "output_type": "execute_result"
    }
   ],
   "source": [
    "save_model_Evaluate_values(ada, Xcv_train, Xcv_test, y_train, y_test,  \n",
    "                               model_name = 'Adaboost', \n",
    "                               balanced = is_balanced)"
   ]
  },
  {
   "cell_type": "markdown",
   "id": "32fe3325",
   "metadata": {},
   "source": [
    "# Feature Importnace"
   ]
  },
  {
   "cell_type": "code",
   "execution_count": 39,
   "id": "ed79148f",
   "metadata": {
    "scrolled": false
   },
   "outputs": [
    {
     "data": {
      "text/html": [
       "<div>\n",
       "<style scoped>\n",
       "    .dataframe tbody tr th:only-of-type {\n",
       "        vertical-align: middle;\n",
       "    }\n",
       "\n",
       "    .dataframe tbody tr th {\n",
       "        vertical-align: top;\n",
       "    }\n",
       "\n",
       "    .dataframe thead th {\n",
       "        text-align: right;\n",
       "    }\n",
       "</style>\n",
       "<table border=\"1\" class=\"dataframe\">\n",
       "  <thead>\n",
       "    <tr style=\"text-align: right;\">\n",
       "      <th></th>\n",
       "      <th>Feature Name</th>\n",
       "      <th>Feature Importance</th>\n",
       "    </tr>\n",
       "  </thead>\n",
       "  <tbody>\n",
       "    <tr>\n",
       "      <th>16838</th>\n",
       "      <td>symptom</td>\n",
       "      <td>0.04</td>\n",
       "    </tr>\n",
       "    <tr>\n",
       "      <th>5585</th>\n",
       "      <td>enough</td>\n",
       "      <td>0.02</td>\n",
       "    </tr>\n",
       "    <tr>\n",
       "      <th>3646</th>\n",
       "      <td>contract</td>\n",
       "      <td>0.02</td>\n",
       "    </tr>\n",
       "    <tr>\n",
       "      <th>13187</th>\n",
       "      <td>posit</td>\n",
       "      <td>0.02</td>\n",
       "    </tr>\n",
       "    <tr>\n",
       "      <th>1962</th>\n",
       "      <td>bodi</td>\n",
       "      <td>0.02</td>\n",
       "    </tr>\n",
       "    <tr>\n",
       "      <th>14109</th>\n",
       "      <td>recov</td>\n",
       "      <td>0.02</td>\n",
       "    </tr>\n",
       "    <tr>\n",
       "      <th>4248</th>\n",
       "      <td>day</td>\n",
       "      <td>0.02</td>\n",
       "    </tr>\n",
       "    <tr>\n",
       "      <th>17199</th>\n",
       "      <td>test</td>\n",
       "      <td>0.02</td>\n",
       "    </tr>\n",
       "    <tr>\n",
       "      <th>9645</th>\n",
       "      <td>left</td>\n",
       "      <td>0.02</td>\n",
       "    </tr>\n",
       "    <tr>\n",
       "      <th>18603</th>\n",
       "      <td>vaccin</td>\n",
       "      <td>0.02</td>\n",
       "    </tr>\n",
       "    <tr>\n",
       "      <th>7037</th>\n",
       "      <td>get</td>\n",
       "      <td>0.02</td>\n",
       "    </tr>\n",
       "    <tr>\n",
       "      <th>2068</th>\n",
       "      <td>bought</td>\n",
       "      <td>0.02</td>\n",
       "    </tr>\n",
       "    <tr>\n",
       "      <th>2419</th>\n",
       "      <td>buy</td>\n",
       "      <td>0.02</td>\n",
       "    </tr>\n",
       "    <tr>\n",
       "      <th>6748</th>\n",
       "      <td>friday</td>\n",
       "      <td>0.02</td>\n",
       "    </tr>\n",
       "    <tr>\n",
       "      <th>19490</th>\n",
       "      <td>would</td>\n",
       "      <td>0.02</td>\n",
       "    </tr>\n",
       "    <tr>\n",
       "      <th>17010</th>\n",
       "      <td>tast</td>\n",
       "      <td>0.02</td>\n",
       "    </tr>\n",
       "    <tr>\n",
       "      <th>6246</th>\n",
       "      <td>fever</td>\n",
       "      <td>0.02</td>\n",
       "    </tr>\n",
       "    <tr>\n",
       "      <th>12956</th>\n",
       "      <td>plan</td>\n",
       "      <td>0.02</td>\n",
       "    </tr>\n",
       "    <tr>\n",
       "      <th>2909</th>\n",
       "      <td>chest</td>\n",
       "      <td>0.02</td>\n",
       "    </tr>\n",
       "    <tr>\n",
       "      <th>6313</th>\n",
       "      <td>filter</td>\n",
       "      <td>0.02</td>\n",
       "    </tr>\n",
       "  </tbody>\n",
       "</table>\n",
       "</div>"
      ],
      "text/plain": [
       "      Feature Name  Feature Importance\n",
       "16838      symptom                0.04\n",
       "5585        enough                0.02\n",
       "3646      contract                0.02\n",
       "13187        posit                0.02\n",
       "1962          bodi                0.02\n",
       "14109        recov                0.02\n",
       "4248           day                0.02\n",
       "17199         test                0.02\n",
       "9645          left                0.02\n",
       "18603       vaccin                0.02\n",
       "7037           get                0.02\n",
       "2068        bought                0.02\n",
       "2419           buy                0.02\n",
       "6748        friday                0.02\n",
       "19490        would                0.02\n",
       "17010         tast                0.02\n",
       "6246         fever                0.02\n",
       "12956         plan                0.02\n",
       "2909         chest                0.02\n",
       "6313        filter                0.02"
      ]
     },
     "execution_count": 39,
     "metadata": {},
     "output_type": "execute_result"
    }
   ],
   "source": [
    "f = {'Feature Name':df_X_train.columns,'Feature Importance':ada.feature_importances_}\n",
    "et_fi = pd.DataFrame(f)\n",
    "\n",
    "et_fi.sort_values(by=['Feature Importance'], ascending = False).head(20)"
   ]
  },
  {
   "cell_type": "code",
   "execution_count": 40,
   "id": "9dad9d60",
   "metadata": {},
   "outputs": [
    {
     "data": {
      "image/png": "[encoded data removed]",
      "text/plain": [
       "<Figure size 720x576 with 1 Axes>"
      ]
     },
     "metadata": {
      "needs_background": "light"
     },
     "output_type": "display_data"
    }
   ],
   "source": [
    "plt.figure( figsize=(10,8))\n",
    "sns.barplot(x='Feature Importance',y='Feature Name', \n",
    "            data=et_fi.sort_values(by='Feature Importance', ascending=False).iloc[0:20],\n",
    "            palette='coolwarm')\n",
    "plt.xlabel('Feature Importnace ',fontsize=14)\n",
    "plt.ylabel('Feature Name', fontsize = 14)\n",
    "plt.tick_params('both', labelsize = 13)"
   ]
  },
  {
   "cell_type": "markdown",
   "id": "4ce51e26",
   "metadata": {},
   "source": [
    "# ||||||||||||||||||||||||||||||||||||||||||||||||||||||||||||||||||||||||||||||||||||||||||||||||||||||||||||||||||||||||||||||||||||||||||||||||||||||||||||||"
   ]
  },
  {
   "cell_type": "markdown",
   "id": "f0ffc3fb",
   "metadata": {},
   "source": [
    "##  GridSearchCV"
   ]
  },
  {
   "cell_type": "code",
   "execution_count": 41,
   "id": "2e415b88",
   "metadata": {},
   "outputs": [],
   "source": [
    "params = {\n",
    "    'n_estimators'  : [50, 100],\n",
    "    'learning_rate' : [.8, .9, 1.0]\n",
    "}"
   ]
  },
  {
   "cell_type": "code",
   "execution_count": 42,
   "id": "3d53bca9",
   "metadata": {},
   "outputs": [],
   "source": [
    "gs = GridSearchCV(AdaBoostClassifier(), params, cv = 3)"
   ]
  },
  {
   "cell_type": "code",
   "execution_count": 43,
   "id": "51b6063a",
   "metadata": {},
   "outputs": [
    {
     "data": {
      "text/plain": [
       "GridSearchCV(cv=3, estimator=AdaBoostClassifier(),\n",
       "             param_grid={'learning_rate': [0.8, 0.9, 1.0],\n",
       "                         'n_estimators': [50, 100]})"
      ]
     },
     "execution_count": 43,
     "metadata": {},
     "output_type": "execute_result"
    }
   ],
   "source": [
    "gs.fit(Xcv_train, y_train )"
   ]
  },
  {
   "cell_type": "code",
   "execution_count": 44,
   "id": "8e81a9c0",
   "metadata": {},
   "outputs": [
    {
     "data": {
      "text/plain": [
       "{'learning_rate': 1.0, 'n_estimators': 100}"
      ]
     },
     "execution_count": 44,
     "metadata": {},
     "output_type": "execute_result"
    }
   ],
   "source": [
    "gs.best_params_"
   ]
  },
  {
   "cell_type": "code",
   "execution_count": 45,
   "id": "dd6811f2",
   "metadata": {},
   "outputs": [
    {
     "name": "stdout",
     "output_type": "stream",
     "text": [
      "Score on training set: 0.9473821081830791\n",
      "Score on testing set: 0.9397124562039386\n",
      "              precision    recall  f1-score   support\n",
      "\n",
      "           0       0.54      0.91      0.68       585\n",
      "           1       0.99      0.94      0.97      7692\n",
      "\n",
      "    accuracy                           0.94      8277\n",
      "   macro avg       0.77      0.92      0.82      8277\n",
      "weighted avg       0.96      0.94      0.95      8277\n",
      "\n"
     ]
    },
    {
     "data": {
      "image/png": "[encoded data removed]",
      "text/plain": [
       "<Figure size 432x288 with 2 Axes>"
      ]
     },
     "metadata": {
      "needs_background": "light"
     },
     "output_type": "display_data"
    },
    {
     "data": {
      "image/png": "[encoded data removed]",
      "text/plain": [
       "<Figure size 432x288 with 1 Axes>"
      ]
     },
     "metadata": {
      "needs_background": "light"
     },
     "output_type": "display_data"
    }
   ],
   "source": [
    "# Evaluate model.\n",
    "\n",
    "model_Evaluate(gs, Xcv_train, Xcv_test, y_train, y_test)"
   ]
  },
  {
   "cell_type": "code",
   "execution_count": 46,
   "id": "17221c9e",
   "metadata": {},
   "outputs": [
    {
     "data": {
      "text/plain": [
       "(   score   metric                  model balanced\n",
       " 0   0.95  R_train  Adaboost-GridSearchCV       no\n",
       " 1   0.94   R_test  Adaboost-GridSearchCV       no,\n",
       "    is_pandemicPreps  is_covid19positive     metric                  model  \\\n",
       " 0              0.54                0.99  precision  Adaboost-GridSearchCV   \n",
       " 1              0.91                0.94     recall  Adaboost-GridSearchCV   \n",
       " 2              0.68                0.97     fscore  Adaboost-GridSearchCV   \n",
       " 3            585.00             7692.00    support  Adaboost-GridSearchCV   \n",
       " \n",
       "   balanced  \n",
       " 0       no  \n",
       " 1       no  \n",
       " 2       no  \n",
       " 3       no  ,\n",
       "    score     metric                  model balanced\n",
       " 0   0.06   True Neg  Adaboost-GridSearchCV       no\n",
       " 1   0.01  False Pos  Adaboost-GridSearchCV       no\n",
       " 2   0.05  False Neg  Adaboost-GridSearchCV       no\n",
       " 3   0.88   True Pos  Adaboost-GridSearchCV       no)"
      ]
     },
     "execution_count": 46,
     "metadata": {},
     "output_type": "execute_result"
    }
   ],
   "source": [
    "save_model_Evaluate_values(gs, Xcv_train, Xcv_test, y_train, y_test,  \n",
    "                             model_name='Adaboost-GridSearchCV',\n",
    "                             balanced = is_balanced)"
   ]
  },
  {
   "cell_type": "code",
   "execution_count": null,
   "id": "6539b119",
   "metadata": {},
   "outputs": [],
   "source": []
  },
  {
   "cell_type": "code",
   "execution_count": null,
   "id": "bf570b38",
   "metadata": {},
   "outputs": [],
   "source": []
  }
 ],
 "metadata": {
  "kernelspec": {
   "display_name": "Python 3",
   "language": "python",
   "name": "python3"
  },
  "language_info": {
   "codemirror_mode": {
    "name": "ipython",
    "version": 3
   },
   "file_extension": ".py",
   "mimetype": "text/x-python",
   "name": "python",
   "nbconvert_exporter": "python",
   "pygments_lexer": "ipython3",
   "version": "3.9.5"
  }
 },
 "nbformat": 4,
 "nbformat_minor": 5
}
